{
 "cells": [
  {
   "cell_type": "code",
   "execution_count": 3,
   "metadata": {},
   "outputs": [
    {
     "name": "stdout",
     "output_type": "stream",
     "text": [
      "3\n",
      "Bir sayı giriniz.15.6\n",
      "lütfen tam sayı giriniz.\n"
     ]
    }
   ],
   "source": [
    "\"\"\"\n",
    "// işleci sayıyı bölüp sadece tam sayı kısmını döndürür. Bir sayıyı float'tan int'e geçirmek istiyorsak sayı//1 yapabiliriz.\n",
    "// ifadesinin sonucu her zaman tam sayı olacakken / ifadesinin sonucu her zaman float olur.\n",
    "\"\"\"\n",
    "print(16//5)\n",
    "\n",
    "sayı1 = float(input(\"Bir sayı giriniz.\"))\n",
    "sayı2 = sayı1//1\n",
    "if sayı1 == sayı2:\n",
    "    print(\"Bu bir tam sayıdır.\")\n",
    "else: \n",
    "    print(\"lütfen tam sayı giriniz.\")"
   ]
  },
  {
   "cell_type": "code",
   "execution_count": 5,
   "metadata": {},
   "outputs": [
    {
     "name": "stdout",
     "output_type": "stream",
     "text": [
      "3\n",
      "2.5\n",
      "2.7\n",
      "2.68\n"
     ]
    }
   ],
   "source": [
    "\"\"\"\n",
    "round methodu bir sayının yuvarlanmış halini almamızı sağlar. 2 tane parametresi vardır. İlk parametreye sayıyı, ikinci paramet_\n",
    "reye ise tam sayıdan sonra ne kadarlık kısma yuvarlamak istediğimizi yazarız. İkinci parametre optional'dır ve yazılmazsa \n",
    "0 olarak alınır.\n",
    "\"\"\"\n",
    "print(round(2.55))\n",
    "print(round(2.55, 1))\n",
    "print(round(2.68, 1))\n",
    "print(round(2.68, 2))"
   ]
  },
  {
   "cell_type": "code",
   "execution_count": 8,
   "metadata": {},
   "outputs": [
    {
     "name": "stdout",
     "output_type": "stream",
     "text": [
      "625\n",
      "25.0\n",
      "625\n",
      "4\n"
     ]
    }
   ],
   "source": [
    "\"\"\"\n",
    "Pythonda ** ifadesi ile sayıların üslerini alırız. sayı**üs şeklinde yazılan bu ifadede üs değeri 0, 1 arasında da olabilir. \n",
    "Mesela üs değerine 0.5 yazılırsa karekök alınmış olur. ** işaretinin yaptığını aynı zamanda pow methodu da yapabilir. \n",
    "pow methodu 3 tane parametre alabilir. İlk parametreye sayıyı, ikinci parametreye üssü, üçüncü parametreye ise sonucun modu\n",
    "alınacak ise alınacak mod yazılır. 3.parametre optionaldır. \n",
    "\"\"\"\n",
    "print(25 ** 2)\n",
    "print(625 ** 0.5)\n",
    "print(pow(25, 2))\n",
    "print(pow(8, 2, 5))"
   ]
  },
  {
   "cell_type": "code",
   "execution_count": 13,
   "metadata": {},
   "outputs": [
    {
     "name": "stdout",
     "output_type": "stream",
     "text": [
      "True\n",
      "False\n",
      "False\n",
      "True\n"
     ]
    }
   ],
   "source": [
    "\"\"\"\n",
    "Bir ifadenin true ya da false olup olmadığına bakmak için bool methodu kullanılır. bool methodunda 0, boş parantez, boş list, \n",
    "boş dict vs.(yani boş olan şeyler) false gönderirken geriye kalan her şey true değerini gönderir.(0 sayı olan 0'dır. string olan\n",
    "0 da true döndürür.)\n",
    "\"\"\"\n",
    "print(bool(20))\n",
    "print(bool(0))\n",
    "print(bool({}))\n",
    "print(bool(\"0\"))"
   ]
  },
  {
   "cell_type": "code",
   "execution_count": 14,
   "metadata": {},
   "outputs": [
    {
     "name": "stdout",
     "output_type": "stream",
     "text": [
      "Adın ne? asd\n",
      "Adın kısaymış.\n"
     ]
    }
   ],
   "source": [
    "\"\"\"\n",
    "Javascriptte && operatörlerinin yaptığı işi pythonda and, || operatörlerinin yaptığı işi pythonda or, ! operatörünün yaptığı işi\n",
    "ise not ifadeleri yapar. Pythonda tüm matematiksel işlem operatörleri daha kısa yazmak için (operatör=) şeklinde kullanılabilir.\n",
    "Yani mesela x = x*3 yerine x*= 3 yazılabilir. Pythonda aynı zamanda := şeklinde bir operatör de vardır. Bu operatör pythonın son\n",
    "sürümlerinde çıkmıştır ve daha kısa kod yazılmasını sağlayabilir. Normalde if gibi işlemler içinde eşitlik koyamazken bu opera_\n",
    "tör ile bunu yapabiliriz.\n",
    "\"\"\"\n",
    "if ( giriş := len(input(\"Adın ne? \")) ) < 4: #Burda normalde if içinde = ile bu eşitliği yapamayız ama := ile yapabiliyoruz.  \n",
    "    print(\"Adın kısaymış.\")\n",
    "#çok da gerekli bir operatör değildir."
   ]
  },
  {
   "cell_type": "code",
   "execution_count": 16,
   "metadata": {},
   "outputs": [
    {
     "name": "stdout",
     "output_type": "stream",
     "text": [
      "True\n",
      "False\n"
     ]
    }
   ],
   "source": [
    "\"\"\"\n",
    "in işleci bir değerin bir başka bir veri tipinde bulunup bulunmadığını sorgulayan işleçtir. True ya da False döndürür. \n",
    "\"\"\"\n",
    "a = \"abcd\"\n",
    "print(\"a\" in a)\n",
    "print(\"w\" in a)"
   ]
  },
  {
   "cell_type": "code",
   "execution_count": 28,
   "metadata": {},
   "outputs": [
    {
     "name": "stdout",
     "output_type": "stream",
     "text": [
      "2220943947728\n",
      "2220943947728\n"
     ]
    }
   ],
   "source": [
    "\"\"\"\n",
    "Pythonda tanımlı olan her şeyin bir kimlik numarası vardır. Bu kimlik numarası kabaca verinin bellekteki adresini gösterir. Bir \n",
    "verinin kimlik numarasını id methodu ile öğrenebiliriz. Her verinin kimlik numarası birbirinden farklıdır. Birbirinin aynısı \n",
    "olan iki verinin ise kimlik numarası aynıdır. Bu bellekte daha az veri olmasını sağladığı performansı arttırır. \n",
    "\"\"\"\n",
    "a = 10000\n",
    "print(id(a))\n",
    "b = a #Burda b a'ya eşitlendiği için kimlik numaraları aynıdır.\n",
    "print(id(b))"
   ]
  },
  {
   "cell_type": "code",
   "execution_count": 29,
   "metadata": {},
   "outputs": [
    {
     "name": "stdout",
     "output_type": "stream",
     "text": [
      "140710349316864\n",
      "140710349316864\n",
      "140710349316864\n",
      "2220943947984\n",
      "2220943946544\n",
      "2220943947472\n"
     ]
    }
   ],
   "source": [
    "\"\"\"\n",
    "Python ufak olarak gördüğü nesneleri önbelleğe alıp daha sonra önbelleğe başka nesneleri de ekleyebilirken büyük olarak gördüğü \n",
    "nesneleri önbelleğe almaz ve her seferinde onlar için yeni bir depolama oluşturur. Yani mesela 100'e eşit olan iki farklı adlı \n",
    "nesnenin ve 100 değerinin id'leri aynı iken 10000'e eşit olan iki farklı adlı nesnenin ve 10000 değerinin id'leri farklı olacak_\n",
    "tır. Pythonın bu ufak olarak değerlendirdiği sayıların sınırı -5'ten 256'ya kadardır. Aynı zamanda stringler için de ufak nesne\n",
    "sınırı vardır. \n",
    "\"\"\"\n",
    "a = 100\n",
    "print(id(a))\n",
    "b = 100\n",
    "print(id(b))\n",
    "print(id(100)) # 3'ü de aynı olur\n",
    "\n",
    "a = 10000\n",
    "print(id(a))\n",
    "b = 10000\n",
    "print(id(b))\n",
    "print(id(1000)) # 3'ü de farklı olur"
   ]
  },
  {
   "cell_type": "code",
   "execution_count": 30,
   "metadata": {},
   "outputs": [
    {
     "name": "stdout",
     "output_type": "stream",
     "text": [
      "False\n",
      "True\n"
     ]
    },
    {
     "name": "stderr",
     "output_type": "stream",
     "text": [
      "<>:7: SyntaxWarning: \"is\" with a literal. Did you mean \"==\"?\n",
      "<>:7: SyntaxWarning: \"is\" with a literal. Did you mean \"==\"?\n",
      "<ipython-input-30-895478464544>:7: SyntaxWarning: \"is\" with a literal. Did you mean \"==\"?\n",
      "  print(a is 1000)\n"
     ]
    }
   ],
   "source": [
    "\"\"\"\n",
    "Pythonda is işleci verilerin id'sini karşılaştırarak True ya da False değerini gönderir. is işleci == işleci ile aynı işi yapmaz.\n",
    "== operatörü nesnelerin içeriğine bakarak karşılaştırma yaparken is id'lerine bakar. İki aynı nesnenin id'lerinin farklı olabi_\n",
    "leceğini yukarıda gördüğümüz için is operatörü güvenilir değildir. \n",
    "\"\"\"\n",
    "a = 1000\n",
    "print(a is 1000)\n",
    "print(a == 1000)"
   ]
  },
  {
   "cell_type": "markdown",
   "metadata": {},
   "source": [
    "Listlere sonradan veri eklense bile listlerin id değerleri değişmezken stringlere sonradan yeni karakterler eklenirse stringin id değeri değişir. Variable olan sayı değerine de ekleme yapılırsa id değeri değişir. "
   ]
  },
  {
   "cell_type": "code",
   "execution_count": 2,
   "metadata": {},
   "outputs": [
    {
     "name": "stdout",
     "output_type": "stream",
     "text": [
      "2444566987840\n",
      "2444566987840\n",
      "\n",
      "2444566826864\n",
      "2444567824816\n",
      "\n",
      "140710248720448\n",
      "2444567112624\n"
     ]
    }
   ],
   "source": [
    "list1 = [1,2]\n",
    "print(id(list1))\n",
    "list1 += [14,12,231,13231]\n",
    "print(id(list1))\n",
    "\n",
    "print()\n",
    "\n",
    "str1 = \"erkam\"\n",
    "print(id(str1))\n",
    "str1 += \" kavak\"\n",
    "print(id(str1))\n",
    "\n",
    "print()\n",
    "\n",
    "num1 = 142\n",
    "print(id(num1))\n",
    "num1 += 134\n",
    "print(id(num1))"
   ]
  }
 ],
 "metadata": {
  "kernelspec": {
   "display_name": "Python 3",
   "language": "python",
   "name": "python3"
  },
  "language_info": {
   "codemirror_mode": {
    "name": "ipython",
    "version": 3
   },
   "file_extension": ".py",
   "mimetype": "text/x-python",
   "name": "python",
   "nbconvert_exporter": "python",
   "pygments_lexer": "ipython3",
   "version": "3.8.5"
  }
 },
 "nbformat": 4,
 "nbformat_minor": 4
}
