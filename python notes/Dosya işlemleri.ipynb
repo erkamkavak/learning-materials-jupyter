{
 "cells": [
  {
   "cell_type": "markdown",
   "metadata": {},
   "source": [
    "Dosya oluşturmak veya var olan bir dosyayı açmak için open methodunu kullanırız. open methodu default olarak dosyayı python dosyasının bulunduğu dosyada arar veya oluşturur.(ancak dosya adında nerede arayacağını da belirtebiliriz.) open methodunun iki tane parametresi vardır. İlk parametresi açılacak dosya ismini, ikinci parametre ise dosyanın açılacağı modu belirtir. \n",
    "\n",
    "open methodu ile açarken close methodu ile de dosyayı kapatırız. "
   ]
  },
  {
   "cell_type": "code",
   "execution_count": 11,
   "metadata": {},
   "outputs": [],
   "source": [
    "file = open(\"örnekdosya.txt\", \"w\") # w modu writing modudur.\n",
    "#Bu kod ile python dosyasının çalıştığı dosyada dosya oluşturur.\n",
    "file2 = open(\"C:/Users/erkam/Desktop/örnekdosya.txt\", \"w\")#Masaüstünde dosya oluşturur.\n",
    "file.close()\n",
    "file2.close()"
   ]
  },
  {
   "cell_type": "markdown",
   "metadata": {},
   "source": [
    "Dosyaya write methodu ile yeni şeyler yazabiliriz. "
   ]
  },
  {
   "cell_type": "code",
   "execution_count": 19,
   "metadata": {},
   "outputs": [],
   "source": [
    "file2 = open(\"C:/Users/erkam/Desktop/örnekdosya.txt\", \"w\")\n",
    "file2.write(\"Herkese merhaba \\nNasılsınız, iyi misiniz?\")\n",
    "file2.close()"
   ]
  },
  {
   "cell_type": "markdown",
   "metadata": {},
   "source": [
    "Dosyaları w modunda açtığımızda eğer dosyayı açmaya çalıştığımız yerde aynı adla başka bir dosya varsa bu dosyanın tüm içeriği silinecek ve bizim ekleyeceğimiz içerikler yerine gelecektir. Bu nedenle w modunda dosya açarken dikkatli olmalıyız. "
   ]
  },
  {
   "cell_type": "markdown",
   "metadata": {},
   "source": [
    "Dosyayı okuma methodunda açmak için 2.parametreye \"r\"(reading modu) yazmalıyız. open methodunda zaten default olarak 2.parametre \"r\" olduğu için yazmasak da olur. open methodunu r modunda açmaya çalıştığımızda yeni bir dosya oluşturmayacak, eğer dosyada bu adda bir dosya varsa bunu açacak ve okuyacaktır. Aynı zamanda bu modda dosya açtığımızda sadece dosyadaki içeriği okuyabiliriz.(değiştiremeyiz)"
   ]
  },
  {
   "cell_type": "code",
   "execution_count": 16,
   "metadata": {},
   "outputs": [
    {
     "name": "stdout",
     "output_type": "stream",
     "text": [
      "dosya yazma modunda açılmadı. işleminiz gerçekleşemez\n"
     ]
    }
   ],
   "source": [
    "file3 = open(\"C:/Users/erkam/Desktop/örnekdosya.txt\", \"r\")\n",
    "try:\n",
    "    file3.write(\"Tekrardan merhabalar\")\n",
    "except: \n",
    "    print(\"dosya yazma modunda açılmadı. işleminiz gerçekleşemez\")"
   ]
  },
  {
   "cell_type": "markdown",
   "metadata": {},
   "source": [
    "Okuma modunda açtığımız bir dosyayı read, readline ve readlines methodları ile okuyabiliriz. read methodu tüm dosyayı bütün olarak okurken, readline methodu dosyayı satır satır okur; readlines methodu ise satırları bir listin içine koyarak okur.(dosyayı \\n işaretlerinden ayırır, \\n işaretini de gösterir)"
   ]
  },
  {
   "cell_type": "code",
   "execution_count": 30,
   "metadata": {},
   "outputs": [
    {
     "name": "stdout",
     "output_type": "stream",
     "text": [
      "Herkese merhaba \n",
      "Nasılsınız, iyi misiniz?\n"
     ]
    }
   ],
   "source": [
    "file3 = open(\"C:/Users/erkam/Desktop/örnekdosya.txt\", \"r\")\n",
    "file_content = file3.read()\n",
    "print(file_content)"
   ]
  },
  {
   "cell_type": "code",
   "execution_count": 42,
   "metadata": {},
   "outputs": [
    {
     "name": "stdout",
     "output_type": "stream",
     "text": [
      "Herkese merhaba \n",
      "\n",
      "Nasılsınız, iyi misiniz?\n",
      "True\n"
     ]
    }
   ],
   "source": [
    "file3 = open(\"C:/Users/erkam/Desktop/örnekdosya.txt\", \"r\")\n",
    "print(file3.readline())#sadece ilk satırı okur.\n",
    "print(file3.readline())#birden fazla kullanıldığında diğer satırlara geçer.\n",
    "print(file3.readline() == \"\")#dosyadaki tüm satırlar bittiğinde bu method boş string döndürür."
   ]
  },
  {
   "cell_type": "code",
   "execution_count": 32,
   "metadata": {},
   "outputs": [
    {
     "name": "stdout",
     "output_type": "stream",
     "text": [
      "['Herkese merhaba \\n', 'Nasılsınız, iyi misiniz?']\n"
     ]
    }
   ],
   "source": [
    "file3 = open(\"C:/Users/erkam/Desktop/örnekdosya.txt\", \"r\")\n",
    "file_content3 = file3.readlines()\n",
    "print(file_content3)"
   ]
  },
  {
   "cell_type": "markdown",
   "metadata": {},
   "source": [
    "Dosyaları açtıktan sonra kapatmak hem güvenlik açısından hem de sistemin boşa çalışmaması açısından önemlidir. Bu nedenle her zaman dosyayı kapatmalıyız. close methodunun programda oluşacak hatalardan etkilenmemesi için bu methodu try except finally kalıbında kullanabiliriz. "
   ]
  },
  {
   "cell_type": "code",
   "execution_count": 45,
   "metadata": {},
   "outputs": [
    {
     "name": "stdout",
     "output_type": "stream",
     "text": [
      "Bir hata çıktı.\n",
      "hata çıkmasına rağmen dosyanız kapatılıyor...\n"
     ]
    }
   ],
   "source": [
    "try: \n",
    "    file3 = open(\"C:/Users/erkam/Desktop/örnekdosya.txt\", \"r\") \n",
    "    file3.write(\"Tekrardan merhaba\")\n",
    "    print(\"hata yok. dosya kapatılıyor...\")\n",
    "    file3.close()#Eğer close'u buraya yazarsak hatadan dolayı bu kod çalışmayacak ve dosya kapanmayacaktır.\n",
    "except: \n",
    "    print(\"Bir hata çıktı.\")\n",
    "finally:\n",
    "    print(\"hata çıkmasına rağmen dosyanız kapatılıyor...\")\n",
    "    file3.close()"
   ]
  },
  {
   "cell_type": "markdown",
   "metadata": {},
   "source": [
    "try except finally methodu dışında with as kalıbı ile de açtığımız dosyanın yapılması gereken işlemler bittiğinde direk kapatılmasını sağlayabiliriz. Bu kalıp kodlarda hata çıksa bile dosyayı kapatacaktır. "
   ]
  },
  {
   "cell_type": "code",
   "execution_count": 48,
   "metadata": {},
   "outputs": [
    {
     "name": "stdout",
     "output_type": "stream",
     "text": [
      "True\n"
     ]
    }
   ],
   "source": [
    "with open(\"C:/Users/erkam/Desktop/örnekdosya.txt\", \"r\") as file3:\n",
    "    content = file3.read()\n",
    "print(file3.closed)#dosyanın python tarafından kapatılıp kapatılmadığını kontrol ediyor. "
   ]
  },
  {
   "cell_type": "markdown",
   "metadata": {},
   "source": [
    "Bir dosyayı read veya readlines ile okuduğumuzda dosyanın sonuna gelindiğinde tekrar başa dönmez. Yani bu methodlar ile bir dosyayı birden fazla kez okuyamayız. seek() methodu ile bu sorunu çözebiliriz. seek methodu dosyanın herhangi bir konumuna gitmemizi ve tekrardan okuyabilmemizi sağlar. seek methodu parametrelerine gitmek istediğimiz konumun baytını yazarız. \n",
    "\n",
    "Dosyada okumalar sonucu hangi baytta olduğumuzu ise tell methodu ile öğrenebiliriz. "
   ]
  },
  {
   "cell_type": "code",
   "execution_count": 53,
   "metadata": {},
   "outputs": [
    {
     "name": "stdout",
     "output_type": "stream",
     "text": [
      "\n",
      "Herkese merhaba \n",
      "Nasılsınız, iyi misiniz?\n",
      "41\n",
      "42\n"
     ]
    }
   ],
   "source": [
    "with open(\"C:/Users/erkam/Desktop/örnekdosya.txt\", \"r\") as file3:\n",
    "    content1 = file3.read()\n",
    "    print(file3.read()) #dosyanın sonunda olduğu için boş string döndürecektir. \n",
    "    file3.seek(0) #0.bayta yani dosyanın en başına gittik.\n",
    "    content2 = file3.read()\n",
    "    print(content2)\n",
    "    print(len(content2))\n",
    "    print(file3.tell()) #Dosyanın sonunda olduğu için son karakterden bir fazla baytı geri döndürecektir."
   ]
  },
  {
   "cell_type": "markdown",
   "metadata": {},
   "source": [
    "Dosyayı değiştirmek istiyorsak dosya açma modunu \"a\" olarak belirtmeliyiz. a modunda dosyanın önceki içeriği silinmez ve var olan içeriğe yeni şeyler eklenebilir. a modunda eğer aranan dosya yoksa bu dosyayı oluşturadabilir. Ancak a modunda dosya okunamaz."
   ]
  },
  {
   "cell_type": "code",
   "execution_count": 61,
   "metadata": {},
   "outputs": [],
   "source": [
    "with open(\"C:/Users/erkam/Desktop/örnekdosya2.txt\", \"a\") as file4:\n",
    "    file4.write(\"Merhabalar\")\n",
    "with open(\"C:/Users/erkam/Desktop/örnekdosya.txt\", \"a\") as file3:\n",
    "    file3.write(\"\\nTekrardan merhabalar\")#Ekleme işlemini dosyanın sonuna yapacaktır. "
   ]
  },
  {
   "cell_type": "markdown",
   "metadata": {},
   "source": [
    "Bir dosyayı hem okuma hem yazma modunda açabiliriz. Bunu yapmak için open methodunda moda \"r+\" veya \"a+\" yazmalıyız. Bu modlar hem okuma hem yazma modlarıdır.(aynı zamanda içeriği silmezler)"
   ]
  },
  {
   "cell_type": "code",
   "execution_count": 83,
   "metadata": {},
   "outputs": [
    {
     "name": "stdout",
     "output_type": "stream",
     "text": [
      "İlk hali :\n",
      "1.satır\n",
      "2.satır\n",
      "3.satır\n",
      "Son hali :\n",
      "0.satır \n",
      ".satır\n",
      "3.satır\n",
      "\n",
      "İlk hali :\n",
      "1.satÄ±r\n",
      "2.satÄ±r\n",
      "3.satÄ±r\n",
      "Son hali :\n",
      "0.satır \n",
      "1.satÄ±r\n",
      "2.satÄ±r\n",
      "3.satÄ±r\n"
     ]
    }
   ],
   "source": [
    "with open(\"C:/Users/erkam/Desktop/örnekdosya.txt\", \"r+\") as file3:\n",
    "    print(\"İlk hali :\\n\" + file3.read())\n",
    "    file3.seek(0)\n",
    "    file3.write(\"0.satır \\n\")#Daha önce ilk satırda olan Herkese merhabalar silinip yerine bu gelecek.\n",
    "    file3.seek(0)\n",
    "    print(\"Son hali :\\n\" + file3.read())\n",
    "#Burada ilk önce dosyayı okuduktan sonra seek ile tekrar başa geldik. \n",
    "#Dosyanın başına write methodu ile istediğimiz şeyi yazdık ancak burada write \n",
    "#methodu eğer yazılan satırda başka bir içerik varsa bu içeriği siler ve bizim\n",
    "#yazdığımız içeriği gönderir. Bunu şu şekilde engelleyebiliriz.\n",
    "print()\n",
    "\n",
    "#örnek dosya2 içerik: Merhabalar\n",
    "with open(\"C:/Users/erkam/Desktop/örnekdosya2.txt\", \"r+\") as file4:\n",
    "    content = file4.read() #tüm içeriği content'de saklıyoruz.\n",
    "    print(\"İlk hali :\\n\" + content)\n",
    "    file4.seek(0)\n",
    "    file4.write(\"0.satır \\n\" + content) #en baştaki içeriği eklediğimiz şeyin arkasına ekliyoruz.\n",
    "    file4.seek(0)\n",
    "    print(\"Son hali :\\n\" + file4.read())"
   ]
  },
  {
   "cell_type": "markdown",
   "metadata": {},
   "source": [
    "Dosyaların ortasında değişiklik yapmak istiyorsak readlines() methodunu kullanabiliriz. readlines methodu ile çağırdığımız listin ortasına istediğimiz line'ı (list'e yeni öge ekler gibi) ekleyebiliriz. Daha sonra bu listi writelines() methodu ile dosyanın içine ekleyebiliriz. Bu ekleme sırasında dosyada bulunan diğer ögeler silinecektir ve bizim eklediğimiz listteki satırlar yerlerine geçecektir.    "
   ]
  },
  {
   "cell_type": "code",
   "execution_count": 115,
   "metadata": {},
   "outputs": [
    {
     "name": "stdout",
     "output_type": "stream",
     "text": [
      "İlk hali: \n",
      "Satır1\n",
      "Satır3\n",
      "Satır4\n",
      "Son hali: \n",
      "Satır1\n",
      "Satır2\n",
      "Satır3\n",
      "Satır4\n"
     ]
    }
   ],
   "source": [
    "with open(\"örnekdosya.txt\", \"w+\") as f:\n",
    "    f.write(\"Satır1\\nSatır3\\nSatır4\")\n",
    "    f.seek(0)\n",
    "    print(\"İlk hali: \\n\" + f.read())\n",
    "    \n",
    "with open(\"örnekdosya.txt\", \"r+\") as f:\n",
    "    veri = f.readlines()#dosyanın satırlarını liste dönüştürüyoruz.\n",
    "    veri.insert(1, \"Satır2\\n\")#insert methoduyla listin içine 2.sıraya istediğimiz şeyi ekliyoruz.\n",
    "    f.seek(0)#Dosyanın en başına geliyoruz.\n",
    "    f.writelines(veri)#Yeni listi dosyaya ekliyoruz.\n",
    "    f.seek(0)\n",
    "    print(\"Son hali: \\n\" + f.read())"
   ]
  },
  {
   "cell_type": "markdown",
   "metadata": {},
   "source": [
    "Dosya erişme kipleri :\n",
    "\n",
    "r = Okuma modudur. Eğer belirtilen adda bir dosya yoksa çalışmaz.\n",
    "\n",
    "w = Yazma modudur. Eğer belirtilen adda bir dosya varsa bu dosyanın içeriğini silerek çalışır.Yoksa dosyayı oluşturur. \n",
    "\n",
    "a = Yazma modudur. Eğer belirtilen adda bir dosya varsa içeriğini silmeden çalışır, yoksa dosyayı oluşturur.\n",
    "\n",
    "x =  Yazma modudur. Eğer belirtilen adda bir dosya varsa hata mesajı verir ancak içeriği silmez, yoksa dosyayı oluşturur.\n",
    "\n",
    "r+, w+, a+, x+ = Yukarıdaki özelliklerin hem okuma hem yazma şeklinde olan halleridir.\n",
    "\n",
    "rb, wb, ab, xb = Yukarıdaki özelliklerin sadece ikili(binary) dosyaları sadece okuma veya sadece yazma modunda açan halleridir.\n",
    "\n",
    "rb+, wb+, ab+, xb+ = Yukarıdaki özelliklerin sadece ikili(binary) dosyaları okuma ve yazma modunda açan halleridir."
   ]
  },
  {
   "cell_type": "markdown",
   "metadata": {},
   "source": [
    "### Dosya metotları"
   ]
  },
  {
   "cell_type": "markdown",
   "metadata": {},
   "source": [
    "Dosyalar aslında string, list gibi bir veri tipidir. Ve bu veri tipinin bazı methodları vardır. "
   ]
  },
  {
   "cell_type": "code",
   "execution_count": 74,
   "metadata": {},
   "outputs": [
    {
     "name": "stdout",
     "output_type": "stream",
     "text": [
      "<class '_io.TextIOWrapper'>\n"
     ]
    },
    {
     "data": {
      "text/plain": [
       "['buffer',\n",
       " 'close',\n",
       " 'closed',\n",
       " 'detach',\n",
       " 'encoding',\n",
       " 'errors',\n",
       " 'fileno',\n",
       " 'flush',\n",
       " 'isatty',\n",
       " 'line_buffering',\n",
       " 'mode',\n",
       " 'name',\n",
       " 'newlines',\n",
       " 'read',\n",
       " 'readable',\n",
       " 'readline',\n",
       " 'readlines',\n",
       " 'reconfigure',\n",
       " 'seek',\n",
       " 'seekable',\n",
       " 'tell',\n",
       " 'truncate',\n",
       " 'writable',\n",
       " 'write',\n",
       " 'write_through',\n",
       " 'writelines']"
      ]
     },
     "execution_count": 74,
     "metadata": {},
     "output_type": "execute_result"
    }
   ],
   "source": [
    "file = open(\"örnekdosya.txt\")\n",
    "print(type(file))\n",
    "[z for z in dir(file) if not z.startswith(\"_\") and not z.endswith(\"_\")]"
   ]
  },
  {
   "cell_type": "markdown",
   "metadata": {},
   "source": [
    "closed niteliği dosyanın python tarafından kapatılıp kapatılmadığını kontrol eden ve boolean döndüren niteliktir."
   ]
  },
  {
   "cell_type": "code",
   "execution_count": 76,
   "metadata": {},
   "outputs": [
    {
     "name": "stdout",
     "output_type": "stream",
     "text": [
      "False\n",
      "True\n"
     ]
    }
   ],
   "source": [
    "file = open(\"örnekdosya.txt\")\n",
    "print(file.closed)\n",
    "file.close()\n",
    "print(file.closed)"
   ]
  },
  {
   "cell_type": "markdown",
   "metadata": {},
   "source": [
    "readable ve writable methodları dosyanın okunabilir veya yazılabilir olup olmadığını kontrol ederler. "
   ]
  },
  {
   "cell_type": "code",
   "execution_count": 79,
   "metadata": {},
   "outputs": [
    {
     "name": "stdout",
     "output_type": "stream",
     "text": [
      "True\n",
      "False\n"
     ]
    }
   ],
   "source": [
    "file = open(\"örnekdosya.txt\", \"r\")\n",
    "print(file.readable())\n",
    "print(file.writable())\n",
    "file.close()"
   ]
  },
  {
   "cell_type": "markdown",
   "metadata": {},
   "source": [
    "truncate methodu bir dosyayı kesmeyi sağlayan methoddur. truncate methodu dosya içerisinde imlecin bulunduğu yerden sonraki kısımları siler, imlecin bulunduğu yerden önceki kısımlara ise karışmaz. "
   ]
  },
  {
   "cell_type": "code",
   "execution_count": 92,
   "metadata": {},
   "outputs": [
    {
     "name": "stdout",
     "output_type": "stream",
     "text": [
      "ilk hali : \n",
      "Satır 1 \n",
      "Satır 2 \n",
      "Satır 3 \n",
      "Satır 4\n",
      "son hali : \n",
      "Satır 2 \n",
      "Satır 3 \n",
      "Satır 4\n"
     ]
    }
   ],
   "source": [
    "file = open(\"örnekdosya.txt\", \"w\")\n",
    "file.writelines(\"Satır 1 \\nSatır 2 \\nSatır 3 \\nSatır 4\")\n",
    "file.close()\n",
    "file = open(\"örnekdosya.txt\", \"r+\")\n",
    "print(\"ilk hali : \\n\" +file.read())\n",
    "file.seek(0)#Dosyanın en başına geliyoruz.\n",
    "file.readline()#Bir satır okuyoruz ve ikinci satıra geliyoruz. \n",
    "file.truncate()#Burda truncate methodu ile 2.satırdan dosyanın sonuna kadarki tüm satırları siliyoruz.  \n",
    "print(\"son hali : \\n\" + file.read())\n",
    "file.close()"
   ]
  },
  {
   "cell_type": "markdown",
   "metadata": {},
   "source": [
    "truncate() methodu ile bir dosyayı belli miktara küçültme veya belli bir miktara büyütme işlemini de yapabiliriz. Bunu parametrelerine dosyanın olmasını istediğimiz büyüklüğünü yazarak yaparız. Dosya küçülmek zorunda ise sondan başlayarak dosya içeriğini silerken büyümek zorunda ise sona gerektiği kadar 0 değeri ekler.  "
   ]
  },
  {
   "cell_type": "code",
   "execution_count": 106,
   "metadata": {},
   "outputs": [
    {
     "name": "stdout",
     "output_type": "stream",
     "text": [
      "['Satır 1 \\n', 'Satır 2 \\n', 'Satır 3 \\n', 'Satır 4\\x00\\x00\\x00\\x00\\x00\\x00\\x00\\x00\\x00\\x00\\x00\\x00\\x00\\x00\\x00\\x00\\x00\\x00\\x00\\x00\\x00\\x00\\x00\\x00\\x00\\x00\\x00\\x00\\x00\\x00\\x00\\x00\\x00\\x00\\x00\\x00\\x00\\x00\\x00\\x00\\x00\\x00\\x00\\x00\\x00\\x00\\x00\\x00\\x00\\x00\\x00\\x00\\x00\\x00\\x00\\x00\\x00\\x00\\x00\\x00\\x00\\x00\\x00\\x00\\x00\\x00\\x00\\x00\\x00\\x00\\x00\\x00\\x00\\x00\\x00\\x00\\x00\\x00\\x00\\x00\\x00\\x00\\x00\\x00\\x00\\x00\\x00\\x00\\x00\\x00\\x00\\x00\\x00\\x00\\x00\\x00\\x00\\x00\\x00\\x00\\x00\\x00\\x00\\x00\\x00\\x00\\x00\\x00\\x00\\x00\\x00\\x00\\x00\\x00\\x00\\x00\\x00\\x00\\x00\\x00\\x00\\x00\\x00\\x00\\x00\\x00\\x00\\x00\\x00\\x00\\x00\\x00\\x00\\x00\\x00\\x00\\x00\\x00\\x00\\x00\\x00\\x00\\x00\\x00\\x00\\x00\\x00\\x00\\x00\\x00\\x00\\x00\\x00\\x00\\x00\\x00\\x00\\x00\\x00\\x00\\x00\\x00\\x00\\x00\\x00\\x00\\x00\\x00\\x00\\x00\\x00\\x00\\x00\\x00\\x00\\x00\\x00\\x00\\x00\\x00\\x00\\x00\\x00\\x00\\x00\\x00\\x00\\x00\\x00\\x00\\x00\\x00\\x00\\x00\\x00\\x00\\x00\\x00\\x00\\x00\\x00\\x00\\x00\\x00\\x00\\x00\\x00\\x00\\x00\\x00\\x00\\x00\\x00\\x00\\x00\\x00\\x00\\x00\\x00\\x00\\x00\\x00\\x00\\x00\\x00\\x00\\x00\\x00\\x00\\x00\\x00\\x00\\x00\\x00\\x00\\x00\\x00\\x00\\x00\\x00\\x00\\x00\\x00\\x00\\x00\\x00\\x00\\x00\\x00\\x00\\x00\\x00\\x00\\x00\\x00\\x00\\x00\\x00\\x00\\x00\\x00\\x00\\x00\\x00\\x00\\x00\\x00\\x00\\x00\\x00\\x00\\x00\\x00\\x00\\x00\\x00\\x00\\x00\\x00\\x00\\x00\\x00\\x00\\x00\\x00\\x00\\x00\\x00\\x00\\x00\\x00\\x00\\x00\\x00\\x00\\x00\\x00\\x00\\x00\\x00\\x00\\x00\\x00\\x00\\x00\\x00\\x00\\x00\\x00\\x00\\x00\\x00\\x00\\x00\\x00\\x00\\x00\\x00\\x00\\x00\\x00\\x00\\x00\\x00\\x00\\x00\\x00\\x00\\x00\\x00\\x00\\x00\\x00\\x00\\x00\\x00\\x00\\x00\\x00\\x00\\x00\\x00\\x00\\x00\\x00\\x00\\x00\\x00\\x00\\x00\\x00\\x00\\x00\\x00\\x00\\x00\\x00\\x00\\x00\\x00\\x00\\x00\\x00\\x00\\x00\\x00\\x00\\x00\\x00\\x00\\x00\\x00\\x00\\x00\\x00\\x00\\x00\\x00\\x00\\x00\\x00\\x00\\x00\\x00\\x00\\x00\\x00\\x00\\x00\\x00\\x00\\x00\\x00\\x00\\x00\\x00\\x00\\x00\\x00\\x00\\x00\\x00\\x00\\x00\\x00\\x00\\x00\\x00\\x00\\x00\\x00\\x00\\x00\\x00\\x00\\x00\\x00\\x00\\x00\\x00\\x00\\x00\\x00\\x00\\x00\\x00\\x00\\x00\\x00\\x00\\x00\\x00\\x00\\x00\\x00\\x00\\x00\\x00\\x00\\x00\\x00\\x00\\x00\\x00\\x00\\x00\\x00\\x00\\x00\\x00\\x00\\x00\\x00\\x00\\x00\\x00\\x00\\x00\\x00\\x00\\x00\\x00\\x00\\x00\\x00\\x00\\x00\\x00\\x00\\x00\\x00\\x00\\x00\\x00\\x00\\x00\\x00\\x00\\x00\\x00\\x00\\x00\\x00\\x00\\x00\\x00\\x00\\x00\\x00\\x00\\x00\\x00\\x00\\x00\\x00\\x00\\x00\\x00\\x00\\x00\\x00\\x00\\x00\\x00\\x00\\x00\\x00\\x00\\x00\\x00\\x00\\x00\\x00\\x00\\x00\\x00\\x00\\x00\\x00\\x00\\x00\\x00\\x00\\x00\\x00\\x00\\x00\\x00\\x00\\x00\\x00\\x00\\x00\\x00\\x00\\x00\\x00\\x00\\x00\\x00\\x00\\x00\\x00\\x00\\x00\\x00\\x00\\x00\\x00\\x00\\x00\\x00\\x00\\x00\\x00\\x00\\x00\\x00\\x00\\x00\\x00\\x00\\x00\\x00\\x00\\x00\\x00\\x00\\x00\\x00\\x00\\x00\\x00\\x00\\x00\\x00\\x00\\x00\\x00\\x00\\x00\\x00\\x00\\x00\\x00\\x00\\x00\\x00\\x00\\x00\\x00\\x00\\x00\\x00\\x00\\x00\\x00\\x00\\x00\\x00\\x00\\x00\\x00\\x00\\x00\\x00\\x00\\x00\\x00\\x00\\x00\\x00\\x00\\x00\\x00\\x00\\x00\\x00\\x00\\x00\\x00\\x00\\x00\\x00\\x00\\x00\\x00\\x00\\x00\\x00\\x00\\x00\\x00\\x00\\x00\\x00\\x00\\x00\\x00\\x00\\x00\\x00\\x00\\x00\\x00\\x00\\x00\\x00\\x00\\x00\\x00\\x00\\x00\\x00\\x00\\x00\\x00\\x00\\x00\\x00\\x00\\x00\\x00\\x00\\x00\\x00\\x00\\x00\\x00\\x00\\x00\\x00\\x00\\x00\\x00\\x00\\x00\\x00\\x00\\x00\\x00\\x00\\x00\\x00\\x00\\x00\\x00\\x00\\x00\\x00\\x00\\x00\\x00\\x00\\x00\\x00\\x00\\x00\\x00\\x00\\x00\\x00\\x00\\x00\\x00\\x00\\x00\\x00\\x00\\x00\\x00\\x00\\x00\\x00\\x00\\x00\\x00\\x00\\x00\\x00\\x00\\x00\\x00\\x00\\x00\\x00\\x00\\x00\\x00\\x00\\x00\\x00\\x00\\x00\\x00\\x00\\x00\\x00\\x00\\x00\\x00\\x00\\x00\\x00\\x00\\x00\\x00\\x00\\x00\\x00\\x00\\x00\\x00\\x00\\x00\\x00\\x00\\x00\\x00\\x00\\x00\\x00\\x00\\x00\\x00\\x00\\x00\\x00\\x00\\x00\\x00\\x00\\x00\\x00\\x00\\x00\\x00\\x00\\x00\\x00\\x00\\x00\\x00\\x00\\x00\\x00\\x00\\x00\\x00\\x00\\x00\\x00\\x00\\x00\\x00\\x00\\x00\\x00\\x00\\x00\\x00\\x00\\x00\\x00\\x00\\x00\\x00\\x00\\x00\\x00\\x00\\x00\\x00\\x00\\x00\\x00\\x00\\x00\\x00\\x00\\x00\\x00\\x00\\x00\\x00\\x00\\x00\\x00\\x00\\x00\\x00\\x00\\x00\\x00\\x00\\x00\\x00\\x00\\x00\\x00\\x00\\x00\\x00\\x00\\x00\\x00\\x00\\x00\\x00\\x00\\x00\\x00\\x00\\x00\\x00\\x00\\x00\\x00\\x00\\x00\\x00\\x00\\x00\\x00\\x00\\x00\\x00\\x00\\x00\\x00\\x00\\x00\\x00\\x00\\x00\\x00\\x00\\x00\\x00\\x00\\x00\\x00\\x00\\x00\\x00\\x00\\x00\\x00\\x00\\x00\\x00\\x00\\x00\\x00\\x00\\x00\\x00\\x00\\x00\\x00\\x00\\x00\\x00\\x00\\x00\\x00\\x00\\x00\\x00\\x00\\x00\\x00\\x00\\x00\\x00\\x00\\x00\\x00\\x00\\x00\\x00\\x00\\x00\\x00\\x00\\x00\\x00\\x00\\x00\\x00\\x00\\x00\\x00\\x00\\x00\\x00\\x00\\x00\\x00\\x00\\x00\\x00\\x00\\x00\\x00\\x00\\x00\\x00\\x00\\x00\\x00\\x00\\x00\\x00\\x00\\x00\\x00\\x00\\x00\\x00\\x00\\x00\\x00\\x00\\x00\\x00\\x00\\x00\\x00\\x00\\x00\\x00\\x00\\x00\\x00\\x00\\x00\\x00\\x00\\x00\\x00\\x00\\x00\\x00\\x00\\x00\\x00']\n"
     ]
    }
   ],
   "source": [
    "file = open(\"örnekdosya.txt\", \"w+\")\n",
    "file.writelines(\"Satır 1 \\nSatır 2 \\nSatır 3 \\nSatır 4\")\n",
    "file.close()\n",
    "file = open(\"örnekdosya.txt\", \"r+\")\n",
    "file.truncate(1024*1)#dosyanın büyüklüğünü 3kb yapıyoruz. \n",
    "file.close()\n",
    "file = open(\"örnekdosya.txt\")\n",
    "print(file.readlines()) #Gördüğümüz gibi dosya 0'larla doldurulmuş.\n",
    "file.close()"
   ]
  },
  {
   "cell_type": "markdown",
   "metadata": {},
   "source": [
    "mode niteliği dosyanın hangi modda açıldığını gösterir. "
   ]
  },
  {
   "cell_type": "code",
   "execution_count": 109,
   "metadata": {},
   "outputs": [
    {
     "name": "stdout",
     "output_type": "stream",
     "text": [
      "r\n",
      "a\n"
     ]
    }
   ],
   "source": [
    "file = open(\"örnekdosya.txt\", \"r\")\n",
    "print(file.mode)\n",
    "file.close()\n",
    "file = open(\"örnekdosya.txt\", \"a\")\n",
    "print(file.mode)\n",
    "file.close()"
   ]
  },
  {
   "cell_type": "markdown",
   "metadata": {},
   "source": [
    "name niteliği dosyanın adını verir. "
   ]
  },
  {
   "cell_type": "code",
   "execution_count": 110,
   "metadata": {},
   "outputs": [
    {
     "name": "stdout",
     "output_type": "stream",
     "text": [
      "örnekdosya.txt\n"
     ]
    }
   ],
   "source": [
    "file = open(\"örnekdosya.txt\", \"r\")\n",
    "print(file.name)\n",
    "file.close()"
   ]
  },
  {
   "cell_type": "markdown",
   "metadata": {},
   "source": [
    "encoding niteliği dosyanın hangi dil kodlaması ile kodlandığını gösterir."
   ]
  },
  {
   "cell_type": "code",
   "execution_count": 111,
   "metadata": {},
   "outputs": [
    {
     "name": "stdout",
     "output_type": "stream",
     "text": [
      "cp1254\n"
     ]
    }
   ],
   "source": [
    "file = open(\"örnekdosya.txt\", \"r\")\n",
    "print(file.encoding)\n",
    "file.close()"
   ]
  }
 ],
 "metadata": {
  "kernelspec": {
   "display_name": "Python 3",
   "language": "python",
   "name": "python3"
  },
  "language_info": {
   "codemirror_mode": {
    "name": "ipython",
    "version": 3
   },
   "file_extension": ".py",
   "mimetype": "text/x-python",
   "name": "python",
   "nbconvert_exporter": "python",
   "pygments_lexer": "ipython3",
   "version": "3.9.1"
  }
 },
 "nbformat": 4,
 "nbformat_minor": 4
}
