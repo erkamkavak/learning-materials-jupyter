{
 "cells": [
  {
   "cell_type": "code",
   "execution_count": 3,
   "metadata": {},
   "outputs": [],
   "source": [
    "import webbrowser, requests\n",
    "from bs4 import BeautifulSoup\n",
    "from selenium import webdriver"
   ]
  },
  {
   "cell_type": "code",
   "execution_count": 10,
   "metadata": {},
   "outputs": [
    {
     "name": "stdout",
     "output_type": "stream",
     "text": [
      "\n",
      "TERMAL TAYT (10'LU PAKET)\n",
      "\n",
      "['FEELLINE', 'TERMAL TAYT (10LU PAKET)', '101', 'Erkek', 'Termal', 'https://www.kotatekstil.com/termal-tayt-1', 'https://www.kotatekstil.com/Uploads/UrunResimleri/thumb/termal-tayt-0d39.jpg', ['https://www.kotatekstil.com/Uploads/UrunResimleri/thumb/termal-tayt-ae70.jpg'], ['Siyah'], 'Paket içerisinde 10\\xa0adet olarak gönderilmektedir (tek renk ve tek beden)']\n"
     ]
    }
   ],
   "source": [
    "res = requests.get(\"https://www.kotatekstil.com/erkek-2\")\n",
    "res.raise_for_status()\n",
    "noStarchSoup = BeautifulSoup(res.text, \"html.parser\")\n",
    "# print(noStarchSoup)\n",
    "product_items = noStarchSoup.find_all(class_ = \"ItemOrj\")\n",
    "products = []\n",
    "for item in product_items: \n",
    "    product = item.find(class_ = \"productItem\")\n",
    "    image = product.find(class_ = \"productImage\")\n",
    "    ürünLinki = \"https://www.kotatekstil.com\" + image.find(\"a\", class_ = \"detailLink\")[\"href\"]\n",
    "    anaResim = \"https://www.kotatekstil.com\" + image.find(\"a\").find(\"img\")[\"src\"]\n",
    "    marka = product.find(class_ = \"productMarka\").text\n",
    "    name = product.find(class_ = \"productName\").find(\"a\")[\"title\"]\n",
    "    kod = product.find(class_ = \"productStokKodu\").find(\"span\").text\n",
    "\n",
    "        \n",
    "    browser = webdriver.Firefox(executable_path = \"C:\\geckodriver\")\n",
    "    browser.get(ürünLinki)\n",
    "    respData = browser.page_source\n",
    "    browser.quit()\n",
    "    ürünSayfası = BeautifulSoup(respData, 'html.parser')\n",
    "    \n",
    "    \n",
    "    ürünDetayları = ürünSayfası.find(id = \"divTabOzellikler\").find(class_ = {\"urunTabAlt\"}).find(\"p\").text\n",
    "    ürün_adı = ürünSayfası.find(class_ = \"ProductName\").find(\"span\").text\n",
    "    diğerResimler = [\"https://www.kotatekstil.com\" + resim.find(\"img\")[\"src\"] for resim in ürünSayfası.find(class_ = \"SmallImages\").find_all(class_ = \"AltImgCapSmallImg\")][1:]\n",
    "    cinsiyet = ürünSayfası.find(class_ = \"breadcrumb\").find_all(itemprop = \"itemListElement\")[2].text.split(\">\")[0].strip()\n",
    "    category = ürünSayfası.find(class_ = \"breadcrumb\").find_all(itemprop = \"itemListElement\")[4].text.split(\">\")[0].strip()\n",
    "    \n",
    "    print(ürün_adı)\n",
    "    \n",
    "    renkler = [renk.text for renk in ürünSayfası.find(class_ = \"eksecenekLine\").find_all(class_ = \"size_box\")]\n",
    "    \n",
    "    products.append([ marka, name, kod, cinsiyet, category, ürünLinki, anaResim, diğerResimler, renkler, ürünDetayları])\n",
    "    break\n",
    "    \n",
    "print(*products, sep = \"\\n\")\n",
    "# firstElems.prettify()\n",
    "# print(firstElems)"
   ]
  },
  {
   "cell_type": "code",
   "execution_count": 4,
   "metadata": {},
   "outputs": [
    {
     "name": "stdout",
     "output_type": "stream",
     "text": [
      "[[8, 4], [7, 5], [6, 5], [5, 5], [4, 5], [3, 3], [2, 3], [1, 1], [0, 0]]\n",
      "[[7, 3], [6, 4], [5, 4], [4, 4], [3, 4], [2, 2], [1, 2], [0, 0], [0, 0]]\n",
      "[[7, 2], [6, 3], [5, 3], [4, 3], [3, 3], [2, 1], [1, 1], [0, 0], [0, 0]]\n",
      "[[5, 1], [4, 2], [3, 2], [2, 2], [1, 2], [0, 0], [0, 0], [0, 0], [0, 0]]\n",
      "[[0, 0], [4, 1], [3, 1], [2, 1], [1, 1], [0, 0], [0, 0], [0, 0], [0, 0]]\n"
     ]
    },
    {
     "data": {
      "text/plain": [
       "14"
      ]
     },
     "execution_count": 4,
     "metadata": {},
     "output_type": "execute_result"
    }
   ],
   "source": [
    "def maximalRectangle(matrix):\n",
    "    rows = len(matrix)\n",
    "    if rows: cols = len(matrix[0])\n",
    "    else: return 0\n",
    "\n",
    "    sizes = [[[0, 0] for _ in range(cols + 1)] for _ in range(rows + 1)]\n",
    "\n",
    "    for i in range(rows - 1, -1, -1):\n",
    "        for j in range(cols - 1, -1, -1):\n",
    "            if matrix[i][j] == \"1\":\n",
    "                sizes[i][j][0] += sizes[i][j + 1][0] + 1\n",
    "                sizes[i][j][1] += sizes[i + 1][j][1] + 1\n",
    "    for x in range(rows):\n",
    "        print(sizes[x])\n",
    "\n",
    "    maxRect = 0\n",
    "    for i in range(rows):\n",
    "        for j in range(cols):\n",
    "            xSize = sizes[i][j][0]\n",
    "            ySize = 0\n",
    "            for x in range(sizes[i][j][1]):\n",
    "                if sizes[i + x][j][0] <= xSize:\n",
    "                    ySize += 1\n",
    "                else: \n",
    "                    break\n",
    "\n",
    "            rectSize = xSize*ySize\n",
    "            maxRect = max(maxRect, rectSize)\n",
    "    return maxRect\n",
    "matrix = [\n",
    "    [\"1\",\"1\",\"1\",\"1\",\"1\",\"1\",\"1\",\"1\"],\n",
    "    [\"1\",\"1\",\"1\",\"1\",\"1\",\"1\",\"1\",\"0\"],\n",
    "    [\"1\",\"1\",\"1\",\"1\",\"1\",\"1\",\"1\",\"0\"],\n",
    "    [\"1\",\"1\",\"1\",\"1\",\"1\",\"0\",\"0\",\"0\"],\n",
    "    [\"0\",\"1\",\"1\",\"1\",\"1\",\"0\",\"0\",\"0\"]\n",
    "]\n",
    "maximalRectangle(matrix)"
   ]
  },
  {
   "cell_type": "code",
   "execution_count": 6,
   "metadata": {},
   "outputs": [
    {
     "name": "stdout",
     "output_type": "stream",
     "text": [
      "3 5 9 5 6 8 5 7 7 5\n"
     ]
    },
    {
     "ename": "ValueError",
     "evalue": "invalid literal for int() with base 10: '3 5 9 5 6 8 5 7 7 5'",
     "output_type": "error",
     "traceback": [
      "\u001b[1;31m---------------------------------------------------------------------------\u001b[0m",
      "\u001b[1;31mValueError\u001b[0m                                Traceback (most recent call last)",
      "\u001b[1;32m<ipython-input-6-5b0cd4492840>\u001b[0m in \u001b[0;36m<module>\u001b[1;34m\u001b[0m\n\u001b[1;32m----> 1\u001b[1;33m \u001b[0mn\u001b[0m \u001b[1;33m=\u001b[0m \u001b[0mint\u001b[0m\u001b[1;33m(\u001b[0m\u001b[0minput\u001b[0m\u001b[1;33m(\u001b[0m\u001b[1;33m)\u001b[0m\u001b[1;33m)\u001b[0m\u001b[1;33m\u001b[0m\u001b[1;33m\u001b[0m\u001b[0m\n\u001b[0m\u001b[0;32m      2\u001b[0m \u001b[0mshops\u001b[0m \u001b[1;33m=\u001b[0m \u001b[1;33m[\u001b[0m\u001b[1;33m]\u001b[0m\u001b[1;33m\u001b[0m\u001b[1;33m\u001b[0m\u001b[0m\n\u001b[0;32m      3\u001b[0m \u001b[1;32mfor\u001b[0m \u001b[0m_\u001b[0m \u001b[1;32min\u001b[0m \u001b[0mrange\u001b[0m\u001b[1;33m(\u001b[0m\u001b[0mn\u001b[0m\u001b[1;33m)\u001b[0m\u001b[1;33m:\u001b[0m\u001b[1;33m\u001b[0m\u001b[1;33m\u001b[0m\u001b[0m\n\u001b[0;32m      4\u001b[0m     \u001b[0mshops\u001b[0m\u001b[1;33m.\u001b[0m\u001b[0mappend\u001b[0m\u001b[1;33m(\u001b[0m\u001b[0mlist\u001b[0m\u001b[1;33m(\u001b[0m\u001b[0mmap\u001b[0m\u001b[1;33m(\u001b[0m\u001b[0mint\u001b[0m\u001b[1;33m,\u001b[0m \u001b[0minput\u001b[0m\u001b[1;33m(\u001b[0m\u001b[1;33m)\u001b[0m\u001b[1;33m.\u001b[0m\u001b[0msplit\u001b[0m\u001b[1;33m(\u001b[0m\u001b[1;33m)\u001b[0m\u001b[1;33m)\u001b[0m\u001b[1;33m)\u001b[0m\u001b[1;33m)\u001b[0m\u001b[1;33m\u001b[0m\u001b[1;33m\u001b[0m\u001b[0m\n\u001b[0;32m      5\u001b[0m \u001b[0mavailables\u001b[0m \u001b[1;33m=\u001b[0m \u001b[1;33m[\u001b[0m\u001b[1;33m]\u001b[0m\u001b[1;33m\u001b[0m\u001b[1;33m\u001b[0m\u001b[0m\n",
      "\u001b[1;31mValueError\u001b[0m: invalid literal for int() with base 10: '3 5 9 5 6 8 5 7 7 5'"
     ]
    }
   ],
   "source": [
    "n = int(input())\n",
    "shops = []\n",
    "for _ in range(n): \n",
    "    shops.append(list(map(int, input().split())))\n",
    "availables = []\n",
    "for i in range(len(shops)):\n",
    "    if shop[0] < shop[2]:\n",
    "        availables.append(shop[1])\n",
    "print(min(availables))"
   ]
  }
 ],
 "metadata": {
  "kernelspec": {
   "display_name": "Python 3",
   "language": "python",
   "name": "python3"
  },
  "language_info": {
   "codemirror_mode": {
    "name": "ipython",
    "version": 3
   },
   "file_extension": ".py",
   "mimetype": "text/x-python",
   "name": "python",
   "nbconvert_exporter": "python",
   "pygments_lexer": "ipython3",
   "version": "3.9.2"
  }
 },
 "nbformat": 4,
 "nbformat_minor": 4
}
