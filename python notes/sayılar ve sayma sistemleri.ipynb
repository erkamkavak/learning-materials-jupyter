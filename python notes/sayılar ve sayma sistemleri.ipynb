{
 "cells": [
  {
   "cell_type": "markdown",
   "metadata": {},
   "source": [
    "bin methodu sayıyı binary(2'li) moda çevirir. hex methodu sayıyı hexadecimal(16'lı) moda çevirir. oct methodu sayıyı octal(8'li) moda çevirir. int methodu ise sayıyı 10'lu moda çevirir. int methodunda başka tabanlardan 10'lu tabana geçirmek istiyorsak ilk parametreyi string halinde başka tabandaki sayıyı yazarız, ikinci methodda ise sayının hangi tabandan geldiğini yazarız. "
   ]
  },
  {
   "cell_type": "code",
   "execution_count": 9,
   "metadata": {},
   "outputs": [
    {
     "name": "stdout",
     "output_type": "stream",
     "text": [
      "0b11101\n",
      "0x1d\n",
      "0o35\n",
      "29\n",
      "29\n"
     ]
    }
   ],
   "source": [
    "sayı = 29\n",
    "print(bin(sayı))\n",
    "print(hex(sayı))\n",
    "print(oct(sayı))\n",
    "print(int(sayı))\n",
    "sayı = \"29\"\n",
    "print(int(\"11101\", 2))"
   ]
  },
  {
   "cell_type": "markdown",
   "metadata": {},
   "source": [
    "Sayıları başka tabanlara çevirme işlemini format methodu ile de yapabiliriz. "
   ]
  },
  {
   "cell_type": "code",
   "execution_count": 11,
   "metadata": {},
   "outputs": [
    {
     "name": "stdout",
     "output_type": "stream",
     "text": [
      "145 sayısının binary karşılığı 10010001'dir.\n"
     ]
    }
   ],
   "source": [
    "print(\"{0} sayısının binary karşılığı {0:b}'dir.\".format(145))"
   ]
  },
  {
   "cell_type": "markdown",
   "metadata": {},
   "source": [
    "Hexadecimal modda sayılar 10'dan sonra a,b,c,d,e,f şeklinde devam eder. f'ten sonra 10 gelir. "
   ]
  },
  {
   "cell_type": "code",
   "execution_count": 19,
   "metadata": {},
   "outputs": [
    {
     "name": "stdout",
     "output_type": "stream",
     "text": [
      "Sayı      Hexadecimal karşılığı\n",
      " 0             0\n",
      " 1             1\n",
      " 2             2\n",
      " 3             3\n",
      " 4             4\n",
      " 5             5\n",
      " 6             6\n",
      " 7             7\n",
      " 8             8\n",
      " 9             9\n",
      " 10             a\n",
      " 11             b\n",
      " 12             c\n",
      " 13             d\n",
      " 14             e\n",
      " 15             f\n",
      " 16             10\n",
      " 17             11\n"
     ]
    }
   ],
   "source": [
    "print(\"Sayı      Hexadecimal karşılığı\")\n",
    "for x in range(18):\n",
    "    print(\" {0}             {0:x}\".format(x))"
   ]
  },
  {
   "cell_type": "markdown",
   "metadata": {},
   "source": [
    "Html renk kodları da aslında hexadecimal modda gösterilen sayılardır. #000000 sayısı ilk sayıyı yani siyahı #FFFFFF sayısı ise son sayıyı yani beyazı temsil eder. (Buradan html'de 16^6 tane farklı renk olduğunu görebiliriz.)"
   ]
  },
  {
   "cell_type": "markdown",
   "metadata": {},
   "source": [
    "Pythonda karmaşık(complex) sayıları complex() methodu ile veya j harfi ile(irreal kısmı belirtir) oluşturabiliriz. Complex  methodunda iki parametre vardır ve ilk parametre karmaşık sayının reel kısmını belirtirken ikinci parametre karmaşık sayının irreal kısmını belirtir. Karmaşık sayıyı bu method ile oluşturduktan sonra oluşturduğumuz sayı üzerinde işlemler de yapabiliriz. "
   ]
  },
  {
   "cell_type": "code",
   "execution_count": 30,
   "metadata": {},
   "outputs": [
    {
     "name": "stdout",
     "output_type": "stream",
     "text": [
      "<class 'complex'>\n",
      "<class 'complex'>\n",
      "(10+5j)\n",
      "(20+5j)\n",
      "(10+8j)\n"
     ]
    }
   ],
   "source": [
    "karmaşık  = complex(10, 5)\n",
    "print(type(karmaşık))\n",
    "print(type(15 + 3j))\n",
    "print(karmaşık)\n",
    "print(karmaşık + 10)\n",
    "print(karmaşık + 3j)#irreal kısım üzerinden de işlem yapabiliriz."
   ]
  },
  {
   "cell_type": "markdown",
   "metadata": {},
   "source": [
    "Karmaşık sayıların real ve imaginer kısımlarına ayrı ayrı ulaşabiliriz. Hatta karmaşık sayının eşleniğine(conjugate) de python methodu üzerinden ulaşabiliriz."
   ]
  },
  {
   "cell_type": "code",
   "execution_count": 36,
   "metadata": {},
   "outputs": [
    {
     "name": "stdout",
     "output_type": "stream",
     "text": [
      "140.0\n",
      "23.0\n",
      "(140-23j)\n"
     ]
    }
   ],
   "source": [
    "karmaşık = complex(140, 23)\n",
    "print(karmaşık.real)\n",
    "print(karmaşık.imag)\n",
    "print(karmaşık.conjugate())"
   ]
  },
  {
   "cell_type": "markdown",
   "metadata": {},
   "source": [
    "Diğer türlerde olduğu gibi int, float ve complex sayıların da methodları vardır. "
   ]
  },
  {
   "cell_type": "code",
   "execution_count": 61,
   "metadata": {},
   "outputs": [
    {
     "name": "stdout",
     "output_type": "stream",
     "text": [
      "\n",
      "<class 'int'>'in methodları : \n",
      "as_integer_ratio  bit_length  conjugate  denominator  from_bytes  imag  numerator  real  to_bytes  \n",
      "<class 'float'>'in methodları : \n",
      "as_integer_ratio  conjugate  fromhex  hex  imag  is_integer  real  \n",
      "<class 'complex'>'in methodları : \n",
      "conjugate  imag  real  "
     ]
    }
   ],
   "source": [
    "num_dict = [10, 10.5,  10 + 5j]\n",
    "for x in num_dict: \n",
    "    print(\"\\n{}'in methodları : \".format(type(x)))\n",
    "    for a in [z for z in dir(x) if not z.startswith(\"_\")]:\n",
    "        print(a, end = \"  \")"
   ]
  },
  {
   "cell_type": "markdown",
   "metadata": {},
   "source": [
    "bit_length methodu tamsayılarda bir tam sayının binary halinin ne kadar yer kapladığını (yani kaç basamaklı olduğunu) söyler. Aslında bu method len(bin(sayı)) methoduna eşdeğerdir. bit_length methodu doğrudan sayı üzerinde uygulanamaz. Sayının variable hali üzerinde uygulanabilir(veya parantezler içine konulmuş hali üzerinde)."
   ]
  },
  {
   "cell_type": "code",
   "execution_count": 58,
   "metadata": {},
   "outputs": [
    {
     "name": "stdout",
     "output_type": "stream",
     "text": [
      "10 sayısının binary hali olan 1010 sayısı hafızada 4 bitlik yer kaplar.\n",
      "140141414 sayısının binary hali olan 1000010110100110001101100110 sayısı hafızada 28 bitlik yer kaplar.\n"
     ]
    }
   ],
   "source": [
    "sayı1 = 10\n",
    "print(\"{0} sayısının binary hali olan {0:b} sayısı hafızada {1} bitlik yer kaplar.\".format(sayı1, sayı1.bit_length()))\n",
    "sayı2 = 140141414\n",
    "print(\"{0} sayısının binary hali olan {0:b} sayısı hafızada {1} bitlik yer kaplar.\".format(sayı2, sayı2.bit_length()))"
   ]
  },
  {
   "cell_type": "markdown",
   "metadata": {},
   "source": [
    "as_integer_ratio methodu bize verdiğimiz sayının hangi iki sayının bölümüyle oluşabileceğini gösterir. Bu method hem int hem floatlar üzerinde kullanılabilir. int'ler üzerinde kullanmak pek faydalı değildir. "
   ]
  },
  {
   "cell_type": "code",
   "execution_count": 72,
   "metadata": {},
   "outputs": [
    {
     "name": "stdout",
     "output_type": "stream",
     "text": [
      "(12, 1)\n",
      "(6811694436397875, 562949953421312)\n"
     ]
    }
   ],
   "source": [
    "print((12).as_integer_ratio())\n",
    "print((12.1).as_integer_ratio())"
   ]
  },
  {
   "cell_type": "markdown",
   "metadata": {},
   "source": [
    "is_integer methodu bir floatın noktadan sonraki kısmının 0 olup olmadığını yani aslında sayını bir tam sayı olup olmadığını test eder ve boolean değer gönderir."
   ]
  },
  {
   "cell_type": "code",
   "execution_count": 75,
   "metadata": {},
   "outputs": [
    {
     "name": "stdout",
     "output_type": "stream",
     "text": [
      "False\n",
      "True\n"
     ]
    }
   ],
   "source": [
    "print((12.235).is_integer())\n",
    "print((12.000).is_integer())"
   ]
  },
  {
   "cell_type": "markdown",
   "metadata": {},
   "source": [
    "abs fonksiyonu sayıların mutlak değerini verir. \n",
    "\n",
    "divmod fonksiyonu iki parametre alır ve ilk parametreyi ikinci parametreye bölüp bölümü ve kalanı bir tuple içinde geri döndürür. "
   ]
  },
  {
   "cell_type": "code",
   "execution_count": 78,
   "metadata": {},
   "outputs": [
    {
     "name": "stdout",
     "output_type": "stream",
     "text": [
      "13\n",
      "(9, 5)\n",
      "131\n"
     ]
    }
   ],
   "source": [
    "print(abs(-13))\n",
    "\n",
    "div_tuple = divmod(131, 14)\n",
    "print(div_tuple)\n",
    "print(div_tuple[0]*14 + div_tuple[1])"
   ]
  },
  {
   "cell_type": "markdown",
   "metadata": {},
   "source": [
    "max fonksiyonu parametre olarak girilen listteki en büyük sayıyı geri döndürür. min fonksiyonu ise tam tersini yapar. max ve min fonksiyonlarının key parametresi de vardır ve bu parametre sıralamanın neye göre yapılacağını belirtir. Mesela bu parametre len ise sıralama verilerin(string,list vb.) uzunluklarına göre yapılır ve en uzun veya en kısa olan geri döndürülür. "
   ]
  },
  {
   "cell_type": "code",
   "execution_count": 83,
   "metadata": {},
   "outputs": [
    {
     "name": "stdout",
     "output_type": "stream",
     "text": [
      "311241\n",
      "-123\n",
      "13\n",
      "gıyaseddin\n",
      "can\n",
      "[1, 132, 45, 435, 6, 63]\n",
      "[13, 65, 47]\n"
     ]
    }
   ],
   "source": [
    "num_list = [ 13, -123, 310241, 149214, 311241, 23423, 85003]\n",
    "print(max(num_list))\n",
    "print(min(num_list))\n",
    "print(min(num_list, key = abs))#key olarak abs belirterek sayıların mutlak değer hallerini karşılaştırıyoruz. \n",
    "str_list = [\"ahmet\", \"mehmet\", \"necla\", \"sedat\", \"abdullah\",\n",
    "           \"gıyaseddin\", \"sibel\", \"can\", \"necmettin\", \"savaş\", \"özgür\"]\n",
    "print(max(str_list, key = len))\n",
    "print(min(str_list, key = len))\n",
    "list_list = [[10,210,11,2121], [13,65,47], [1,132,45,435,6,63]]\n",
    "print(max(list_list, key = len))\n",
    "print(min(list_list, key = len))"
   ]
  },
  {
   "cell_type": "markdown",
   "metadata": {},
   "source": [
    "sum fonksiyonu parametre olarak girilen listteki tüm sayıları toplar ve geri döndürür. "
   ]
  },
  {
   "cell_type": "code",
   "execution_count": 85,
   "metadata": {},
   "outputs": [
    {
     "name": "stdout",
     "output_type": "stream",
     "text": [
      "540216345\n",
      "1\n"
     ]
    }
   ],
   "source": [
    "liste = [10414, 4194194,140104,-141, 41941,219419,535610414]\n",
    "print(sum(liste))\n",
    "print(sum(liste, -540216344))#ikinci olarak girdiğimiz parametre de toplama eklenir. "
   ]
  },
  {
   "cell_type": "code",
   "execution_count": null,
   "metadata": {},
   "outputs": [],
   "source": []
  }
 ],
 "metadata": {
  "kernelspec": {
   "display_name": "Python 3",
   "language": "python",
   "name": "python3"
  },
  "language_info": {
   "codemirror_mode": {
    "name": "ipython",
    "version": 3
   },
   "file_extension": ".py",
   "mimetype": "text/x-python",
   "name": "python",
   "nbconvert_exporter": "python",
   "pygments_lexer": "ipython3",
   "version": "3.8.5"
  }
 },
 "nbformat": 4,
 "nbformat_minor": 4
}
