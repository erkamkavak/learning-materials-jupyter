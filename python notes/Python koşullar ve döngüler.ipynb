{
 "cells": [
  {
   "cell_type": "markdown",
   "metadata": {},
   "source": [
    "if koşulları belirtilirken () parantezlerine gerek yoktur. koşul belirtildikten sonra : işareti konulmak zorundadır ve alt sa_\n",
    "tıra geçildiğinde intendation(boşluk) bırakılmak zorundadır. Buradaki boşluk miktarı 4 boşluktur. "
   ]
  },
  {
   "cell_type": "code",
   "execution_count": 1,
   "metadata": {},
   "outputs": [
    {
     "name": "stdout",
     "output_type": "stream",
     "text": [
      "x 8'den büyük\n"
     ]
    }
   ],
   "source": [
    "x = 10\n",
    "if x > 8:\n",
    "    print(\"x 8'den büyük\")"
   ]
  },
  {
   "cell_type": "markdown",
   "metadata": {},
   "source": [
    "elif ifadeli durumlarda if, elif ve else ifadeleri birbirlerine bağlı olarak çalışırlar. Yani if ya da eliflerden biri doğruysa\n",
    "diğer elif durumlarına ve else durumuna bakılmaz. "
   ]
  },
  {
   "cell_type": "code",
   "execution_count": 2,
   "metadata": {},
   "outputs": [
    {
     "name": "stdout",
     "output_type": "stream",
     "text": [
      "Yaşınız: -14\n",
      "Yok canım, daha neler!...\n"
     ]
    }
   ],
   "source": [
    "yaş = int(input(\"Yaşınız: \"))\n",
    "if yaş == 18:\n",
    "    print(\"18 iyidir!\")\n",
    "elif yaş < 0: #Eğer 0'dan küçük bir sayı girilirse bu ifade çalışacak ancak bundan sonraki ifade doğru olsa bile çalışmayacaktır.\n",
    "    print(\"Yok canım, daha neler!...\")\n",
    "elif yaş < 18: #Doğru olmasına rağmen çalışmayacaktır.\n",
    "    print(\"Genç bir kardeşimizsin!\")\n",
    "else:\n",
    "    print(\"Yaş kemale eriyor yavaş yavaş\")"
   ]
  },
  {
   "cell_type": "markdown",
   "metadata": {},
   "source": [
    "while döngüleri, döngünün bir list'e, bir string'e veya bunlara benzer şeylere bağlı olmadığı döngülerdir. while döngülerinde boolean olarak yazılan ifade doğru olduğu sürece döngü çalışacaktır. Kullanımı şu şekildedir: \n",
    "\n",
    "while Boolean:\n",
    "    #yapılması istenen ifade\n",
    "    #Boolean ifadesini etkileyecek değişim \n",
    "Eğer boolean ifadesi hiçbir şekilde bozulmayacak bir boolean ise bu döngü sonsuza kadar sürer. "
   ]
  },
  {
   "cell_type": "code",
   "execution_count": 4,
   "metadata": {},
   "outputs": [
    {
     "name": "stdout",
     "output_type": "stream",
     "text": [
      "0\n",
      "1\n",
      "2\n",
      "3\n",
      "4\n",
      "5\n",
      "6\n",
      "7\n",
      "8\n",
      "9\n"
     ]
    }
   ],
   "source": [
    "a = 0\n",
    "while a < 10: \n",
    "    print(a)\n",
    "    a += 1 #Burda yapılması istenen ifade ile değişim ifadesi bazı durumlarda yer değiştirebilir."
   ]
  },
  {
   "cell_type": "markdown",
   "metadata": {},
   "source": [
    "for döngüleri ise bir list'e, bir string'e veya bunlara benzer şeylere(range vb) bağlı olarak çalışan döngülerdir. Bu döngüler iterable olan veri tipini alır ve bu veri tipinin tüm değerleri üzerinde sıra ile çalışır. Sayılar iterable olmadığından for döngüsünde çalışmaz. "
   ]
  },
  {
   "cell_type": "code",
   "execution_count": 8,
   "metadata": {},
   "outputs": [
    {
     "name": "stdout",
     "output_type": "stream",
     "text": [
      "14\n",
      "23\n",
      "429\n",
      "32\n",
      "e\n",
      "r\n",
      "k\n",
      "a\n",
      "m\n",
      "0\n",
      "3\n",
      "6\n"
     ]
    },
    {
     "ename": "TypeError",
     "evalue": "'int' object is not iterable",
     "output_type": "error",
     "traceback": [
      "\u001b[1;31m---------------------------------------------------------------------------\u001b[0m",
      "\u001b[1;31mTypeError\u001b[0m                                 Traceback (most recent call last)",
      "\u001b[1;32m<ipython-input-8-d9b37e2c9949>\u001b[0m in \u001b[0;36m<module>\u001b[1;34m\u001b[0m\n\u001b[0;32m      6\u001b[0m \u001b[1;32mfor\u001b[0m \u001b[0mb\u001b[0m \u001b[1;32min\u001b[0m \u001b[0mrange\u001b[0m\u001b[1;33m(\u001b[0m\u001b[1;36m3\u001b[0m\u001b[1;33m)\u001b[0m\u001b[1;33m:\u001b[0m\u001b[1;33m\u001b[0m\u001b[1;33m\u001b[0m\u001b[0m\n\u001b[0;32m      7\u001b[0m     \u001b[0mprint\u001b[0m\u001b[1;33m(\u001b[0m\u001b[0mb\u001b[0m\u001b[1;33m*\u001b[0m\u001b[1;36m3\u001b[0m\u001b[1;33m)\u001b[0m\u001b[1;33m\u001b[0m\u001b[1;33m\u001b[0m\u001b[0m\n\u001b[1;32m----> 8\u001b[1;33m \u001b[1;32mfor\u001b[0m \u001b[0mc\u001b[0m \u001b[1;32min\u001b[0m \u001b[1;36m20\u001b[0m\u001b[1;33m:\u001b[0m \u001b[1;31m#hata verecek\u001b[0m\u001b[1;33m\u001b[0m\u001b[1;33m\u001b[0m\u001b[0m\n\u001b[0m\u001b[0;32m      9\u001b[0m     \u001b[0mprint\u001b[0m\u001b[1;33m(\u001b[0m\u001b[0mc\u001b[0m\u001b[1;33m)\u001b[0m\u001b[1;33m\u001b[0m\u001b[1;33m\u001b[0m\u001b[0m\n",
      "\u001b[1;31mTypeError\u001b[0m: 'int' object is not iterable"
     ]
    }
   ],
   "source": [
    "list = [14,23,429, 32]\n",
    "for x in list: \n",
    "    print(x)\n",
    "for a in \"erkam\":\n",
    "    print(a)\n",
    "for b in range(3):\n",
    "    print(b*3)\n",
    "for c in 20: #hata verecek\n",
    "    print(c)"
   ]
  },
  {
   "cell_type": "markdown",
   "metadata": {},
   "source": [
    "range fonksiyonu iki sayı arasındaki tüm sayıları geri döndüren bir methoddur. range fonksiyonu tür olarak list döndürmez, range döndürür. range methodunda 3.parametre olarak girilen değer atlama sayısını belirtir.(atlama değerini belirteceksek ilk iki parametreyi de belirtmek zorundayız. İlk parametreyi belirtmezsek olmaz) Atlama sayısı negatif de olabilir.(ilk parametre ikinci parametreden büyük olmak zorunda)"
   ]
  },
  {
   "cell_type": "code",
   "execution_count": 10,
   "metadata": {},
   "outputs": [
    {
     "name": "stdout",
     "output_type": "stream",
     "text": [
      "range(0, 10, 2)\n",
      "0 2 4 6 8\n"
     ]
    }
   ],
   "source": [
    "range1 = range(10, 2) # 2'şerli atlamasını istediğimiz için 2 ekledik ancak ilk parametreyi eklemediğimiz için doğru çalışmayacaktır\n",
    "range2 = range(0, 10, 2) #doğru çalışacaktır. \n",
    "print(range2)\n",
    "print(*range2)# range türünü list türü gibi kullanabiliriz."
   ]
  },
  {
   "cell_type": "markdown",
   "metadata": {},
   "source": [
    "looplarda break ve continue keyword'leri çok kullanışlıdır. Bir döngüde belli bir koşul doğru olduğunda döngünün çalışmasını durdurmak istiyorsak break, bu koşulun olduğu durumu atlayıp döngünün bir sonraki adımına geçmek istiyorsak continue keywordunu kullanabiliriz. break ifadesi döngüler dışında kullanılamaz.(hata verir) Sadece döngünün içinde kullanılabilir."
   ]
  },
  {
   "cell_type": "code",
   "execution_count": 14,
   "metadata": {},
   "outputs": [
    {
     "name": "stdout",
     "output_type": "stream",
     "text": [
      "1 2 3 4 5 6 7 8 9 10 11 12 14 15 16 "
     ]
    }
   ],
   "source": [
    "for x in range(20):\n",
    "    if x % 13 == 0:\n",
    "        continue # 13 atlanacak.\n",
    "    if x % 17 == 0:\n",
    "        break # 17 de döngü duracak.\n",
    "    print(x, end = \" \")"
   ]
  },
  {
   "cell_type": "markdown",
   "metadata": {},
   "source": [
    "pass keywordu da döngülerde kullanılabilir. pass keywordu aslında hiçbir şey yapmaz. Tek kullanımı if, class, def gibi tanımlandıktan sonra boş kalamayan durumlarda hata alınmaması için kullanılabilir. Bu da eğer programı yazarken daha sonra buralara geri dönmeyi planlıyorsak ancak silmek istemiyorsak işe yarayabilir.(faydasız gibi görünse de program yazarken işe yarar)"
   ]
  },
  {
   "cell_type": "markdown",
   "metadata": {},
   "source": [
    "Döngülerde de conditionallarda olduğu gibi else ifadesi kullanılabilir ancak bu else ifadesi pek bir işe yaramaz."
   ]
  },
  {
   "cell_type": "markdown",
   "metadata": {},
   "source": [
    "if conditionları for döngüleriyle birlikte daha kısa bir şekilde list yapımında da kullanılır. if conditionlarında not ifadesini şu şekilde kullanabiliriz. "
   ]
  },
  {
   "cell_type": "code",
   "execution_count": 15,
   "metadata": {},
   "outputs": [
    {
     "name": "stdout",
     "output_type": "stream",
     "text": [
      "1\n",
      "2\n",
      "3\n",
      "4\n",
      "5\n",
      "6\n",
      "8\n",
      "9\n"
     ]
    }
   ],
   "source": [
    "for x in range(10):\n",
    "    if not x % 7 == 0:\n",
    "        print(x)"
   ]
  }
 ],
 "metadata": {
  "kernelspec": {
   "display_name": "Python 3",
   "language": "python",
   "name": "python3"
  },
  "language_info": {
   "codemirror_mode": {
    "name": "ipython",
    "version": 3
   },
   "file_extension": ".py",
   "mimetype": "text/x-python",
   "name": "python",
   "nbconvert_exporter": "python",
   "pygments_lexer": "ipython3",
   "version": "3.8.5"
  }
 },
 "nbformat": 4,
 "nbformat_minor": 4
}
