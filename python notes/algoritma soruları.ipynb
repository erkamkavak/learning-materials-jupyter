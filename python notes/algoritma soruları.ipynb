{
 "cells": [
  {
   "cell_type": "code",
   "execution_count": 2,
   "metadata": {},
   "outputs": [
    {
     "name": "stdout",
     "output_type": "stream",
     "text": [
      "['__doc__', '__loader__', '__name__', '__package__', '__spec__', '_grouper', '_tee', '_tee_dataobject', 'accumulate', 'chain', 'combinations', 'combinations_with_replacement', 'compress', 'count', 'cycle', 'dropwhile', 'filterfalse', 'groupby', 'islice', 'permutations', 'product', 'repeat', 'starmap', 'takewhile', 'tee', 'zip_longest']\n"
     ]
    }
   ],
   "source": [
    "import itertools \n",
    "print(dir(itertools))"
   ]
  },
  {
   "cell_type": "code",
   "execution_count": 19,
   "metadata": {},
   "outputs": [
    {
     "name": "stdout",
     "output_type": "stream",
     "text": [
      "zzzyyaaa\n",
      "a 3\n",
      "z 3\n",
      "y 2\n"
     ]
    }
   ],
   "source": [
    "import itertools\n",
    "s = sorted(input())\n",
    "occurences = sorted([ [group, len(list(items)) ] for group,items in itertools.groupby(s)], key = lambda x: x[1], reverse = True)[:3]\n",
    "\n",
    "print(*[\" \".join( [ z[0], str(z[1]) ] ) for z in occurences], sep = \"\\n\" )"
   ]
  },
  {
   "cell_type": "code",
   "execution_count": 21,
   "metadata": {},
   "outputs": [
    {
     "name": "stdout",
     "output_type": "stream",
     "text": [
      "['ChainMap', 'Counter', 'OrderedDict', 'UserDict', 'UserList', 'UserString', '_Link', '_OrderedDictItemsView', '_OrderedDictKeysView', '_OrderedDictValuesView', '__all__', '__builtins__', '__cached__', '__doc__', '__file__', '__getattr__', '__loader__', '__name__', '__package__', '__path__', '__spec__', '_chain', '_collections_abc', '_count_elements', '_eq', '_heapq', '_iskeyword', '_itemgetter', '_proxy', '_recursive_repr', '_repeat', '_starmap', '_sys', '_tuplegetter', 'abc', 'defaultdict', 'deque', 'namedtuple']\n"
     ]
    }
   ],
   "source": [
    "import collections \n",
    "print(dir(collections))"
   ]
  },
  {
   "cell_type": "code",
   "execution_count": null,
   "metadata": {},
   "outputs": [],
   "source": [
    "import itertools\n",
    "return_t = [(list(items), int(group)) for group, items in itertools.groupby(input())]\n",
    "print(*return_t)\n",
    "itertools.groupby methodu stringi karakterlerine ayırır ve ardışık aynı olan karakterleri sahip tek karakter haline getirir.\n",
    "Bu method geriye karakteri ve tekrar ettiği listi geri döndürür.\n",
    "Bu karakterin ne kadar tekrar ettiğine geri dönen listin uzunluğunu alarak bulabiliriz.\n",
    "groupby methodu aslında başka şekillerde de stringleri veya listleri gruplayabilir. Bu yöntemin ikinci parametresine grupları\n",
    "filtreleme yöntemimizi key ile belirtebiliriz.\n",
    "lst = [1,2,3,4,5,6,7,8]\n",
    "print(*[[group, list(items)] for group, items in itertools.groupby(lst, key = lambda x: x <3)]) #burda group olarak True ve False'ı alır.\n",
    "\n",
    "print(*itertools.combinations([1, 2, 3, 4], 2))\n",
    "\n",
    "letters = input().split()\n",
    "situations = list(itertools.combinations(letters, int(input())))\n",
    "length = len(situations)\n",
    "pos = len([z for z in situations if 'a' in z])\n",
    "print(pos/length)\n"
   ]
  },
  {
   "cell_type": "code",
   "execution_count": 22,
   "metadata": {},
   "outputs": [
    {
     "ename": "NameError",
     "evalue": "name 'numbers' is not defined",
     "output_type": "error",
     "traceback": [
      "\u001b[1;31m---------------------------------------------------------------------------\u001b[0m",
      "\u001b[1;31mNameError\u001b[0m                                 Traceback (most recent call last)",
      "\u001b[1;32m<ipython-input-22-89cf8996061b>\u001b[0m in \u001b[0;36m<module>\u001b[1;34m\u001b[0m\n\u001b[1;32m----> 1\u001b[1;33m \u001b[0mprint\u001b[0m\u001b[1;33m(\u001b[0m\u001b[0msum\u001b[0m\u001b[1;33m(\u001b[0m\u001b[1;33m[\u001b[0m \u001b[1;33m(\u001b[0m\u001b[0mz\u001b[0m \u001b[1;32min\u001b[0m \u001b[0ma\u001b[0m\u001b[1;33m)\u001b[0m \u001b[1;33m-\u001b[0m \u001b[1;33m(\u001b[0m\u001b[0mz\u001b[0m \u001b[1;32min\u001b[0m \u001b[0mb\u001b[0m\u001b[1;33m)\u001b[0m \u001b[1;32mfor\u001b[0m \u001b[0mz\u001b[0m \u001b[1;32min\u001b[0m \u001b[0mnumbers\u001b[0m\u001b[1;33m]\u001b[0m\u001b[1;33m)\u001b[0m\u001b[1;33m)\u001b[0m\u001b[1;33m\u001b[0m\u001b[1;33m\u001b[0m\u001b[0m\n\u001b[0m",
      "\u001b[1;31mNameError\u001b[0m: name 'numbers' is not defined"
     ]
    }
   ],
   "source": [
    "print(sum([ (z in a) - (z in b) for z in numbers]))"
   ]
  },
  {
   "cell_type": "code",
   "execution_count": 23,
   "metadata": {},
   "outputs": [],
   "source": [
    "# import re\n",
    "# str = \"110000\"\n",
    "# print(re.findall(r\"0(?=\\d0)|1(?=\\d1)|2(?=\\d2)|3(?=\\d3)|4(?=\\d4)|5(?=\\d5)|6(?=\\d6)|7(?=\\d7)|8(?=\\d8)|9(?=\\d9)\", str))\n",
    "# print(re.findall(r\"(\\d)(?=.\\1)\", str))\n"
   ]
  },
  {
   "cell_type": "code",
   "execution_count": null,
   "metadata": {},
   "outputs": [
    {
     "name": "stdout",
     "output_type": "stream",
     "text": [
      "2\n",
      "6\n",
      "2 3 4 3 3 1\n",
      "No\n"
     ]
    }
   ],
   "source": [
    "inp_range = int(input())\n",
    "for x in range(inp_range):\n",
    "    inp_len = input()\n",
    "    cube = [int(z) for z in input().split()]\n",
    "    leng = len(cube)\n",
    "    pass_s = True\n",
    "    for z in range(leng//2):\n",
    "        if z == 0: \n",
    "            pass\n",
    "        elif cube[z] >= cube[leng - z]:\n",
    "            pass_s = False\n",
    "            break\n",
    "        if cube[z] >= cube[leng - z - 1]:\n",
    "            continue\n",
    "        else:\n",
    "            pass_s = False           \n",
    "            break\n",
    "    print(\"Yes\") if pass_s else print(\"No\")"
   ]
  }
 ],
 "metadata": {
  "kernelspec": {
   "display_name": "Python 3",
   "language": "python",
   "name": "python3"
  },
  "language_info": {
   "codemirror_mode": {
    "name": "ipython",
    "version": 3
   },
   "file_extension": ".py",
   "mimetype": "text/x-python",
   "name": "python",
   "nbconvert_exporter": "python",
   "pygments_lexer": "ipython3",
   "version": "3.9.1"
  }
 },
 "nbformat": 4,
 "nbformat_minor": 4
}
