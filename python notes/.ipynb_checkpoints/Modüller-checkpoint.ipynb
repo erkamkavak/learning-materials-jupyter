{
 "cells": [
  {
   "cell_type": "markdown",
   "metadata": {},
   "source": [
    "Modüller başkaları tarafından yazılmış ve faydalı olan fonksiyonları tekrar yazmamıza gerek kalmadan bizim de kullanmamızı sağlayan sistemdir. Bir modülün özelliklerinden faydalanmak istiyorsak bu modülü import keywordu ile import etmeliyiz. "
   ]
  },
  {
   "cell_type": "code",
   "execution_count": null,
   "metadata": {},
   "outputs": [],
   "source": []
  },
  {
   "cell_type": "code",
   "execution_count": null,
   "metadata": {},
   "outputs": [],
   "source": []
  }
 ],
 "metadata": {
  "kernelspec": {
   "display_name": "Python 3",
   "language": "python",
   "name": "python3"
  },
  "language_info": {
   "codemirror_mode": {
    "name": "ipython",
    "version": 3
   },
   "file_extension": ".py",
   "mimetype": "text/x-python",
   "name": "python",
   "nbconvert_exporter": "python",
   "pygments_lexer": "ipython3",
   "version": "3.8.5"
  }
 },
 "nbformat": 4,
 "nbformat_minor": 4
}
