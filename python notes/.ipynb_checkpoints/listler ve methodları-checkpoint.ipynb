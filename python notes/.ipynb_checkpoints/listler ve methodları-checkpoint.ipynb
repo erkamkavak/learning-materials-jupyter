{
 "cells": [
  {
   "cell_type": "markdown",
   "metadata": {},
   "source": [
    "Pythonda range methodu iki sayı arasındaki değerlerin hepsi ile bir list oluşturur. Sayılardan ilkinden başlayıp ikinci sayıya kadar tüm sayıları listin içine koyar(ikinci sayıyı koymaz). range methodunda ikinci parametre olmazsa 0'dan ilk parametreye kadarki tüm sayıları alır. Ayrıca üçüncü bir parametre olarak sayılar arasında olmasını istediğimiz aralığı koyabiliriz.(default olarak 1'dir).\n",
    "Ancak bu range methodu ile bir list oluşturduğumuzda bu listi direk yazdırırsak sayılara ulaşamayız. Bunun yerine sayıların hepsine tek tek ulaşıp yazdırmalıyız."
   ]
  },
  {
   "cell_type": "code",
   "execution_count": 18,
   "metadata": {},
   "outputs": [
    {
     "name": "stdout",
     "output_type": "stream",
     "text": [
      "0\n",
      "1\n",
      "2\n",
      "3\n",
      "4\n",
      "5\n",
      "range(0, 10)\n",
      "0\n",
      "1\n",
      "2\n",
      "3\n",
      "4\n",
      "5\n",
      "6\n",
      "7\n",
      "8\n",
      "9\n",
      "range(0, 15, 3)\n",
      "0\n",
      "3\n",
      "6\n",
      "9\n",
      "12\n"
     ]
    }
   ],
   "source": [
    "list1 = range(6)\n",
    "for x in list1:\n",
    "    print(x)\n",
    "\n",
    "list2 = range(0,10)\n",
    "print(list2)\n",
    "for x in list2:\n",
    "    print(x)\n",
    "\n",
    "list3 = range(0, 15, 3)\n",
    "print(list3)\n",
    "for x in list3:\n",
    "    print(x)"
   ]
  },
  {
   "cell_type": "markdown",
   "metadata": {},
   "source": [
    "Pythonda * işareti Javascriptte ... işaretinin yaptığı işi yapar.(list'in tüm elementlerini yayarak tek tek kullanılabilmelerini sağlar.) * işareti listten önce kullanılır.     * işaretinin ... işaretinden daha kullanışlı olduğu noktalar da vardır. "
   ]
  },
  {
   "cell_type": "code",
   "execution_count": 8,
   "metadata": {},
   "outputs": [
    {
     "name": "stdout",
     "output_type": "stream",
     "text": [
      "[1, 2, 3, 4, 5]\n",
      "1 2 3 4 5\n",
      "0 1 2 3 4 5 6 7 8 9\n"
     ]
    }
   ],
   "source": [
    "print([1,2,3,4,5])\n",
    "print(*[1,2,3,4,5])\n",
    "\n",
    "list1 = range(0,10)\n",
    "print(*list1)\n",
    "#Burda oluşan listin elemanlarına * işareti ile direk ulaşabiliriz. Yani aslında * işareti listi print fonksiyonuna yayıyor. "
   ]
  },
  {
   "cell_type": "markdown",
   "metadata": {},
   "source": [
    "Yukarıdakine benzer şekilde iki karakterli bir listi range methodunun içine direk koymak yerine * işareti ile koyarsak listin elemanlarının range methodu içine yayılmasını sağlar. "
   ]
  },
  {
   "cell_type": "code",
   "execution_count": 19,
   "metadata": {},
   "outputs": [
    {
     "name": "stdout",
     "output_type": "stream",
     "text": [
      "1\n",
      "1 2 3 4 5 6 7 8 9\n",
      "7 8 9 10 11 12\n"
     ]
    }
   ],
   "source": [
    "lists = [[1,2], [1,10], [7, 13]]\n",
    "for x in lists:\n",
    "    print(*range(*x))\n",
    "#Burda her elemanı ilk önce range methodu içinde yaydık. Daha sonra range'in verdiği outputları print içinde yaydık."
   ]
  },
  {
   "cell_type": "markdown",
   "metadata": {},
   "source": [
    "List methodu liste dönüştürülebilecek bir türü list haline döndürmeye yarar. list methodu string'i list'e döndürürken her karakteri ayrı bir list elemanı olarak alır.(boşluğu bile) Bu method aynı şekilde range ile oluşan ancak list olarak gözükmeyen sayı dizisinin list haline gelmesini de sağlar."
   ]
  },
  {
   "cell_type": "code",
   "execution_count": 25,
   "metadata": {},
   "outputs": [
    {
     "name": "stdout",
     "output_type": "stream",
     "text": [
      "['a', 'b', 'c', 'd', 'e', 'f', 'g', 'h', 'ı', 'i', 'j', 'k', 'l', 'm', '.', '.', ' ']\n",
      "range(0, 10)\n",
      "<class 'range'>\n",
      "[0, 1, 2, 3, 4, 5, 6, 7, 8, 9]\n",
      "<class 'list'>\n"
     ]
    }
   ],
   "source": [
    "print(list(\"abcdefghıijklm.. \"))\n",
    "\n",
    "print(range(0,10))\n",
    "print(type(range(0,10)))\n",
    "\n",
    "print(list(range(0,10)))\n",
    "print(type(list(range(0, 10))))"
   ]
  },
  {
   "cell_type": "markdown",
   "metadata": {},
   "source": [
    " Aslında list methodunun yaptığı şey içindeki değeri bir for in döngüsüne alıp her bir elemanını bir liste eklemektir. Yani çalışma prensibi for in döngüsünün çalışma prensibi ile aynıdır. for in döngüsü sayılar üzerinde çalışmadığından list methodu da sayılar üzerinde çalışmaz. "
   ]
  },
  {
   "cell_type": "code",
   "execution_count": 32,
   "metadata": {},
   "outputs": [
    {
     "ename": "TypeError",
     "evalue": "'int' object is not iterable",
     "output_type": "error",
     "traceback": [
      "\u001b[1;31m---------------------------------------------------------------------------\u001b[0m",
      "\u001b[1;31mTypeError\u001b[0m                                 Traceback (most recent call last)",
      "\u001b[1;32m<ipython-input-32-bab557a07a58>\u001b[0m in \u001b[0;36m<module>\u001b[1;34m\u001b[0m\n\u001b[1;32m----> 1\u001b[1;33m \u001b[0mlist\u001b[0m\u001b[1;33m(\u001b[0m\u001b[1;36m12345\u001b[0m\u001b[1;33m)\u001b[0m\u001b[1;33m\u001b[0m\u001b[1;33m\u001b[0m\u001b[0m\n\u001b[0m",
      "\u001b[1;31mTypeError\u001b[0m: 'int' object is not iterable"
     ]
    }
   ],
   "source": [
    "list(12345)"
   ]
  },
  {
   "cell_type": "markdown",
   "metadata": {},
   "source": [
    "Listlerden tanımlandıktan sonra değişebilen türlerdir. Bir listin bir elemanını veya birden fazla elemanını değiştirebiliriz. Listte var olmayan sıradaki eleman değiştirilemez."
   ]
  },
  {
   "cell_type": "code",
   "execution_count": 27,
   "metadata": {},
   "outputs": [
    {
     "name": "stdout",
     "output_type": "stream",
     "text": [
      "['karpuz', 'armut', 'erik', 'nar', ' ']\n",
      "['portakal', 'şeftali', 'meyve değil', 'domates', ' ']\n"
     ]
    }
   ],
   "source": [
    "meyveler = [\"elma\", \"armut\", \"erik\", \"nar\", \" \"]\n",
    "\n",
    "meyveler[0] = \"karpuz\" #Bu şekilde 0.elemanı karpuz olarak değiştirebiliriz.\n",
    "print(meyveler)\n",
    "meyveler[0 : 4] = \"portakal\", \"şeftali\", \"meyve değil\" , \"domates\" #0 ve 4 arasındaki elemanlı değiştirdik.\n",
    "print(meyveler)\n",
    "#listin tüm elemanlarını değiştirmek istiyorsak meyveler[:] şeklinde yazabiliriz. Bu ifade tüm elemanlara ulaşacaktır.  \n",
    "#meyveler[5] = \"ananas\"  #Bu işlem hata verecektir. Çünkü listte 5.eleman yoktur."
   ]
  },
  {
   "cell_type": "markdown",
   "metadata": {},
   "source": [
    "Listlere öge ekleme işlemini list + [eklenecek ögeler] şeklinde yapabiliriz. Eğer [] parantezleri arasına almazsak hata verecektir. İki tane birbirine ekleme işlemini de direk + işaretiyle yapabiliriz."
   ]
  },
  {
   "cell_type": "code",
   "execution_count": 31,
   "metadata": {},
   "outputs": [
    {
     "name": "stdout",
     "output_type": "stream",
     "text": [
      "[1, 2, 3, 4, 5, 8]\n",
      "[1, 2, 3, 4, 5, 8, 10, 12, 14, 15]\n"
     ]
    }
   ],
   "source": [
    "liste = [1,2,3,4,5]\n",
    "liste = liste + [8] #Bir şeye eşitlemeliyiz.\n",
    "print(liste)\n",
    "\n",
    "liste2 = [10,12,14, 15]\n",
    "print(liste + liste2)\n"
   ]
  },
  {
   "cell_type": "markdown",
   "metadata": {},
   "source": [
    "Bir listeden herhangi bir indexdeki elementi silmek istiyorsak del özelliğini kullanabiliriz. del özelliği direk bir listenin silinmesini de sağlar. "
   ]
  },
  {
   "cell_type": "code",
   "execution_count": 37,
   "metadata": {},
   "outputs": [
    {
     "name": "stdout",
     "output_type": "stream",
     "text": [
      "[1, 2, 3, 5]\n"
     ]
    },
    {
     "ename": "NameError",
     "evalue": "name 'liste' is not defined",
     "output_type": "error",
     "traceback": [
      "\u001b[1;31m---------------------------------------------------------------------------\u001b[0m",
      "\u001b[1;31mNameError\u001b[0m                                 Traceback (most recent call last)",
      "\u001b[1;32m<ipython-input-37-177f053424ce>\u001b[0m in \u001b[0;36m<module>\u001b[1;34m\u001b[0m\n\u001b[0;32m      4\u001b[0m \u001b[1;33m\u001b[0m\u001b[0m\n\u001b[0;32m      5\u001b[0m \u001b[1;32mdel\u001b[0m \u001b[0mliste\u001b[0m\u001b[1;33m\u001b[0m\u001b[1;33m\u001b[0m\u001b[0m\n\u001b[1;32m----> 6\u001b[1;33m \u001b[0mprint\u001b[0m\u001b[1;33m(\u001b[0m\u001b[0mliste\u001b[0m\u001b[1;33m)\u001b[0m\u001b[1;33m\u001b[0m\u001b[1;33m\u001b[0m\u001b[0m\n\u001b[0m",
      "\u001b[1;31mNameError\u001b[0m: name 'liste' is not defined"
     ]
    }
   ],
   "source": [
    "liste = [1,2,3,4,5]\n",
    "del liste[3] #Bir şeye eşitlemeye gerek yoktur.\n",
    "print(liste)\n",
    "\n",
    "del liste \n",
    "print(liste)"
   ]
  },
  {
   "cell_type": "markdown",
   "metadata": {},
   "source": [
    "Pythonda bir listenin kopyasını oluşturmak için birden fazla seçenek vardır. Bunlar copy methodu, list methodu ve [:] işlemidir. Bunların hepsi direk list'in kopyasını alır ve o kopyadaki değişiklikler ilk listi etkilemez."
   ]
  },
  {
   "cell_type": "code",
   "execution_count": 39,
   "metadata": {},
   "outputs": [
    {
     "name": "stdout",
     "output_type": "stream",
     "text": [
      "[1, 3, 45, 6]\n"
     ]
    }
   ],
   "source": [
    "list1 = [1,3,45,6]\n",
    "\n",
    "list2 = list1.copy()\n",
    "list2[1] = 35\n",
    "\n",
    "list3 = list(list1)\n",
    "list3[1] = 43\n",
    "\n",
    "list4 = list1[:]\n",
    "list4[1] = 104\n",
    "\n",
    "print(list1)"
   ]
  },
  {
   "cell_type": "markdown",
   "metadata": {},
   "source": [
    "List comprehensions(list üreteçleri) özel bir listin kolay bir şekilde üretilmesini sağlayan ifadelerdir.  "
   ]
  },
  {
   "cell_type": "code",
   "execution_count": 4,
   "metadata": {},
   "outputs": [
    {
     "name": "stdout",
     "output_type": "stream",
     "text": [
      "[0, 1, 2, 3, 4, 5, 6, 7, 8, 9, 10, 11, 12, 13, 14, 15, 16, 17, 18, 19, 20, 21, 22, 23, 24, 25, 26, 27, 28, 29, 30, 31, 32, 33, 34, 35, 36, 37, 38, 39, 40, 41, 42, 43, 44, 45, 46, 47, 48, 49, 50, 51, 52, 53, 54, 55, 56, 57, 58, 59, 60, 61, 62, 63, 64, 65, 66, 67, 68, 69, 70, 71, 72, 73, 74, 75, 76, 77, 78, 79, 80, 81, 82, 83, 84, 85, 86, 87, 88, 89, 90, 91, 92, 93, 94, 95, 96, 97, 98, 99]\n"
     ]
    }
   ],
   "source": [
    "liste = [i for i in range(100)]\n",
    "print(liste)\n",
    "#Bu ifade ile 100'e kadarki sayıların hepsini listeye ekledik. Burda baştaki en baştaki şey listeye her seferinde eklenecek olan şeydir. \n",
    "#En başa i yazarak for in içindeki i'lerin hepsinin listeye eklenmesini sağlıyoruz. "
   ]
  },
  {
   "cell_type": "markdown",
   "metadata": {},
   "source": [
    "List üreteçlerinde belli bir koşula uyma durumunu da belirterek bir list oluşturabiliriz.  "
   ]
  },
  {
   "cell_type": "code",
   "execution_count": 3,
   "metadata": {},
   "outputs": [
    {
     "name": "stdout",
     "output_type": "stream",
     "text": [
      "[0, 2, 4, 6, 8, 10, 12, 14, 16, 18, 20, 22, 24, 26, 28, 30, 32, 34, 36, 38, 40, 42, 44, 46, 48, 50, 52, 54, 56, 58, 60, 62, 64, 66, 68, 70, 72, 74, 76, 78, 80, 82, 84, 86, 88, 90, 92, 94, 96, 98]\n"
     ]
    }
   ],
   "source": [
    "liste = [i for i in range(100) if i % 2 == 0] #List üreteçleri bunların hepsini tek satırda yapmamızı sağlıyor. \n",
    "print(liste)"
   ]
  },
  {
   "cell_type": "markdown",
   "metadata": {},
   "source": [
    "List üreteçlerinin işe yaradığı bir başka durum: (Multi-dimensional arrayi one-dimensional haline getirmek) "
   ]
  },
  {
   "cell_type": "code",
   "execution_count": 1,
   "metadata": {},
   "outputs": [
    {
     "name": "stdout",
     "output_type": "stream",
     "text": [
      "[1, 2, 3, 4, 5, 6, 7, 8, 9, 10, 11, 12]\n"
     ]
    }
   ],
   "source": [
    "liste = [[1, 2, 3],\n",
    "         [4, 5, 6],\n",
    "         [7, 8, 9],\n",
    "         [10, 11, 12]]\n",
    "tüm = [z for i in liste for z in i]\n",
    "print(tüm)\n",
    "#Burda ilk önce liste içindeki her bir listi i olarak belirledik. Daha sonra i içindeki her bir elemanı da z olarak belirledik.\n",
    "#Daha sonra tüm z'leri tüm listesine ekledik."
   ]
  },
  {
   "cell_type": "markdown",
   "metadata": {},
   "source": [
    "List üreteçlerinin işe yaradığı bir başka durum: (Bir listin başka bir list'in elemanları içinde olup olmadığını test etme)"
   ]
  },
  {
   "cell_type": "code",
   "execution_count": 6,
   "metadata": {},
   "outputs": [
    {
     "name": "stdout",
     "output_type": "stream",
     "text": [
      "[1, 2, 3]\n"
     ]
    }
   ],
   "source": [
    "list1 = [[1,2,3], [4,5,6]]\n",
    "list2 = [1, 27, 88, 98, 50, 9, 28, 45, 54, 66, 61, 23, 10, 33,\n",
    "          22, 12, 6, 99, 63, 26, 87, 25, 77, 5, 16, 93, 99, 44,\n",
    "          59, 69, 34, 10, 60, 92, 61, 44, 5, 3, 23, 99, 79, 51, 2]\n",
    "for x in list1: \n",
    "    ortak = [z for z in x if z in list2] #Burda list1'deki listlerin her birini(x) alıp elemanlarından list2'de olanları ortak list'ine ekliyoruz.\n",
    "    if len(ortak) == len(x): #Eğer ortak listin x listiyle aynı ise x'in tüm elemanlarını list2'de var demektir.\n",
    "        print(ortak)"
   ]
  },
  {
   "cell_type": "markdown",
   "metadata": {},
   "source": [
    "Demetler(tuple) listler gibi olan ancak bazı farklılıkları olan türlerdir. Demetler () parantezleri ile veya direk tanımlanırlar. Demetler de listler gibi herhangi bir türü içinde barındırabilirler. tuple methodu tıpkı list methodu gibi başka türleri tuple haline getirir."
   ]
  },
  {
   "cell_type": "code",
   "execution_count": 9,
   "metadata": {},
   "outputs": [
    {
     "name": "stdout",
     "output_type": "stream",
     "text": [
      "<class 'tuple'>\n",
      "('1', '2', '3', '4', '5', '6', '7', '8')\n",
      "('ahmet', 'erkam', 'string', 10)\n",
      "[1, 2, 3, 'erkam']\n"
     ]
    }
   ],
   "source": [
    "tuple1 = (1,2,10, \"erkam\", \"kavak\")\n",
    "print(type(tuple1))\n",
    "\n",
    "print(tuple(\"12345678\"))\n",
    "\n",
    "print(tuple([\"ahmet\", \"erkam\", \"string\" , 10])) #listler de tuple'a dönüşebilir.\n",
    "\n",
    "print(list((1,2,3,\"erkam\"))) #tuple'lar da aynı şekilde list'e dönüşebilir."
   ]
  },
  {
   "cell_type": "markdown",
   "metadata": {},
   "source": [
    "Eğer tuple tek elemanlı ise tanımlarken elemanın yanına virgül koymak gerekir. Yoksa python bu tanımı tuple olarak değil string olarak görür ve istediğimiz gibi çalışmaz. "
   ]
  },
  {
   "cell_type": "code",
   "execution_count": 11,
   "metadata": {},
   "outputs": [
    {
     "name": "stdout",
     "output_type": "stream",
     "text": [
      "<class 'str'>\n",
      "<class 'tuple'>\n"
     ]
    }
   ],
   "source": [
    "tuple1 = (\"erkam\") #Bu tanımla tuple1 = \"erkam\" tanımı aynı olduğu için bunu python bir string olarak görür.\n",
    "print(type(tuple1))\n",
    "\n",
    "tuple2 = (\"erkam\", ) \n",
    "print(type(tuple2))"
   ]
  },
  {
   "cell_type": "markdown",
   "metadata": {},
   "source": [
    "Demetlerin ve listlerin ögelerine erişmek stringlerin ögelerine erişmekle aynı mantıktadır. "
   ]
  },
  {
   "cell_type": "code",
   "execution_count": 13,
   "metadata": {},
   "outputs": [
    {
     "name": "stdout",
     "output_type": "stream",
     "text": [
      "elma kiraz ('elma', 'armut')\n"
     ]
    }
   ],
   "source": [
    "demet = ('elma', 'armut', 'kiraz')\n",
    "print(demet[0], demet[-1], demet[0:2])"
   ]
  },
  {
   "cell_type": "markdown",
   "metadata": {},
   "source": [
    "Tuple'ların listlerden en önemli farkı tuple'lar tanımlandıktan sonra tekrar değiştirilemezler. Eğer bir programda değiştirilmesini istemediğiniz bir şey varsa bunu tuple ile belirtebilirsiniz. Ayrıca tuplelar listlerden daha hızlı çalışırlar."
   ]
  },
  {
   "cell_type": "code",
   "execution_count": 15,
   "metadata": {},
   "outputs": [
    {
     "ename": "TypeError",
     "evalue": "'tuple' object does not support item assignment",
     "output_type": "error",
     "traceback": [
      "\u001b[1;31m---------------------------------------------------------------------------\u001b[0m",
      "\u001b[1;31mTypeError\u001b[0m                                 Traceback (most recent call last)",
      "\u001b[1;32m<ipython-input-15-95b470b5ce42>\u001b[0m in \u001b[0;36m<module>\u001b[1;34m\u001b[0m\n\u001b[0;32m      1\u001b[0m \u001b[0mdemet\u001b[0m \u001b[1;33m=\u001b[0m \u001b[1;33m(\u001b[0m\u001b[1;36m1\u001b[0m\u001b[1;33m,\u001b[0m\u001b[1;36m2\u001b[0m\u001b[1;33m,\u001b[0m\u001b[1;36m3\u001b[0m\u001b[1;33m,\u001b[0m \u001b[1;34m\"erkam\"\u001b[0m\u001b[1;33m)\u001b[0m\u001b[1;33m\u001b[0m\u001b[1;33m\u001b[0m\u001b[0m\n\u001b[1;32m----> 2\u001b[1;33m \u001b[0mdemet\u001b[0m\u001b[1;33m[\u001b[0m\u001b[1;36m1\u001b[0m\u001b[1;33m]\u001b[0m \u001b[1;33m=\u001b[0m \u001b[1;36m6\u001b[0m\u001b[1;33m\u001b[0m\u001b[1;33m\u001b[0m\u001b[0m\n\u001b[0m",
      "\u001b[1;31mTypeError\u001b[0m: 'tuple' object does not support item assignment"
     ]
    }
   ],
   "source": [
    "demet = (1,2,3, \"erkam\")\n",
    "demet[1] = 6"
   ]
  },
  {
   "cell_type": "markdown",
   "metadata": {},
   "source": [
    "Tuplelar değiştirilemezler ancak üzerlerinde oynama yapılarak yeni bir tuple'a eşitlenebilirler(tıpkı stringlerdeki gibi). Yani mesela bir tuple'a yeni bir karakter ekleyip onu yeni bir tuple'a eşitleyebiliriz(ya da aynı tuple'a da eşitleyebiliriz). Tuplelara yeni karakterler eklerken eklediğimiz karakterlerin de tuple şeklinde olması gerektiğini unutmamalıyız. Ayrıca eğer tek bir karakter ekliyeceksek virgülü unutmamalıyız."
   ]
  },
  {
   "cell_type": "code",
   "execution_count": 17,
   "metadata": {},
   "outputs": [
    {
     "name": "stdout",
     "output_type": "stream",
     "text": [
      "(1, 2, 3, 'erkam', 'ahmet')\n"
     ]
    }
   ],
   "source": [
    "demet = (1,2,3, \"erkam\")\n",
    "demet = demet + (\"ahmet\", ) # () parantezleri arasında ve ilk ögeden sonra , var.\n",
    "print(demet)"
   ]
  },
  {
   "cell_type": "markdown",
   "metadata": {},
   "source": [
    "Demetlerin listlerden farklarından bir başkası da demetler sözlüklerde(dictionary) key(anahtar) olarak kullanılabilirken listler kullanılamaz."
   ]
  },
  {
   "cell_type": "markdown",
   "metadata": {},
   "source": [
    "Listlerin methodlarına dir(list) şeklinde ulaşabiliriz. Burada başında ve sonunda __ işaretleri olmayanlar list methodlarıdır."
   ]
  },
  {
   "cell_type": "code",
   "execution_count": 21,
   "metadata": {},
   "outputs": [
    {
     "name": "stdout",
     "output_type": "stream",
     "text": [
      "['append', 'clear', 'copy', 'count', 'extend', 'index', 'insert', 'pop', 'remove', 'reverse', 'sort']\n"
     ]
    }
   ],
   "source": [
    "print([i for i in dir(list) if not \"_\" in i]) #List üreteçlerinin başka bir işe yarar kullanımı "
   ]
  },
  {
   "cell_type": "markdown",
   "metadata": {},
   "source": [
    "append(eklemek) methodu listin sonuna yeni bir element eklenmesini sağlar. append methodu list'e sadece bir element ekleyebilir. append methodu direk orijinal list üzerinde değişiklik yapar ve yeni bir liste eşitlemeye ihtiyaç duymaz. "
   ]
  },
  {
   "cell_type": "code",
   "execution_count": 24,
   "metadata": {},
   "outputs": [
    {
     "name": "stdout",
     "output_type": "stream",
     "text": [
      "['10', 20, 15, 'string', 320]\n"
     ]
    }
   ],
   "source": [
    "liste = [\"10\", 20, 15, \"string\"]\n",
    "liste.append(320)\n",
    "print(liste)"
   ]
  },
  {
   "cell_type": "markdown",
   "metadata": {},
   "source": [
    "extend(genişletmek) methodu birden fazla listi birbirine eklemeyi sağlayan methoddur. extend methodu parametre olarak tek bir değer alır ve bu değer eklenecek list olur. Yani extend methodu parametresine birden fazla değer girersek hata verecektir. extend methodu, parametre olarak girilen listi yayar ve sonra eklenmesi istenen liste ekler. append methodu gibi extend methodu da orijinal list üzerinde değişiklik yapar. Orijinal list üzerinde değişiklik yapan methodlarda yeni bir liste eşitlersek istediğimiz gibi çalışmayacaktır.(yani bir şey döndürmezler)"
   ]
  },
  {
   "cell_type": "code",
   "execution_count": 30,
   "metadata": {},
   "outputs": [
    {
     "name": "stdout",
     "output_type": "stream",
     "text": [
      "['Windows', 'GNU/Linux', 'Mac OS X', 'IPhone', 'Android', 'S60']\n"
     ]
    }
   ],
   "source": [
    "işletim_sistemleri = [\"Windows\", \"GNU/Linux\", \"Mac OS X\"]\n",
    "platformlar = [\"IPhone\", \"Android\", \"S60\"]\n",
    "işletim_sistemleri.extend(platformlar)\n",
    "print(işletim_sistemleri)"
   ]
  },
  {
   "cell_type": "markdown",
   "metadata": {},
   "source": [
    "insert(yerleştirmek) methodu append methodu gibi listlere yeni bir element ekler ancak bunu listin sonuna değil istediğimiz yere ekler. insert methodunun iki tane parametresi vardır. Bunlardan ilki eklenmesi eklenen index iken diğeri eklenmesi istenen değerdir.  "
   ]
  },
  {
   "cell_type": "code",
   "execution_count": 35,
   "metadata": {},
   "outputs": [
    {
     "name": "stdout",
     "output_type": "stream",
     "text": [
      "[1, 2, 3, 12340, 4, 5, 6]\n"
     ]
    }
   ],
   "source": [
    "liste = [1,2,3,4,5,6]\n",
    "liste.insert(3, 12340)\n",
    "print(liste)"
   ]
  },
  {
   "cell_type": "markdown",
   "metadata": {},
   "source": [
    "remove methodu listeden herhangi bir elementi silmemizi sağlar. remove parametrelerine silmek istediğimiz elementi yazarız ve bu element silinir. remove methodu da orijinal list üzerinde değişiklik yapar."
   ]
  },
  {
   "cell_type": "code",
   "execution_count": 37,
   "metadata": {},
   "outputs": [
    {
     "name": "stdout",
     "output_type": "stream",
     "text": [
      "['erkam', 'kavak', 'herhangi']\n"
     ]
    }
   ],
   "source": [
    "liste = [\"erkam\", \"kavak\", \"ahmet\", \"herhangi\"]\n",
    "liste.remove(\"ahmet\")\n",
    "print(liste)"
   ]
  },
  {
   "cell_type": "markdown",
   "metadata": {},
   "source": [
    "reverse methodu listeyi tersine çevirmeyi sağlar. Bu method list[:-1] ifadesinin yaptığı işi yapar. reverse methodu da orijinal list üzerinde değişiklik yapar.(reversed methodu orijinal list üzerinde değişiklik yapmaz. Kopya list üzerinde değişiklik yaptıktan sonra geriye döndürür)"
   ]
  },
  {
   "cell_type": "code",
   "execution_count": 39,
   "metadata": {},
   "outputs": [
    {
     "name": "stdout",
     "output_type": "stream",
     "text": [
      "['sarı', 'yeşil', 'kırmızı']\n"
     ]
    }
   ],
   "source": [
    "list = [\"kırmızı\", \"yeşil\", \"sarı\"]\n",
    "list.reverse()\n",
    "print(list)"
   ]
  },
  {
   "cell_type": "markdown",
   "metadata": {},
   "source": [
    "pop methodu remove methodu gibi listeden bir elementi siler. Ancak remove methodunda parametre olarak elementin adını yazmamız gerekirken pop methodunda elementin indexini yazmamız gerekir. pop methodunda parametre olarak silmek istediğimiz indexi yazarız. Eğer parametre girilmezse listin son elementini siler. pop methodu orijinal liste üzerinde değişiklik yapar ve sildiği elementi geri döndürür(eğer bir şeye eşitlersek sildiği elemente eşitlenir)."
   ]
  },
  {
   "cell_type": "code",
   "execution_count": 42,
   "metadata": {},
   "outputs": [
    {
     "name": "stdout",
     "output_type": "stream",
     "text": [
      "['armut', 'karpuz']\n",
      "sarı\n",
      "['kırmızı', 'yeşil']\n"
     ]
    }
   ],
   "source": [
    "liste1 = [\"elma\", \"armut\", \"karpuz\"]\n",
    "liste1.pop(0)\n",
    "print(liste1)\n",
    "\n",
    "liste2 = [\"kırmızı\", \"yeşil\", \"sarı\"]\n",
    "x = liste2.pop() #listenin son elemanını siler ve bu elemanı x'e eşitler.\n",
    "print(x)\n",
    "print(liste2)"
   ]
  },
  {
   "cell_type": "markdown",
   "metadata": {},
   "source": [
    "sort methodu listenin sıralanmasını sağlayan methoddur. sort methodu liste tek bir türden(string, sayı vb.) oluşuyorsa çalışır ve eğer birden fazla tür varsa hata verir.(integer ve float beraber bulunabilir) sort methodu eğer listenin hepsi sayı ise bu sayıları küçükten büyüğe doğru sıralar. Eğer listenin tamamı string ise bu listeyi stringlerin ilk harfinin alfabetik sıralamasına göre sıralar. Eğer ilk harfler aynı ise ikinci ve sonraki harflere bakar."
   ]
  },
  {
   "cell_type": "code",
   "execution_count": 50,
   "metadata": {},
   "outputs": [
    {
     "name": "stdout",
     "output_type": "stream",
     "text": [
      "[1, 2, 3, 3.5, 4]\n",
      "[' a', 'ahmet', 'asaf', 'can', 'erkam']\n"
     ]
    }
   ],
   "source": [
    "liste1 = [2,1,3,4, 3.5]\n",
    "liste1.sort()\n",
    "print(liste1)\n",
    "\n",
    "liste2 = [\"erkam\", \"ahmet\", \"can\", \" a\", \"asaf\"]\n",
    "liste2.sort()\n",
    "print(liste2)"
   ]
  },
  {
   "cell_type": "markdown",
   "metadata": {},
   "source": [
    "sort methodu karakterlerin sıralamasında ascii tablosuna göre sıralar. Karakterlerin ascii tablosundaki numaralarını alır ve küçükten büyüğe doğru sıralar. Bu nedenle sort methodu bazen istediğimiz gibi çalışmayabilir. Mesela sadece Türkçeye özgü karakterlerin(ş,ı,ğ,ü,ç,ö vb.) olduğu sıralama istediğimiz gibi çalışmayacaktır. Çünkü bu karakterler ascii tablosunda tüm İngilizce karakterlerden sonra tanımlanmıştır ve sıralamada hepsinden sonra gelecektir. Ayrıca stringin en önünde boşluk veya sayı olduğu durumlarda da bu tabloya baktığı için boşluğa 1.önceliği, sayılara 2.önceliği, harflere ise 3.önceliği verecektir. Direk karakterlerin hepsinde de ascii tablosuna bakacaktır. "
   ]
  },
  {
   "cell_type": "code",
   "execution_count": 52,
   "metadata": {},
   "outputs": [
    {
     "name": "stdout",
     "output_type": "stream",
     "text": [
      "[' z', '1zad', 'erkam', 'zalim', 'üsame', 'şamil']\n"
     ]
    }
   ],
   "source": [
    "liste = [\"erkam\", \"şamil\", \"üsame\", \"zalim\", \" z\", \"1zad\"]\n",
    "liste.sort()\n",
    "print(liste)"
   ]
  },
  {
   "cell_type": "markdown",
   "metadata": {},
   "source": [
    "Türkçe karakterleri düzgün sıralamak için aşagıdaki şekildeki gibi bir kod yazabiliriz."
   ]
  },
  {
   "cell_type": "code",
   "execution_count": 54,
   "metadata": {},
   "outputs": [
    {
     "name": "stdout",
     "output_type": "stream",
     "text": [
      "['ahmet', 'can', 'çiğdem', 'ışık', 'ismail', 'şule']\n"
     ]
    }
   ],
   "source": [
    "harfler = \"abcçdefgğhıijklmnoöprsştuüvyz\"\n",
    "çevrim = {harf: harfler.index(harf) for harf in harfler}\n",
    "\n",
    "isimler = [\"ahmet\", \"ışık\", \"ismail\", \"çiğdem\", \"can\", \"şule\"]\n",
    "\n",
    "isimler.sort(key=lambda x: çevrim.get(x[0]))\n",
    "\n",
    "print(isimler)"
   ]
  },
  {
   "cell_type": "markdown",
   "metadata": {},
   "source": [
    "sort methodunda sıralamayı tam ters şekilde yapmasını istiyorsak sort methodu içinde reverse adı verilen özelliği değiştirebiliriz. reverse özelliği default olarak False olarak belirlenmiştir. Bu özelliği True yaparsak sıralamayı ters yapar.  "
   ]
  },
  {
   "cell_type": "code",
   "execution_count": 57,
   "metadata": {},
   "outputs": [
    {
     "name": "stdout",
     "output_type": "stream",
     "text": [
      "[5, 4, 3, 2, 1]\n"
     ]
    }
   ],
   "source": [
    "liste = [1,2,3,4,5]\n",
    "liste.sort(reverse = True)\n",
    "print(liste)"
   ]
  },
  {
   "cell_type": "markdown",
   "metadata": {},
   "source": [
    "index methodu bir listedeki belli bir elementin indexinin geri dönmesini sağlar. index methodu içine bir elementin adını yazarız ve index methodu bu elementin sırasını geri döndürür. Eğer bu element listde yok ise hata verir."
   ]
  },
  {
   "cell_type": "code",
   "execution_count": 64,
   "metadata": {},
   "outputs": [
    {
     "name": "stdout",
     "output_type": "stream",
     "text": [
      "1\n"
     ]
    }
   ],
   "source": [
    "liste = [\"kırmızı\", \"sarı\", \"yeşil\"]\n",
    "x = liste.index(\"sarı\")\n",
    "print(x)"
   ]
  },
  {
   "cell_type": "markdown",
   "metadata": {},
   "source": [
    "count methodu bir listede belli bir elementin kaç kez bulunduğunu bulmamızı sağlayan bir methoddur. count methodunun içine bir elementin adını yazarız ve count methodu bu elementin kaç kere bulunduğunu geri döndürür. Eğer bu element listde yok ise 0 sayısını döndürür."
   ]
  },
  {
   "cell_type": "code",
   "execution_count": 67,
   "metadata": {},
   "outputs": [
    {
     "name": "stdout",
     "output_type": "stream",
     "text": [
      "3\n",
      "0\n"
     ]
    }
   ],
   "source": [
    "liste = [1,1,2,3,5,6,7, 1]\n",
    "x = liste.count(1)\n",
    "a = liste.count(8)\n",
    "print(x)\n",
    "print(a)"
   ]
  },
  {
   "cell_type": "markdown",
   "metadata": {},
   "source": [
    "count ve index methodları 1 ve True değerleri ile 0 ve False değerlerini aynı olarak görür. Yani bir listte 1 yoksa ama True varsa ve biz 1 sayısının indexini ararsak bize True değerinin indexini verecektir. listlerde index ve count kullanırken bu olaya dikkat etmeliyiz."
   ]
  },
  {
   "cell_type": "code",
   "execution_count": 73,
   "metadata": {},
   "outputs": [
    {
     "name": "stdout",
     "output_type": "stream",
     "text": [
      "0\n",
      "1\n",
      "3\n"
     ]
    }
   ],
   "source": [
    "liste = [1, False]\n",
    "print(liste.index(True))\n",
    "print(liste.index(0))\n",
    "\n",
    "liste2 = [1,True, 2, 3, 4, 1]\n",
    "print(liste2.count(1))"
   ]
  },
  {
   "cell_type": "markdown",
   "metadata": {},
   "source": [
    "clear methodu bir listin içeriğini tamamen silen bir methoddur. Bu methodun içine bir şey yazılamaz."
   ]
  },
  {
   "cell_type": "code",
   "execution_count": 75,
   "metadata": {},
   "outputs": [
    {
     "name": "stdout",
     "output_type": "stream",
     "text": [
      "[]\n"
     ]
    }
   ],
   "source": [
    "liste = [1,2,3,4,5,6]\n",
    "liste.clear()\n",
    "print(liste)"
   ]
  },
  {
   "cell_type": "markdown",
   "metadata": {},
   "source": [
    "tupleların sadece iki tane methodu vardır. Bu methodlar index ve count methodlarıdır. Bu methodların çalışma prensibi listler üzerindeki çalışma prensibi ile aynıdır. "
   ]
  },
  {
   "cell_type": "code",
   "execution_count": 77,
   "metadata": {},
   "outputs": [
    {
     "name": "stdout",
     "output_type": "stream",
     "text": [
      "2\n",
      "3\n"
     ]
    }
   ],
   "source": [
    "demet = (\"elma\", \"armut\", \"elma\", \"çilek\")\n",
    "x = demet.count(\"elma\")\n",
    "a = demet.index(\"çilek\")\n",
    "print(x)\n",
    "print(a)"
   ]
  }
 ],
 "metadata": {
  "kernelspec": {
   "display_name": "Python 3",
   "language": "python",
   "name": "python3"
  },
  "language_info": {
   "codemirror_mode": {
    "name": "ipython",
    "version": 3
   },
   "file_extension": ".py",
   "mimetype": "text/x-python",
   "name": "python",
   "nbconvert_exporter": "python",
   "pygments_lexer": "ipython3",
   "version": "3.8.5"
  }
 },
 "nbformat": 4,
 "nbformat_minor": 4
}
