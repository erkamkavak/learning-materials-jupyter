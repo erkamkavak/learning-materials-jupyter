{
 "cells": [
  {
   "cell_type": "markdown",
   "metadata": {},
   "source": [
    "Regular expression'lar stringler üzerinde işlem yapmak, istediğimiz şeyin tüm örneklerini bulmak gibi işlemleri yapmak için kullanılan expression'lardır. Genel olarak stringler üzerinde bazı kurallarla arama yapmamızı sağlar ve bulunan şeyleri geri döndürür. Regular expressionları kullanmak için re modülünü import etmeliyiz. "
   ]
  },
  {
   "cell_type": "code",
   "execution_count": 2,
   "metadata": {},
   "outputs": [
    {
     "name": "stdout",
     "output_type": "stream",
     "text": [
      "['A', 'ASCII', 'DEBUG', 'DOTALL', 'I', 'IGNORECASE', 'L', 'LOCALE', 'M', 'MULTILINE', 'Match', 'Pattern', 'RegexFlag', 'S', 'Scanner', 'T', 'TEMPLATE', 'U', 'UNICODE', 'VERBOSE', 'X', '_MAXCACHE', '__all__', '__builtins__', '__cached__', '__doc__', '__file__', '__loader__', '__name__', '__package__', '__spec__', '__version__', '_cache', '_compile', '_compile_repl', '_expand', '_locale', '_pickle', '_special_chars_map', '_subx', 'compile', 'copyreg', 'enum', 'error', 'escape', 'findall', 'finditer', 'fullmatch', 'functools', 'match', 'purge', 'search', 'split', 'sre_compile', 'sre_parse', 'sub', 'subn', 'template']\n"
     ]
    }
   ],
   "source": [
    "import re\n",
    "print(dir(re))"
   ]
  },
  {
   "cell_type": "markdown",
   "metadata": {},
   "source": [
    "re modülünün önemli 4 fonksiyonu vardır. findall fonksiyonu string üzerinde bulduğu tüm eşleşmeleri geri gönderir. Bu fonksiyon eşleşmeleri bir listin içine koyup geri gönderir. "
   ]
  },
  {
   "cell_type": "code",
   "execution_count": 7,
   "metadata": {},
   "outputs": [
    {
     "name": "stdout",
     "output_type": "stream",
     "text": [
      "['ed', 'ed', 'ed']\n"
     ]
    }
   ],
   "source": [
    "import re\n",
    "string = \"RegExr was created by gskinner.com, and is proudly hosted by Media Temple.\"\n",
    "print(re.findall(\"ed\" ,string)) #string üzerinde ed'yi arar ve tüm eşleşmeleri geri gönderir."
   ]
  },
  {
   "cell_type": "markdown",
   "metadata": {},
   "source": [
    "search fonksiyonu string üzerinde aramayı yapar ve ilk eşleşme ile ilgili bilgileri match object şeklinde geri döndürür. Bu bilgiler başlangıç noktası, bitiş noktası gibi bilgilerdir. Eğer eşleşme yoksa None değeri geri döndürülür. "
   ]
  },
  {
   "cell_type": "code",
   "execution_count": 13,
   "metadata": {},
   "outputs": [
    {
     "name": "stdout",
     "output_type": "stream",
     "text": [
      "<re.Match object; span=(16, 18), match='ed'>\n",
      "16\n",
      "18\n"
     ]
    }
   ],
   "source": [
    "import re \n",
    "string = \"RegExr was created by gskinner.com, and is proudly hosted by Media Temple.\"\n",
    "match = re.search(\"ed\", string)\n",
    "print(match)\n",
    "print(match.start())\n",
    "print(match.end())"
   ]
  },
  {
   "cell_type": "markdown",
   "metadata": {},
   "source": [
    "sub fonksiyonu string üzerinde belirli bir söz dizimini istediğimiz şey ile değiştirebilmemizi sağlar. İlk parametreye string üzerinde bulacağımız söz dizimini, ikinci parametreye ise yerine gelmesini istediğimiz söz dizimini yazarız. Üçüncü parametre ise string'imiz olur. Optional olan 4. parametre ise kaç tane eşleşmeyi değiştireceğimizi seçmemizi sağlar.  \n",
    "\n",
    "\\s ifadesi regular expression'larda boşluk anlamına gelir. "
   ]
  },
  {
   "cell_type": "code",
   "execution_count": 21,
   "metadata": {},
   "outputs": [
    {
     "name": "stdout",
     "output_type": "stream",
     "text": [
      "RegExr        was        created        by        gskinner.com,        and        is        proudly        hosted        by        Media        Temple.\n",
      "RegExr        was        created by gskinner.com, and is proudly hosted by Media Temple.\n"
     ]
    }
   ],
   "source": [
    "import re\n",
    "string = \"RegExr was created by gskinner.com, and is proudly hosted by Media Temple.\"\n",
    "print(re.sub(\"\\s\", \"        \", string))\n",
    "print(re.sub(\"\\s\", \"        \", string, 2))"
   ]
  },
  {
   "cell_type": "markdown",
   "metadata": {},
   "source": [
    "Regular expressionlarda aramayı yapacak bazı özel karakterler vardır. Bu karakterleri Pythonun anlaması için r\"\" şeklinde bir kalıp ile aramayı yapmalıyız. "
   ]
  },
  {
   "cell_type": "code",
   "execution_count": 26,
   "metadata": {},
   "outputs": [
    {
     "name": "stdout",
     "output_type": "stream",
     "text": [
      "['created', 'com']\n"
     ]
    }
   ],
   "source": [
    "import re\n",
    "string = \"RegExr was created by gskinner.com, and is proudly hosted by Media Temple.\"\n",
    "print(re.findall(r\"[c]\\w+\", string))# c ile başlayan kelimeleri aradık.  "
   ]
  },
  {
   "cell_type": "markdown",
   "metadata": {},
   "source": [
    "## Özel karakterler"
   ]
  },
  {
   "cell_type": "markdown",
   "metadata": {},
   "source": [
    "[] > Bu parantezler arasına yazdığımız karakterleri string üzerinde arar ancak bu aramayı her bir karakteri tek tek düşünerek yapar. "
   ]
  },
  {
   "cell_type": "code",
   "execution_count": 29,
   "metadata": {},
   "outputs": [
    {
     "name": "stdout",
     "output_type": "stream",
     "text": [
      "['m', 'M', 'm']\n"
     ]
    }
   ],
   "source": [
    "import re\n",
    "string = \"RegExr was created by gskinner.com, and is proudly hosted by Media Temple.\"\n",
    "print(re.findall(r\"[Mm]\", string)) #m ve M harflerini ayrı ayrı string üzerinde aradık."
   ]
  },
  {
   "cell_type": "markdown",
   "metadata": {},
   "source": [
    "[] parantezlerine A-B, a-b veya 0-9 gibi sıralı diziler koyarak bu dizilerin tüm elemanlarını string üzerinde arayabiliriz. "
   ]
  },
  {
   "cell_type": "code",
   "execution_count": 33,
   "metadata": {},
   "outputs": [
    {
     "name": "stdout",
     "output_type": "stream",
     "text": [
      "['e', 'g', 'x', 'r', 'w', 'a', 's', 'c', 'r', 'e', 'a', 't', 'e', 'd', 'b', 'y', 'g', 's', 'k', 'i', 'n', 'n', 'e', 'r', 'c', 'o', 'm', 'a', 'n', 'd', 'i', 's', 'p', 'r', 'o', 'u', 'd', 'l', 'y', 'h', 'o', 's', 't', 'e', 'd', 'b', 'y', 'e', 'd', 'i', 'a', 'e', 'm', 'p', 'l', 'e', 't', 's']\n",
      "['9', '1', '3']\n"
     ]
    }
   ],
   "source": [
    "import re\n",
    "string = \"RegExr was created by gskinner.com, and is proudly hosted by Media Temple. It's 9.13\"\n",
    "print(re.findall(r\"[a-z]\",string)) #tüm küçük harfleri geri döndürür.\n",
    "print(re.findall(r\"[0-9]\",string)) #tüm rakamları geri döndürür."
   ]
  },
  {
   "cell_type": "markdown",
   "metadata": {},
   "source": [
    "^ işareti bir ifadenin bulunmadığı durumlar anlamına gelir. Yani [^A] şeklinde bir arama yaparsak A harfinin olmadığı tüm eşleşmeleri geri döndürür. "
   ]
  },
  {
   "cell_type": "code",
   "execution_count": 37,
   "metadata": {},
   "outputs": [
    {
     "name": "stdout",
     "output_type": "stream",
     "text": [
      "[' ', ' ', ' ', ' ', '.', ',', ' ', ' ', ' ', ' ', ' ', ' ', ' ', '.', ' ', \"'\", ' ', '9', '.', '1', '3']\n"
     ]
    }
   ],
   "source": [
    "import re\n",
    "string = \"RegExr was created by gskinner.com, and is proudly hosted by Media Temple. It's 9.13\"\n",
    "print(re.findall(r\"[^a-zA-Z]\", string)) #harfler dışındaki tüm değerleri geri döndürdük."
   ]
  },
  {
   "cell_type": "markdown",
   "metadata": {},
   "source": [
    ". işareti yeni satıra geçme dışında tüm ifadeleri geri döndürür. "
   ]
  },
  {
   "cell_type": "code",
   "execution_count": 40,
   "metadata": {},
   "outputs": [
    {
     "name": "stdout",
     "output_type": "stream",
     "text": [
      "['Re']\n"
     ]
    }
   ],
   "source": [
    "import re\n",
    "string = \"RegExr was created by gskinner.com, and is proudly hosted by Media Temple. It's 9.13\"\n",
    "print(re.findall(r\"[R].\", string))#ilk önce R ifadesini bulur daha sonra R'den sonra gelen ilk line break dışındaki ifadeyi bulur."
   ]
  },
  {
   "cell_type": "markdown",
   "metadata": {},
   "source": [
    "(  + işareti birden fazla bulunan ve ardışık devam eden tüm eşleşmeleri geri döndürür. * işareti ise 0'dan fazla bulunan ve ardışık devam eden tüm eşleşmeleri geri döndürür. (ardışık devam eden > araya eşleşmeyen ifadeler girmeyen)\n",
    "\n",
    "{} köşeli parantezleri ile ise içine girdiğimiz sayı aralığında bulunan uzunluktaki değerleri geri döndürürüz. "
   ]
  },
  {
   "cell_type": "code",
   "execution_count": 52,
   "metadata": {},
   "outputs": [
    {
     "name": "stdout",
     "output_type": "stream",
     "text": [
      "[\"was created by gskinner.com, and is proudly hosted by Media Temple. It's 9.13 \"]\n",
      "['b    ', 'b     ', 'b     ']\n"
     ]
    }
   ],
   "source": [
    "import re\n",
    "string = \"RegExr was created by gskinner.com, and is proudly hosted by Media Temple. It's 9.13 \\n Yeni bir satıra geçtik.\"\n",
    "print(re.findall(r\"[w].+\", string)) #ilk önce w ifadesini bulur daha sonra w'den sonra gelen \n",
    "# ve araya hiç line break girmeden devam eden ifadeyi geri döndürür.\n",
    "\n",
    "string2 = \"b  (2boşluk)b   (3boşluk)b    (4boşluk)b     (5boşluk)b      (6boşluk)\"\n",
    "print(re.findall(r\"[b]\\s{4,5}\", string2)) # 4 ve 5 aralığındaki uzunlukta olan eşleşmeleri geri döndürür. 6 boşluklu olan ifadeyi\n",
    "# de 5 boşluklu şekilde geri döndürür."
   ]
  },
  {
   "cell_type": "markdown",
   "metadata": {},
   "source": [
    "? işareti iki farklı kullanımı vardır. Bu kullanımlardan biri arama yapacağımız söz diziminde optional olarak bir harf bulundurmak istiyorsak işe yarar. Diğer bir kullanımı ise aranan şeyi ilk eşleştiği yerden kesip sonraki eşleşmeleri ayrı arar."
   ]
  },
  {
   "cell_type": "code",
   "execution_count": 61,
   "metadata": {},
   "outputs": [
    {
     "name": "stdout",
     "output_type": "stream",
     "text": [
      "['color', 'colour']\n",
      "['<p>Bu paragrafımızda şunlardan bahsedicez. Bu paragraf ilk paragrafımız.</p><p>Bu ikinci paragrafımız.</p>']\n",
      "['<p>Bu paragrafımızda şunlardan bahsedicez. Bu paragraf ilk paragrafımız.</p>', '<p>Bu ikinci paragrafımız.</p>']\n"
     ]
    }
   ],
   "source": [
    "import re\n",
    "string = \"color colour\"\n",
    "print(re.findall(r\"colou?r\", string))# burada u harfinin olduğu veya olmadığı iki durumu da aramak için ? işaretini bu şekilde\n",
    "#kullandık.\n",
    "\n",
    "string2 = \"<p>Bu paragrafımızda şunlardan bahsedicez. Bu paragraf ilk paragrafımız.</p><p>Bu ikinci paragrafımız.</p>\"\n",
    "print(re.findall(r\"<p>.+</p>\", string2))\n",
    "print(re.findall(r\"<p>.+?</p>\", string2))#iki aramada da <p> </p> arasındaki tüm stringi arıyoruz. İlk aramada ? işaretini kul_\n",
    "#lanmadığımız için ilk ve son bulduğu eşleşmeler arasını alır. İkinci aramada ise ? işaretini kullandığımız için </p> ifadesini\n",
    "#ilk bulduğu yerde aramayı durdurur ve diğer aramaya başlar. "
   ]
  },
  {
   "cell_type": "markdown",
   "metadata": {},
   "source": [
    "| işareti arama yapacağımız söz diziminde bir karakter için birden fazla alternatif varsa tüm bu alternatifleri hesaba katmamızda işe yarar.(or ifadesi gibidir)"
   ]
  },
  {
   "cell_type": "code",
   "execution_count": 73,
   "metadata": {},
   "outputs": [
    {
     "name": "stdout",
     "output_type": "stream",
     "text": [
      "[('meyve', 'e'), ('meyva', 'a')]\n"
     ]
    }
   ],
   "source": [
    "import re\n",
    "string = \"meyve meyva\"\n",
    "string2 = \"adam adem\"\n",
    "print(re.findall(r\"(meyv(e|a))\", string))"
   ]
  },
  {
   "cell_type": "markdown",
   "metadata": {},
   "source": [
    "^ işaretinin diğer bir kullanımı ise stringin sadece başını aramasıdır. $ işareti de ^ işaretinin tam tersi olarak bir stringin sadece sonunu arar. "
   ]
  },
  {
   "cell_type": "code",
   "execution_count": 89,
   "metadata": {},
   "outputs": [
    {
     "name": "stdout",
     "output_type": "stream",
     "text": [
      "['<p>']\n",
      "[]\n",
      "['</p>']\n"
     ]
    }
   ],
   "source": [
    "import re \n",
    "string = \"<p>Bu paragrafımızda şunlardan bahsedicez. Bu paragraf ilk paragrafımız.</p><p>Bu ikinci paragrafımız.</p>\"\n",
    "print(re.findall(r\"^<p>\", string))#Sadece en baştaki <p> ifadesini geri döndürür.\n",
    "print(re.findall(r\"^Bu\", string))# en başta bu ifade olmadığı için geri döndürmez.\n",
    "print(re.findall(r\"</p>$\", string))#sadece en baştaki </p> ifadesini geri döndürür."
   ]
  },
  {
   "cell_type": "markdown",
   "metadata": {},
   "source": [
    "\\b ifadesi harf(word) ile harf olmayan(non-word) iki karakterin yan yana olduğu durumları arar. Yani eğer \\b ifadesi aramanın başına konulursa kelimeleri en başlarından başlayarak ararken aramanın sonuna konulursa kelimeleri en sonlarında bitecek şekilde arar.(kelimelerden önce non-word ifade varken kelimeler word ifade ile başladığı için kelimelerin başlangıç noktası \\b ifadesinin arama alanlarıdır.) \\B ifadesi ise word-word veyahut nonword- nonword arası durumları arar.  "
   ]
  },
  {
   "cell_type": "code",
   "execution_count": 100,
   "metadata": {},
   "outputs": [
    {
     "name": "stdout",
     "output_type": "stream",
     "text": [
      "['created', 'com']\n",
      "['by', 'proudly', 'by']\n"
     ]
    }
   ],
   "source": [
    "import re \n",
    "string = \"RegExr was created by gskinner.com, and is proudly hosted by Media Temple. It's 9.13\"\n",
    "print(re.findall(r\"\\bc\\w+\", string))# başında \\b olduğu için c harfi ile başlayan kelimeleri arar. \n",
    "print(re.findall(r\"\\w+y\\b\", string))# sonunda \\b olduğu için y harfi ile biten kelimeleri arar. "
   ]
  },
  {
   "cell_type": "markdown",
   "metadata": {},
   "source": [
    "\\s ifadesi boşlukları geri döndürür. \\S ifadesi ise boşluk dışındaki ifadeleri geri döndürür. [\\s\\S] ifadesi ise tüm değerleri geri döndürür. "
   ]
  },
  {
   "cell_type": "markdown",
   "metadata": {},
   "source": [
    "\\w ifadesi harfleri \\W harf olmayan ifadeleri, \\d ifadesi digitleri(rakamları) \\D ifadesi ise rakam olmayan ifadeleri geri döndürür. "
   ]
  },
  {
   "cell_type": "markdown",
   "metadata": {},
   "source": [
    "positive look ahead > (?=ABC)        ABC aranacak ifade\n",
    "\n",
    "positive look behind > (?<=ABC)\n",
    "\n",
    "negative look ahead > (?!ABC)\n",
    "\n",
    "negative look behnd > (?<!ABC)\n",
    "\n",
    "Bu ifadeler aranan şeyin önünde veya arkasında bulunan şeyleri arar ve arama sonucu dönen ifadeye bu aramaları almaz.  "
   ]
  },
  {
   "cell_type": "code",
   "execution_count": 1,
   "metadata": {},
   "outputs": [
    {
     "name": "stdout",
     "output_type": "stream",
     "text": [
      "['created', 'com']\n",
      "['created']\n"
     ]
    }
   ],
   "source": [
    "import re\n",
    "string = \"RegExr was created by gskinner.com, and is proudly hosted by Media Temple. It's 9.13\"\n",
    "print(re.findall(r\"\\b[c]\\w+\", string))# \\b ifadesi wordun nonword'den ayrıldığı yeri arıyordu.\n",
    "print(re.findall(r\"(?<=\\s)[c]\\w+\", string))#(?<=\\s) ifadesi(positive look behind) aranacak şeyden önce boşluk var mı diye bakar. "
   ]
  },
  {
   "cell_type": "markdown",
   "metadata": {},
   "source": [
    "\\ ifadesi ile normalde special olan karakterleri($, ^, |, \\, gibi) string içinde aratabiliriz. "
   ]
  },
  {
   "cell_type": "code",
   "execution_count": 15,
   "metadata": {},
   "outputs": [
    {
     "name": "stdout",
     "output_type": "stream",
     "text": [
      "['30$']\n",
      "['10*3']\n"
     ]
    }
   ],
   "source": [
    "import re \n",
    "string = \"If you give me 30$, I will give you 10*3 of this thing.\"\n",
    "print(re.findall(r\"\\d+\\$\", string))#sadece $ işaretini koysak bulamayacaktık. \n",
    "print(re.findall(r\"\\d+\\*\\d+\", string))# sadece * işaretini koysak bulamayacaktık."
   ]
  },
  {
   "cell_type": "markdown",
   "metadata": {},
   "source": [
    "look ahead, look behind özel durumları yerine farklı bir yöntem kullanabiliriz. Eğer aradığımız şeyin önünde ve arkasında bazı şeyler olmasını istiyorsak ancak bu öndeki ve arkadaki şeyleri almak istemiyorsak almak istediğimiz şeyi () parantezleri arasına koyabiliriz. Bu şekilde aratmak istediğimiz grubu belirtiriz. "
   ]
  },
  {
   "cell_type": "code",
   "execution_count": 1,
   "metadata": {},
   "outputs": [
    {
     "name": "stdout",
     "output_type": "stream",
     "text": [
      "['<p>Bu paragrafımızda şunlardan bahsedicez: Regexp</p>']\n",
      "['Bu paragrafımızda şunlardan bahsedicez: Regexp']\n"
     ]
    }
   ],
   "source": [
    "import re\n",
    "string = \"<p>Bu paragrafımızda şunlardan bahsedicez: Regexp</p>\"\n",
    "print(re.findall(r\"<p>[\\s\\S]+</p>\",string))\n",
    "print(re.findall(r\"<p>([\\s\\S]+)</p>\",string))# parantezlerin arasına koyunca p leri içine almadı."
   ]
  },
  {
   "cell_type": "markdown",
   "metadata": {},
   "source": [
    "Eğer regexp ifademiz ile birden fazla grup aratıyorsak bu farklı grupların hepsi ayrı ayrı dönecektir. Bu gruplara search ile ulaştığımızda group() methodu ile ulaşabiliriz ve [] parantezleri ile hangi grupu çağırabileceğimizi belirleyebiliriz. Eğer bu parantez içine koyduğumuz şeyin grup oluşturmasını engellemek istiyorsak parantezin başına ?: ifadesini koyabiliriz.  "
   ]
  },
  {
   "cell_type": "code",
   "execution_count": 19,
   "metadata": {},
   "outputs": [
    {
     "name": "stdout",
     "output_type": "stream",
     "text": [
      "[('12.53', '12.'), ('34', ''), ('12', '')]\n",
      "['12.53', '34', '12']\n"
     ]
    }
   ],
   "source": [
    "import re \n",
    "string = \"12.53, 34, 12\"\n",
    "print(re.findall(r\"((\\d+\\.)?\\d+)\", string)) #\\d+\\. ifadesini parantez içine koyduğumuz için iki tane grup dönecektir. Ancak \n",
    "#burada bu ifadeyi parantez içine koymamızın nedeni arkasından gelen ? işaretini tüm grup için etkili hale getirmekti.\n",
    "print(re.findall(r\"((?:\\d+\\.)?\\d+)\", string)) #Bu şekilde bu ifadenin grup oluşturmasını önledik. "
   ]
  }
 ],
 "metadata": {
  "kernelspec": {
   "display_name": "Python 3",
   "language": "python",
   "name": "python3"
  },
  "language_info": {
   "codemirror_mode": {
    "name": "ipython",
    "version": 3
   },
   "file_extension": ".py",
   "mimetype": "text/x-python",
   "name": "python",
   "nbconvert_exporter": "python",
   "pygments_lexer": "ipython3",
   "version": "3.8.5"
  }
 },
 "nbformat": 4,
 "nbformat_minor": 4
}
