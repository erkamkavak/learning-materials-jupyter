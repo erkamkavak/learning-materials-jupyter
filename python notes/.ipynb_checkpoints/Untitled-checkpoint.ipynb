{
 "cells": [
  {
   "cell_type": "code",
   "execution_count": null,
   "metadata": {},
   "outputs": [],
   "source": [
    "kazanma_ölçütleri = [[[0, 0], [1, 0], [2, 0]],\n",
    "                     [[0, 1], [1, 1], [2, 1]],\n",
    "                     [[0, 2], [1, 2], [2, 2]],\n",
    "                     [[0, 0], [0, 1], [0, 2]],\n",
    "                     [[1, 0], [1, 1], [1, 2]],\n",
    "                     [[2, 0], [2, 1], [2, 2]],\n",
    "                     [[0, 0], [1, 1], [2, 2]],\n",
    "                     [[0, 2], [1, 1], [2, 0]]]\n",
    "\n",
    "tahta = [[\"___\", \"___\", \"___\"],\n",
    "         [\"___\", \"___\", \"___\"],\n",
    "         [\"___\", \"___\", \"___\"]]\n",
    "print(\"\\n\"*15)\n",
    "\n",
    "for i in tahta:\n",
    "    print(\"\\t\".expandtabs(50), *i, end=\"\\n\"*3)\n",
    "    \n",
    "sıra = 1\n",
    "xYerleri = []\n",
    "oYerleri = []\n",
    "while True:\n",
    "    if sıra %2 == 0:\n",
    "        işaret = \"X\".center(3)\n",
    "    else : \n",
    "        işaret = \"O\".center(3)\n",
    "    \n",
    "    while True:\n",
    "        print(\"Sıra {}'te\".format(işaret))\n",
    "        yerX = int(input(\"Yukarıdan aşağı hangi satırda olacağını seçiniz.\\n\")) - 1\n",
    "        yerY = int(input(\"Soldan sağa hangi sutünda olacağını seçiniz.\\n\")) - 1\n",
    "\n",
    "        if tahta[yerX][yerY] == \"___\":\n",
    "            tahta[yerX][yerY] = işaret\n",
    "            break\n",
    "        else:\n",
    "            print(\"\\nO yer dolu. Lütfen tekrar deneyiniz.\\n\")\n",
    "    \n",
    "    if sıra % 2 == 0:\n",
    "        xYerleri +=[[yerX,yerY]]\n",
    "        for a in kazanma_ölçütleri:\n",
    "            ortakYerler = [i for i in xYerleri  if i in a]\n",
    "            if len(ortakYerler) == len(a):\n",
    "                print(\"X kazandı.\")\n",
    "                break\n",
    "    else:\n",
    "        oYerleri += [[yerX,yerY]]\n",
    "        for x in kazanma_ölçütleri:\n",
    "            ortakYerler = [i for i in oYerleri if i in x]\n",
    "            if len(ortakYerler) == len(x):\n",
    "                print(\"O kazandı.\")\n",
    "                break\n",
    "    sıra += 1\n",
    "    \n",
    "    for i in tahta:\n",
    "        print(\"\\t\".expandtabs(30), *i, end=\"\\n\"*3)\n"
   ]
  },
  {
   "cell_type": "code",
   "execution_count": 10,
   "metadata": {},
   "outputs": [
    {
     "name": "stdout",
     "output_type": "stream",
     "text": [
      "[25, 26, 27]\n"
     ]
    }
   ],
   "source": [
    "liste1 = [[1, 2, 3],\n",
    "          [4, 5, 6],\n",
    "          [7, 8, 9],\n",
    "          [10, 11, 12],\n",
    "          [13, 14, 15],\n",
    "          [16, 17, 18],\n",
    "          [19, 20, 21],\n",
    "          [22, 23, 24],\n",
    "          [25, 26, 27],\n",
    "          [28, 29, 30],\n",
    "          [31, 32, 33]]\n",
    "liste2 = [1, 27, 88, 98, 50, 9, 28, 45, 54, 66, 61, 23, 10, 33,\n",
    "          22, 12, 6, 99, 63, 26, 87, 25, 77, 5, 16, 93, 99, 44,\n",
    "          59, 69, 34, 10, 60, 92, 61, 44, 5, 3, 23, 99, 79, 51,\n",
    "          89, 63, 53, 31, 76, 41, 49, 10, 88, 63, 55, 43, 40, 71,\n",
    "          16, 49, 78, 41, 35, 97, 33, 76, 25, 81, 15, 99, 64, 20,\n",
    "          33, 6, 89, 81, 44, 53, 59, 75, 27, 15, 64, 36, 72, 78,\n",
    "          34, 36, 20, 41, 41, 75, 56, 30, 86, 46, 9, 42, 21, 64,\n",
    "          26, 52, 77, 65, 64, 12, 38, 1, 35, 20, 73, 71, 37, 35,\n",
    "          72, 38, 100, 52, 16, 49, 79]\n",
    "\n",
    "for x in liste1:\n",
    "    ortakYerler = [z for z in x if z in liste2]\n",
    "    if ortakYerler == x:\n",
    "        print(x)"
   ]
  },
  {
   "cell_type": "code",
   "execution_count": 3,
   "metadata": {},
   "outputs": [
    {
     "name": "stdout",
     "output_type": "stream",
     "text": [
      "value is 0000000234\n"
     ]
    }
   ],
   "source": [
    "print(\"value is {:0>10d}\".format(234))"
   ]
  },
  {
   "cell_type": "code",
   "execution_count": 13,
   "metadata": {},
   "outputs": [
    {
     "name": "stdout",
     "output_type": "stream",
     "text": [
      "His height is   2e+00    and his name is erkam\n"
     ]
    }
   ],
   "source": [
    "height = 2.05650354\n",
    "print(f\"His height is {height:^{10}.{1}} and his name is erkam\")"
   ]
  },
  {
   "cell_type": "code",
   "execution_count": null,
   "metadata": {},
   "outputs": [],
   "source": [
    "import copy\n",
    "x = [[\"erkam\"], [1,2,3,4]]\n",
    "y = x\n",
    "y[0] = [\"kavak\"]\n",
    "print(print(x))\n",
    "print(print(y))"
   ]
  },
  {
   "cell_type": "code",
   "execution_count": 4,
   "metadata": {},
   "outputs": [
    {
     "name": "stdout",
     "output_type": "stream",
     "text": [
      "[[1, 2], [3, 4], [1, 2], [3, 4]]\n"
     ]
    }
   ],
   "source": [
    "xxx = [[[1,2], [3,4]], [[1,2], [3,4]]]\n",
    "yyy = []\n",
    "for x in xxx: \n",
    "    for a in x: \n",
    "        yyy += [a.copy()]\n",
    "print(yyy)"
   ]
  },
  {
   "cell_type": "code",
   "execution_count": 13,
   "metadata": {},
   "outputs": [
    {
     "name": "stdout",
     "output_type": "stream",
     "text": [
      "[[[1, 2], [3, 4]], [[1, 2], [3, 4]]]\n",
      "[[[1, 2], [3, 4]], [[1, 2], [3, 4]]]\n",
      "\n",
      "[[[1, 2], [3, 4]], [[1, 2], [3, 4]]]\n",
      "[[[1, 2], [0, 4]], [[1, 2], [3, 4]]]\n"
     ]
    }
   ],
   "source": [
    "import copy\n",
    "x1 = [1,2]\n",
    "y1 = [3,4]\n",
    "x2 = [x1.copy(),y1.copy()]\n",
    "y2 = [x1,y1]\n",
    "x3 = [x2,y2]\n",
    "y3 = copy.deepcopy(x3)\n",
    "print(x3)\n",
    "print(y3)\n",
    "y3[0][1][0] = 0\n",
    "print()\n",
    "print(x3)\n",
    "print(y3)"
   ]
  },
  {
   "cell_type": "code",
   "execution_count": 27,
   "metadata": {},
   "outputs": [
    {
     "name": "stdout",
     "output_type": "stream",
     "text": [
      "692\n",
      "[173, 519]\n",
      "[59, 114, 203, 316]\n",
      "[6, 53, 36, 78, 55, 148, 167, 149]\n"
     ]
    }
   ],
   "source": [
    "liste = [[[[1,2,3], [5,42,6]], [[10, 26], [43, 35]]], [[[16,32,7], [23,49,76]], [[101, 66], [92, 57]]]]\n",
    "l1_sum = 0\n",
    "l2_sums = []\n",
    "l3_sums = []\n",
    "l4_sums = []\n",
    "for x in liste:\n",
    "    l2_sum = 0\n",
    "    for a in x:\n",
    "        l3_sum = 0\n",
    "        for i in a: \n",
    "            l4_sum = 0\n",
    "            for b in i: \n",
    "                l1_sum += b\n",
    "                l2_sum += b\n",
    "                l3_sum += b\n",
    "                l4_sum += b\n",
    "            l4_sums += [l4_sum]\n",
    "        l3_sums += [l3_sum]\n",
    "    l2_sums += [l2_sum]\n",
    "\n",
    "print(l1_sum)\n",
    "print(l2_sums)\n",
    "print(l3_sums)\n",
    "print(l4_sums)"
   ]
  },
  {
   "cell_type": "code",
   "execution_count": 3,
   "metadata": {},
   "outputs": [
    {
     "name": "stdout",
     "output_type": "stream",
     "text": [
      "1\n",
      "2\n",
      "3\n",
      "4\n",
      "6\n",
      "7\n",
      "8\n",
      "9\n",
      "outside\n"
     ]
    }
   ],
   "source": [
    "l = [1,2,3,4,5,6,7,8,9]\n",
    "for x in l: \n",
    "    if(x == 5):\n",
    "        continue\n",
    "    print(x)\n",
    "print(\"outside\")"
   ]
  },
  {
   "cell_type": "code",
   "execution_count": 12,
   "metadata": {},
   "outputs": [
    {
     "name": "stdout",
     "output_type": "stream",
     "text": [
      "1\n",
      "2\n",
      "3\n",
      "4\n",
      "6\n",
      "this is else situation\n"
     ]
    }
   ],
   "source": [
    "l = [1,2,3,4,5,6]\n",
    "for x in l: \n",
    "    if(x ==5):\n",
    "        continue\n",
    "    print(x)\n",
    "else: \n",
    "    print(\"this is else situation\")"
   ]
  },
  {
   "cell_type": "code",
   "execution_count": 24,
   "metadata": {},
   "outputs": [
    {
     "name": "stdout",
     "output_type": "stream",
     "text": [
      "hello everyone\n",
      "hello everyone\n",
      "{'name': 'erkam', 'surname': 'kavak', 'yaş': 19, None: None}\n"
     ]
    }
   ],
   "source": [
    "sözlük1 = {\n",
    "    \"name\": \"erkam\",\n",
    "    \"surname\": \"kavak\",\n",
    "    \"yaş\": 19,\n",
    "    welcome(): \n",
    "        print(\"hello everyone\"),\n",
    "}\n",
    "print(sözlük1)"
   ]
  },
  {
   "cell_type": "code",
   "execution_count": 28,
   "metadata": {},
   "outputs": [
    {
     "name": "stdout",
     "output_type": "stream",
     "text": [
      "1\n",
      "2\n"
     ]
    }
   ],
   "source": [
    "l = [1,2,3,4]\n",
    "for x in l: \n",
    "    print(x)\n",
    "    if(x > 1):\n",
    "        break\n",
    "else: \n",
    "    print(\"done!\")"
   ]
  },
  {
   "cell_type": "markdown",
   "metadata": {},
   "source": [
    "range'de ikinci girilen sayı alınmaz. range(0,10) aralığında 10 olmaz."
   ]
  },
  {
   "cell_type": "code",
   "execution_count": 35,
   "metadata": {},
   "outputs": [
    {
     "name": "stdout",
     "output_type": "stream",
     "text": [
      "[0, 3, 6, 9]\n",
      "-10 -7 -4 -1 2 5 8\n"
     ]
    }
   ],
   "source": [
    "l = [0,3,6,9]\n",
    "print(l)\n",
    "print(*range(-10,10, 3))"
   ]
  },
  {
   "cell_type": "code",
   "execution_count": 43,
   "metadata": {},
   "outputs": [
    {
     "name": "stdout",
     "output_type": "stream",
     "text": [
      "give me a string, i will check if it is palindrom.aa\n",
      "aa is palindrome\n"
     ]
    }
   ],
   "source": [
    "s = input(\"give me a string, i will check if it is palindrom.\")\n",
    "isPal = True\n",
    "for i in range(0, int(len(s)/2)):\n",
    "    if(s[i] != s[- i - 1]):\n",
    "        isPal = False\n",
    "        break\n",
    "if(isPal):\n",
    "    print(\"{} is palindrome\".format(s))\n",
    "else:\n",
    "    print(\"{} is not palindrome\".format(s))"
   ]
  },
  {
   "cell_type": "markdown",
   "metadata": {},
   "source": [
    "Question 1"
   ]
  },
  {
   "cell_type": "code",
   "execution_count": 3,
   "metadata": {},
   "outputs": [
    {
     "name": "stdout",
     "output_type": "stream",
     "text": [
      "3\n",
      "1\n",
      "21\n",
      "321\n"
     ]
    }
   ],
   "source": [
    "number = int(input())\n",
    "sum = 0\n",
    "for x in range(1, number + 1):\n",
    "    sum += x * 10**(x - 1)\n",
    "    print(sum)"
   ]
  },
  {
   "cell_type": "markdown",
   "metadata": {},
   "source": [
    "Question 2"
   ]
  },
  {
   "cell_type": "code",
   "execution_count": 2,
   "metadata": {},
   "outputs": [
    {
     "name": "stdout",
     "output_type": "stream",
     "text": [
      "7\n",
      "13\n"
     ]
    }
   ],
   "source": [
    "number = int(input())\n",
    "n = 1\n",
    "a = 0\n",
    "for x in range(1, number + 1):\n",
    "    if x % 2 == 1:\n",
    "        a = n + a\n",
    "    else: \n",
    "        n = n + a\n",
    "if number % 2 == 0 :\n",
    "    print(a)\n",
    "else: \n",
    "    print(n)"
   ]
  },
  {
   "cell_type": "markdown",
   "metadata": {},
   "source": [
    "Question 3"
   ]
  },
  {
   "cell_type": "code",
   "execution_count": 40,
   "metadata": {},
   "outputs": [
    {
     "name": "stdout",
     "output_type": "stream",
     "text": [
      "676 1352\n",
      "686 1372\n",
      "767 1534\n"
     ]
    }
   ],
   "source": [
    "numberlist = [z for z in range(500,1000) if str(z)[::-1] == str(z)]\n",
    "pass1 = False\n",
    "for x in numberlist:\n",
    "    a = x*2\n",
    "    allNums = list(str(x))[:2] + list(str(a))\n",
    "    for b in allNums:\n",
    "        if allNums.count(b) > 1:\n",
    "            pass1 = False\n",
    "            break\n",
    "        else:\n",
    "            pass1 = True\n",
    "    if pass1:\n",
    "        print(x, a)"
   ]
  },
  {
   "cell_type": "markdown",
   "metadata": {},
   "source": [
    "Question 4"
   ]
  },
  {
   "cell_type": "code",
   "execution_count": 8,
   "metadata": {},
   "outputs": [
    {
     "name": "stdout",
     "output_type": "stream",
     "text": [
      "111 222 333 370 407 444 481 518 555 592 629 666 777 888 999 "
     ]
    }
   ],
   "source": [
    "sum = 0\n",
    "for x in range(100,1000):\n",
    "    for a in str(x): \n",
    "        sum += 111*int(a)\n",
    "    if sum == 3*x:\n",
    "        print(x, end = \" \")\n",
    "    sum = 0"
   ]
  },
  {
   "cell_type": "markdown",
   "metadata": {},
   "source": [
    "Question 5"
   ]
  },
  {
   "cell_type": "code",
   "execution_count": 2,
   "metadata": {},
   "outputs": [
    {
     "name": "stdout",
     "output_type": "stream",
     "text": [
      "4150\n",
      "4151\n"
     ]
    }
   ],
   "source": [
    "numberlist = [z for z in range(1000,10000)]\n",
    "sum = 0\n",
    "for x in numberlist:\n",
    "    xlist = list(str(x))\n",
    "    for a in xlist: \n",
    "        sum += int(a)**5\n",
    "    if sum == x:\n",
    "        print(x)\n",
    "        sum = 0\n",
    "    else: \n",
    "        sum = 0"
   ]
  },
  {
   "cell_type": "markdown",
   "metadata": {},
   "source": [
    "Question 6"
   ]
  },
  {
   "cell_type": "code",
   "execution_count": 20,
   "metadata": {},
   "outputs": [
    {
     "name": "stdout",
     "output_type": "stream",
     "text": [
      "40\n",
      "2 6\n",
      "6 2\n"
     ]
    }
   ],
   "source": [
    "number = int(input())\n",
    "listNum = [z for z in range(number) if z < number**(1/2)]\n",
    "find = False\n",
    "for x in listNum: \n",
    "    for z in listNum:\n",
    "        if x**2 + z**2 == number:\n",
    "            print(x, z)\n",
    "            find = True\n",
    "if find == False:\n",
    "    print(0)"
   ]
  },
  {
   "cell_type": "markdown",
   "metadata": {},
   "source": [
    "Question 1"
   ]
  },
  {
   "cell_type": "code",
   "execution_count": 23,
   "metadata": {},
   "outputs": [
    {
     "name": "stdout",
     "output_type": "stream",
     "text": [
      "-3\n",
      "11\n",
      "25\n",
      "39\n",
      "53\n",
      "67\n",
      "81\n"
     ]
    }
   ],
   "source": [
    "first = -3\n",
    "for x in range(7):\n",
    "    print(first)\n",
    "    first += 14"
   ]
  },
  {
   "cell_type": "markdown",
   "metadata": {},
   "source": [
    "Question 2"
   ]
  },
  {
   "cell_type": "code",
   "execution_count": 27,
   "metadata": {},
   "outputs": [
    {
     "name": "stdout",
     "output_type": "stream",
     "text": [
      "7\n",
      "16\n"
     ]
    }
   ],
   "source": [
    "number = int(input())\n",
    "numberlist = [x for x in range(number + 1) if x % 2 == 1]\n",
    "sum = 0\n",
    "for a in numberlist: \n",
    "    sum += a\n",
    "print(sum)"
   ]
  },
  {
   "cell_type": "markdown",
   "metadata": {},
   "source": [
    "Question 3"
   ]
  },
  {
   "cell_type": "code",
   "execution_count": 44,
   "metadata": {},
   "outputs": [
    {
     "name": "stdout",
     "output_type": "stream",
     "text": [
      "+-----+\\      /\\      \\ \\      /\\      \\ +-----+"
     ]
    }
   ],
   "source": []
  },
  {
   "cell_type": "markdown",
   "metadata": {},
   "source": [
    "Question 4"
   ]
  },
  {
   "cell_type": "code",
   "execution_count": 33,
   "metadata": {},
   "outputs": [
    {
     "name": "stdout",
     "output_type": "stream",
     "text": [
      " 1   2   3   4   5   6   7   8   9   10 \n",
      " 2   4   6   8   10  12  14  16  18  20 \n",
      " 3   6   9   12  15  18  21  24  27  30 \n",
      " 4   8   12  16  20  24  28  32  36  40 \n",
      " 5   10  15  20  25  30  35  40  45  50 \n",
      " 6   12  18  24  30  36  42  48  54  60 \n",
      " 7   14  21  28  35  42  49  56  63  70 \n",
      " 8   16  24  32  40  48  56  64  72  80 \n",
      " 9   18  27  36  45  54  63  72  81  90 \n",
      " 10  20  30  40  50  60  70  80  90 100 \n"
     ]
    }
   ],
   "source": [
    "for x in range(1, 11):\n",
    "    for a in range(1,11):\n",
    "        print(str(a*x).center(4), end = \"\")\n",
    "    print()"
   ]
  },
  {
   "cell_type": "markdown",
   "metadata": {},
   "source": [
    "Question 5"
   ]
  },
  {
   "cell_type": "code",
   "execution_count": 37,
   "metadata": {},
   "outputs": [
    {
     "name": "stdout",
     "output_type": "stream",
     "text": [
      "0\n",
      "9.81\n",
      "19.62\n",
      "29.43\n",
      "39.24\n",
      "49.050000000000004\n",
      "58.86000000000001\n",
      "68.67\n",
      "78.48\n",
      "88.29\n",
      "98.10000000000001\n"
     ]
    }
   ],
   "source": [
    "t = 10\n",
    "V = 0\n",
    "a = 9.81\n",
    "for x in range(t + 1): \n",
    "    print(V)\n",
    "    V += a"
   ]
  },
  {
   "cell_type": "markdown",
   "metadata": {},
   "source": [
    "Question 6"
   ]
  },
  {
   "cell_type": "code",
   "execution_count": 9,
   "metadata": {},
   "outputs": [
    {
     "name": "stdout",
     "output_type": "stream",
     "text": [
      "999999999888888887777777666666555554444333221"
     ]
    }
   ],
   "source": [
    "for x in range(9):\n",
    "    print(str(9-x)*(9-x), end = \"\")"
   ]
  },
  {
   "cell_type": "markdown",
   "metadata": {},
   "source": [
    "Question 3"
   ]
  },
  {
   "cell_type": "code",
   "execution_count": 5,
   "metadata": {},
   "outputs": [
    {
     "name": "stdout",
     "output_type": "stream",
     "text": [
      "Enter the number that you want to convert from 10-base to 2-base34\n",
      "100010\n"
     ]
    }
   ],
   "source": [
    "number = int(input(\"Enter the number that you want to convert from 10-base to 2-base\"))\n",
    "base_two = []\n",
    "x = 0\n",
    "while x < 20:\n",
    "    if number < 2**x * 2:\n",
    "        base_two.append(x)\n",
    "        number -= 2**x\n",
    "        x = 0\n",
    "    else: \n",
    "        x += 1\n",
    "    if number == 0:\n",
    "        break\n",
    "base_two_num = [\"0\"]*(base_two[0]+1)\n",
    "\n",
    "for a in base_two:\n",
    "    base_two_num[a] = \"1\"\n",
    "base_two_num = \"\".join(reversed(base_two_num))\n",
    "print(base_two_num)"
   ]
  },
  {
   "cell_type": "markdown",
   "metadata": {},
   "source": [
    "Question 4"
   ]
  },
  {
   "cell_type": "code",
   "execution_count": 11,
   "metadata": {},
   "outputs": [
    {
     "name": "stdout",
     "output_type": "stream",
     "text": [
      "Enter the number that you want to convert from 2-base to 10-base100010\n",
      "34\n"
     ]
    }
   ],
   "source": [
    "number = input(\"Enter the number that you want to convert from 2-base to 10-base\")\n",
    "sum = 0\n",
    "for x in range(len(number)):\n",
    "    sum += int(number[x])*(2**(x+1))\n",
    "print(sum)"
   ]
  },
  {
   "cell_type": "markdown",
   "metadata": {},
   "source": [
    "Question 5"
   ]
  },
  {
   "cell_type": "code",
   "execution_count": 12,
   "metadata": {},
   "outputs": [
    {
     "name": "stdout",
     "output_type": "stream",
     "text": [
      "Give your rectangle's size.6 2 8 6\n",
      "xxxxxxxx\n",
      "xxxxxxxx\n",
      "x      x\n",
      "x      x\n",
      "xxxxxxxx\n",
      "xxxxxxxx\n"
     ]
    }
   ],
   "source": [
    "rect = input(\"Give your rectangle's size.\")\n",
    "rect = rect.split(\" \")\n",
    "for x in range(len(rect)):\n",
    "    rect[x] = int(rect[x])\n",
    "\n",
    "for i in range(1, rect[3] + 1):\n",
    "    if(rect[3]/2 - rect[1]/2 < i < rect[3]/2 + rect[1]/2 + 1):\n",
    "        for a in range(1, rect[2] + 1):\n",
    "            if(rect[2]/2 - rect[0]/2 < a < rect[2]/2 + rect[0]/2 + 1):\n",
    "                print(\" \", end = \"\")\n",
    "            else: \n",
    "                print(\"x\", end = \"\")\n",
    "    else:\n",
    "        for a in range(rect[2]):\n",
    "            print(\"x\", end = \"\")\n",
    "    print()"
   ]
  },
  {
   "cell_type": "markdown",
   "metadata": {},
   "source": [
    "Question 6"
   ]
  },
  {
   "cell_type": "code",
   "execution_count": 1,
   "metadata": {},
   "outputs": [
    {
     "name": "stdout",
     "output_type": "stream",
     "text": [
      "aeıi\n",
      "False\n"
     ]
    }
   ],
   "source": [
    "string = input().lower()\n",
    "vovels = \"aeiou\"\n",
    "for x in string:\n",
    "    if x not in vovels:\n",
    "        print(False)\n",
    "        break"
   ]
  },
  {
   "cell_type": "markdown",
   "metadata": {},
   "source": [
    "Question 7"
   ]
  },
  {
   "cell_type": "code",
   "execution_count": 14,
   "metadata": {},
   "outputs": [
    {
     "name": "stdout",
     "output_type": "stream",
     "text": [
      "12 34 1 1\n",
      "1234 0 123 3\n"
     ]
    }
   ],
   "source": [
    "number = int(\"1234\")\n",
    "for x in range(0, 4 , 2):\n",
    "    n1 = number//10**(4 - x - 2) \n",
    "    n2 = number % (n1*10**(4 - x- 2))\n",
    "    n3 = (n1//10) \n",
    "    n4 = n3 % 10\n",
    "    n5 = n1 % 10 \n",
    "    print(n1,n2,n3,n4, n5)"
   ]
  },
  {
   "cell_type": "code",
   "execution_count": 19,
   "metadata": {},
   "outputs": [
    {
     "name": "stdout",
     "output_type": "stream",
     "text": [
      "r y ı u e o\n"
     ]
    }
   ],
   "source": [
    "ilk_metin = \"asdasfddgdhfjfdgdşfkgjdfklgşjdfklgjdfkghdfjghjklsdhajlsdhjkjhkhjjh\"\n",
    "ikinci_metin = \"sdfsuıdoryeuıfsjkdfhdjklghjdfklruseldhfjlkdshfljskeeuf\"\n",
    "ortak_olmayan = set([z for z in ikinci_metin if z not in ilk_metin])\n",
    "print(*ortak_olmayan)"
   ]
  },
  {
   "cell_type": "code",
   "execution_count": 5,
   "metadata": {},
   "outputs": [
    {
     "name": "stdout",
     "output_type": "stream",
     "text": [
      "2650515490688\n",
      "2650515490688\n"
     ]
    }
   ],
   "source": [
    "list = [1]\n",
    "print(id(list))\n",
    "list += [2,34,5,46,234,423,42342,342]\n",
    "print(id(list))"
   ]
  },
  {
   "cell_type": "code",
   "execution_count": 10,
   "metadata": {},
   "outputs": [
    {
     "name": "stdout",
     "output_type": "stream",
     "text": [
      "10\n",
      "10 12 8 5 7 14 20 2 9 21\n",
      "61\n"
     ]
    }
   ],
   "source": [
    "length = input()\n",
    "num_list = input().split()\n",
    "sum = 0\n",
    "for x in range(len(num_list) - 1): \n",
    "    sum += abs(int(num_list[x]) - int(num_list[x + 1]))\n",
    "print(sum)"
   ]
  },
  {
   "cell_type": "code",
   "execution_count": 29,
   "metadata": {},
   "outputs": [
    {
     "name": "stdout",
     "output_type": "stream",
     "text": [
      "10 12 8 5 7 14 20 2 99 21\n",
      "97\n"
     ]
    }
   ],
   "source": [
    "num_list = input().split()\n",
    "max_increment = 0\n",
    "for x in range(len(num_list) - 1): \n",
    "    dif = int(num_list[x + 1]) - int(num_list[x])\n",
    "    if dif > max_increment: \n",
    "        max_increment = dif\n",
    "print(max_increment)"
   ]
  },
  {
   "cell_type": "code",
   "execution_count": 23,
   "metadata": {},
   "outputs": [
    {
     "name": "stdout",
     "output_type": "stream",
     "text": [
      "2,34,5,46,234,423,42342,342\n",
      "5\n",
      "[1, 4, 0]\n"
     ]
    }
   ],
   "source": [
    "num_list = input().split(\",\")\n",
    "ascending_nums = [0]\n",
    "for x in range(len(num_list) - 1): \n",
    "    if int(num_list[x + 1]) > int(num_list[x]): \n",
    "        ascending_nums[-1] += 1\n",
    "    else: \n",
    "        ascending_nums.append(0)\n",
    "print(max(ascending_nums) + 1)\n",
    "print(ascending_nums)"
   ]
  },
  {
   "cell_type": "code",
   "execution_count": 26,
   "metadata": {},
   "outputs": [
    {
     "name": "stdout",
     "output_type": "stream",
     "text": [
      "4 h # 6 c c & 8 ( a t t Q Q $\n",
      "2\n"
     ]
    }
   ],
   "source": [
    "liste = input().split()\n",
    "repeatings = {}\n",
    "for x in liste:\n",
    "    repeatings[x] = repeatings.get(x, 0) + 1\n",
    "print(max(repeatings.values()))"
   ]
  },
  {
   "cell_type": "code",
   "execution_count": 34,
   "metadata": {},
   "outputs": [
    {
     "name": "stdout",
     "output_type": "stream",
     "text": [
      "2 a b\n",
      "2 b a\n",
      "a b "
     ]
    }
   ],
   "source": [
    "set1 = input().split()[1:]\n",
    "set2 = input().split()[1:]\n",
    "intersect = []\n",
    "for x in set1:\n",
    "    if x in set2: \n",
    "        intersect.append(x)\n",
    "print(*intersect, end = \" \")"
   ]
  },
  {
   "cell_type": "code",
   "execution_count": 37,
   "metadata": {},
   "outputs": [
    {
     "name": "stdout",
     "output_type": "stream",
     "text": [
      "9 a b c d e 1 2 3 4\n",
      "9 c d e f g 6 7 8 9\n",
      "a b 1 2 3 4 "
     ]
    }
   ],
   "source": [
    "set1 = input().split()[1:]\n",
    "set2 = input().split()[1:]\n",
    "distinction = []\n",
    "for x in set1:\n",
    "    if not x in set2: \n",
    "        distinction.append(x)\n",
    "print(*distinction, end = \" \")"
   ]
  },
  {
   "cell_type": "code",
   "execution_count": 40,
   "metadata": {},
   "outputs": [
    {
     "name": "stdout",
     "output_type": "stream",
     "text": [
      "9 a b c d e 1 2 3 4\n",
      "9 c d e f g 6 7 8 9\n",
      "a b c d e 1 2 3 4 f g 6 7 8 9 "
     ]
    }
   ],
   "source": [
    "set1 = input().split()[1:]\n",
    "set2 = input().split()[1:]\n",
    "for x in set2:\n",
    "    if not x in set1: \n",
    "        set1.append(x)\n",
    "print(*set1, end = \" \")"
   ]
  },
  {
   "cell_type": "code",
   "execution_count": 32,
   "metadata": {},
   "outputs": [
    {
     "name": "stdout",
     "output_type": "stream",
     "text": [
      "[[1, 2, 3, 4], [5, 6, 7, 8], [9, 10, 11, 12]]\n",
      "[[1, 5, 9], [2, 6, 10], [3, 7, 11], [4, 8, 12]]\n",
      "[[1, 5, 9], [2, 6, 10], [3, 7, 11], [4, 8, 12]]\n",
      "[[1, 5, 9], [2, 6, 10], [3, 7, 11], [4, 8, 12]]\n"
     ]
    }
   ],
   "source": [
    "mm = [[1, 2, 3, 4],[5, 6, 7, 8],[9, 10, 11, 12]]\n",
    "tr_mm=[]\n",
    "for colIndex in range(4):\n",
    "    #creat a new row for column indexed by colIndex\n",
    "    new_row=[]\n",
    "    for row in mm:\n",
    "        new_row.append(row[colIndex])\n",
    "    tr_mm.append(new_row)\n",
    "print(mm)\n",
    "print(tr_mm)\n",
    "\n",
    "tr_mm = [[row[x] for row in mm]  for x in range(len(mm[0]))] \n",
    "print(tr_mm)\n",
    "\n",
    "tr_mm = [[row[colIndex] for row in mm] for colIndex in range(4)]\n",
    "print(tr_mm)"
   ]
  },
  {
   "cell_type": "code",
   "execution_count": 92,
   "metadata": {},
   "outputs": [
    {
     "name": "stdout",
     "output_type": "stream",
     "text": [
      "0\n",
      "0\n",
      "0\n",
      "1\n",
      "2\n",
      "0\n",
      "0\n",
      "0\n",
      "1\n",
      "2\n",
      "0\n",
      "0\n",
      "0\n",
      "1\n",
      "2\n",
      "['', '', '', '', '', '', '12', '13', '14', '14', '14', '123', '134', '134', '1234']\n"
     ]
    }
   ],
   "source": [
    "list = [1, 2, 3, 4]\n",
    "str_list = [str(z) for z in list]\n",
    "subsets = []\n",
    "for a in range(1, len(list)):\n",
    "    Cstr_list = str_list.copy()\n",
    "    for x in range(len(list)):\n",
    "        for y in range(len(list) - x - 1):\n",
    "            add = \"\".join(Cstr_list[x : x+a+1])\n",
    "            subsets.append(add)\n",
    "            print(x)\n",
    "            try: \n",
    "                Cstr_list.pop(x + 1)\n",
    "            except: \n",
    "                break\n",
    "        \n",
    "subsets.sort(key = len)\n",
    "print(subsets)\n",
    "  "
   ]
  },
  {
   "cell_type": "code",
   "execution_count": 39,
   "metadata": {},
   "outputs": [
    {
     "name": "stdout",
     "output_type": "stream",
     "text": [
      "['1', '2', '3', '4', '12', '13', '23', '14', '24', '34', '123', '124', '134', '234', '1234']\n"
     ]
    }
   ],
   "source": [
    "lst=[1,2,3,4]\n",
    "subsets = []\n",
    "for n in range(2**(len(lst))):\n",
    "    bin_lst=[]\n",
    "    add = \"\"\n",
    "    while(True):\n",
    "        bin_lst.insert(0,n%2)\n",
    "        n = n//2\n",
    "        if (n==0):\n",
    "            break\n",
    "    for i in range(len(bin_lst),len(lst)):\n",
    "        bin_lst.insert(0,0)\n",
    "    for i in range(len(bin_lst)):\n",
    "        if (bin_lst[i]==1):\n",
    "            add = str(lst[4-(i+1)]) + add\n",
    "            if not add in subsets:\n",
    "                subsets.append(add)\n",
    "subsets.sort(key = len)\n",
    "print(subsets)"
   ]
  },
  {
   "cell_type": "code",
   "execution_count": null,
   "metadata": {},
   "outputs": [],
   "source": [
    "lst=['a','b','c']\n",
    "lenn=len(lst)\n",
    "for n in range(2**(lenn)):\n",
    "    print(n,end=': ')\n",
    "    #transform n to binary (binary is a list)\n",
    "    bin_lst=[]\n",
    "    powers=[2**i for i in range(lenn-1,-1,-1)]\n",
    "    for p in powers:\n",
    "        bin_lst.append(n//p)\n",
    "        n = n % p\n",
    "    \n",
    "    #print out the characters\n",
    "    print(bin_lst,': ',end='')\n",
    "    for i in range(len(bin_lst)):\n",
    "        if (bin_lst[i]==1):\n",
    "            print(lst[i],end=' ')\n",
    "        else:\n",
    "            print(' ',end=' ')\n",
    "        \n",
    "    print() "
   ]
  },
  {
   "cell_type": "code",
   "execution_count": 18,
   "metadata": {},
   "outputs": [
    {
     "name": "stdout",
     "output_type": "stream",
     "text": [
      "150\n",
      "13\n",
      "13 26 39 52 65 78 91 104 117 130 143 6 20 34 48 62 76 90 105 119 133 147 11 27 42 57 72 87 102 118 134 149 15 31 47 64 81 97 113 129 146 14 32 50 68 85 103 122 139 7 25 45 66 84 106 124 142 12 35 55 75 96 116 138 9 33 56 79 100 125 148 21 44 70 94 120 144 19 46 73 99 127 3 30 60 89 115 150 28 59 92 123 4 38 71 108 137 23 61 98 135 22 63 107 141 37 80 121 16 58 110 5 53 109 8 67 114 24 83 140 51 126 40 101 29 95 36 112 49 136 82 18 132 88 69 41 10 2 17 54 77 93 128 145 43 111 74 86 131 1 "
     ]
    }
   ],
   "source": [
    "rangeN = int(input())\n",
    "k = int(input())\n",
    "liste = [z + 1 for z in range(rangeN)]\n",
    "for x in range(rangeN):\n",
    "    print(liste.pop((k - 1) % len(liste)), end = \" \")\n",
    "    liste = liste[k - 1:] + liste[:k-1]"
   ]
  },
  {
   "cell_type": "code",
   "execution_count": 16,
   "metadata": {},
   "outputs": [
    {
     "name": "stdout",
     "output_type": "stream",
     "text": [
      "6\n",
      "[[1], [1, 1], [1, 2, 1], [1, 3, 3, 1], [1, 4, 6, 4, 1], [1, 5, 10, 10, 5, 1], [1, 6, 15, 20, 15, 6, 1]]\n",
      "1\n",
      "1 1\n",
      "1 2 1\n",
      "1 3 3 1\n",
      "1 4 6 4 1\n",
      "1 5 10 10 5 1\n",
      "1 6 15 20 15 6 1\n"
     ]
    }
   ],
   "source": [
    "length = int(input())\n",
    "binom = [[1]]\n",
    "for x in range(length):\n",
    "    add_list = []\n",
    "    add_list.append(1)\n",
    "    for a in range(len(binom[x])- 1):\n",
    "        add_list.append(binom[x][a] + binom[x][a + 1])\n",
    "    add_list.append(1)\n",
    "    binom.append(add_list)\n",
    "print(binom)\n",
    "for x in binom: \n",
    "    print(*x, end = \"\")\n",
    "    print()"
   ]
  },
  {
   "cell_type": "code",
   "execution_count": 4,
   "metadata": {},
   "outputs": [
    {
     "name": "stdout",
     "output_type": "stream",
     "text": [
      "3\n",
      "4 9 2 3 5 7 8 1 6\n",
      "1\n"
     ]
    }
   ],
   "source": [
    "length = int(input())\n",
    "square = input().split()\n",
    "matrix = []\n",
    "for x in range(len(square)//length):\n",
    "    matrix.append(square[:length])\n",
    "    square = square[length:]\n",
    "magic = True\n",
    "equation = length*(length**2 + 1)/2\n",
    "diagSum = 0\n",
    "for x in matrix: \n",
    "    rowSum = 0\n",
    "    for a in x: \n",
    "        rowSum += int(a)\n",
    "    if rowSum != equation: \n",
    "        magic = False\n",
    "for a in range(len(matrix)):\n",
    "    colSum = 0\n",
    "    for x in matrix:\n",
    "        colSum += int(x[a])\n",
    "    if colSum != equation:\n",
    "        magic = False\n",
    "\n",
    "print(int(magic))"
   ]
  },
  {
   "cell_type": "code",
   "execution_count": 32,
   "metadata": {},
   "outputs": [
    {
     "name": "stdout",
     "output_type": "stream",
     "text": [
      "13\n",
      "2\n",
      "24 26\n",
      "22 25\n",
      "19 23\n",
      "15 20\n",
      "10 16\n",
      "4 11\n",
      "-3 5\n",
      "-11 -2\n",
      "-20 -10\n",
      "-30 -19\n",
      "-41 -29\n",
      "-53 -40\n",
      "1 -52\n"
     ]
    }
   ],
   "source": [
    "M = int(input())\n",
    "N = int(input())\n",
    "matrix = []\n",
    "for x in range(M):\n",
    "    matrix.append([0]*N)\n",
    "count = 0\n",
    "for a in range(M):\n",
    "    for b in range(a, -1, -1):\n",
    "        count += 1\n",
    "        try: \n",
    "            matrix[b][a - b] = count\n",
    "        except: \n",
    "            continue\n",
    "for x in matrix: \n",
    "    x.reverse()\n",
    "matrix.reverse()\n",
    "count = M*N + 1\n",
    "for a in range(M):\n",
    "    for b in range(a, -1, -1):\n",
    "        count -= 1\n",
    "        try: \n",
    "            matrix[b][a - b] = count\n",
    "        except: \n",
    "            continue\n",
    "for x in matrix: \n",
    "    x.reverse()\n",
    "for x in matrix: \n",
    "    print(*x)"
   ]
  },
  {
   "cell_type": "code",
   "execution_count": 5,
   "metadata": {},
   "outputs": [
    {
     "name": "stdout",
     "output_type": "stream",
     "text": [
      "2\n",
      "13\n",
      "1  3  5  7  9  11 13 15 17 19 21 25 27 \n",
      "2  4  6  8  10 12 14 16 18 20 24 26 28 \n"
     ]
    }
   ],
   "source": [
    "M = int(input())\n",
    "N = int(input())\n",
    "matrix = []\n",
    "for x in range(M):\n",
    "    matrix.append([0]*N)\n",
    "count = 1\n",
    "for a in range(M):\n",
    "    for b in range(a, -1, -1):\n",
    "        try:\n",
    "            matrix[b][a-b] = count\n",
    "            count += 1\n",
    "        except: \n",
    "            continue\n",
    "for x in range(N - 2*M + 1):\n",
    "    for b in range(M -1, -1, -1):\n",
    "        try:\n",
    "            matrix[b][x + M - b] = count\n",
    "            count += 1\n",
    "        except: \n",
    "            continue\n",
    "e = N - 2*M if N- 2*M > 0 else 0\n",
    "for d in range(M + 1):\n",
    "    for b in range(M-1, -1, -1):\n",
    "        try: \n",
    "            matrix[b][d + e + M -b] = count\n",
    "            count += 1\n",
    "        except: \n",
    "             continue\n",
    "for x in matrix: \n",
    "    for a in x:\n",
    "        print(\"{}\".format(a).center(2), end = \" \")\n",
    "    print()\n"
   ]
  },
  {
   "cell_type": "code",
   "execution_count": 1,
   "metadata": {},
   "outputs": [],
   "source": [
    "def con_n0s(lst, n ):\n",
    "    for i in range(len(lst)- (n-1)):\n",
    "        if (lst[i: i+ n] == [0]*n):\n",
    "            return True\n",
    "    return False"
   ]
  },
  {
   "cell_type": "code",
   "execution_count": 5,
   "metadata": {},
   "outputs": [
    {
     "name": "stdout",
     "output_type": "stream",
     "text": [
      "5\n",
      "3\n",
      "1\n",
      "1\n"
     ]
    },
    {
     "ename": "TypeError",
     "evalue": "<lambda>() missing 1 required positional argument: 'y'",
     "output_type": "error",
     "traceback": [
      "\u001b[1;31m---------------------------------------------------------------------------\u001b[0m",
      "\u001b[1;31mTypeError\u001b[0m                                 Traceback (most recent call last)",
      "\u001b[1;32m<ipython-input-5-ed3d5ea92294>\u001b[0m in \u001b[0;36m<module>\u001b[1;34m\u001b[0m\n\u001b[0;32m      6\u001b[0m     \u001b[0mdogsSizeDif\u001b[0m \u001b[1;33m=\u001b[0m \u001b[0mmap\u001b[0m\u001b[1;33m(\u001b[0m\u001b[1;32mlambda\u001b[0m \u001b[0mx\u001b[0m\u001b[1;33m,\u001b[0m \u001b[0my\u001b[0m\u001b[1;33m:\u001b[0m \u001b[0my\u001b[0m \u001b[1;33m-\u001b[0m \u001b[0mx\u001b[0m\u001b[1;33m,\u001b[0m \u001b[0mdogsSize\u001b[0m\u001b[1;33m)\u001b[0m\u001b[1;33m\u001b[0m\u001b[1;33m\u001b[0m\u001b[0m\n\u001b[0;32m      7\u001b[0m     \u001b[0mprint\u001b[0m\u001b[1;33m(\u001b[0m\u001b[0mlist\u001b[0m\u001b[1;33m(\u001b[0m\u001b[0mdogsSizeDif\u001b[0m\u001b[1;33m)\u001b[0m\u001b[1;33m)\u001b[0m\u001b[1;33m\u001b[0m\u001b[1;33m\u001b[0m\u001b[0m\n\u001b[1;32m----> 8\u001b[1;33m \u001b[0mfindOptimal\u001b[0m\u001b[1;33m(\u001b[0m\u001b[1;36m4\u001b[0m\u001b[1;33m,\u001b[0m \u001b[1;36m2\u001b[0m\u001b[1;33m)\u001b[0m\u001b[1;33m\u001b[0m\u001b[1;33m\u001b[0m\u001b[0m\n\u001b[0m",
      "\u001b[1;32m<ipython-input-5-ed3d5ea92294>\u001b[0m in \u001b[0;36mfindOptimal\u001b[1;34m(dogsN, walkerN)\u001b[0m\n\u001b[0;32m      5\u001b[0m     \u001b[0mdogsSize\u001b[0m \u001b[1;33m=\u001b[0m \u001b[0msorted\u001b[0m\u001b[1;33m(\u001b[0m\u001b[0mdogsSize\u001b[0m\u001b[1;33m)\u001b[0m\u001b[1;33m\u001b[0m\u001b[1;33m\u001b[0m\u001b[0m\n\u001b[0;32m      6\u001b[0m     \u001b[0mdogsSizeDif\u001b[0m \u001b[1;33m=\u001b[0m \u001b[0mmap\u001b[0m\u001b[1;33m(\u001b[0m\u001b[1;32mlambda\u001b[0m \u001b[0mx\u001b[0m\u001b[1;33m,\u001b[0m \u001b[0my\u001b[0m\u001b[1;33m:\u001b[0m \u001b[0my\u001b[0m \u001b[1;33m-\u001b[0m \u001b[0mx\u001b[0m\u001b[1;33m,\u001b[0m \u001b[0mdogsSize\u001b[0m\u001b[1;33m)\u001b[0m\u001b[1;33m\u001b[0m\u001b[1;33m\u001b[0m\u001b[0m\n\u001b[1;32m----> 7\u001b[1;33m     \u001b[0mprint\u001b[0m\u001b[1;33m(\u001b[0m\u001b[0mlist\u001b[0m\u001b[1;33m(\u001b[0m\u001b[0mdogsSizeDif\u001b[0m\u001b[1;33m)\u001b[0m\u001b[1;33m)\u001b[0m\u001b[1;33m\u001b[0m\u001b[1;33m\u001b[0m\u001b[0m\n\u001b[0m\u001b[0;32m      8\u001b[0m \u001b[0mfindOptimal\u001b[0m\u001b[1;33m(\u001b[0m\u001b[1;36m4\u001b[0m\u001b[1;33m,\u001b[0m \u001b[1;36m2\u001b[0m\u001b[1;33m)\u001b[0m\u001b[1;33m\u001b[0m\u001b[1;33m\u001b[0m\u001b[0m\n",
      "\u001b[1;31mTypeError\u001b[0m: <lambda>() missing 1 required positional argument: 'y'"
     ]
    }
   ],
   "source": [
    "def findOptimal(dogsN, walkerN):\n",
    "    dogsSize = [] \n",
    "    for x in range(dogsN):\n",
    "        dogsSize.append(input())\n",
    "    dogsSize = sorted(dogsSize)\n",
    "    print(dogsSize)\n",
    "    dogsSizeDif = map(lambda x, y:, dogsSize)\n",
    "    print(list(dogsSizeDif))\n",
    "findOptimal(4, 2)"
   ]
  },
  {
   "cell_type": "code",
   "execution_count": 19,
   "metadata": {},
   "outputs": [
    {
     "name": "stdout",
     "output_type": "stream",
     "text": [
      "['s', 't', 'r']\n"
     ]
    }
   ],
   "source": [
    "lst = []\n",
    "lst += \"str\"\n",
    "print(lst)"
   ]
  }
 ],
 "metadata": {
  "kernelspec": {
   "display_name": "Python 3",
   "language": "python",
   "name": "python3"
  },
  "language_info": {
   "codemirror_mode": {
    "name": "ipython",
    "version": 3
   },
   "file_extension": ".py",
   "mimetype": "text/x-python",
   "name": "python",
   "nbconvert_exporter": "python",
   "pygments_lexer": "ipython3",
   "version": "3.8.5"
  }
 },
 "nbformat": 4,
 "nbformat_minor": 4
}
