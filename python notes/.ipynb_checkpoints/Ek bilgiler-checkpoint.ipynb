{
 "cells": [
  {
   "cell_type": "markdown",
   "metadata": {},
   "source": [
    "repr() methodu bir stringi tırnak işaretleri, kaçış işaretleri gibi her şeyini alarak geri döndürür. "
   ]
  },
  {
   "cell_type": "code",
   "execution_count": 5,
   "metadata": {},
   "outputs": [
    {
     "name": "stdout",
     "output_type": "stream",
     "text": [
      "Erkam Kavak \n",
      " Merhabalar \t Nasılsınız?\n",
      "'Erkam Kavak \\n Merhabalar \\t Nasılsınız?'\n"
     ]
    }
   ],
   "source": [
    "print(\"Erkam Kavak \\n Merhabalar \\t Nasılsınız?\")\n",
    "print(repr(\"Erkam Kavak \\n Merhabalar \\t Nasılsınız?\"))\n"
   ]
  },
  {
   "cell_type": "markdown",
   "metadata": {},
   "source": [
    "title() methodu stringte her kelimenin sadece ilk karakterini büyük yaparak geri döndürür."
   ]
  },
  {
   "cell_type": "code",
   "execution_count": 6,
   "metadata": {},
   "outputs": [
    {
     "name": "stdout",
     "output_type": "stream",
     "text": [
      "Erkam Kavak\n"
     ]
    }
   ],
   "source": [
    "string = \"erkam kavak\"\n",
    "print(string.title())"
   ]
  },
  {
   "cell_type": "markdown",
   "metadata": {},
   "source": [
    "Pythonda sayı halindeki tuple'ları, listleri ve stringleri de karşılaştırabiliriz. Tuple'ları ve listleri karşılaştırırken her indexi birbiri ile karşılaştırır. İlk farklı olan durumdaki indexde karşılaştırmayı yapar ve boolean değeri geri döndürür, geriye kalanlara bakmaz. Eğer listin veya tuple'ın her ögesi bir rakam ise aslında tupledaki veya listteki sayıları birleştirip oluşan sayıları karşılaştırır. "
   ]
  },
  {
   "cell_type": "code",
   "execution_count": 7,
   "metadata": {},
   "outputs": [
    {
     "name": "stdout",
     "output_type": "stream",
     "text": [
      "False\n",
      "True\n",
      "False\n",
      "False\n"
     ]
    }
   ],
   "source": [
    "tpl1 = (1,2,3,4)\n",
    "tpl2 = (1,2,3,5)\n",
    "print(tpl1 > tpl2) #Burda 1234 ile 1235 i karşılaştırır. \n",
    "tpl3 = (1,5,0,1)\n",
    "tpl4 = (1,0,5,5)\n",
    "print(tpl3> tpl4) #Burda 1501 ile 1055 i karşılaştırır. \n",
    "lst1 = [1,0,5,5]\n",
    "lst2 = [1,3,2,1]\n",
    "print(lst1 > lst2)#Burda 1055 ile 1321 i karşılaştırır.\n",
    "lst3 = [23,32,2,1]\n",
    "lst4 = [2,33,22,2]\n",
    "print(lst4 > lst3) #Burda 23 2'den büyük olduğu için false döndürür."
   ]
  },
  {
   "cell_type": "markdown",
   "metadata": {},
   "source": [
    "Stringlerin karşılaştırmasında direk sayılar karşılaştırılır. "
   ]
  },
  {
   "cell_type": "code",
   "execution_count": 11,
   "metadata": {},
   "outputs": [
    {
     "name": "stdout",
     "output_type": "stream",
     "text": [
      "False\n"
     ]
    }
   ],
   "source": [
    "str1 = \"123\"\n",
    "str2 = \"132\"\n",
    "print(str1 > str2)"
   ]
  },
  {
   "cell_type": "markdown",
   "metadata": {},
   "source": [
    "tuple'larda sort methodu yoktur ancak sorted fonksiyonu ile tuple'ları da sıralayabiliriz. Bu yöntemi kullanarak dictionaryden items methodu ile tuple çağırdığımızda dictionary'i istediğimiz gibi sıralayabiliriz.  "
   ]
  },
  {
   "cell_type": "code",
   "execution_count": 1,
   "metadata": {},
   "outputs": [
    {
     "name": "stdout",
     "output_type": "stream",
     "text": [
      "[1, 2, 3, 5, 6, 8, 23]\n",
      "[('a', 1), ('b', 10), ('c', 22)]\n",
      "('c', 22)('b', 10)('a', 1)"
     ]
    }
   ],
   "source": [
    "tpl1 = (1,23,6,3,2,8,5)\n",
    "print(sorted(tpl1))\n",
    "c = {'b':10, 'a':1, 'c':22}\n",
    "t = sorted(c.items())\n",
    "print(t)\n",
    "\n",
    "for x in sorted(c.items(), reverse = True):\n",
    "    print(x, end = \"\")"
   ]
  },
  {
   "cell_type": "markdown",
   "metadata": {},
   "source": [
    "Pythonda bir fonksiyon parametresi olan şeye sadece ekleme yapabilir(list veya dict ise). Bu parametreyi başka bir şekilde değiştiremez. Fonksiyonun içinde parametreyi çağırıp yeni bir şeye eşitlediğimiz zaman aslında o parametrenin sadece ismini çağırmış olur ve aynı isimli farklı bir değişken oluşturmuş oluruz. Ancak bu parametreyi eşitleme dışında başka yerlerde kullandığımızda(mesela listin herhangi bir elemanını bir işlemin içinde kullandığımızda) parametrenin asıl değeri çağrılır.(aslında eşitleme işlemlerinde de parametrenin asıl değeri çağrılır ancak bu değeri başka bir şeye eşitlemek istediğimizde asıl değeri değişmez, yerine başka bir değişken oluşturulur)   "
   ]
  },
  {
   "cell_type": "code",
   "execution_count": 3,
   "metadata": {},
   "outputs": [
    {
     "name": "stdout",
     "output_type": "stream",
     "text": [
      "Erkam-Kavak-\n",
      "Erkam Kavak \n"
     ]
    }
   ],
   "source": [
    "def change_string(string):\n",
    "    string = string.replace(\" \", \"-\")\n",
    "    print(string)\n",
    "adım = \"Erkam Kavak \"\n",
    "change_string(adım)\n",
    "print(adım) # ilk belirlediğim stringi değiştirmeden geri döndürür. "
   ]
  },
  {
   "cell_type": "markdown",
   "metadata": {},
   "source": [
    "Bu sorunu engellemek için birden fazla çözüm yolu vardır. Bunlardan biri dışarıdaki değeri global keywordu ile içeri almak(yani bu değerin aslını içeri çağırmak) ve işlemlerimizi bu değer üzerinden yapmak iken(bu yöntem her zaman işimize yaramayabilir) diğer bir yöntem parametre üzerinde yaptığımız değişikliklerden sonra yeni değişkeni return etmek ve fonksiyonu çağırırken fonksiyonun değerini değişkenimize eşitlemektir."
   ]
  },
  {
   "cell_type": "code",
   "execution_count": 10,
   "metadata": {},
   "outputs": [
    {
     "name": "stdout",
     "output_type": "stream",
     "text": [
      "Erkam-Kavak-\n",
      "Erkam-Kavak-\n",
      "Mustafa-Can-\n",
      "Mustafa-Can-\n"
     ]
    }
   ],
   "source": [
    "name = \"Erkam Kavak \"\n",
    "def change_string():\n",
    "    global name #görüldüğü gibi çok etkili bir yöntem değil\n",
    "    name = name.replace(\" \", \"-\")\n",
    "    print(name)\n",
    "change_string()\n",
    "print(name) \n",
    "\n",
    "name = \"Mustafa Can \"\n",
    "def change_string(string):\n",
    "    string = string.replace(\" \", \"-\")\n",
    "    print(string)\n",
    "    return string\n",
    "name = change_string(name)\n",
    "print(name)"
   ]
  },
  {
   "cell_type": "code",
   "execution_count": null,
   "metadata": {},
   "outputs": [],
   "source": []
  }
 ],
 "metadata": {
  "kernelspec": {
   "display_name": "Python 3",
   "language": "python",
   "name": "python3"
  },
  "language_info": {
   "codemirror_mode": {
    "name": "ipython",
    "version": 3
   },
   "file_extension": ".py",
   "mimetype": "text/x-python",
   "name": "python",
   "nbconvert_exporter": "python",
   "pygments_lexer": "ipython3",
   "version": "3.8.5"
  }
 },
 "nbformat": 4,
 "nbformat_minor": 4
}
