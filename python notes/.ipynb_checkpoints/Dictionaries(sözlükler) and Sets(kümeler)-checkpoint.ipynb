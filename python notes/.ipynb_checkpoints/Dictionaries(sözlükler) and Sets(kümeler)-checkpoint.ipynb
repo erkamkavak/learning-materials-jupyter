{
 "cells": [
  {
   "cell_type": "markdown",
   "metadata": {},
   "source": [
    "Dictionaryler içinde birden fazla anahtar(key) ve değer(value) bulundurabilen yapılardır. Dictionarylerde key-value yapısı bir olarak görünür ve uzunluk bulunurken buna göre bulunur. "
   ]
  },
  {
   "cell_type": "code",
   "execution_count": 2,
   "metadata": {},
   "outputs": [
    {
     "name": "stdout",
     "output_type": "stream",
     "text": [
      "2\n"
     ]
    }
   ],
   "source": [
    "dict1 = {\n",
    "    \"name\": \"erkam\", \n",
    "    \"surname\": \"kavak\"\n",
    "}\n",
    "print(len(dict1))"
   ]
  },
  {
   "cell_type": "markdown",
   "metadata": {},
   "source": [
    "Dictionary'nin value değerine key değeri üzerinden erişilebilir."
   ]
  },
  {
   "cell_type": "code",
   "execution_count": 5,
   "metadata": {},
   "outputs": [
    {
     "name": "stdout",
     "output_type": "stream",
     "text": [
      "erkam\n"
     ]
    }
   ],
   "source": [
    "dict1 = {\n",
    "    \"name\": \"erkam\",\n",
    "    \"surname\": \"kavak\"\n",
    "}\n",
    "print(dict1[\"name\"])"
   ]
  },
  {
   "cell_type": "markdown",
   "metadata": {},
   "source": [
    "Dictionarylerde sıralama mantığı yoktur ve değerlere sıraları üzerinden ulaşamazsınız. "
   ]
  },
  {
   "cell_type": "code",
   "execution_count": 11,
   "metadata": {},
   "outputs": [
    {
     "name": "stdout",
     "output_type": "stream",
     "text": [
      "404\n",
      "True\n"
     ]
    }
   ],
   "source": [
    "dict1 = {\"1\": 1, \"2\": 2, \"3\": 3}\n",
    "dict2 = {\"2\": 2, \"1\": 1, \"3\": 3}\n",
    "try: \n",
    "    print(dict1[1])\n",
    "except: \n",
    "    print(\"404\")\n",
    "print(dict1 == dict2)"
   ]
  },
  {
   "cell_type": "markdown",
   "metadata": {},
   "source": [
    "Dictionary'ler mutable(değiştirilebilir) veri tipleridir. Dictionary'lere değer(value) olarak bütün veri tiplerini verebiliriz. Ancak anahtar(key)'lar sadece immutable türler(string, number, tuple) olabilir. "
   ]
  },
  {
   "cell_type": "code",
   "execution_count": 35,
   "metadata": {},
   "outputs": [
    {
     "name": "stdout",
     "output_type": "stream",
     "text": [
      "('name', 'erkam') ('age', 18) ('bornTime', ('xx', 'xx', 2001)) ('properties', ['student', 'brother']) (1, 'first quality') (('name', 'age'), ('erkam', 18))\n",
      "name age bornTime properties 1 ('name', 'age')\n"
     ]
    }
   ],
   "source": [
    "dict1 = {}\n",
    "dict1[\"name\"] = \"erkam\"\n",
    "dict1[\"age\"] = 18\n",
    "dict1[\"bornTime\"] = (\"xx\",\"xx\",2001)\n",
    "dict1[\"properties\"] = [\"student\", \"brother\"]\n",
    "dict1[1] = \"first quality\"\n",
    "dict1[(\"name\", \"age\")] = (\"erkam\", 18)\n",
    "print(*dict1.items())"
   ]
  },
  {
   "cell_type": "markdown",
   "metadata": {},
   "source": [
    "Listlerde olduğu gibi dictionarylerde de dictionary oluşumunu kolaylaştıran üreteçler vardır. "
   ]
  },
  {
   "cell_type": "code",
   "execution_count": 39,
   "metadata": {},
   "outputs": [
    {
     "name": "stdout",
     "output_type": "stream",
     "text": [
      "6\n",
      "{'ahmet': 5, 'mehmet': 6, 'fırat': 5, 'zeynep': 6, 'selma': 5, 'abdullah': 8, 'cem': 3}\n"
     ]
    }
   ],
   "source": [
    "alfabe = 'abcçdefgğhıijklmnoöprsştuüvyz'\n",
    "sıralı_alfabe = {i: alfabe.index(i) + 1 for i in alfabe}\n",
    "print(sıralı_alfabe[\"e\"])\n",
    "\n",
    "isimler = [\"ahmet\", \"mehmet\", \"fırat\", \"zeynep\", \"selma\", \"abdullah\", \"cem\"]\n",
    "len_isimler = {x : len(x) for x in isimler}\n",
    "print(len_isimler)"
   ]
  },
  {
   "cell_type": "markdown",
   "metadata": {},
   "source": [
    "### Sözlüklerin Methodları"
   ]
  },
  {
   "cell_type": "markdown",
   "metadata": {},
   "source": [
    "keys() methodu sözlüğün sadece anahtar değerlerine ulaşabilmemizi sağlar. values() methodu ise sadece value değerlerine ulaşabilmemizi sağlar. items() methodu ise her ikisine de ulaşabilmemizi sağlar. \n",
    "\n",
    "Bu methodların döndürdüğü değerlerin türleri kendilerine özgüdür. Yani keys() methodu dict_keys türünde döndürürken diğerleri kendi türlerinde döndürürler. Türleri farklı olmasına rağmen bu türlerin hepsi iterable türlerdir.(for döngüsünde veya * spread operatörüyle birlikte kullanılabilirler) Ayrıca bu türler list, tuple veya stringe dönüşebilen türlerdir. "
   ]
  },
  {
   "cell_type": "code",
   "execution_count": 48,
   "metadata": {},
   "outputs": [
    {
     "name": "stdout",
     "output_type": "stream",
     "text": [
      "dict_keys(['a', 'b', 'c', 'd'])\n",
      "dict_values([0, 1, 2, 3])\n",
      "dict_items([('a', 0), ('b', 1), ('c', 2), ('d', 3)])\n",
      "<class 'dict_keys'>\n",
      "<class 'dict_values'>\n",
      "<class 'dict_items'>\n",
      "\n",
      "['a', 'b', 'c', 'd']\n",
      "(0, 1, 2, 3)\n",
      "abcd\n"
     ]
    }
   ],
   "source": [
    "dict1 = {\"a\": 0, \"b\": 1, \"c\": 2, \"d\": 3}\n",
    "print(dict1.keys())#tüm değerleri liste koyup geri döndürecektir.\n",
    "print(dict1.values())#tüm değerleri liste koyup geri döndürecektir.\n",
    "print(dict1.items())#key ve value değerlerini aynı tuple'a koyup geri döndürecektir. \n",
    "\n",
    "print(type(dict1.keys()))\n",
    "print(type(dict1.values()))\n",
    "print(type(dict1.items()))\n",
    "\n",
    "print()\n",
    "print(list(dict1.keys()))\n",
    "print(tuple(dict1.values()))\n",
    "print(\"\".join(dict1.keys())) #join ile verileri birleştirirken tüm veri tiplerinin aynı olması gerekir."
   ]
  },
  {
   "cell_type": "markdown",
   "metadata": {},
   "source": [
    "get() methodu sözlükte herhangi bir key'e ulaşmaya çalıştığımızda eğer bu key sözlükte yoksa ne döndürülmesi gerektiğini belirtmemizi sağlayan methoddur. Bu methodun ilk parametresine sözlükte ulaşmaya çalıştığımız keyi, ikinci parametresine eğer bu key sözlükte yoksa döndürülmesini istediğimiz şeyi yazarız.   "
   ]
  },
  {
   "cell_type": "code",
   "execution_count": 51,
   "metadata": {},
   "outputs": [
    {
     "name": "stdout",
     "output_type": "stream",
     "text": [
      "0\n",
      "bulunamadı\n"
     ]
    }
   ],
   "source": [
    "dict1= {\"a\": 0,  \"b\": 1, \"c\": 2, \"d\": 3}\n",
    "print(dict1.get(\"a\", \"bulunamadı\"))\n",
    "print(dict1.get(\"z\", \"bulunamadı\"))"
   ]
  },
  {
   "cell_type": "markdown",
   "metadata": {},
   "source": [
    "get methodu ile farklı işlemler de yapabiliriz. Mesela bir stringdeki her karakterin sayısıyla bir dict oluştururken ilk önce sözlükte bu karakter key olarak var mı diye bakarız, eğer varsa bu karakterin değerini alır ve 1 ekleriz, eğer yoksa bu karakteri 0 a eşitler ve yine 1 ekleriz. Bunu get methoduyla çok basit bir şekilde yapabiliriz."
   ]
  },
  {
   "cell_type": "code",
   "execution_count": 93,
   "metadata": {},
   "outputs": [
    {
     "name": "stdout",
     "output_type": "stream",
     "text": [
      "{'L': 5, 'o': 10, 'r': 44, 'e': 46, 'm': 28, ' ': 73, 'I': 4, 'p': 9, 's': 20, 'u': 16, ',': 3, 'd': 20, 'i': 29, 'z': 8, 'g': 6, 'v': 3, 'b': 10, 'a': 55, 'k': 17, 'ı': 38, 'n': 32, 'ü': 11, 't': 18, 'l': 32, '.': 4, 'y': 14, 'c': 3, 'h': 2, 'f': 1, 'ş': 8, 'ğ': 3, '1': 2, '5': 1, '0': 3, \"'\": 2, 'B': 1, 'ç': 3, '9': 1, '6': 1, 'j': 1, 'A': 1, 'P': 1, 'M': 1}\n"
     ]
    }
   ],
   "source": [
    "number_of_chars = {}\n",
    "string = \"Lorem Ipsum, dizgi ve baskı endüstrisinde kullanılan mıgır metinlerdir. Lorem Ipsum, adı bilinmeyen bir matbaacının bir hurufat numune kitabı oluşturmak üzere bir yazı galerisini alarak karıştırdığı 1500'lerden beri endüstri standardı sahte metinler olarak kullanılmıştır. Beşyüz yıl boyunca varlığını sürdürmekle kalmamış, aynı zamanda pek değişmeden elektronik dizgiye de sıçramıştır. 1960'larda Lorem Ipsum pasajları da içeren Letraset yapraklarının yayınlanması ile ve yakın zamanda Aldus PageMaker gibi Lorem Ipsum sürümleri içeren masaüstü yayıncılık yazılımları ile popüler olmuştur.\"\n",
    "for x in string:\n",
    "    number_of_chars[x] = number_of_chars.get(x, 0) + 1#Eğer sözlükte karakter varsa onun değerini döndürür, yoksa 0 döndürür.\n",
    "print(number_of_chars)"
   ]
  },
  {
   "cell_type": "markdown",
   "metadata": {},
   "source": [
    "clear methodu bir sözlüğün içeriğini silmemizi sağlayan methoddur. "
   ]
  },
  {
   "cell_type": "code",
   "execution_count": 57,
   "metadata": {},
   "outputs": [
    {
     "name": "stdout",
     "output_type": "stream",
     "text": [
      "{}\n"
     ]
    }
   ],
   "source": [
    "dict1 = {\n",
    "    \"a\": 1,\n",
    "    \"b\": 2\n",
    "}\n",
    "dict1.clear()\n",
    "print(dict1)"
   ]
  },
  {
   "cell_type": "markdown",
   "metadata": {},
   "source": [
    "copy methodu bir sözlüğün daha sonra orijinaline bağlı olmayan kopyasını oluşturmamızı sağlar."
   ]
  },
  {
   "cell_type": "code",
   "execution_count": 61,
   "metadata": {},
   "outputs": [
    {
     "name": "stdout",
     "output_type": "stream",
     "text": [
      "{'a': 1, 'b': 2}\n",
      "{'a': 12, 'b': 2}\n"
     ]
    }
   ],
   "source": [
    "dict1 = { \n",
    "    \"a\": 1,\n",
    "    \"b\": 2\n",
    "}\n",
    "dict2 = dict1.copy()\n",
    "dict2[\"a\"] = 12\n",
    "print(dict1)\n",
    "print(dict2)"
   ]
  },
  {
   "cell_type": "markdown",
   "metadata": {},
   "source": [
    "fromkeys() methodu bir sözlükteki veya herhangi bir sıralı veri türündeki değerleri alıp bunların key olduğu yeni bir sözlük oluşturmamızı sağlayan methoddur. Bu yeni oluşan sözlükteki keylerin hepsinin value değeri aynı olur. Bu method dict keywordu üzerinde çalışır ve 2 parametre alır. 1.parametre keylerin alınacağı sözlüğü, ikinci parametre ise yeni value değerini belirtir."
   ]
  },
  {
   "cell_type": "code",
   "execution_count": 71,
   "metadata": {},
   "outputs": [
    {
     "name": "stdout",
     "output_type": "stream",
     "text": [
      "{'ahmet': 'Amerika', 'can': 'Amerika', 'umut': 'Amerika'}\n",
      "{'ahmet': 'İngiltere', 'can': 'İngiltere', 'umut': 'İngiltere'}\n",
      "{'ahmet': 'İtalya', 'can': 'İtalya', 'umut': 'İtalya'}\n"
     ]
    }
   ],
   "source": [
    "kişilerDict = {\n",
    "    \"ahmet\": \"İstanbul\",\n",
    "    \"can\": \"Ankara\",\n",
    "    \"umut\": \"Diyarbakır\"\n",
    "}\n",
    "kişiler2 = dict.fromkeys(kişilerDict, \"Amerika\")\n",
    "print(kişiler2)\n",
    "\n",
    "kişilerSıralı = \"ahmet\", \"can\", \"umut\"\n",
    "kişiler3 = dict.fromkeys(kişilerSıralı, \"İngiltere\")\n",
    "print(kişiler3)\n",
    "\n",
    "kişilerList = [\"ahmet\", \"can\", \"umut\"]\n",
    "kişiler4 = dict.fromkeys(kişilerList, \"İtalya\")\n",
    "print(kişiler4)"
   ]
  },
  {
   "cell_type": "markdown",
   "metadata": {},
   "source": [
    "pop methodu tıpkı listlerde olduğu gibi sözlüklerde de herhangi bir ögeyi silmemizi sağlar. pop methodunda get methodunda olduğu gibi eğer silinmesi istenen değer yoksa yapılmasını istediğimiz şeyi belirtebiliriz. "
   ]
  },
  {
   "cell_type": "code",
   "execution_count": 77,
   "metadata": {},
   "outputs": [
    {
     "name": "stdout",
     "output_type": "stream",
     "text": [
      "('elma', 'armut')\n",
      "{'sebzeler': ('pırasa', 'fasulye')}\n",
      "silinecek öge bulunamadı\n"
     ]
    }
   ],
   "source": [
    "sepet = {\"meyveler\": (\"elma\", \"armut\"), \"sebzeler\": (\"pırasa\", \"fasulye\")}\n",
    "print(sepet.pop(\"meyveler\"))\n",
    "print(sepet)\n",
    "\n",
    "sepet.pop(\"çikolata\", print(\"silinecek öge bulunamadı\"))"
   ]
  },
  {
   "cell_type": "markdown",
   "metadata": {},
   "source": [
    "popitem() methodu sözlükten rastgele öge silinmesini sağlayan methoddur. "
   ]
  },
  {
   "cell_type": "markdown",
   "metadata": {},
   "source": [
    "setdefault() methodu bir sözlüğe sözlükte olmayan bir keyi atamamızı sağlar. 2 parametre alır ve bunlardan ilki sözlüğe eklenecek key değeri iken ikincisi key değerinin value'sıdır. Eğer key değeri sözlükte yoksa bu keyi sözlüğe ekler ancak varsa keyin value'sını değiştirmez, sadece geri döndürür. "
   ]
  },
  {
   "cell_type": "code",
   "execution_count": 86,
   "metadata": {},
   "outputs": [
    {
     "name": "stdout",
     "output_type": "stream",
     "text": [
      "{'meyveler': ('elma', 'armut'), 'sebzeler': ('pırasa', 'fasulye'), 'içecekler': ('ayran', 'cola')}\n",
      "{'meyveler': ('elma', 'armut'), 'sebzeler': ('pırasa', 'fasulye'), 'içecekler': ('ayran', 'cola')}\n",
      "('elma', 'armut')\n"
     ]
    }
   ],
   "source": [
    "sepet = {\"meyveler\": (\"elma\", \"armut\"), \"sebzeler\": (\"pırasa\", \"fasulye\")}\n",
    "sepet.setdefault(\"içecekler\", (\"ayran\", \"cola\"))\n",
    "print(sepet)\n",
    "\n",
    "sepet.setdefault(\"meyveler\", (\"erik\", \"şeftali\"))#Zaten meyveler değeri olduğu için meyveler değerini ekleyemeyecek veya değiştiremeyecektir.\n",
    "print(sepet)\n",
    "\n",
    "print(sepet.setdefault(\"meyveler\", (\"erik\", \"şeftali\")))#Değiştiremediği bu keyin valuesını geri döndürecektir."
   ]
  },
  {
   "cell_type": "code",
   "execution_count": 87,
   "metadata": {},
   "outputs": [
    {
     "name": "stdout",
     "output_type": "stream",
     "text": [
      "{'L': 5, 'o': 10, 'r': 44, 'e': 46, 'm': 28, ' ': 73, 'I': 4, 'p': 9, 's': 20, 'u': 16, ',': 3, 'd': 20, 'i': 29, 'z': 8, 'g': 6, 'v': 3, 'b': 10, 'a': 55, 'k': 17, 'ı': 38, 'n': 32, 'ü': 11, 't': 18, 'l': 32, '.': 4, 'y': 14, 'c': 3, 'h': 2, 'f': 1, 'ş': 8, 'ğ': 3, '1': 2, '5': 1, '0': 3, \"'\": 2, 'B': 1, 'ç': 3, '9': 1, '6': 1, 'j': 1, 'A': 1, 'P': 1, 'M': 1}\n"
     ]
    }
   ],
   "source": [
    "#Get methodunda yaptığımız şeyi setdefault methodu ile de yapabiliriz.\n",
    "number_of_chars = {}\n",
    "string = \"Lorem Ipsum, dizgi ve baskı endüstrisinde kullanılan mıgır metinlerdir. Lorem Ipsum, adı bilinmeyen bir matbaacının bir hurufat numune kitabı oluşturmak üzere bir yazı galerisini alarak karıştırdığı 1500'lerden beri endüstri standardı sahte metinler olarak kullanılmıştır. Beşyüz yıl boyunca varlığını sürdürmekle kalmamış, aynı zamanda pek değişmeden elektronik dizgiye de sıçramıştır. 1960'larda Lorem Ipsum pasajları da içeren Letraset yapraklarının yayınlanması ile ve yakın zamanda Aldus PageMaker gibi Lorem Ipsum sürümleri içeren masaüstü yayıncılık yazılımları ile popüler olmuştur.\"\n",
    "for x in string:\n",
    "    number_of_chars[x] = number_of_chars.setdefault(x, 0) + 1 #eğer sözlükte x değeri varsa bu değeri geri döndürür, eğer yoksa x değerini 0'a eşitler.\n",
    "print(number_of_chars)"
   ]
  },
  {
   "cell_type": "markdown",
   "metadata": {},
   "source": [
    "update() methodu bir sözlüğü güncellememizi sağlayan methoddur. Bu güncellemede sözlüğün ilk halindeki value'ları değiştirebilir, sözlüğe yeni key'ler ekleyebilir veya hem keyin hem value'nın aynı kalmasını sağlayabiliriz. update methodu parametre olarak yeni sözlük alır. "
   ]
  },
  {
   "cell_type": "code",
   "execution_count": 91,
   "metadata": {},
   "outputs": [
    {
     "name": "stdout",
     "output_type": "stream",
     "text": [
      "{'elma': 10, 'armut': 10, 'peynir': 6}\n",
      "{'elma': 10, 'armut': 10, 'peynir': 6, 'muz': 5}\n"
     ]
    }
   ],
   "source": [
    "miktarlar = {\"elma\": 4, \"armut\": 10, \"peynir\": 6}\n",
    "miktarlar.update({\"elma\": 10})\n",
    "print(miktarlar)\n",
    "\n",
    "miktarlar.update({\"muz\": 5})#muz eklenirken diğerleri aynı kalacak\n",
    "print(miktarlar)"
   ]
  },
  {
   "cell_type": "markdown",
   "metadata": {},
   "source": [
    "# Set"
   ]
  },
  {
   "cell_type": "markdown",
   "metadata": {},
   "source": [
    "Setler(kümeler) set methodu ile oluşturulur. Eğer kümede birden fazla değer olmasını istiyorsak başka veri tiplerinden(list, tuple, string, dict) faydalanmalıyız. Kümeler iterable veri tipleridir. "
   ]
  },
  {
   "cell_type": "code",
   "execution_count": 104,
   "metadata": {},
   "outputs": [
    {
     "name": "stdout",
     "output_type": "stream",
     "text": [
      "{'araba', 'armut', 'elma'}\n",
      "<class 'set'>\n",
      "{'araba', 'armut', 'elma'}\n",
      "{'r', 'e', 'l', 't', 'a', 'u', ' ', 'm', 'b'}\n",
      "{'araba', 'armut', 'elma'}\n",
      "araba armut elma\n"
     ]
    }
   ],
   "source": [
    "küme1 = set([\"elma\", \"armut\", \"araba\"])\n",
    "print(küme1)\n",
    "print(type(küme1))\n",
    "\n",
    "küme2 = set((\"elma\", \"armut\", \"araba\"))\n",
    "print(küme2)\n",
    "\n",
    "küme3 = set(\"elma armut araba\") #parametre olarak string konulduğunda tüm karakterleri ayırarak set oluşturacaktır.\n",
    "print(küme3)\n",
    "\n",
    "küme4 = set({1:\"elma\", 2:\"armut\", 3: \"araba\"}.values())#Aslında default olarak sözlükteki keyleri setin içine alır ancak values methodu ile bunu değiştirebiliriz.\n",
    "print(küme4)\n",
    "\n",
    "print(*küme1)"
   ]
  },
  {
   "cell_type": "markdown",
   "metadata": {},
   "source": [
    "Setlerin farklı bir oluşturulabilme seçenekleri daha vardır. {} parantezleri içine eğer ögeleri : işareti koymadan yazarsak oluşan şey sözlük değil bir set olur.  "
   ]
  },
  {
   "cell_type": "code",
   "execution_count": 106,
   "metadata": {},
   "outputs": [
    {
     "name": "stdout",
     "output_type": "stream",
     "text": [
      "{'araba', 'armut', 'elma'}\n",
      "<class 'set'>\n"
     ]
    }
   ],
   "source": [
    "küme = {\"elma\", \"armut\", \"araba\"}\n",
    "print(küme)\n",
    "print(type(küme))"
   ]
  },
  {
   "cell_type": "markdown",
   "metadata": {},
   "source": [
    "Kümelerin en önemli özelliği bir kümede aynı ögeden iki tane bulunmaz(yani kümenin ögeleri unique'dir). Eğer bir kümeye aynı değerden iki tane koyulursa bunlardan sadece 1'i kümede gözükecektir. "
   ]
  },
  {
   "cell_type": "code",
   "execution_count": 110,
   "metadata": {},
   "outputs": [
    {
     "name": "stdout",
     "output_type": "stream",
     "text": [
      "{'thing2', 'thing1', 'thing3'}\n",
      "{'a', 'o', 'b'}\n"
     ]
    }
   ],
   "source": [
    "küme = set([\"thing1\", \"thing2\", \"thing3\", \"thing1\" , \"thing1\", \"thing2\"])\n",
    "print(küme)\n",
    "\n",
    "print(set(\"oooooooooooaaaaaaaaaaaaabbbbbbbbbbb\"))#stringi parçalar ve ögelerini unique olarak alır."
   ]
  },
  {
   "cell_type": "markdown",
   "metadata": {},
   "source": [
    "Setlerde de sözlüklerde olduğu gibi ögelerin sırası önemsizdir. Setlerden index ile bir öge çağıramayız. "
   ]
  },
  {
   "cell_type": "code",
   "execution_count": 114,
   "metadata": {},
   "outputs": [
    {
     "name": "stdout",
     "output_type": "stream",
     "text": [
      "True\n"
     ]
    }
   ],
   "source": [
    "küme1 = {\"elma\", \"armut\", \"muz\"}\n",
    "küme2 = {\"armut\", \"muz\", \"elma\"}\n",
    "print(küme1 == küme2)"
   ]
  },
  {
   "cell_type": "markdown",
   "metadata": {},
   "source": [
    "Üreteçler [] parantezleri içinde ise list oluştururken eğer {} parantezleri içinde ise set oluşturur.  "
   ]
  },
  {
   "cell_type": "code",
   "execution_count": 2,
   "metadata": {},
   "outputs": [
    {
     "name": "stdout",
     "output_type": "stream",
     "text": [
      "{'s', 'f', 'c', 'a', 'b', 'd'}\n"
     ]
    }
   ],
   "source": [
    "set1 = {z for z in \"abcdabaabcdasf\"}\n",
    "print(set1)"
   ]
  },
  {
   "cell_type": "markdown",
   "metadata": {},
   "source": [
    "setlerin birçok methodu vardır. Setler matematikte kümeler gibi olduğu için methodları da genel olarak küme methodları gibidir."
   ]
  },
  {
   "cell_type": "code",
   "execution_count": 9,
   "metadata": {},
   "outputs": [
    {
     "name": "stdout",
     "output_type": "stream",
     "text": [
      "add  clear  copy  difference  difference_update  discard  intersection  intersection_update  isdisjoint  issubset  issuperset  pop  remove  symmetric_difference  symmetric_difference_update  union  update\n"
     ]
    }
   ],
   "source": [
    "print(*[z for z in dir(set) if not z.startswith(\"_\")], sep = \"  \")"
   ]
  },
  {
   "cell_type": "markdown",
   "metadata": {},
   "source": [
    "clear methodu sözlüklerde olduğu gibi setlerde de setin içeriğini temizler. "
   ]
  },
  {
   "cell_type": "code",
   "execution_count": 11,
   "metadata": {},
   "outputs": [
    {
     "name": "stdout",
     "output_type": "stream",
     "text": [
      "{0, 1, 2, 3, 4, 5, 6, 7, 8, 9, 10, 11, 12, 13, 14, 15, 16, 17, 18, 19}\n",
      "set()\n"
     ]
    }
   ],
   "source": [
    "set1 = {z for z in range(20)}\n",
    "print(set1)\n",
    "set1.clear()\n",
    "print(set1)#boş küme"
   ]
  },
  {
   "cell_type": "markdown",
   "metadata": {},
   "source": [
    "copy methodu listlerde olduğu gibi setlerde de setin kopyasını oluşturur. Oluşan kopyanın index sırası farklı olabilir."
   ]
  },
  {
   "cell_type": "code",
   "execution_count": 16,
   "metadata": {},
   "outputs": [
    {
     "name": "stdout",
     "output_type": "stream",
     "text": [
      "{'r', 'n', 'a', 'h', 'ş', 'm', 'k'}\n",
      "{'m', 'r', 'k', 'n', 'ş', 'a', 'h'}\n"
     ]
    }
   ],
   "source": [
    "set1 = set(\"kahramanmaraş\")\n",
    "print(set1)\n",
    "set2 = set1.copy()\n",
    "print(set2)"
   ]
  },
  {
   "cell_type": "markdown",
   "metadata": {},
   "source": [
    "Kümeler mutable veri tipleridir. Kümeye add methodu ile yeni bir öge ekleyebiliriz. Dictionarylerde olduğu gibi setlerde de ögeler ancak immutable olan(değiştirilemeyen) veri tipleri olabilir. Yani sete öge olarak sadece string, sayı ve tuple ekleyebiliriz. list, dictionary ve başka bir set eklenemez.  "
   ]
  },
  {
   "cell_type": "code",
   "execution_count": 62,
   "metadata": {},
   "outputs": [
    {
     "name": "stdout",
     "output_type": "stream",
     "text": [
      "{'erik', 'elma', 'kavun', 'armut'}\n"
     ]
    }
   ],
   "source": [
    "meyveler = {\"elma\", \"armut\", \"kavun\"}\n",
    "meyveler.add(\"erik\")\n",
    "#meyveler += {\"ananas\"} setlerde bu şekilde bir toplama işlemi yoktur.\n",
    "print(meyveler)#Yeni gelen öge setin sonuna gelmeyebilir. "
   ]
  },
  {
   "cell_type": "markdown",
   "metadata": {},
   "source": [
    "difference methodu bir kümenin başka bir kümeden farkını bulur ve geri döndürür. difference methodunun yaptığı işin aynısını - işareti ile de yapabiliriz(önce yazılan kümeden sonra yazılan kümenin farkını bulur). "
   ]
  },
  {
   "cell_type": "code",
   "execution_count": 25,
   "metadata": {},
   "outputs": [
    {
     "name": "stdout",
     "output_type": "stream",
     "text": [
      "{1, 2, 3}\n",
      "{8, 9, 7}\n",
      "{1, 2, 3}\n",
      "{8, 9, 7}\n"
     ]
    }
   ],
   "source": [
    "set1 = {1,2,3,4,5,6}\n",
    "set2 = {4,5,6,7,8,9}\n",
    "print(set1.difference(set2))\n",
    "print(set2.difference(set1))\n",
    "\n",
    "print(set1-set2)\n",
    "print(set2-set1)"
   ]
  },
  {
   "cell_type": "markdown",
   "metadata": {},
   "source": [
    "difference_update methodu bir kümenin başka bir kümeden farkını bulur ve ilk kümeyi bu farka eşitler. Yani ilk kümeden ortak olan elemanları çıkarır. Bu method difference methodu gibi farkı döndürmez. Farkı direk ilk kümeye eşitler."
   ]
  },
  {
   "cell_type": "code",
   "execution_count": 29,
   "metadata": {},
   "outputs": [
    {
     "name": "stdout",
     "output_type": "stream",
     "text": [
      "{1, 2, 3}\n"
     ]
    }
   ],
   "source": [
    "set1 = {1,2,3,4,5,6}\n",
    "set2 = {4,5,6,7,8,9}\n",
    "set1.difference_update(set2)\n",
    "print(set1)"
   ]
  },
  {
   "cell_type": "markdown",
   "metadata": {},
   "source": [
    "discard methodu setten herhangi bir ögeyi silmemizi sağlar. remove methodu da discard methodunun yaptığı işin aynısını yapar ancak tek farkları remove methodu silinmesi istenen öge sette yoksa hata verirken discard methodu hata vermez.  "
   ]
  },
  {
   "cell_type": "code",
   "execution_count": 34,
   "metadata": {},
   "outputs": [
    {
     "name": "stdout",
     "output_type": "stream",
     "text": [
      "{'köpek', 'kuş', 'deve', 'at', 'inek'}\n",
      "{'köpek', 'kuş', 'deve', 'at', 'inek'}\n",
      "{'kuş', 'deve', 'at', 'inek'}\n",
      "hayvan bulunamadı.\n"
     ]
    }
   ],
   "source": [
    "hayvanlar = set([\"kedi\", \"köpek\", \"at\", \"kuş\", \"inek\", \"deve\"])\n",
    "hayvanlar.discard(\"kedi\")\n",
    "print(hayvanlar)\n",
    "hayvanlar.discard(\"koyun\")#Bulamaz ve hiçbir şey yapmaz.(hata vermez)\n",
    "print(hayvanlar)\n",
    "\n",
    "hayvanlar.remove(\"köpek\")\n",
    "print(hayvanlar)\n",
    "try: \n",
    "    hayvanlar.remove(\"koyun\")\n",
    "except: \n",
    "    print(\"hayvan bulunamadı.\")"
   ]
  },
  {
   "cell_type": "markdown",
   "metadata": {},
   "source": [
    "intersection methodu iki kümenin kesişimini bulur ve geri döndürür. Bu methodun yaptığı işi & operatörü ile de yapabiliriz. "
   ]
  },
  {
   "cell_type": "code",
   "execution_count": 39,
   "metadata": {},
   "outputs": [
    {
     "name": "stdout",
     "output_type": "stream",
     "text": [
      "{4, 5, 6}\n",
      "{4, 5, 6}\n",
      "Bir kelime girin.üzüm\n",
      "yazdığınız kelimede türkçe harfler bulunuyor.\n"
     ]
    }
   ],
   "source": [
    "set1 = {1,2,3,4,5,6}\n",
    "set2 = {4,5,6,7,8,9}\n",
    "print(set1.intersection(set2))\n",
    "print(set1 & set2)\n",
    "\n",
    "türkçe = \"şöüğçı\"\n",
    "kelime = input(\"Bir kelime girin.\") \n",
    "if set(türkçe) & set(kelime):\n",
    "    print(\"yazdığınız kelimede türkçe harfler bulunuyor.\")"
   ]
  },
  {
   "cell_type": "markdown",
   "metadata": {},
   "source": [
    "intersection_update methodu ilk yazılan kümenin ikinci yazılan küme ile kesişimini bulur ve ilk kümeyi bu kesişime eşitler. Tıpkı difference_update methodunda olduğu gibi bu methodda da bir şey geri döndürülmez, eşitleme olur."
   ]
  },
  {
   "cell_type": "code",
   "execution_count": 41,
   "metadata": {},
   "outputs": [
    {
     "name": "stdout",
     "output_type": "stream",
     "text": [
      "{4, 5, 6}\n"
     ]
    }
   ],
   "source": [
    "set1 = {1,2,3,4,5,6}\n",
    "set2 = {4,5,6,7,8,9}\n",
    "set1.intersection_update(set2)\n",
    "print(set1)"
   ]
  },
  {
   "cell_type": "markdown",
   "metadata": {},
   "source": [
    "isdisjoint methodu bir kümenin başka bir küme ile kesişimi olup olmadığını kontrol eder ve eğer kesişimi yoksa True değerini gönderir, varsa False değerini gönderir. "
   ]
  },
  {
   "cell_type": "code",
   "execution_count": 44,
   "metadata": {},
   "outputs": [
    {
     "name": "stdout",
     "output_type": "stream",
     "text": [
      "False\n",
      "True\n"
     ]
    }
   ],
   "source": [
    "set1 = {1,2,3,4,5,6}\n",
    "set2 = {4,5,6,7,8,9}\n",
    "print(set1.isdisjoint(set2))\n",
    "set3 = {7,8,9}\n",
    "print(set1.isdisjoint(set3))"
   ]
  },
  {
   "cell_type": "markdown",
   "metadata": {},
   "source": [
    "issubset methodu bir kümenin başka bir kümenin alt kümesi olup olmadığını kontrol eder ve eğer alt kümesi ise True değerini gönderir, eğer alt kümesi değilse False değerini gönderir.\n",
    "\n",
    "issuperset methodu ise issubset methodunun yaptığının tam tersini yapar ve bir kümenin başka bir kümenin üst kümesi olup olmadığını kontrol eder. Boolean değer geri döndürür. "
   ]
  },
  {
   "cell_type": "code",
   "execution_count": 50,
   "metadata": {},
   "outputs": [
    {
     "name": "stdout",
     "output_type": "stream",
     "text": [
      "False\n",
      "True\n",
      "True\n",
      "True\n"
     ]
    }
   ],
   "source": [
    "set1 = {1,2,3,4,5,6}\n",
    "set2 = {4,5,6,7,8,9}\n",
    "print(set1.issubset(set2))\n",
    "\n",
    "\n",
    "set3 = {1,2,3,4,5,6,7,8,9}\n",
    "print(set1.issubset(set3))\n",
    "print(set3.issuperset(set1))\n",
    "\n",
    "print(set1.issubset(set1))#iki tane aynı küme de birbirinin alt kümesi sayılır. "
   ]
  },
  {
   "cell_type": "markdown",
   "metadata": {},
   "source": [
    "union methodu iki kümeyi alıp birleştirir ve geri döndürür. | operatörü de union methodunun yaptığı işi yapar. "
   ]
  },
  {
   "cell_type": "code",
   "execution_count": 53,
   "metadata": {},
   "outputs": [
    {
     "name": "stdout",
     "output_type": "stream",
     "text": [
      "{1, 2, 3, 4, 5, 6, 7, 8, 9}\n",
      "{1, 2, 3, 4, 5, 6, 7, 8, 9}\n"
     ]
    }
   ],
   "source": [
    "set1 = {1,2,3,4,5,6}\n",
    "set2 = {4,5,6,7,8,9}\n",
    "print(set1.union(set2))\n",
    "print(set1 | set2)"
   ]
  },
  {
   "cell_type": "markdown",
   "metadata": {},
   "source": [
    "update methodu bir seti güncelleştirmemizi sağlar. update methodu ile bir sete başka bir set ekleyebiliriz. "
   ]
  },
  {
   "cell_type": "code",
   "execution_count": 59,
   "metadata": {},
   "outputs": [
    {
     "name": "stdout",
     "output_type": "stream",
     "text": [
      "{'kavun', 'karpuz', 'armut', 'elma', 'ayva'}\n"
     ]
    }
   ],
   "source": [
    "sepet = {\"elma\", \"armut\", \"ayva\"}\n",
    "yeni = {\"kavun\", \"karpuz\"}\n",
    "#sepet += yeni Setlerde bu şekilde bir ekleme işlemi olmaz.\n",
    "sepet.update(yeni)\n",
    "print(sepet)"
   ]
  },
  {
   "cell_type": "markdown",
   "metadata": {},
   "source": [
    "difference methodu bir kümenin başka bir kümeden farkını buluyordu. difference methodunda kümelerin yerleri değiştiğinde geri dönen şey de değişiyordu yani sadece ilk yazılan setin farkını gönderiyordu. symmetric_difference methodu ile iki kümede de olan farkı tek seferde döndürebiliriz. "
   ]
  },
  {
   "cell_type": "code",
   "execution_count": 65,
   "metadata": {},
   "outputs": [
    {
     "name": "stdout",
     "output_type": "stream",
     "text": [
      "{1, 2, 3, 7, 8, 9}\n",
      "{1, 2, 3, 7, 8, 9}\n"
     ]
    }
   ],
   "source": [
    "set1 = {1,2,3,4,5,6}\n",
    "set2 = {4,5,6,7,8,9}\n",
    "print(set1.symmetric_difference(set2))\n",
    "print(set2.symmetric_difference(set1)) #aynı değeri vericekler"
   ]
  },
  {
   "cell_type": "markdown",
   "metadata": {},
   "source": [
    "symmetric_difference_update difference_update methodunun yaptığı işin çok benzerini yapar.  "
   ]
  },
  {
   "cell_type": "code",
   "execution_count": 66,
   "metadata": {},
   "outputs": [
    {
     "name": "stdout",
     "output_type": "stream",
     "text": [
      "{1, 2, 3, 7, 8, 9}\n"
     ]
    }
   ],
   "source": [
    "set1 = {1,2,3,4,5,6}\n",
    "set2 = {4,5,6,7,8,9}\n",
    "set1.symmetric_difference_update(set2)#toplam farkı set1 kümesine eşitler.\n",
    "print(set1)"
   ]
  },
  {
   "cell_type": "markdown",
   "metadata": {},
   "source": [
    "pop methodu setler üzerinde de çalışır. pop methodu ile listler üzerinde index ile elemanları silebiliyorduk. Set türünde index olmadığı için pop methodu set üzerinde çalıştığında rastgele bir elemanı siler. "
   ]
  },
  {
   "cell_type": "code",
   "execution_count": 68,
   "metadata": {},
   "outputs": [
    {
     "name": "stdout",
     "output_type": "stream",
     "text": [
      "{'kuş', 'deve', 'at', 'kedi', 'inek'}\n"
     ]
    }
   ],
   "source": [
    "hayvanlar = set([\"kedi\", \"köpek\", \"at\", \"kuş\", \"inek\", \"deve\"])\n",
    "hayvanlar.pop()\n",
    "print(hayvanlar)"
   ]
  },
  {
   "cell_type": "markdown",
   "metadata": {},
   "source": [
    "frozenset denilen veri türü set'in immutable olan halidir.(listin tuple'ı gibi) frozensetler değiştirilemezler ve dictionarylerin key değeri olarak kullanılabilirler. "
   ]
  },
  {
   "cell_type": "code",
   "execution_count": 69,
   "metadata": {},
   "outputs": [
    {
     "name": "stdout",
     "output_type": "stream",
     "text": [
      "frozenset({1, 2, 3, 14, 54, 23})\n",
      "Sayı eklenemiyor.\n"
     ]
    }
   ],
   "source": [
    "donuk_küme = frozenset([1,2,3,2,1,14,54,23])\n",
    "print(donuk_küme)\n",
    "try: \n",
    "    donuk_küme.add(410)\n",
    "except: \n",
    "    print(\"Sayı eklenemiyor.\")"
   ]
  }
 ],
 "metadata": {
  "kernelspec": {
   "display_name": "Python 3",
   "language": "python",
   "name": "python3"
  },
  "language_info": {
   "codemirror_mode": {
    "name": "ipython",
    "version": 3
   },
   "file_extension": ".py",
   "mimetype": "text/x-python",
   "name": "python",
   "nbconvert_exporter": "python",
   "pygments_lexer": "ipython3",
   "version": "3.8.5"
  }
 },
 "nbformat": 4,
 "nbformat_minor": 4
}
