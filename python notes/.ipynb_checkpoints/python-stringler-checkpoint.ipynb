{
 "cells": [
  {
   "cell_type": "code",
   "execution_count": 35,
   "metadata": {},
   "outputs": [
    {
     "name": "stdout",
     "output_type": "stream",
     "text": [
      "google\n",
      "Avcı ne kadar hile bilirse ayı da o kadar yol bilir\n",
      "İtnu\n"
     ]
    }
   ],
   "source": [
    "\"\"\"\n",
    "listlerde belli aralıktaki sayıları almak istiyorsak :: işaretini kullanırız. Burda ikinci : işareti optional'dır. \n",
    "[sayı1: sayı2] sayı1'deki indexden sayı2'deki indexe kadarki değerleri alır. sayı1'i alırken sayı2'yi almaz. \n",
    "[:sayı] 0'dan bu sayıdaki indexe kadarki değerleri alır. (Aslında boş bıraktığımız yerde 0 vardır)\n",
    "[sayı:] Bu sayıdaki indexden sona kadarki değerleri alır. (Aslında boş bıraktığımız yerde list uzunluğu vardır)\n",
    "Bu şekilde aralık almada - li sayı girilirse listin sonundan başlayarak düşünülür. \n",
    "stringleri de list gibi düşünerek string içindeki karakterleri list içindeki karakterleri çağırdığımız gibi çağırabiliriz. \n",
    "string'e list muamelesi yaptığımızda python otomatik olarak stringi tüm karakterleri ayrılmış haldeki bir list gibi düşünür.\n",
    "İkinci :'ı kullandığımız durumlar : Eğer değerleri belli bir aralık ile almak istiyorsak kullanabiliriz. Normalde default olarak\n",
    "bu değer 1'dir yani hiç aralık olmaz. Ancak bunu 2 yaparsak değerleri 2'li atlaya atlaya alacaktır. \n",
    "\"\"\"\n",
    "site1 = \"www.google.com\"\n",
    "print(site1[4:-4]) #4.indexden sondan 4.indexe kadarki değerleri alır. Burda -4'üncü değer e olmasına rağmen e'yi de alır.\n",
    "atasöz = \"Avcı ne kadar hile bilirse ayı da o kadar yol bilir!\"\n",
    "print(atasöz[0:-1]) #Baştan sona kadar, sadece sondaki değer olmayacak şekilde alır.\n",
    "str = \"İstanbul\"\n",
    "print(str[::2])"
   ]
  },
  {
   "cell_type": "code",
   "execution_count": 33,
   "metadata": {},
   "outputs": [
    {
     "name": "stdout",
     "output_type": "stream",
     "text": [
      "lubnatsİ\n",
      "lbas\n",
      "ubna\n",
      "tanbul\n"
     ]
    }
   ],
   "source": [
    "\"\"\"\n",
    "Belli aralıktaki değerleri aldığımız gibi bu değerleri ters çeviredebiliriz. Bunu ::- işaretini kullanarak yaparız.\n",
    "Aslında bu ifade sayı1: sayı2: -sayı3 şeklindedir ve yaptığı şey sayı2'den sayı1'ye kadarki değerleri sayı3 boşlukları ile alıp\n",
    "geri döndürmektir.(yani sayı3'e 1 değerini verirsek tüm değerleri geri döndürür. Eğer 2 değerini verirsek 2'şerli atlaya atlaya\n",
    "değerleri döndürür.) sayı1 ve sayı2'ye bir şey yazmadığımızda tüm ifadeyi alacaktır. \n",
    "\"\"\"\n",
    "str = \"İstanbul\"\n",
    "print(str[::-1]) #Baştan sona kadarki tüm değerleri alıp ters çevirip 1 aralığıyla geri döndürecektir.\n",
    "print(str[::-2]) #Aynı şeyi 2 aralıklarıyla yapacaktır.\n",
    "print(str[6:2:-1]) # 6.değerden 2.değere kadarki değerleri alıp -1 olduğu için ters haliyle döndürür. 2.değeri almayacaktır.\n"
   ]
  },
  {
   "cell_type": "code",
   "execution_count": 1,
   "metadata": {},
   "outputs": [
    {
     "name": "stdout",
     "output_type": "stream",
     "text": [
      "google\n"
     ]
    }
   ],
   "source": [
    "site1 = \"www.google.com\"\n",
    "print(site1[4:-4])"
   ]
  },
  {
   "cell_type": "markdown",
   "metadata": {},
   "source": [
    "sorted methodu strignleri Ascii tablosuna göre sıralayarak geri döndürür. sorted methodunun içine string girilirse bu methodu stringi list haline dönüştürüp öyle sıralar ve geri döndürür. sorted methodu bir list döndürse de print yaptığımız zaman * operatörü ile bu listi yaymak zorundayız. "
   ]
  },
  {
   "cell_type": "code",
   "execution_count": 4,
   "metadata": {},
   "outputs": [
    {
     "name": "stdout",
     "output_type": "stream",
     "text": [
      "<class 'list'>\n",
      "  a a a e k k k m r v\n"
     ]
    }
   ],
   "source": [
    "print(type(sorted(\"erkam\")))\n",
    "print(*sorted(\"erkam kavak\"))"
   ]
  },
  {
   "cell_type": "markdown",
   "metadata": {},
   "source": [
    "reversed methodu da sorted methodunun tam tersi şeklinde çalışır. İçindeki stringi Ascii tablosuna göre sıralayıp tam tersi şeklinde geri döndürür. reversed methodunda da * operatörü ile yaymak zorundayız. "
   ]
  },
  {
   "cell_type": "code",
   "execution_count": 7,
   "metadata": {},
   "outputs": [
    {
     "name": "stdout",
     "output_type": "stream",
     "text": [
      "h g f e d c b a\n"
     ]
    }
   ],
   "source": [
    "print(*reversed(\"abcdefgh\"))"
   ]
  },
  {
   "cell_type": "markdown",
   "metadata": {},
   "source": [
    "sorted ve reversed methodları karakterleri Ascii tablosuna göre sıraladıkları için Türkçe karakterleri düzgün sıralamazlar. Bu soruna şu şekilde çözüm getirebiliriz. "
   ]
  },
  {
   "cell_type": "code",
   "execution_count": 12,
   "metadata": {},
   "outputs": [
    {
     "name": "stdout",
     "output_type": "stream",
     "text": [
      "a b c d e f g h i ç ğ ı\n",
      "a b c ç d e f g ğ h i ı\n"
     ]
    }
   ],
   "source": [
    "print(*sorted(\"abcçdefgğhıi\"))\n",
    "import locale\n",
    "locale.setlocale(locale.LC_ALL, \"Turkish_Turkey.1254\") #Windows için\n",
    "locale.setlocale(locale.LC_ALL, \"tr_TR\") #GNU/Linux için\n",
    "print(*sorted(\"abcçdefgğhıi\", key=locale.strxfrm)) #sorted methodunun key parametresini değiştiriyoruz. \n",
    "#Bu yöntemin bir sıkıntısı ı harfini i harfinden sonra getirmesidir. "
   ]
  },
  {
   "cell_type": "markdown",
   "metadata": {},
   "source": [
    "Veyahut bu soruna bir kütüphane import etmeden kendimiz de bir çözüm bulabiliriz."
   ]
  },
  {
   "cell_type": "code",
   "execution_count": 21,
   "metadata": {},
   "outputs": [
    {
     "name": "stdout",
     "output_type": "stream",
     "text": [
      "a b c ç d e f g ğ h ı i\n"
     ]
    }
   ],
   "source": [
    "harfler = \"abcçdefgğhıijklmnoöprsştuüvyz\"\n",
    "türkçe_çevir = {i: harfler.index(i) for i in harfler} #Burada aslında her bir harfe bir sıralama veriyoruz.  \n",
    "print(*sorted(\"abcçdefgğhıi\", key=türkçe_çevir.get)) #Burada da key ile oluşturduğumuz sıralamayı çağırıp o sıralamaya göre sıralıyoruz."
   ]
  },
  {
   "cell_type": "markdown",
   "metadata": {},
   "source": [
    "Stringler aslında immutable yani değiştirilemezdirler. Yani bir string'in herhangi bir karakterini çağırıp onu farklı bir karaktere eşitleyemeyiz. Ancak bu stringin üzerinde değişiklikler yapıp onu başka bir stringe eşitleyebiliriz."
   ]
  },
  {
   "cell_type": "code",
   "execution_count": 26,
   "metadata": {},
   "outputs": [
    {
     "name": "stdout",
     "output_type": "stream",
     "text": [
      "1911801302448\n",
      "string değiştirilemiyor.\n",
      "Erkam\n",
      "erkam kavak\n",
      "1911802271664\n"
     ]
    }
   ],
   "source": [
    "string1 = \"erkam\"\n",
    "print(id(string1))\n",
    "\n",
    "try:\n",
    "    string1[0] = \"E\"\n",
    "except: \n",
    "    print(\"string değiştirilemiyor.\")\n",
    "string2 = \"E\" + string1[1:]  #Burada string1 karakteri üzerinde hiçbir değişiklik yapmadık.\n",
    "print(string2)\n",
    "\n",
    "string1 += \" kavak\" #Burda aslında string1'i çağırıp üzerinde değişiklik yapıp tekrar string1'e eşitliyoruz. \n",
    "print(string1)\n",
    "print(id(string1)) #string1'i çağırıp farklı bir şeye eşitlediğimiz için string1'in id'sinin değiştiğini görürüz."
   ]
  },
  {
   "cell_type": "markdown",
   "metadata": {},
   "source": [
    "Pythonda bir türün methodlarına ve özelliklerine ulaşmak için dir() methodunu kullanabiliriz. dir methodu içine yazılan tür ile ilgili tüm özellikleri gösterir. Başında ve sonunda _ işareti olmayanlar bu türün methodlarıdır."
   ]
  },
  {
   "cell_type": "code",
   "execution_count": 30,
   "metadata": {},
   "outputs": [
    {
     "name": "stdout",
     "output_type": "stream",
     "text": [
      "['__add__', '__class__', '__contains__', '__delattr__', '__dir__', '__doc__', '__eq__', '__format__', '__ge__', '__getattribute__', '__getitem__', '__getnewargs__', '__gt__', '__hash__', '__init__', '__init_subclass__', '__iter__', '__le__', '__len__', '__lt__', '__mod__', '__mul__', '__ne__', '__new__', '__reduce__', '__reduce_ex__', '__repr__', '__rmod__', '__rmul__', '__setattr__', '__sizeof__', '__str__', '__subclasshook__', 'capitalize', 'casefold', 'center', 'count', 'encode', 'endswith', 'expandtabs', 'find', 'format', 'format_map', 'index', 'isalnum', 'isalpha', 'isascii', 'isdecimal', 'isdigit', 'isidentifier', 'islower', 'isnumeric', 'isprintable', 'isspace', 'istitle', 'isupper', 'join', 'ljust', 'lower', 'lstrip', 'maketrans', 'partition', 'replace', 'rfind', 'rindex', 'rjust', 'rpartition', 'rsplit', 'rstrip', 'split', 'splitlines', 'startswith', 'strip', 'swapcase', 'title', 'translate', 'upper', 'zfill']\n",
      "\n",
      "['capitalize', 'casefold', 'center', 'count', 'encode', 'endswith', 'expandtabs', 'find', 'format', 'index', 'isalnum', 'isalpha', 'isascii', 'isdecimal', 'isdigit', 'isidentifier', 'islower', 'isnumeric', 'isprintable', 'isspace', 'istitle', 'isupper', 'join', 'ljust', 'lower', 'lstrip', 'maketrans', 'partition', 'replace', 'rfind', 'rindex', 'rjust', 'rpartition', 'rsplit', 'rstrip', 'split', 'splitlines', 'startswith', 'strip', 'swapcase', 'title', 'translate', 'upper', 'zfill']\n"
     ]
    }
   ],
   "source": [
    "print(dir(str))\n",
    "str_dir_methods = [z for z in dir(str) if \"_\" not in z]\n",
    "print()\n",
    "print(str_dir_methods)"
   ]
  },
  {
   "cell_type": "markdown",
   "metadata": {},
   "source": [
    "enumerate() methodu parametrelerine yazılan değer sıralanabilecek bir değer ise bu değerin karakterlerini sıralar ve geri döndürür. Geri döndürülen değeri print etmek için yine * işaretini kullanmalıyız.(geri döndürdüğü değerin türü enumerate türüdür, yani özel bir türdür ancak yine de * işareti ile elemanlarına ulaşabiliriz)\n",
    "\n",
    "enumerate() methodunda sıralamaya hangi sayıdan başlayacağını ikinci parametre olarak belirtebiliriz. Bu ikinci parametre optional'dır ve default değeri 0 dır."
   ]
  },
  {
   "cell_type": "code",
   "execution_count": 36,
   "metadata": {},
   "outputs": [
    {
     "name": "stdout",
     "output_type": "stream",
     "text": [
      "<class 'enumerate'>\n",
      "(0, 'e') (1, 'r') (2, 'k') (3, 'a') (4, 'm')\n",
      "(1, 'e') (2, 'r') (3, 'k') (4, 'a') (5, 'm')\n"
     ]
    }
   ],
   "source": [
    "print(type(enumerate(\"erkam\")))\n",
    "print(*enumerate(\"erkam\"))\n",
    "print(*enumerate(\"erkam\", 1))"
   ]
  },
  {
   "cell_type": "markdown",
   "metadata": {},
   "source": [
    "Pythonda herhangi bir şey hakkında bilgi almak istiyorsak pythonun kendi yardım desteğini kullanabiliriz. Bu desteğe help() methodu ile ulaşabiliriz. Direk help() yazdığımızda bizi farklı bir ekrana yönlendirecek ve bu ekranda bilgi almak istediğimiz şeyi direk yazarak(pythona uygun bir şekilde- mesela string için str) hakkında bilgiye ulaşabiliriz. Veya direk help methodunun içine bu şeyi yazarak da bilgiye ulaşabiliriz."
   ]
  },
  {
   "cell_type": "code",
   "execution_count": 37,
   "metadata": {},
   "outputs": [
    {
     "name": "stdout",
     "output_type": "stream",
     "text": [
      "\n",
      "Welcome to Python 3.8's help utility!\n",
      "\n",
      "If this is your first time using Python, you should definitely check out\n",
      "the tutorial on the Internet at https://docs.python.org/3.8/tutorial/.\n",
      "\n",
      "Enter the name of any module, keyword, or topic to get help on writing\n",
      "Python programs and using Python modules.  To quit this help utility and\n",
      "return to the interpreter, just type \"quit\".\n",
      "\n",
      "To get a list of available modules, keywords, symbols, or topics, type\n",
      "\"modules\", \"keywords\", \"symbols\", or \"topics\".  Each module also comes\n",
      "with a one-line summary of what it does; to list the modules whose name\n",
      "or summary contain a given string such as \"spam\", type \"modules spam\".\n",
      "\n",
      "help> dir\n",
      "Help on built-in function dir in module builtins:\n",
      "\n",
      "dir(...)\n",
      "    dir([object]) -> list of strings\n",
      "    \n",
      "    If called without an argument, return the names in the current scope.\n",
      "    Else, return an alphabetized list of names comprising (some of) the attributes\n",
      "    of the given object, and of attributes reachable from it.\n",
      "    If the object supplies a method named __dir__, it will be used; otherwise\n",
      "    the default dir() logic is used and returns:\n",
      "      for a module object: the module's attributes.\n",
      "      for a class object:  its attributes, and recursively the attributes\n",
      "        of its bases.\n",
      "      for any other object: its attributes, its class's attributes, and\n",
      "        recursively the attributes of its class's base classes.\n",
      "\n",
      "help> \n",
      "\n",
      "You are now leaving help and returning to the Python interpreter.\n",
      "If you want to ask for help on a particular object directly from the\n",
      "interpreter, you can type \"help(object)\".  Executing \"help('string')\"\n",
      "has the same effect as typing a particular string at the help> prompt.\n"
     ]
    }
   ],
   "source": [
    "help()"
   ]
  },
  {
   "cell_type": "code",
   "execution_count": 39,
   "metadata": {},
   "outputs": [
    {
     "name": "stdout",
     "output_type": "stream",
     "text": [
      "Help on class str in module builtins:\n",
      "\n",
      "class str(object)\n",
      " |  str(object='') -> str\n",
      " |  str(bytes_or_buffer[, encoding[, errors]]) -> str\n",
      " |  \n",
      " |  Create a new string object from the given object. If encoding or\n",
      " |  errors is specified, then the object must expose a data buffer\n",
      " |  that will be decoded using the given encoding and error handler.\n",
      " |  Otherwise, returns the result of object.__str__() (if defined)\n",
      " |  or repr(object).\n",
      " |  encoding defaults to sys.getdefaultencoding().\n",
      " |  errors defaults to 'strict'.\n",
      " |  \n",
      " |  Methods defined here:\n",
      " |  \n",
      " |  __add__(self, value, /)\n",
      " |      Return self+value.\n",
      " |  \n",
      " |  __contains__(self, key, /)\n",
      " |      Return key in self.\n",
      " |  \n",
      " |  __eq__(self, value, /)\n",
      " |      Return self==value.\n",
      " |  \n",
      " |  __format__(self, format_spec, /)\n",
      " |      Return a formatted version of the string as described by format_spec.\n",
      " |  \n",
      " |  __ge__(self, value, /)\n",
      " |      Return self>=value.\n",
      " |  \n",
      " |  __getattribute__(self, name, /)\n",
      " |      Return getattr(self, name).\n",
      " |  \n",
      " |  __getitem__(self, key, /)\n",
      " |      Return self[key].\n",
      " |  \n",
      " |  __getnewargs__(...)\n",
      " |  \n",
      " |  __gt__(self, value, /)\n",
      " |      Return self>value.\n",
      " |  \n",
      " |  __hash__(self, /)\n",
      " |      Return hash(self).\n",
      " |  \n",
      " |  __iter__(self, /)\n",
      " |      Implement iter(self).\n",
      " |  \n",
      " |  __le__(self, value, /)\n",
      " |      Return self<=value.\n",
      " |  \n",
      " |  __len__(self, /)\n",
      " |      Return len(self).\n",
      " |  \n",
      " |  __lt__(self, value, /)\n",
      " |      Return self<value.\n",
      " |  \n",
      " |  __mod__(self, value, /)\n",
      " |      Return self%value.\n",
      " |  \n",
      " |  __mul__(self, value, /)\n",
      " |      Return self*value.\n",
      " |  \n",
      " |  __ne__(self, value, /)\n",
      " |      Return self!=value.\n",
      " |  \n",
      " |  __repr__(self, /)\n",
      " |      Return repr(self).\n",
      " |  \n",
      " |  __rmod__(self, value, /)\n",
      " |      Return value%self.\n",
      " |  \n",
      " |  __rmul__(self, value, /)\n",
      " |      Return value*self.\n",
      " |  \n",
      " |  __sizeof__(self, /)\n",
      " |      Return the size of the string in memory, in bytes.\n",
      " |  \n",
      " |  __str__(self, /)\n",
      " |      Return str(self).\n",
      " |  \n",
      " |  capitalize(self, /)\n",
      " |      Return a capitalized version of the string.\n",
      " |      \n",
      " |      More specifically, make the first character have upper case and the rest lower\n",
      " |      case.\n",
      " |  \n",
      " |  casefold(self, /)\n",
      " |      Return a version of the string suitable for caseless comparisons.\n",
      " |  \n",
      " |  center(self, width, fillchar=' ', /)\n",
      " |      Return a centered string of length width.\n",
      " |      \n",
      " |      Padding is done using the specified fill character (default is a space).\n",
      " |  \n",
      " |  count(...)\n",
      " |      S.count(sub[, start[, end]]) -> int\n",
      " |      \n",
      " |      Return the number of non-overlapping occurrences of substring sub in\n",
      " |      string S[start:end].  Optional arguments start and end are\n",
      " |      interpreted as in slice notation.\n",
      " |  \n",
      " |  encode(self, /, encoding='utf-8', errors='strict')\n",
      " |      Encode the string using the codec registered for encoding.\n",
      " |      \n",
      " |      encoding\n",
      " |        The encoding in which to encode the string.\n",
      " |      errors\n",
      " |        The error handling scheme to use for encoding errors.\n",
      " |        The default is 'strict' meaning that encoding errors raise a\n",
      " |        UnicodeEncodeError.  Other possible values are 'ignore', 'replace' and\n",
      " |        'xmlcharrefreplace' as well as any other name registered with\n",
      " |        codecs.register_error that can handle UnicodeEncodeErrors.\n",
      " |  \n",
      " |  endswith(...)\n",
      " |      S.endswith(suffix[, start[, end]]) -> bool\n",
      " |      \n",
      " |      Return True if S ends with the specified suffix, False otherwise.\n",
      " |      With optional start, test S beginning at that position.\n",
      " |      With optional end, stop comparing S at that position.\n",
      " |      suffix can also be a tuple of strings to try.\n",
      " |  \n",
      " |  expandtabs(self, /, tabsize=8)\n",
      " |      Return a copy where all tab characters are expanded using spaces.\n",
      " |      \n",
      " |      If tabsize is not given, a tab size of 8 characters is assumed.\n",
      " |  \n",
      " |  find(...)\n",
      " |      S.find(sub[, start[, end]]) -> int\n",
      " |      \n",
      " |      Return the lowest index in S where substring sub is found,\n",
      " |      such that sub is contained within S[start:end].  Optional\n",
      " |      arguments start and end are interpreted as in slice notation.\n",
      " |      \n",
      " |      Return -1 on failure.\n",
      " |  \n",
      " |  format(...)\n",
      " |      S.format(*args, **kwargs) -> str\n",
      " |      \n",
      " |      Return a formatted version of S, using substitutions from args and kwargs.\n",
      " |      The substitutions are identified by braces ('{' and '}').\n",
      " |  \n",
      " |  format_map(...)\n",
      " |      S.format_map(mapping) -> str\n",
      " |      \n",
      " |      Return a formatted version of S, using substitutions from mapping.\n",
      " |      The substitutions are identified by braces ('{' and '}').\n",
      " |  \n",
      " |  index(...)\n",
      " |      S.index(sub[, start[, end]]) -> int\n",
      " |      \n",
      " |      Return the lowest index in S where substring sub is found,\n",
      " |      such that sub is contained within S[start:end].  Optional\n",
      " |      arguments start and end are interpreted as in slice notation.\n",
      " |      \n",
      " |      Raises ValueError when the substring is not found.\n",
      " |  \n",
      " |  isalnum(self, /)\n",
      " |      Return True if the string is an alpha-numeric string, False otherwise.\n",
      " |      \n",
      " |      A string is alpha-numeric if all characters in the string are alpha-numeric and\n",
      " |      there is at least one character in the string.\n",
      " |  \n",
      " |  isalpha(self, /)\n",
      " |      Return True if the string is an alphabetic string, False otherwise.\n",
      " |      \n",
      " |      A string is alphabetic if all characters in the string are alphabetic and there\n",
      " |      is at least one character in the string.\n",
      " |  \n",
      " |  isascii(self, /)\n",
      " |      Return True if all characters in the string are ASCII, False otherwise.\n",
      " |      \n",
      " |      ASCII characters have code points in the range U+0000-U+007F.\n",
      " |      Empty string is ASCII too.\n",
      " |  \n",
      " |  isdecimal(self, /)\n",
      " |      Return True if the string is a decimal string, False otherwise.\n",
      " |      \n",
      " |      A string is a decimal string if all characters in the string are decimal and\n",
      " |      there is at least one character in the string.\n",
      " |  \n",
      " |  isdigit(self, /)\n",
      " |      Return True if the string is a digit string, False otherwise.\n",
      " |      \n",
      " |      A string is a digit string if all characters in the string are digits and there\n",
      " |      is at least one character in the string.\n",
      " |  \n",
      " |  isidentifier(self, /)\n",
      " |      Return True if the string is a valid Python identifier, False otherwise.\n",
      " |      \n",
      " |      Call keyword.iskeyword(s) to test whether string s is a reserved identifier,\n",
      " |      such as \"def\" or \"class\".\n",
      " |  \n",
      " |  islower(self, /)\n",
      " |      Return True if the string is a lowercase string, False otherwise.\n",
      " |      \n",
      " |      A string is lowercase if all cased characters in the string are lowercase and\n",
      " |      there is at least one cased character in the string.\n",
      " |  \n",
      " |  isnumeric(self, /)\n",
      " |      Return True if the string is a numeric string, False otherwise.\n",
      " |      \n",
      " |      A string is numeric if all characters in the string are numeric and there is at\n",
      " |      least one character in the string.\n",
      " |  \n",
      " |  isprintable(self, /)\n",
      " |      Return True if the string is printable, False otherwise.\n",
      " |      \n",
      " |      A string is printable if all of its characters are considered printable in\n",
      " |      repr() or if it is empty.\n",
      " |  \n",
      " |  isspace(self, /)\n",
      " |      Return True if the string is a whitespace string, False otherwise.\n",
      " |      \n",
      " |      A string is whitespace if all characters in the string are whitespace and there\n",
      " |      is at least one character in the string.\n",
      " |  \n",
      " |  istitle(self, /)\n",
      " |      Return True if the string is a title-cased string, False otherwise.\n",
      " |      \n",
      " |      In a title-cased string, upper- and title-case characters may only\n",
      " |      follow uncased characters and lowercase characters only cased ones.\n",
      " |  \n",
      " |  isupper(self, /)\n",
      " |      Return True if the string is an uppercase string, False otherwise.\n",
      " |      \n",
      " |      A string is uppercase if all cased characters in the string are uppercase and\n",
      " |      there is at least one cased character in the string.\n",
      " |  \n",
      " |  join(self, iterable, /)\n",
      " |      Concatenate any number of strings.\n",
      " |      \n",
      " |      The string whose method is called is inserted in between each given string.\n",
      " |      The result is returned as a new string.\n",
      " |      \n",
      " |      Example: '.'.join(['ab', 'pq', 'rs']) -> 'ab.pq.rs'\n",
      " |  \n",
      " |  ljust(self, width, fillchar=' ', /)\n",
      " |      Return a left-justified string of length width.\n",
      " |      \n",
      " |      Padding is done using the specified fill character (default is a space).\n",
      " |  \n",
      " |  lower(self, /)\n",
      " |      Return a copy of the string converted to lowercase.\n",
      " |  \n",
      " |  lstrip(self, chars=None, /)\n",
      " |      Return a copy of the string with leading whitespace removed.\n",
      " |      \n",
      " |      If chars is given and not None, remove characters in chars instead.\n",
      " |  \n",
      " |  partition(self, sep, /)\n",
      " |      Partition the string into three parts using the given separator.\n",
      " |      \n",
      " |      This will search for the separator in the string.  If the separator is found,\n",
      " |      returns a 3-tuple containing the part before the separator, the separator\n",
      " |      itself, and the part after it.\n",
      " |      \n",
      " |      If the separator is not found, returns a 3-tuple containing the original string\n",
      " |      and two empty strings.\n",
      " |  \n",
      " |  replace(self, old, new, count=-1, /)\n",
      " |      Return a copy with all occurrences of substring old replaced by new.\n",
      " |      \n",
      " |        count\n",
      " |          Maximum number of occurrences to replace.\n",
      " |          -1 (the default value) means replace all occurrences.\n",
      " |      \n",
      " |      If the optional argument count is given, only the first count occurrences are\n",
      " |      replaced.\n",
      " |  \n",
      " |  rfind(...)\n",
      " |      S.rfind(sub[, start[, end]]) -> int\n",
      " |      \n",
      " |      Return the highest index in S where substring sub is found,\n",
      " |      such that sub is contained within S[start:end].  Optional\n",
      " |      arguments start and end are interpreted as in slice notation.\n",
      " |      \n",
      " |      Return -1 on failure.\n",
      " |  \n",
      " |  rindex(...)\n",
      " |      S.rindex(sub[, start[, end]]) -> int\n",
      " |      \n",
      " |      Return the highest index in S where substring sub is found,\n",
      " |      such that sub is contained within S[start:end].  Optional\n",
      " |      arguments start and end are interpreted as in slice notation.\n",
      " |      \n",
      " |      Raises ValueError when the substring is not found.\n",
      " |  \n",
      " |  rjust(self, width, fillchar=' ', /)\n",
      " |      Return a right-justified string of length width.\n",
      " |      \n",
      " |      Padding is done using the specified fill character (default is a space).\n",
      " |  \n",
      " |  rpartition(self, sep, /)\n",
      " |      Partition the string into three parts using the given separator.\n",
      " |      \n",
      " |      This will search for the separator in the string, starting at the end. If\n",
      " |      the separator is found, returns a 3-tuple containing the part before the\n",
      " |      separator, the separator itself, and the part after it.\n",
      " |      \n",
      " |      If the separator is not found, returns a 3-tuple containing two empty strings\n",
      " |      and the original string.\n",
      " |  \n",
      " |  rsplit(self, /, sep=None, maxsplit=-1)\n",
      " |      Return a list of the words in the string, using sep as the delimiter string.\n",
      " |      \n",
      " |        sep\n",
      " |          The delimiter according which to split the string.\n",
      " |          None (the default value) means split according to any whitespace,\n",
      " |          and discard empty strings from the result.\n",
      " |        maxsplit\n",
      " |          Maximum number of splits to do.\n",
      " |          -1 (the default value) means no limit.\n",
      " |      \n",
      " |      Splits are done starting at the end of the string and working to the front.\n",
      " |  \n",
      " |  rstrip(self, chars=None, /)\n",
      " |      Return a copy of the string with trailing whitespace removed.\n",
      " |      \n",
      " |      If chars is given and not None, remove characters in chars instead.\n",
      " |  \n",
      " |  split(self, /, sep=None, maxsplit=-1)\n",
      " |      Return a list of the words in the string, using sep as the delimiter string.\n",
      " |      \n",
      " |      sep\n",
      " |        The delimiter according which to split the string.\n",
      " |        None (the default value) means split according to any whitespace,\n",
      " |        and discard empty strings from the result.\n",
      " |      maxsplit\n",
      " |        Maximum number of splits to do.\n",
      " |        -1 (the default value) means no limit.\n",
      " |  \n",
      " |  splitlines(self, /, keepends=False)\n",
      " |      Return a list of the lines in the string, breaking at line boundaries.\n",
      " |      \n",
      " |      Line breaks are not included in the resulting list unless keepends is given and\n",
      " |      true.\n",
      " |  \n",
      " |  startswith(...)\n",
      " |      S.startswith(prefix[, start[, end]]) -> bool\n",
      " |      \n",
      " |      Return True if S starts with the specified prefix, False otherwise.\n",
      " |      With optional start, test S beginning at that position.\n",
      " |      With optional end, stop comparing S at that position.\n",
      " |      prefix can also be a tuple of strings to try.\n",
      " |  \n",
      " |  strip(self, chars=None, /)\n",
      " |      Return a copy of the string with leading and trailing whitespace removed.\n",
      " |      \n",
      " |      If chars is given and not None, remove characters in chars instead.\n",
      " |  \n",
      " |  swapcase(self, /)\n",
      " |      Convert uppercase characters to lowercase and lowercase characters to uppercase.\n",
      " |  \n",
      " |  title(self, /)\n",
      " |      Return a version of the string where each word is titlecased.\n",
      " |      \n",
      " |      More specifically, words start with uppercased characters and all remaining\n",
      " |      cased characters have lower case.\n",
      " |  \n",
      " |  translate(self, table, /)\n",
      " |      Replace each character in the string using the given translation table.\n",
      " |      \n",
      " |        table\n",
      " |          Translation table, which must be a mapping of Unicode ordinals to\n",
      " |          Unicode ordinals, strings, or None.\n",
      " |      \n",
      " |      The table must implement lookup/indexing via __getitem__, for instance a\n",
      " |      dictionary or list.  If this operation raises LookupError, the character is\n",
      " |      left untouched.  Characters mapped to None are deleted.\n",
      " |  \n",
      " |  upper(self, /)\n",
      " |      Return a copy of the string converted to uppercase.\n",
      " |  \n",
      " |  zfill(self, width, /)\n",
      " |      Pad a numeric string with zeros on the left, to fill a field of the given width.\n",
      " |      \n",
      " |      The string is never truncated.\n",
      " |  \n",
      " |  ----------------------------------------------------------------------\n",
      " |  Static methods defined here:\n",
      " |  \n",
      " |  __new__(*args, **kwargs) from builtins.type\n",
      " |      Create and return a new object.  See help(type) for accurate signature.\n",
      " |  \n",
      " |  maketrans(...)\n",
      " |      Return a translation table usable for str.translate().\n",
      " |      \n",
      " |      If there is only one argument, it must be a dictionary mapping Unicode\n",
      " |      ordinals (integers) or characters to Unicode ordinals, strings or None.\n",
      " |      Character keys will be then converted to ordinals.\n",
      " |      If there are two arguments, they must be strings of equal length, and\n",
      " |      in the resulting dictionary, each character in x will be mapped to the\n",
      " |      character at the same position in y. If there is a third argument, it\n",
      " |      must be a string, whose characters will be mapped to None in the result.\n",
      "\n"
     ]
    }
   ],
   "source": [
    "help(str)"
   ]
  },
  {
   "cell_type": "code",
   "execution_count": 1,
   "metadata": {},
   "outputs": [
    {
     "name": "stdout",
     "output_type": "stream",
     "text": [
      "3.8.5\n"
     ]
    }
   ],
   "source": [
    "import sys\n",
    "print(sys.version_info[0], sys.version_info[1], sys.version_info[2], sep = \".\")"
   ]
  },
  {
   "cell_type": "markdown",
   "metadata": {},
   "source": [
    "## Methodlar "
   ]
  },
  {
   "cell_type": "markdown",
   "metadata": {},
   "source": [
    "replace methodu bir stringin herhangi bir karakterini veya karakter dizisini değiştirmemizi sağlar. replace methodunun ilk parametresine stringde değiştirilmesini istediğimiz şeyi ikinci parametresine ise yeni gelmesini istediğimiz şeyi yazarız. replace methodu orijinal string üzerinde değişiklik yapmaz, geri döndürür. Bu nedenle tekrar eşitlemeliyiz.(zaten stringler üzerinde değişiklik yapılamayacağı için hiçbir string methodu orijinal string üzerinde değişiklik yapmaz)\n",
    "\n",
    "replace methodunda 3.parametre de vardır. Bu 3.parametreye ise değiştirilmesi istediğimiz şeyin stringde kaç kere değiştirileceğini yazabiliriz. Optional olan bu özellik default olarak stringde bulunan tüm değiştirilmesi istenen şeyleri değiştirir.(yani birden fazla varsa hepsini değiştirir.)"
   ]
  },
  {
   "cell_type": "code",
   "execution_count": 7,
   "metadata": {},
   "outputs": [
    {
     "name": "stdout",
     "output_type": "stream",
     "text": [
      "erkam KAVAK\n",
      "erkam kavak\n",
      "mmlkt\n",
      "mmleket\n"
     ]
    }
   ],
   "source": [
    "string1 = \"erkam kavak\"\n",
    "print(string1.replace(\"kavak\", \"KAVAK\"))\n",
    "print(string1)\n",
    "\n",
    "string2 = \"memleket\"\n",
    "print(string2.replace(\"e\", \"\"))\n",
    "print(string2.replace(\"e\", \"\", 1))"
   ]
  },
  {
   "cell_type": "markdown",
   "metadata": {},
   "source": [
    "split methodu bir stringi istediğimiz herhangi bir karakterden ayırarak parçalarıyla list'e dönüştürmeyi sağlar. Bu method içine bir şey girilmezse stringi boşlukları esas alarak ayırır ve tüm kelimelerle bir list oluşturur. Kelimeler arasında birden fazla boşluk varsa bile sadece kelimeleri alır. split methodunun parametrelerine bir şeyler girilirse bu sefer stringi bu girilen parametreleri esas alarak ayırır. \n",
    "\n",
    "split methodunda da replace methodundaki gibi stringi kaç kere parçalayabileceğimizi belirleyebileceğimiz bir parametre vardır.(ikinci parametre) Bu parametre optional'dır ve default olarak stringi bulduğu tüm eşleşmelerden parçalar. (Bu özelliği tanımlayabilmek için ilk parametrenin de tanımlanmış olması gerekir, yoksa hata verir)\n",
    "\n",
    "split methodu stringi tüm karakterlerini ayıracak şekilde parçalayamaz. Eğer split parametrelerine \"\" koyarsak hata verecektir. Ancak bunu list(string) şeklinde yapabiliriz."
   ]
  },
  {
   "cell_type": "code",
   "execution_count": 18,
   "metadata": {},
   "outputs": [
    {
     "name": "stdout",
     "output_type": "stream",
     "text": [
      "['Merhabalar', 'bu', 'bir', 'stringdir.']\n",
      "['İstanbul', 'Ankara', '     İzmir', 'Adana']\n",
      "['m', 'mleket']\n"
     ]
    }
   ],
   "source": [
    "string1 = \"Merhabalar bu bir               stringdir.\"\n",
    "print(string1.split())\n",
    "\n",
    "string2 = \"İstanbul,Ankara,     İzmir,Adana\"\n",
    "print(string2.split(\",\"))\n",
    "\n",
    "string3 = \"memleket\"\n",
    "print(string3.split(\"e\", 1))"
   ]
  },
  {
   "cell_type": "markdown",
   "metadata": {},
   "source": [
    "rsplit methodu split methoduna çok benzer. Tek farkı split methodu soldan sağa doğru okurken rsplit methodu sağdan sola doğru okur. Bu farkı ancak eğer ikinci parametreyi kullanacaksak fark ederiz.(yani sadece belli miktarda parçalama yapmak istiyorsak)"
   ]
  },
  {
   "cell_type": "code",
   "execution_count": 19,
   "metadata": {},
   "outputs": [
    {
     "name": "stdout",
     "output_type": "stream",
     "text": [
      "['İstanbul', ' Ankara/ İzmir/ Adana']\n",
      "['İstanbul/ Ankara/ İzmir', ' Adana']\n"
     ]
    }
   ],
   "source": [
    "string = \"İstanbul/ Ankara/ İzmir/ Adana\"\n",
    "print(string.split(\"/\", 1))\n",
    "print(string.rsplit(\"/\", 1))"
   ]
  },
  {
   "cell_type": "markdown",
   "metadata": {},
   "source": [
    "splitlines methodu da split methoduna benzer. splitlines methodu uzun bir stringi alt satıra geçtiği bölgelerden parçalar. splitlines'ın parametresine True yazarsak geri dönen listte alt satıra geçme işareti olan \\n de her ögenin sonunda bulunacaktır. "
   ]
  },
  {
   "cell_type": "code",
   "execution_count": 25,
   "metadata": {},
   "outputs": [
    {
     "name": "stdout",
     "output_type": "stream",
     "text": [
      "['Python programlama dili Guido Van Rossum adlı Hollandalı bir programcı', \"tarafından 90'lı yılların başında geliştirilmeye başlanmıştır. Çoğu insan, isminin\", 'Python olmasına bakarak, bu programlama dilinin, adını piton yılanından aldığını', 'düşünür. Ancak zannedildiğinin aksine bu programlama dilinin adı piton yılanından', 'gelmez. Guido Van Rossum bu programlama dilini, The Monty Python adlı bir İngiliz', \"komedi grubunun, Monty Python's Flying Circus adlı gösterisinden esinlenerek\", 'adlandırmıştır. Ancak her ne kadar gerçek böyle olsa da, Python programlama', 'dilinin pek çok yerde bir yılan figürü ile temsil edilmesi neredeyse bir gelenek', 'halini almıştır diyebiliriz.']\n"
     ]
    }
   ],
   "source": [
    "metin = \"\"\"Python programlama dili Guido Van Rossum adlı Hollandalı bir programcı\n",
    "tarafından 90'lı yılların başında geliştirilmeye başlanmıştır. Çoğu insan, isminin\n",
    "Python olmasına bakarak, bu programlama dilinin, adını piton yılanından aldığını\n",
    "düşünür. Ancak zannedildiğinin aksine bu programlama dilinin adı piton yılanından\n",
    "gelmez. Guido Van Rossum bu programlama dilini, The Monty Python adlı bir İngiliz\n",
    "komedi grubunun, Monty Python's Flying Circus adlı gösterisinden esinlenerek\n",
    "adlandırmıştır. Ancak her ne kadar gerçek böyle olsa da, Python programlama\n",
    "dilinin pek çok yerde bir yılan figürü ile temsil edilmesi neredeyse bir gelenek\n",
    "halini almıştır diyebiliriz.\"\"\"\n",
    "\n",
    "print(metin.splitlines())"
   ]
  },
  {
   "cell_type": "markdown",
   "metadata": {},
   "source": [
    "lower methodu stringin tüm karakterlerini küçük harfe çevirirken upper methodu stringin tüm karakterlerini büyük harfe çevirir. Ancak bu iki methodun bir sıkıntısı vardır. Bu methodlar İngilizce ve Türkçe üzerinde farklı olan ı ve i harfleri üzerinde düzgün çalışmazlar.(İngilizceye göre çalışırlar) Yani mesela I harfini lower yaparsak i'ye(İ'yi de i'ye), i harfini upper yaparsak da I'ya(ı harfini de I'ya) çevirir."
   ]
  },
  {
   "cell_type": "code",
   "execution_count": 36,
   "metadata": {},
   "outputs": [
    {
     "name": "stdout",
     "output_type": "stream",
     "text": [
      "I\n",
      "ı\n",
      "Ç\n"
     ]
    }
   ],
   "source": [
    "string1 = \"ı\"\n",
    "print(string1.upper())\n",
    "\n",
    "string2 = \"I\"\n",
    "print(string1.lower())\n",
    "\n",
    "char1 = \"ç\"\n",
    "print(char1.upper())"
   ]
  },
  {
   "cell_type": "markdown",
   "metadata": {},
   "source": [
    "islower ve isupper methodları stringin tamamen küçük harflerden veya tamamen büyük harflerden oluşup oluşmadığına bakar ve True ya da False değerlerini geri döndürür."
   ]
  },
  {
   "cell_type": "code",
   "execution_count": 39,
   "metadata": {},
   "outputs": [
    {
     "name": "stdout",
     "output_type": "stream",
     "text": [
      "True\n",
      "True\n"
     ]
    }
   ],
   "source": [
    "string1 = \"merhaba\"\n",
    "print(string1.islower())\n",
    "string2 = \"MERHABA\"\n",
    "print(string2.isupper())"
   ]
  },
  {
   "cell_type": "markdown",
   "metadata": {},
   "source": [
    "startswith ve endswith methodları stringlerin ne ile başladığını veya ne ile bittiğini test etmemize yardımcı olur.(Boolean değer gönderir) Parametre olarak girilen değer birden fazla karakterli olabilir."
   ]
  },
  {
   "cell_type": "code",
   "execution_count": 42,
   "metadata": {},
   "outputs": [
    {
     "name": "stdout",
     "output_type": "stream",
     "text": [
      "True\n",
      "True\n"
     ]
    }
   ],
   "source": [
    "string1 = \"node python.js\"\n",
    "print(string1.startswith(\"node\"))\n",
    "\n",
    "string2 = \"SelahattinÖzdemir.mp3\"\n",
    "print(string2.endswith(\"mp3\"))"
   ]
  },
  {
   "cell_type": "markdown",
   "metadata": {},
   "source": [
    "capitalize methodu stringin sadece ilk harfini büyütüp geri kalan tüm harfleri küçültüp geri döndürür. lower ve upper da olduğu gibi bu methodda da Türkçe karakterle ilgili sıkıntı vardır.  "
   ]
  },
  {
   "cell_type": "code",
   "execution_count": 2,
   "metadata": {},
   "outputs": [
    {
     "name": "stdout",
     "output_type": "stream",
     "text": [
      "Herkese merhaba\n",
      "Herkese merhaba\n"
     ]
    }
   ],
   "source": [
    "string1 = \"herkese merhaba\"\n",
    "print(string1.capitalize())\n",
    "string2 = \"herKesE MerHaba\"\n",
    "print(string2.capitalize())"
   ]
  },
  {
   "cell_type": "markdown",
   "metadata": {},
   "source": [
    "title methodu ise stringin tüm kelimelerinin ilk harfini büyütüp geri kalan tüm harfleri küçültüp geri döndürür. "
   ]
  },
  {
   "cell_type": "code",
   "execution_count": 4,
   "metadata": {},
   "outputs": [
    {
     "name": "stdout",
     "output_type": "stream",
     "text": [
      "Hepinize Merhaba Arkadaşlar Nasılsınız\n",
      "Hepi̇nize Merhaba Arkadaşlar Nasilsınız\n"
     ]
    }
   ],
   "source": [
    "string1 = \"hepinize merhaba arkadaşlar nasılsınız\"\n",
    "print(string1.title())\n",
    "string2 = \"hEPİNize mErHabA ArkadaşLar nasILSınız\"\n",
    "print(string2.title())"
   ]
  },
  {
   "cell_type": "markdown",
   "metadata": {},
   "source": [
    "swapcase methodu stringdeki küçük harfleri büyük harflerle, büyük harfleri ise küçük harflerle değiştirir. "
   ]
  },
  {
   "cell_type": "code",
   "execution_count": 6,
   "metadata": {},
   "outputs": [
    {
     "name": "stdout",
     "output_type": "stream",
     "text": [
      "pYTHOn\n"
     ]
    }
   ],
   "source": [
    "string1= \"PythoN\"\n",
    "print(string1.swapcase())"
   ]
  },
  {
   "cell_type": "markdown",
   "metadata": {},
   "source": [
    "strip methodu stringin başındaki ve sonundaki bazı şeyleri temizler. strip methodu parametre girilmezse default olarak boşluk, \\t(tab), \\n(alt  sekmeye geçiş) gibi karakterleri siler.(sadece stringin başında ve sonunda iseler) Strip methoduna parametre girilirse ise bu sefer stringin başındaki ve sonundaki parametre içine girilen karakterleri siler. "
   ]
  },
  {
   "cell_type": "code",
   "execution_count": 13,
   "metadata": {},
   "outputs": [
    {
     "name": "stdout",
     "output_type": "stream",
     "text": [
      "erkam kavak\n",
      "erkam kavak\n"
     ]
    }
   ],
   "source": [
    "string1 = \"\\n erkam kavak            \\n\"\n",
    "print(string1.strip())\n",
    "string2 = \"/erkam kavak/\"\n",
    "print(string2.strip(\"/\"))"
   ]
  },
  {
   "cell_type": "markdown",
   "metadata": {},
   "source": [
    "lstrip methodu stringin sadece solundaki şeyleri silerken, rstrip methodu stringin sadece sağındaki şeyleri siler.(Yani bu iki method stripin ikiye ayrılmış hali) "
   ]
  },
  {
   "cell_type": "code",
   "execution_count": 16,
   "metadata": {},
   "outputs": [
    {
     "name": "stdout",
     "output_type": "stream",
     "text": [
      "\n",
      " erkam kavak\n"
     ]
    }
   ],
   "source": [
    "string1 = \"\\n erkam kavak      \\n\"\n",
    "print(string1.rstrip())"
   ]
  },
  {
   "cell_type": "markdown",
   "metadata": {},
   "source": [
    "split() methodu stringi parçalara ayırırken join methodu splitin tam tersini yapar ve stringlerden oluşan bir list'in tüm parçalarını birleştirmeyi sağlar. join methodunun kullanımı diğer methodlardan biraz farklıdır. join methodu birleştirme_karakteri.join(birleştirilecek_liste)\n",
    "şeklinde kullanılır. join methodunda list'i \"\" karakterleriyle de birleştirebiliriz."
   ]
  },
  {
   "cell_type": "code",
   "execution_count": 19,
   "metadata": {},
   "outputs": [
    {
     "name": "stdout",
     "output_type": "stream",
     "text": [
      "İstanbul Ankara İzmir Adana\n",
      "İstanbulAnkaraİzmirAdana\n"
     ]
    }
   ],
   "source": [
    "list1 = [\"İstanbul\", \"Ankara\", \"İzmir\", \"Adana\"]\n",
    "print(\" \".join(list1))\n",
    "print(\"\".join(list1))"
   ]
  },
  {
   "cell_type": "markdown",
   "metadata": {},
   "source": [
    "count methodu bir stringde herhangi bir karakterin kaç kez bulunduğunu geri döndüren methoddur. count methodunda ilk parametre olarak stringe aranacak karakterleri yazarız. Bu methodda ikinci ve üçüncü parametre de vardır ancak optional'dırlar. Bu ikinci ve üçüncü parametre stringde aramanın nereden başlayıp nerede biteceğini belirlememizi sağlar. "
   ]
  },
  {
   "cell_type": "code",
   "execution_count": 23,
   "metadata": {},
   "outputs": [
    {
     "name": "stdout",
     "output_type": "stream",
     "text": [
      "3\n",
      "2\n"
     ]
    }
   ],
   "source": [
    "string = \"adana\"\n",
    "print(string.count(\"a\"))\n",
    "print(string.count(\"a\", 1, 4)) #1 ve 4 karakterleri arasında arar.(4 dahil değil, 1 dahil)"
   ]
  },
  {
   "cell_type": "markdown",
   "metadata": {},
   "source": [
    "index methodu stringde herhangi bir karakterin sırasını bulmamızı sağlayan bir methoddur. index methodu aranan ifade stringde varsa bu ifadenin indexini gönderirken eğer yoksa hata verir. Bu method aranan şeyin stringde bulunan ilk karşılığını geri döndürecektir. index methodunda da tıpkı count methodunda olduğu gibi 2. ve 3. parametreler vardır ve bu parametreler ile stringde aramayı yapacağımız aralığı belirleyebiliriz. "
   ]
  },
  {
   "cell_type": "code",
   "execution_count": 28,
   "metadata": {},
   "outputs": [
    {
     "name": "stdout",
     "output_type": "stream",
     "text": [
      "10\n",
      "12\n",
      "Bu harf bulunamadı\n"
     ]
    }
   ],
   "source": [
    "string = \"          adana\"\n",
    "print(string.index(\"a\"))#ilk a'yı döndürecek.\n",
    "print(string.index(\"a\", 11, 13)) # 11, 13 aralığında a'yı arıyor.\n",
    "try: \n",
    "    print(string.index(\"e\"))\n",
    "except:\n",
    "    print(\"Bu harf bulunamadı\")"
   ]
  },
  {
   "cell_type": "markdown",
   "metadata": {},
   "source": [
    "rindex methodu index methodunun soldan sağa değil de sağdan sola arayan halidir. Diğer tüm özellikleri aynıdır. "
   ]
  },
  {
   "cell_type": "code",
   "execution_count": 30,
   "metadata": {},
   "outputs": [
    {
     "name": "stdout",
     "output_type": "stream",
     "text": [
      "0\n",
      "4\n"
     ]
    }
   ],
   "source": [
    "string = \"adana\"\n",
    "print(string.index(\"a\"))\n",
    "print(string.rindex(\"a\"))"
   ]
  },
  {
   "cell_type": "markdown",
   "metadata": {},
   "source": [
    "find ve rfind methodları index methodlarına çok benzer. Tek farkları index methodunda eğer aranan şey bulunmazsa hata veriyorken find methounda aranan şey bulunmazsa -1 sayısını geri döndürür. "
   ]
  },
  {
   "cell_type": "code",
   "execution_count": 34,
   "metadata": {},
   "outputs": [
    {
     "name": "stdout",
     "output_type": "stream",
     "text": [
      "0\n",
      "-1\n"
     ]
    }
   ],
   "source": [
    "string = \"adana\"\n",
    "print(string.find(\"a\"))\n",
    "print(string.find(\"e\"))"
   ]
  },
  {
   "cell_type": "markdown",
   "metadata": {},
   "source": [
    "center methodu stringi belli bir uzunluğun ortasına koymaya yarar. center methodunun parametrelerine stringi ortalamak istediğimiz uzunluğu yazarız. Eğer bu parametrenin uzunluğu stringin uzunluğundan fazla ise center methodu işe yarar ancak az ise center methodu işe yaramaz.\n",
    "\n",
    "center methodunda ikinci bir parametre de vardır ve bu parametre ile string ortalandıktan sonra etrafındaki boşluklara gelecek karakteri belirleyebiliriz."
   ]
  },
  {
   "cell_type": "code",
   "execution_count": 46,
   "metadata": {
    "scrolled": true
   },
   "outputs": [
    {
     "name": "stdout",
     "output_type": "stream",
     "text": [
      "ortalanmalı\n",
      "  ortalanmalı  \n",
      "---ortalanmalı----\n"
     ]
    }
   ],
   "source": [
    "string = \"ortalanmalı\"\n",
    "print(string.center(6)) #6 sayısı stringin uzunluğundan daha az olduğu için işe yaramayacak.\n",
    "print(string.center(15)) #15 sayısı stringin uzunluğunda daha fazla olduğu için işe yarayacak.\n",
    "\n",
    "print(string.center(18, \"-\"))"
   ]
  },
  {
   "cell_type": "markdown",
   "metadata": {},
   "source": [
    "ljust ve rjust methodları center methoduna benzer iş yapan methodlardır. Bu iki method stringi sağa(rjust) veya sola(ljust) yaslayıp diğer tarafı boş bırakmaya(veya istediğimiz karakter ile doldurmaya) yarar. Yani bu iki method center methodunun tek taraflı çalışan hali gibidir. İkisi de iki parametre alır ve ilk parametre uzunluğu ikinci parametre ise boş kalan kısmı dolduracak karakteri belirlemeye sağlar.  "
   ]
  },
  {
   "cell_type": "code",
   "execution_count": 51,
   "metadata": {},
   "outputs": [
    {
     "name": "stdout",
     "output_type": "stream",
     "text": [
      " Ad: Erkam\n",
      "                Ad: Erkam\n",
      "................Ad: Erkam\n",
      "Ad: Erkam................\n",
      "Soyad: Kavak.............\n"
     ]
    }
   ],
   "source": [
    "string = \"Ad: Erkam\"\n",
    "print(string.rjust(10)) # 10 stringin uzunluğundan az olduğu için çalışmaz.\n",
    "print(string.rjust(25)) # 25 stringin uzunluğundan fazla olduğu için çalışır.(sağa yaslıyacaktır)\n",
    "\n",
    "print(string.rjust(25, \".\"))\n",
    "print(string.ljust(25, \".\"))\n",
    "string2 = \"Soyad: Kavak\"\n",
    "print(string2.ljust(25, \".\"))"
   ]
  },
  {
   "cell_type": "markdown",
   "metadata": {},
   "source": [
    "zfill methodu stringin sol tarafına istediğimiz kadar 0 eklememizi sağlayan bir methoddur. Bu methodun parametre olarak aldığı sayı eğer stringin uzunluğundan büyükse bu sayı yeni oluşacak stringin uzunluğunu belirleyecektir ve stringin dışındaki kısımlar 0 sayısı ile doldurulacaktır. \n",
    "\n",
    "zfill methodu sadece stringler ile çalışır, sayılar ile çalışmaz. "
   ]
  },
  {
   "cell_type": "code",
   "execution_count": 58,
   "metadata": {},
   "outputs": [
    {
     "name": "stdout",
     "output_type": "stream",
     "text": [
      "00014\n",
      "000string\n",
      "['0', '0', '0', '0', '0']\n"
     ]
    }
   ],
   "source": [
    "ilksayı = \"14\"\n",
    "print(ilksayı.zfill(5)) #uzunluğu 5 olan ve en sağdaki iki karakteri ilksayıdan oluşan bir string oluşacak. \n",
    "string2 = \"string\"\n",
    "print(string2.zfill(9))\n",
    "\n",
    "string3 = \"\"\n",
    "list1 = list(string3.zfill(5))\n",
    "print(list1) #Bu şekilde sıfırlarla dolu bir list elde edebiliriz. "
   ]
  },
  {
   "cell_type": "markdown",
   "metadata": {},
   "source": [
    "partition methodu stringi 3 parçaya bölen bir methoddur. Bu methodun mantığı string içinde methoda girilen parametreyi arar, ilk bulduğu eşleşmede stringi eşleşmenin solu, eşleşmenin sağı ve eşleşme şeklinde 3'e ayırır. Eğer girilen parametreyi bulamazsa iki tane boş, bir tane de hiç parçalanmamış string şeklinde 3'e ayırır.\n",
    "\n",
    "partition methodunun döndürdüğü değerin türü tuple'dır.\n",
    "rpartition methodu partition methodunun sağdan sola doğru arama yapan halidir. "
   ]
  },
  {
   "cell_type": "code",
   "execution_count": 68,
   "metadata": {},
   "outputs": [
    {
     "name": "stdout",
     "output_type": "stream",
     "text": [
      "('İst', 'an', 'bul')\n",
      "('İstanbul', '', '')\n",
      "\n",
      "('', 'a', 'dana')\n",
      "('adan', 'a', '')\n",
      "\n",
      "('adana', '', '')\n",
      "('', '', 'adana')\n"
     ]
    }
   ],
   "source": [
    "string1 = \"İstanbul\"\n",
    "print(string1.partition(\"an\"))#string1'i an kelimesinden 3'e ayıracak\n",
    "print(string1.partition(\"h\"))\n",
    "\n",
    "print()\n",
    "string2 = \"adana\"\n",
    "print(string2.partition(\"a\"))#karakter birden fazla bulunursa farklı davranacaklar.\n",
    "print(string2.rpartition(\"a\"))\n",
    "\n",
    "print()\n",
    "print(string2.partition(\"v\"))#karakterin bulunmadığı durumlarda da farklı davranacaklar. \n",
    "print(string2.rpartition(\"v\"))"
   ]
  },
  {
   "cell_type": "markdown",
   "metadata": {},
   "source": [
    "expandtabs methodu stringin içindeki tabların(\\t) genişliğinin büyümesini sağlar. "
   ]
  },
  {
   "cell_type": "code",
   "execution_count": 81,
   "metadata": {},
   "outputs": [
    {
     "name": "stdout",
     "output_type": "stream",
     "text": [
      "erkam               kavak\n",
      "erkam\tkavak\n"
     ]
    }
   ],
   "source": [
    "string1 = \"erkam\\tkavak\"\n",
    "print(string1.expandtabs(20))\n",
    "print(string1)"
   ]
  },
  {
   "cell_type": "markdown",
   "metadata": {},
   "source": [
    "encode methodu stringleri istediğimiz kodlama sistemine göre kodlamamızı sağlayan methoddur. Python 3'te varsayılan kodlama sistemi utf-8'dir. Bunu encode methodu ile değiştirebiliriz."
   ]
  },
  {
   "cell_type": "code",
   "execution_count": 84,
   "metadata": {},
   "outputs": [
    {
     "name": "stdout",
     "output_type": "stream",
     "text": [
      "b'\\xe7ilek'\n"
     ]
    }
   ],
   "source": [
    "print(\"çilek\".encode(\"cp1254\"))"
   ]
  },
  {
   "cell_type": "markdown",
   "metadata": {},
   "source": [
    "str.maketrans ve translate methodları genel olarak birlikte çalışan ve özellikle stringlerdeki Türkçe karakterleri İngilizceye veyahut İngilizce karakterleri Türkçeye(buna benzer değişimleri) çevirmemizi sağlayan methodlardır. \n",
    "\n",
    "maketrans methodu (başına str. eklenmesi zorunludur) içine girilen ilk parametrenin tüm karakterlerini ikinci parametrenin tüm karakterlerine eşler. maketrans methodu aslında yaptığın işin mantığı karakterlerin ascii tablosundaki karşılıklarını değiştirmektir. Geri döndürdüğü değerin türü sözlüktür. \n",
    "\n",
    "translate methodu ise değiştirilmek istenen string üzerinde uygulanan bir methoddur. Parametre olarak maketrans ile oluşan sözlüğü alır ve stringi değiştirmek istediğimi şekle çevirir."
   ]
  },
  {
   "cell_type": "code",
   "execution_count": 98,
   "metadata": {},
   "outputs": [
    {
     "name": "stdout",
     "output_type": "stream",
     "text": [
      "{351: 115, 231: 99, 246: 111, 287: 103, 252: 117, 305: 105}\n",
      "ş : s\n",
      "ç : c\n",
      "ö : o\n",
      "ğ : g\n",
      "ü : u\n",
      "ı : i\n",
      "urkme sahi omerden cunku balig olmamis\n"
     ]
    }
   ],
   "source": [
    "türkçe_karakter = \"şçöğüı\"\n",
    "ingilizce_karakter = \"scogui\"\n",
    "çeviri_tablosu = str.maketrans(türkçe_karakter, ingilizce_karakter) #sayı olarak eşler. bir sözlük döndürür.\n",
    "print(çeviri_tablosu)\n",
    "for i in çeviri_tablosu: \n",
    "    print(chr(i), \":\" ,chr(çeviri_tablosu[i])) # chr methodu parametre olarak girilen sayının ascii tablosundaki karşılığını döndürür. \n",
    "\n",
    "metin = \"ürkme şahı ömerden çünkü balığ olmamış\"\n",
    "print(metin.translate(çeviri_tablosu))"
   ]
  },
  {
   "cell_type": "code",
   "execution_count": 100,
   "metadata": {},
   "outputs": [
    {
     "name": "stdout",
     "output_type": "stream",
     "text": [
      "Bakalım bu metin doğru şekilde çevrilecek mi?\n"
     ]
    }
   ],
   "source": [
    "#bir örnek daha\n",
    "q_klavye_düzeni = \"qwertyuıopğüasdfghjklşi,zxcvbnmöç.\"\n",
    "f_klavye_düzeni = \"fgğıodrnhpqwuieaütkmlyşxjövcçzsb.,\"\n",
    "çevir = str.maketrans(q_klavye_düzeni, f_klavye_düzeni)\n",
    "metin = \"Bfjflrk öa kdhsı yteua idjslyd bdcusldvdj ks?\"\n",
    "print(metin.translate(çevir))"
   ]
  },
  {
   "cell_type": "markdown",
   "metadata": {},
   "source": [
    "maketrans methodu ile istersek bir stringden belli karakterleri kolay bir şekilde silebiliriz. Bunu maketrans methodunun 3.parametresine silinecek karakterleri yazarak yapabiliriz. (1. ve 2. parametreler olması gerektiği için onları boş string halinde bırakabiliriz)  "
   ]
  },
  {
   "cell_type": "code",
   "execution_count": 103,
   "metadata": {},
   "outputs": [
    {
     "name": "stdout",
     "output_type": "stream",
     "text": [
      "cmylmz\n"
     ]
    }
   ],
   "source": [
    "silinecek = \"aeoöuüıi\"\n",
    "çevir = str.maketrans(\"\", \"\", silinecek)\n",
    "\n",
    "string = \"cemyılmaz\"\n",
    "print(string.translate(çevir))"
   ]
  },
  {
   "cell_type": "markdown",
   "metadata": {},
   "source": [
    "isalpha() >> Bu method stringin tamamen alfabetik karakterlerden oluşup oluşmadığını test eder. \n",
    "\n",
    "isdigit() >> Bu method stringin tamamen sayılardan oluşup oluşmadığını test eder. \n",
    "\n",
    "isalnum() >> Bu method stringin tamamen sayılardan ve alfabetik karakterlerden oluşup oluşmadığını test eder.\n",
    "\n",
    "(Boşluk(\" \") bu 3 methodu da false hale getirebilir.)\n",
    "\n",
    "isdecimal() >> Bu method stringdeki sayının ondalık sayı cinsinden olup olmadığını test eder. \n",
    "\n",
    "isidentifier() >> Bu method stringin bir variable adı olup olamayacağını test eder. \n",
    "\n",
    "isprintable() >> Bu method stringdeki tüm karakterlerin basılıp basılamayacağını test eder.(\\t, \\n gibi ifadeler basılamaz)\n",
    "\n",
    "isspace() >> Stringin tamamen boşluktan oluşup oluşmadığını test eder. "
   ]
  },
  {
   "cell_type": "code",
   "execution_count": 105,
   "metadata": {},
   "outputs": [
    {
     "name": "stdout",
     "output_type": "stream",
     "text": [
      "False\n"
     ]
    }
   ],
   "source": [
    "string1 = \"erkam kavak\"\n",
    "print(string1.isalpha())"
   ]
  },
  {
   "cell_type": "markdown",
   "metadata": {},
   "source": [
    "Stringlerde bir variable değerini stringin içine daha kolay bir şekilde koymak istiyorsak % işaretini(eski yöntem) veya format methodunu kullanabiliriz. % işaretini stringin içine arkasına s gibi tanımlar koyarak kullanırız. Stringin hemen arkasından %işareti yerine gelmesini istediğimiz variable değerini % işaretinden sonra yazarız. "
   ]
  },
  {
   "cell_type": "code",
   "execution_count": 4,
   "metadata": {},
   "outputs": [
    {
     "name": "stdout",
     "output_type": "stream",
     "text": [
      "Hoşgeldin erkam\n"
     ]
    }
   ],
   "source": [
    "name = \"erkam\"\n",
    "print(\"Hoşgeldin %s\" %name)"
   ]
  },
  {
   "cell_type": "markdown",
   "metadata": {},
   "source": [
    "% işaretinin tanımdan önce yazdığımız sayılarla variable'ın yerleşeceği uzunluğu belirleyebiliriz.(Eğer girilen sayının değeri variable'ın uzunluğundan küçükse variable'ın tamamı yazılmaz, sayı kadarı yazılır) Eğer sayı pozitifse variable'ın soluna, negatifse sağına boşluk yerleştirilir.(boşluk + variable uzunluğu = sayı) Aynı zamanda bu boşluklara 0 sayısını getirebiliriz.(ancak bu özelliği kullanabilmemiz için tanımın(digit) sayı olması gerekir."
   ]
  },
  {
   "cell_type": "code",
   "execution_count": 56,
   "metadata": {},
   "outputs": [
    {
     "name": "stdout",
     "output_type": "stream",
     "text": [
      "Bu variable 15 birim uzunluğunun en sağına yerleşecek:         merhaba\n",
      "Bu variable 15 birim uzunluğunun en soluna yerleşecek: merhaba        \n",
      "Bu variable 15 birim uzunluğunun en sağına yerleşecek: 000000000000014\n",
      "Bu variable 15 birim uzunluğunun en sağına yerleşecek:           00014\n"
     ]
    }
   ],
   "source": [
    "var = \"merhaba\"\n",
    "print(\"Bu variable 15 birim uzunluğunun en sağına yerleşecek: %15s\" %var)\n",
    "\n",
    "print(\"Bu variable 15 birim uzunluğunun en soluna yerleşecek: %-15s\" %var)\n",
    "\n",
    "num = 14\n",
    "print(\"Bu variable 15 birim uzunluğunun en sağına yerleşecek: %015d\" %num) #Başa 0(veya .) koyduğumuz için tüm bpşluklara 0 gelecek.\n",
    "print(\"Bu variable 15 birim uzunluğunun en sağına yerleşecek: %15.5d\" %num)#Burda ilk başta 15 birimlik uzunluk belirleniyor daha sonra bu uzunluklardan 5 tanesinin 0 ve variable değeri olmasını sağladık."
   ]
  },
  {
   "cell_type": "markdown",
   "metadata": {},
   "source": [
    "Bir stringde birden fazla % işareti kullanabiliriz. Bu durumda variable'ları % işaretlerinin sırasına uygun bir şekilde () parantezlerinin içine sırayla yazmamız gerekir. Ayrıca birden fazla % işaretini aynı değere atamak da mümkündür. Bunu tanımdan önce () işaretlerine farklı bir tanım yaparak yapabiliriz. Stringden sonra {} parantezleri içine bu tanımların karşılığını yazarız. "
   ]
  },
  {
   "cell_type": "code",
   "execution_count": 20,
   "metadata": {},
   "outputs": [
    {
     "name": "stdout",
     "output_type": "stream",
     "text": [
      "Javascript vs Python\n",
      "I love Javascript because Javascript is very easy.\n",
      "Between Javascript and Python, I would prefer Python because Javascript is not very sensible\n"
     ]
    }
   ],
   "source": [
    "lang1 = \"Javascript\"\n",
    "lang2 = \"Python\"\n",
    "print(\"%s vs %s\" %(lang1, lang2))\n",
    "\n",
    "print(\"I love %(l)s because %(l)s is very easy.\" %{\"l\" : lang1}) #Stringin içine koymak zorundayız. \n",
    "\n",
    "print(\"Between %(l1)s and %(l2)s, I would prefer %(l2)s because %(l1)s is not very sensible\" %{\"l1\": lang1, \"l2\": lang2})"
   ]
  },
  {
   "cell_type": "markdown",
   "metadata": {},
   "source": [
    "% işaretinin kullanımında s, d gibi tanımlar vardır. Bunlar aslında yeni gelecek variable'ın türünü gösteririr. \n",
    "s işareti string kullanımında, \n",
    "\n",
    "d işareti digit kullanımında,\n",
    "\n",
    "i işareti integer kullanımında, \n",
    "\n",
    "o işareti octal(8 düzeninde) sayıların kullanımında,\n",
    "\n",
    "x işareti hexadecimal(16 düzeninde) sayıların kullanımında,\n",
    "\n",
    "X işareti de 16 düzeninde (eğer karşılığı harf ise büyük halde) sayıların kullanımında, \n",
    "\n",
    "f işareti floatların kullanımında(her seferinde 6 basamaklık bir float koyar ancak bu düzenlenebilir.), \n",
    "\n",
    "c işareti tek karakterlerin ve ascii sayılarının kullanımında kullanılır. "
   ]
  },
  {
   "cell_type": "code",
   "execution_count": 44,
   "metadata": {},
   "outputs": [
    {
     "name": "stdout",
     "output_type": "stream",
     "text": [
      "Bizim alacağımız para 2000 tl'dir.\n",
      "Sayımız: 10\n",
      "10 sayısını octal karşılığı 12\n",
      "10 sayısını hexadecimal karşılığı a\n",
      "10 sayısını 16 düzeninde karşılığı A\n",
      "10 sayısını float karşılığı 10.000000\n",
      "10 sayısını float karşılığı 10.0\n",
      "65 sayısını ascii karşılığı A\n"
     ]
    }
   ],
   "source": [
    "print(\"Bizim alacağımız para %d tl'dir.\" %2000) #Aslında burada string de kullanılabilir.\n",
    "\n",
    "sayı = 10\n",
    "print(\"Sayımız: %i\" %sayı)\n",
    "\n",
    "print(\"%(s)i sayısını octal karşılığı %(s)o\" %{\"s\" : sayı})\n",
    "print(\"%(s)i sayısını hexadecimal karşılığı %(s)x\" %{\"s\" : sayı})\n",
    "print(\"%(s)i sayısını 16 düzeninde karşılığı %(s)X\" %{\"s\" : sayı})\n",
    "print(\"%(s)i sayısını float karşılığı %(s)f\" %{\"s\" : sayı}) #6 basamaklık bir kesir kısmı koyacak\n",
    "print(\"%(s)i sayısını float karşılığı %(s).1f\" %{\"s\" : sayı})# .1 ile kesir kısmını 1 basamaklık yaptık\n",
    "print(\"%(s)i sayısını ascii karşılığı %(s)c\" %{\"s\" : 65})"
   ]
  },
  {
   "cell_type": "markdown",
   "metadata": {},
   "source": [
    "format methodu % işaretinin yeni yöntemidir diyebiliriz. format işareti eski sürümlerde bulunmaz. % işareti ileride kalkabilme ihtimali olduğu için format methodunu kullanmak daha mantıklıdır. format methodu % işaretiyle neredeyse aynı mantıkda çalışır. "
   ]
  },
  {
   "cell_type": "code",
   "execution_count": 59,
   "metadata": {},
   "outputs": [
    {
     "name": "stdout",
     "output_type": "stream",
     "text": [
      "Adınız erkam\n"
     ]
    }
   ],
   "source": [
    "isim = \"erkam\"\n",
    "print(\"Adınız {}\".format(isim)) #{} parantezlerinin olduğu yere format methodu ile variable değerini koyduk"
   ]
  },
  {
   "cell_type": "markdown",
   "metadata": {},
   "source": [
    "format ile stringe birden fazla variable koyarken {} parantezlerine numaralar verebiliriz. Bu numaralar default olarak format methodundaki sırayı kast eder. % işaretinde olduğu gibi burda da {} parantezleri içine bir tanım yapıp bu tanımın neyi kast ettiğini format methodu içinde belirtebiliriz."
   ]
  },
  {
   "cell_type": "code",
   "execution_count": 65,
   "metadata": {},
   "outputs": [
    {
     "name": "stdout",
     "output_type": "stream",
     "text": [
      "Javascript ve Python dilleri basit ve güçlü dillerdir. Javascript web için kullanılır.\n",
      "Javascript ve Python dilleri basit ve güçlü dillerdir. Javascript web için kullanılır.\n"
     ]
    }
   ],
   "source": [
    "lang1 = \"Javascript\"\n",
    "lang2 = \"Python\"\n",
    "print(\"{0} ve {1} dilleri basit ve güçlü dillerdir. {0} web için kullanılır.\".format(lang1, lang2)) #Burda 0 ve 1 numaraları sırası ile lang1 ve lang2'yi belirtir.\n",
    "print(\"{l1} ve {l2} dilleri basit ve güçlü dillerdir. {l1} web için kullanılır.\".format(l1 = lang1, l2 = lang2))"
   ]
  },
  {
   "cell_type": "markdown",
   "metadata": {},
   "source": [
    "format methodunda {} parantezlerine variable değerinin ne kadarlık bir uzunlukta bulunacağını ve bu uzunluğun neresinde bulunacağını belirleyebiliriz.\n",
    "\n",
    ": işareti bir biçimlendirme işlemi yapılacağını gösterir.\n",
    "\n",
    "(>) işareti variable'ı uzunluğun en sağına yerleştirir.\n",
    "\n",
    "< işareti variable'ı uzunluğun en soluna yerleştirir.\n",
    "\n",
    "^ işareti variable'ı uzunluğun ortasına yerleştirir.\n",
    "\n",
    "s, d, o, x, X, f ve c işaretleri % işaretinde ne anlama geliyorsa burada da aynı anlama gelir. \n",
    "\n",
    "b işareti variable halindeki sayıyı 2'li düzene(binary) geçirmeyi sağlar."
   ]
  },
  {
   "cell_type": "code",
   "execution_count": 77,
   "metadata": {},
   "outputs": [
    {
     "name": "stdout",
     "output_type": "stream",
     "text": [
      "Adınız:          erkam\n",
      "Adınız:erkam          \n",
      "Adınız:     erkam     \n",
      "Sayımız: 10\n",
      "10 sayısının octal karşılığı 12\n",
      "10 sayısının hexadecimal karşılığı a\n",
      "10 sayısının hexadecimal karşılığı A\n",
      "10 sayısının float karşılığı 10.00\n",
      "65 sayısının ascii karşılığı A\n",
      "10 sayısının binary karşılığı 1010\n"
     ]
    }
   ],
   "source": [
    "isim = \"erkam\"\n",
    "print(\"Adınız:{:>15}\".format(isim))\n",
    "print(\"Adınız:{:<15}\".format(isim))\n",
    "print(\"Adınız:{:^15}\".format(isim))\n",
    "\n",
    "sayı = 10\n",
    "print(\"Sayımız: {:d}\".format(sayı))\n",
    "print(\"{l:d} sayısının octal karşılığı {l:o}\".format(l = sayı))\n",
    "print(\"{l:d} sayısının hexadecimal karşılığı {l:x}\".format(l = sayı))\n",
    "print(\"{l:d} sayısının hexadecimal karşılığı {l:X}\".format(l = sayı))\n",
    "print(\"{l:d} sayısının float karşılığı {l:.2f}\".format(l = sayı)) #.2  ile floatın uzunluğunu belirleriz.\n",
    "print(\"{l:d} sayısının ascii karşılığı {l:c}\".format(l = 65))\n",
    "print(\"{l:d} sayısının binary karşılığı {l:b}\".format(l = sayı))"
   ]
  },
  {
   "cell_type": "markdown",
   "metadata": {},
   "source": [
    "Başka çok yaygın olmayan format methodları : \n",
    "\n",
    ":e > bilimsel gösterim\n",
    "\n",
    ":% > Yüzdesel gösterim\n",
    "\n",
    ":, > Sayıda her 3 sıfırı , ile ayırır\n",
    "\n",
    ":_ > Sayıda her 3 sıfırı _ ile ayırır"
   ]
  },
  {
   "cell_type": "markdown",
   "metadata": {},
   "source": [
    "% işaretinin bir başka alternatifi ise Pythonun 3.6 sürümü ile eklenen ve çok yeni olan fstring methodudur. fstringin kullanımı stringin önüne f harfinin gelmesi ve {} parantezleri içine direk variable adının gelmesi şeklinde olur. "
   ]
  },
  {
   "cell_type": "code",
   "execution_count": 84,
   "metadata": {},
   "outputs": [
    {
     "name": "stdout",
     "output_type": "stream",
     "text": [
      "Adınız Erkam ve 19 yaşındasınız.\n",
      "Bu işlemin sonucu 39\n",
      "Birinci sayıyı girin: 230\n",
      "İkinci sayıyı girin: 131230\n",
      "Sayıların toplamı 131460 eder.\n"
     ]
    }
   ],
   "source": [
    "isim = \"Erkam\"\n",
    "yaş = 19\n",
    "print(f\"Adınız {isim} ve {yaş} yaşındasınız.\")\n",
    "#fstring'de {} parantezleri içinde matematiksel işlem de yapabiliriz.\n",
    "print(f\"Bu işlemin sonucu {15 + 24}\")\n",
    "\n",
    "print(f\"Sayıların toplamı { int(input('Birinci sayıyı girin: ')) + int(input('İkinci sayıyı girin: ')) } eder.\")"
   ]
  }
 ],
 "metadata": {
  "kernelspec": {
   "display_name": "Python 3",
   "language": "python",
   "name": "python3"
  },
  "language_info": {
   "codemirror_mode": {
    "name": "ipython",
    "version": 3
   },
   "file_extension": ".py",
   "mimetype": "text/x-python",
   "name": "python",
   "nbconvert_exporter": "python",
   "pygments_lexer": "ipython3",
   "version": "3.8.5"
  }
 },
 "nbformat": 4,
 "nbformat_minor": 4
}
