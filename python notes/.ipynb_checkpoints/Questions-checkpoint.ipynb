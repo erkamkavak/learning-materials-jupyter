{
 "cells": [
  {
   "cell_type": "code",
   "execution_count": 73,
   "metadata": {
    "scrolled": false
   },
   "outputs": [
    {
     "name": "stdout",
     "output_type": "stream",
     "text": [
      "30\n",
      "15\n",
      "27 19 82\n",
      "13 12 23\n",
      "28 11 76\n",
      "2 27 30\n",
      "12 8 20\n",
      "26 10 92\n",
      "26 29 5\n",
      "8 26 100\n",
      "21 11 41\n",
      "20 23 75\n",
      "18 21 65\n",
      "8 24 45\n",
      "24 17 32\n",
      "23 2 33\n",
      "21 19 35\n",
      "633\n"
     ]
    }
   ],
   "source": [
    "#!/bin/python3\n",
    "\n",
    "import sys\n",
    "\n",
    "if __name__ == \"__main__\":\n",
    "    n = int(input().strip())\n",
    "    matrix = []\n",
    "    matrix_row = []\n",
    "    for a in range(n):\n",
    "        matrix_row.append(0)\n",
    "    for x in range(n):\n",
    "        matrix.append(matrix_row.copy())\n",
    "    m = int(input().strip())\n",
    "    for a0 in range(m):\n",
    "        x, y, w = input().strip().split(' ')\n",
    "        x, y, w = [int(x), int(y), int(w)]\n",
    "        # Write Your Code Here        \n",
    "        for a in range(w, -1, -1):\n",
    "            row_to_add = [z for z in range(n) if (y - a) < z < (y + a)]\n",
    "            col_to_add = [b for b in range(n) if (x - a) < b < (x + a)]\n",
    "            for c in row_to_add:\n",
    "                for d in col_to_add:\n",
    "                    matrix[d][c] += 1\n",
    "    matrix_list = [f for q in matrix for f in q]\n",
    "    print(max(matrix_list))"
   ]
  },
  {
   "cell_type": "code",
   "execution_count": 30,
   "metadata": {},
   "outputs": [
    {
     "name": "stdout",
     "output_type": "stream",
     "text": [
      "0.0009975433349609375\n"
     ]
    }
   ],
   "source": [
    "import time\n",
    "start = time.time()\n",
    "\n",
    "def sum_for_list(lst):\n",
    "    \n",
    "    def check_prime(n):\n",
    "        if n != 1:\n",
    "            passS = False\n",
    "            num = int(pow(n, 1/2))\n",
    "            for x in range(2, num + 1):\n",
    "                if n % x == 0 :\n",
    "                    passS = True\n",
    "                    return False\n",
    "            if not passS:\n",
    "                return True\n",
    "        else: \n",
    "            return True\n",
    "    def add_to_dict(c, y, dictin):\n",
    "        if not c in dictin:\n",
    "            dictin[c] = y\n",
    "        else: \n",
    "            dictin[c] += y\n",
    "        \n",
    "    prime_nums = {}\n",
    "    for y in lst:\n",
    "        x = abs(y)\n",
    "        if check_prime(x):\n",
    "            add_to_dict(x, y, prime_nums)\n",
    "        for a in [a for a in range(2, int(x/2) + 1) if check_prime(a)] :\n",
    "            if x % a == 0:\n",
    "                add_to_dict(a, y, prime_nums)\n",
    "                    \n",
    "    dictList = []\n",
    "    for x in sorted(prime_nums):\n",
    "        b = [x, prime_nums[x]]\n",
    "        dictList.append(b)\n",
    "    \n",
    "    return dictList\n",
    "\n",
    "sum_for_list([107, 158, 204, 100, 118, 123, 126, 110, 116, 100])\n",
    "\n",
    "end = time.time()\n",
    "print(end - start)"
   ]
  },
  {
   "cell_type": "code",
   "execution_count": 119,
   "metadata": {},
   "outputs": [
    {
     "name": "stdout",
     "output_type": "stream",
     "text": [
      "['  ', '  ', '00', '00', '10', '00', '00', '00']\n",
      "['  ', '  ', '00', '00', '10', '00', '00', '00']\n",
      "['10', '00', '00', '00', '10', '00', '00', '00']\n",
      "['00', '10', '00', '00', '10', '00', '00', '10']\n",
      "['00', '00', '10', '10', '10', '10', '10', '00']\n",
      "['00', '00', '10', '10', '10', '10', '10', '00']\n",
      "['10', '10', '10', '10', '2 ', '10', '10', '10']\n",
      "['00', '00', '10', '10', '10', '10', '10', '01']\n",
      "0 29 1 29\n"
     ]
    }
   ],
   "source": [
    "def amazon_check_mate(king, amazon):\n",
    "    chess = {}\n",
    "    for x in range(8):\n",
    "        chess[x] = list(\"00000000\")\n",
    "    #Amazon attacks\n",
    "    kRow = ord(list(king)[0]) - 97\n",
    "    kCol = int(list(king)[1]) - 1\n",
    "    aRow = ord(list(amazon)[0]) - 97\n",
    "    aCol = int(list(amazon)[1]) - 1\n",
    "    for x in range(8):\n",
    "        chess[aRow][x] = \"1\"\n",
    "        chess[x][aCol] = \"1\"\n",
    "        for a in range(8):\n",
    "            if aRow - 3 < x < aRow + 3 and aCol - 3 < a < aCol + 3:\n",
    "                chess[x][a] = \"1\"\n",
    "            if a - aCol != 0 and abs(x - aRow)/abs(a - aCol) == 1:\n",
    "                chess[x][a] = \"1\"\n",
    "\n",
    "    chess[aRow][aCol] = \"2 \"\n",
    "    \n",
    "    rowDiff = kRow - aRow\n",
    "    colDiff = kCol - aCol\n",
    "    if rowDiff == 0:\n",
    "        n2 = colDiff/abs(rowDiff)\n",
    "        for x in range(kCol,  int((7.5 - n2/2) % 8) + int(n2), int(n2)):\n",
    "            chess[kRow][x] = \"0\"\n",
    "    elif colDiff == 0:\n",
    "        n1 = rowDiff/abs(rowDiff)\n",
    "        for x in range(kRow,  int((7.5 - n1/2) % 8) + int(n1), int(n1)):\n",
    "            chess[x][kCol] = \"0\"\n",
    "    elif abs(rowDiff/colDiff) == 1:\n",
    "        n1 = rowDiff/abs(rowDiff)\n",
    "        n2 = colDiff/abs(rowDiff)\n",
    "        for x in range(kRow,  int((7.5 - n1/2) % 8) + int(n1), int(n1)):\n",
    "            for a in range(kCol,  int((7.5 - n2/2) % 8) + int(n2), int(n2)):\n",
    "                chess[x][a] = \"0\"\n",
    "    \n",
    "    #White King's attacks\n",
    "    for x in range(8):\n",
    "        for a in range(8):\n",
    "            if kRow - 2 < x < kRow + 2 and kCol - 2 < a < kCol + 2:\n",
    "                chess[x][a] = \"  \"\n",
    "    \n",
    "    #Black King's attacks\n",
    "    for x in chess:\n",
    "        for a in range(len(chess[x])): \n",
    "            if chess[x][a] == \"0\" or chess[x][a] == \"1\":\n",
    "                passS = False\n",
    "                for b in range(8):\n",
    "                    for c in range(8):\n",
    "                        if a - 2 < b < a + 2 and x - 2 < c < x + 2:\n",
    "                            if (chess[b][c][0] == \"0\" or chess[b][c][0] == \"2\") and (b != x or c != a):\n",
    "                                passS = True\n",
    "                if not passS: \n",
    "                    chess[x][a] += \"1\"\n",
    "                else: \n",
    "                    chess[x][a] += \"0\"\n",
    "    checkmate = 0\n",
    "    check = 0\n",
    "    stalemate = 0\n",
    "    safe = 0\n",
    "    for x in chess:\n",
    "        for a in chess[x]:\n",
    "            if a == \"11\":\n",
    "                checkmate += 1\n",
    "            elif a == \"10\":\n",
    "                check += 1\n",
    "            elif a == \"01\":\n",
    "                stalemate += 1\n",
    "            elif a == \"00\":\n",
    "                safe += 1\n",
    "                \n",
    "    return [checkmate, check, stalemate, safe]\n",
    "    \n",
    "amazon_check_mate(\"a1\", \"g5\")"
   ]
  },
  {
   "cell_type": "code",
   "execution_count": 28,
   "metadata": {},
   "outputs": [
    {
     "name": "stdout",
     "output_type": "stream",
     "text": [
      "CLEAN\n",
      "RIGHT\n"
     ]
    }
   ],
   "source": [
    "def next_move(posr, posc, board):\n",
    "    dirtyPlaces = []\n",
    "    row = 0\n",
    "    for x in board:\n",
    "        col = 0\n",
    "        for a in x: \n",
    "            if a == \"d\":\n",
    "                dirtyPlaces.append([row,col])\n",
    "            col += 1\n",
    "        row += 1\n",
    "    for x in dirtyPlaces:\n",
    "        x[0] = x[0] - posr\n",
    "        x[1] = x[1] - posc\n",
    "    def square(a): \n",
    "        return a[0]**2 + a[1]**2\n",
    "    dirtyPlaces.sort(key = square)\n",
    "    if dirtyPlaces[0][0] == 0 and dirtyPlaces[0][1] == 0:\n",
    "        print(\"CLEAN\")\n",
    "        dirtyPlaces.pop(0)\n",
    "    first = dirtyPlaces[0]\n",
    "    if first[1] != 0:\n",
    "        for a in range(abs(first[1])):\n",
    "            result = \"RIGHT\" if first[1] > 0 else \"LEFT\"\n",
    "            first[1] = (abs(first[1]) - 1)*abs(first[1])/first[1]\n",
    "    elif first[0] != 0:\n",
    "        for a in range(abs(first[0])):\n",
    "            result = \"DOWN\" if first[0] > 0 else \"UP\"\n",
    "            first[0] = (abs(first[0]) - 1)*abs(first[0])/first[0] \n",
    "    print(result)\n",
    "\n",
    "\n",
    "next_move(1, 1,\n",
    "[\"b---d\",\n",
    " \"-d--d\",\n",
    " \"--dd-\",\n",
    " \"--d--\",\n",
    " \"----d\"])"
   ]
  },
  {
   "cell_type": "code",
   "execution_count": 11,
   "metadata": {},
   "outputs": [],
   "source": [
    "def next_move(posr, posc, board):\n",
    "    \n"
   ]
  },
  {
   "cell_type": "code",
   "execution_count": 42,
   "metadata": {},
   "outputs": [
    {
     "name": "stdout",
     "output_type": "stream",
     "text": [
      "0 1 2 3 4 5 6 7 8 9\n",
      "9 8 7 6 5 4 3 2 1 0\n"
     ]
    }
   ],
   "source": [
    "numbers = input()\n",
    "numbers = numbers.split()\n",
    "numbers.reverse()\n",
    "print(\" \".join(numbers))"
   ]
  },
  {
   "cell_type": "code",
   "execution_count": 73,
   "metadata": {},
   "outputs": [
    {
     "name": "stdout",
     "output_type": "stream",
     "text": [
      "i o n u r s u n o i\n",
      "0\n"
     ]
    }
   ],
   "source": [
    "string = input()\n",
    "rev_str = \"\".join([*reversed(string)])\n",
    "if string == rev_str:\n",
    "    print(\"1\")\n",
    "else:\n",
    "    print(\"0\")"
   ]
  },
  {
   "cell_type": "code",
   "execution_count": 100,
   "metadata": {},
   "outputs": [
    {
     "name": "stdout",
     "output_type": "stream",
     "text": [
      "10\n",
      "55 34 21 13 8 5 3 2 1 1 0\n"
     ]
    }
   ],
   "source": [
    "range_num = int(input())\n",
    "fibonacci = [0, 1]\n",
    "for x in range(range_num - 1):\n",
    "    fibonacci.append(fibonacci[x]+ fibonacci[x + 1])\n",
    "fibonacci.reverse()\n",
    "print(*fibonacci[:range_num], \"0\")"
   ]
  },
  {
   "cell_type": "code",
   "execution_count": 118,
   "metadata": {},
   "outputs": [
    {
     "name": "stdout",
     "output_type": "stream",
     "text": [
      "4\n",
      "12 14 15 13\n",
      "12 13 14 15\n"
     ]
    }
   ],
   "source": [
    "num = int(input()) - 1\n",
    "numbers = input().split()\n",
    "num_list = []\n",
    "for x in range(int(num/2) + 1):\n",
    "    num_list.append(numbers[x])\n",
    "    num_list.append(numbers[num - x])\n",
    "print(\" \".join(num_list))"
   ]
  },
  {
   "cell_type": "code",
   "execution_count": null,
   "metadata": {},
   "outputs": [],
   "source": [
    "def wrap_cube(shape):\n",
    "    shape = shape.strip(\"\\n\").splitlines()\n",
    "    for x in range(len(shape)):\n",
    "        shape[x] = list(shape[x])\n",
    "        for a in range(len(shape[x])): \n",
    "            shape[x][a] = [x, a, shape[x][a]] if shape[x][a] != \" \" else 1\n",
    "        while shape[x].count(1) > 0:\n",
    "            shape[x].remove(1)\n",
    "    cube = {1: {-1: 5, +2: 2, 1: 3, -2: 4, \"lst\" :[] }, \n",
    "            2: {-1: 5, +2: 6, 1: 3, -2: 1, \"lst\": [] },  \n",
    "            3: {-1: 1, +2: 2, 1: 6, -2: 4, \"lst\": [] },  \n",
    "            4: {-1: 5, +2: 1, 1: 3, -2: 6, \"lst\": [] },  \n",
    "            5: {-1: 6, +2: 2, 1: 1, -2: 4, \"lst\": [] },  \n",
    "            6: {-1: 3, +2: 2, 1: 5, -2: 4, \"lst\": [] }}\n",
    "    first = shape[0][0]\n",
    "    first.append(1)\n",
    "    cube[1][\"lst\"].append(first[2])\n",
    "    added = [first,]\n",
    "    while len(shape) > 0:\n",
    "        for a in added:\n",
    "            for b in shape[a[0]-1 : a[0] + 2]:\n",
    "                for c in b:\n",
    "                    xDif = a[0] - c[0]\n",
    "                    yDif = a[1] - c[1]\n",
    "                    if abs(xDif) == 1 and yDif == 0: \n",
    "                        c.append(cube[a[3]][xDif])\n",
    "                        cube[c[3]][\"lst\"].append(c[2])\n",
    "                        added.append(c)\n",
    "                        shape[a[0]].remove(a)\n",
    "                    elif abs(yDif) == 1 and xDif == 0:\n",
    "                        c.append(cube[a[3]][yDif*2])\n",
    "                        cube[c[3]][\"lst\"].append(c[2])\n",
    "                        added.append(c)\n",
    "                        shape[a[0]].remove(a)\n",
    "        for x in shape:\n",
    "            if len(x) == 0:\n",
    "                shape.remove(x)\n",
    "                        \n",
    "    print(*shape, sep =\"\\n\")\n",
    "    print(cube)\n",
    "\n",
    "wrap_cube(\"\"\"\n",
    "  A\n",
    "  B\n",
    "CDEFG\n",
    "  H\n",
    "  I\n",
    "\"\"\",)"
   ]
  },
  {
   "cell_type": "code",
   "execution_count": null,
   "metadata": {},
   "outputs": [],
   "source": [
    "\n",
    "    leng = [len(a) for a in shape]\n",
    "    maxlen = max(*leng)\n",
    "    for x in range(len(shape)):  \n",
    "        shape[x] = list(shape[x])\n",
    "        shape[x] += [\" \"]*(maxlen- len(shape[x]))"
   ]
  },
  {
   "cell_type": "code",
   "execution_count": 21,
   "metadata": {},
   "outputs": [
    {
     "ename": "IndexError",
     "evalue": "pop index out of range",
     "output_type": "error",
     "traceback": [
      "\u001b[1;31m---------------------------------------------------------------------------\u001b[0m",
      "\u001b[1;31mIndexError\u001b[0m                                Traceback (most recent call last)",
      "\u001b[1;32m<ipython-input-21-c97ddd8966ec>\u001b[0m in \u001b[0;36m<module>\u001b[1;34m\u001b[0m\n\u001b[0;32m      1\u001b[0m \u001b[0mlst\u001b[0m \u001b[1;33m=\u001b[0m  \u001b[1;33m[\u001b[0m\u001b[1;36m1\u001b[0m\u001b[1;33m,\u001b[0m\u001b[1;36m2\u001b[0m\u001b[1;33m,\u001b[0m\u001b[1;36m3\u001b[0m\u001b[1;33m,\u001b[0m\u001b[1;36m4\u001b[0m\u001b[1;33m]\u001b[0m\u001b[1;33m\u001b[0m\u001b[1;33m\u001b[0m\u001b[0m\n\u001b[0;32m      2\u001b[0m \u001b[1;32mfor\u001b[0m \u001b[0mx\u001b[0m \u001b[1;32min\u001b[0m \u001b[0mrange\u001b[0m\u001b[1;33m(\u001b[0m\u001b[0mlen\u001b[0m\u001b[1;33m(\u001b[0m\u001b[0mlst\u001b[0m\u001b[1;33m)\u001b[0m\u001b[1;33m)\u001b[0m\u001b[1;33m:\u001b[0m\u001b[1;33m\u001b[0m\u001b[1;33m\u001b[0m\u001b[0m\n\u001b[1;32m----> 3\u001b[1;33m     \u001b[0mlst\u001b[0m\u001b[1;33m.\u001b[0m\u001b[0mpop\u001b[0m\u001b[1;33m(\u001b[0m\u001b[0mx\u001b[0m\u001b[1;33m)\u001b[0m\u001b[1;33m\u001b[0m\u001b[1;33m\u001b[0m\u001b[0m\n\u001b[0m\u001b[0;32m      4\u001b[0m \u001b[0mprint\u001b[0m\u001b[1;33m(\u001b[0m\u001b[0mlst\u001b[0m\u001b[1;33m)\u001b[0m\u001b[1;33m\u001b[0m\u001b[1;33m\u001b[0m\u001b[0m\n",
      "\u001b[1;31mIndexError\u001b[0m: pop index out of range"
     ]
    }
   ],
   "source": [
    "lst =  [1,2,3,4]\n",
    "lst = "
   ]
  }
 ],
 "metadata": {
  "kernelspec": {
   "display_name": "Python 3",
   "language": "python",
   "name": "python3"
  },
  "language_info": {
   "codemirror_mode": {
    "name": "ipython",
    "version": 3
   },
   "file_extension": ".py",
   "mimetype": "text/x-python",
   "name": "python",
   "nbconvert_exporter": "python",
   "pygments_lexer": "ipython3",
   "version": "3.8.5"
  }
 },
 "nbformat": 4,
 "nbformat_minor": 4
}
