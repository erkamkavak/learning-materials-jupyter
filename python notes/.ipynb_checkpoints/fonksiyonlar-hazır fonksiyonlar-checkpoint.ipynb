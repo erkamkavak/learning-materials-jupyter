{
 "cells": [
  {
   "cell_type": "markdown",
   "metadata": {},
   "source": [
    "Pythonda fonksiyonların parametreleri ikiye ayrılır. Parametreler değerli parametre veyahut sıralı parametre olarak iki şekilde kullanılabilir. Değerli parametreler default olarak bir değer alan parametrelerdir ve bu fonksiyonu çağırırken eğer bu parametreleri belirtmezsek default değerleri fonksiyonda kullanılır. Fonksiyonu çağırırken bu parametreleri isim: değer şeklinde çağırırız. "
   ]
  },
  {
   "cell_type": "code",
   "execution_count": 17,
   "metadata": {},
   "outputs": [
    {
     "name": "stdout",
     "output_type": "stream",
     "text": [
      "merhaba adsız\n",
      "merhaba erkam\n",
      "hoşgeldin adsız\n",
      "hoşgeldin erkam\n"
     ]
    }
   ],
   "source": [
    "def aFunc(name = \"adsız\", selamlama= \"merhaba\"):\n",
    "    print(selamlama, name)\n",
    "aFunc()\n",
    "aFunc(name = \"erkam\")\n",
    "aFunc(selamlama = \"hoşgeldin\")\n",
    "aFunc(selamlama = \"hoşgeldin\", name = \"erkam\")#bu parametreleri ilk belirtildiklerinden farklı şeklinde de çağırabiliriz."
   ]
  },
  {
   "cell_type": "markdown",
   "metadata": {},
   "source": [
    "Sıralı parametreler ise default değeri olmayan ve fonksiyonu çağırırken eğer belirtilmezseler hata veren parametrelerdir. Fonksiyonu çağırırken bu parametreleri sadece değerlerini yazarak belirtebiliriz. Fonksiyonu çağırırken sıralı parametreleri belirten bir şey olmadığı için sıralamaları önemlidir. "
   ]
  },
  {
   "cell_type": "code",
   "execution_count": 16,
   "metadata": {},
   "outputs": [
    {
     "name": "stdout",
     "output_type": "stream",
     "text": [
      "Parametrelerin değerleri bulunmuyor.\n",
      "merhaba erkam\n",
      "erkam merhaba\n"
     ]
    }
   ],
   "source": [
    "def aFunc(name, selamlama):\n",
    "    print(selamlama, name) \n",
    "try: \n",
    "    aFunc()\n",
    "except: \n",
    "    print(\"Parametrelerin değerleri bulunmuyor.\")    \n",
    "\n",
    "aFunc(\"erkam\", \"merhaba\")\n",
    "aFunc(\"merhaba\", \"erkam\")#Bu şekilde yaptığımızda ilk belirttiğimizden farklı bir sıralamaya sahip oldukları için istediğimiz \n",
    "#gibi çalışmayacaklardır."
   ]
  },
  {
   "cell_type": "markdown",
   "metadata": {},
   "source": [
    "Değerli ve sıralı parametreler aynı fonksiyonda kullanılabilirler. Ancak bazı kuralları vardır. Değerli parametreyi sıralı parametreden sonra belirtemeyiz.(çünkü fonksiyonu çağırırken bu problem oluşturacaktır.)"
   ]
  },
  {
   "cell_type": "code",
   "execution_count": 24,
   "metadata": {},
   "outputs": [
    {
     "name": "stdout",
     "output_type": "stream",
     "text": [
      "Merhaba erkam. Verdiğin bilgilere göre yaşın: bilinmiyor ve bilinmiyor yılında doğmuşsun.\n",
      "Merhaba erkam. Verdiğin bilgilere göre yaşın: 19 ve 2001 yılında doğmuşsun.\n"
     ]
    }
   ],
   "source": [
    "def aFunc(name, age = \"bilinmiyor\", birthYear = \"bilinmiyor\"):\n",
    "    print(f\"Merhaba {name}. Verdiğin bilgilere göre yaşın: {age} ve {birthYear} yılında doğmuşsun.\")\n",
    "aFunc(\"erkam\")\n",
    "aFunc(\"erkam\", 19, 2001)"
   ]
  },
  {
   "cell_type": "code",
   "execution_count": 23,
   "metadata": {},
   "outputs": [
    {
     "ename": "SyntaxError",
     "evalue": "non-default argument follows default argument (<ipython-input-23-e91a3d742b41>, line 1)",
     "output_type": "error",
     "traceback": [
      "\u001b[1;36m  File \u001b[1;32m\"<ipython-input-23-e91a3d742b41>\"\u001b[1;36m, line \u001b[1;32m1\u001b[0m\n\u001b[1;33m    def myFunc(age = \"bilinmiyor\", name, birthYear = \"bilinmiyor\"):\u001b[0m\n\u001b[1;37m               ^\u001b[0m\n\u001b[1;31mSyntaxError\u001b[0m\u001b[1;31m:\u001b[0m non-default argument follows default argument\n"
     ]
    }
   ],
   "source": [
    "def myFunc(age = \"bilinmiyor\", name, birthYear = \"bilinmiyor\"):\n",
    "    print(f\"Merhaba {name}. Verdiğin bilgilere göre yaşın: {age} ve {birthYear} yılında doğmuşsun.\")\n"
   ]
  },
  {
   "cell_type": "markdown",
   "metadata": {},
   "source": [
    "print fonksiyonu içinde hem değerli hem sıralı parametre içeren bir fonksiyondur. print etmek istediğimiz şeyler sıralı parametre iken sep, end, file ve flush değerleri değerli parametrelerdir. Bu parametreleri belirtmemize gerek yoktur ancak istersek default değeri değiştirebiliriz."
   ]
  },
  {
   "cell_type": "code",
   "execution_count": 27,
   "metadata": {},
   "outputs": [
    {
     "name": "stdout",
     "output_type": "stream",
     "text": [
      "Fırat Özgül\n"
     ]
    }
   ],
   "source": [
    "print(\"Fırat\", \"Özgül\", sep=\" \", end=\"\\n\") # file=sys.stdout, flush=False"
   ]
  },
  {
   "cell_type": "markdown",
   "metadata": {},
   "source": [
    "Fonksiyonlarda istediğimiz sayıda değerli veya sıralı parametre belirtebiliriz. İstediğimiz sayıda sıralı parametre belirtmek için * işaretini kullanırız. (args => arguments)"
   ]
  },
  {
   "cell_type": "code",
   "execution_count": 29,
   "metadata": {},
   "outputs": [
    {
     "name": "stdout",
     "output_type": "stream",
     "text": [
      "1630\n"
     ]
    }
   ],
   "source": [
    "def sayılarıTopla(*parametreler):#* işareti parametreleri fonksiyonda kullanılacak şekilde tek bir parametre yaparak birleştirir. \n",
    "    print(sum(parametreler))\n",
    "    \n",
    "sayılarıTopla(13,1453, 34,7,69,54)#istediğimiz kadar sayı girebiliriz."
   ]
  },
  {
   "cell_type": "markdown",
   "metadata": {},
   "source": [
    "İstediğimiz sayıda değerli parametre belirtmek için ise ** işaretini kullanırız.(kwagrs=> keyword arguments) ** işareti değeriyle belirttiğimiz bu parametreleri değerleri ile birlikte bir dictionary haline getirir."
   ]
  },
  {
   "cell_type": "code",
   "execution_count": 34,
   "metadata": {},
   "outputs": [
    {
     "name": "stdout",
     "output_type": "stream",
     "text": [
      "{'isim': 'Erkam', 'yaş': 19, 'okul': 'Boğaziçi'}\n"
     ]
    }
   ],
   "source": [
    "def bilgileriGir(**bilgiler):\n",
    "    print(bilgiler)\n",
    "\n",
    "bilgileriGir(isim = \"Erkam\", yaş = 19, okul = \"Boğaziçi\") #parametreler key, değerler value olacak şekilde bir dict oluşur."
   ]
  },
  {
   "cell_type": "code",
   "execution_count": 38,
   "metadata": {},
   "outputs": [
    {
     "name": "stdout",
     "output_type": "stream",
     "text": [
      "isim : Erkam\n",
      "yaş : 19\n",
      "okul : Boğaziçi\n"
     ]
    }
   ],
   "source": [
    "def bilgileriGöster(**bilgiler):\n",
    "    for x in bilgiler: \n",
    "        print(x ,\":\", bilgiler[x])\n",
    "bilgileriGöster(isim = \"Erkam\", yaş = 19, okul = \"Boğaziçi\")"
   ]
  },
  {
   "cell_type": "markdown",
   "metadata": {},
   "source": [
    "Bir fonksiyonda hem args'ı(istediğimiz sayıda sıralı parametre) hem kwargs'ı(istediğimiz sayıda değerli parametre) beraber kullanabiliriz."
   ]
  },
  {
   "cell_type": "code",
   "execution_count": 43,
   "metadata": {},
   "outputs": [
    {
     "name": "stdout",
     "output_type": "stream",
     "text": [
      "kitap = book\n",
      "bilgisayar = computer\n",
      "programlama = programming\n",
      "fonksiyon kelimesi sözlükte yok!\n"
     ]
    }
   ],
   "source": [
    "def sözlükteBul(*arananlar, **sözlük):\n",
    "    for sözcük in arananlar:\n",
    "        if sözcük in sözlük:\n",
    "            print(\"{} = {}\".format(sözcük, sözlük[sözcük]))\n",
    "        else:\n",
    "            print(\"{} kelimesi sözlükte yok!\".format(sözcük))\n",
    "\n",
    "\n",
    "sözlük = {\"kitap\"      : \"book\",\n",
    "          \"bilgisayar\" : \"computer\",\n",
    "          \"programlama\": \"programming\"}\n",
    "\n",
    "sözlükteBul(\"kitap\", \"bilgisayar\", \"programlama\", \"fonksiyon\", **sözlük)"
   ]
  },
  {
   "cell_type": "code",
   "execution_count": 1,
   "metadata": {},
   "outputs": [
    {
     "name": "stdout",
     "output_type": "stream",
     "text": [
      "#gündem1\n",
      "#gündem2\n",
      "#gündem3\n"
     ]
    }
   ],
   "source": [
    "#Daha fazla işlevi olan bir print fonksiyonu:\n",
    "def yerliPrint(*args, başlangıç = \"\", **kwargs):#Burda args parametresi print olacak ögeleri, başlangıç parametresi print edile_\n",
    "#cek şeyin başına yazılacak şeyi, kwargs parametresi ise printin diğer parametrelerini belirtir. \n",
    "    for öge in args: \n",
    "        print(başlangıç + öge, **kwargs)\n",
    "        \n",
    "yerliPrint(\"gündem1\", \"gündem2\", \"gündem3\", başlangıç = \"#\")"
   ]
  },
  {
   "cell_type": "markdown",
   "metadata": {},
   "source": []
  },
  {
   "cell_type": "code",
   "execution_count": 23,
   "metadata": {},
   "outputs": [
    {
     "name": "stdout",
     "output_type": "stream",
     "text": [
      "{1: {0: ['erkam']}}\n"
     ]
    }
   ],
   "source": [
    "dictin = {\n",
    "    \n",
    "}\n",
    "dictin[1] = dictin.get(1, {})\n",
    "dictin[1][0] = dictin[1].get(0, [])\n",
    "dictin[1][0].append(\"erkam\")\n",
    "print(dictin)"
   ]
  },
  {
   "cell_type": "code",
   "execution_count": null,
   "metadata": {},
   "outputs": [],
   "source": [
    "line_starts = {}\n",
    "def addToLine(lines, newline, n):\n",
    "        lines.append(newline)\n",
    "        line_starts[len(newline)] = line_starts.get(len(newline), [])\n",
    "        line_starts[len(newline)].append(x)\n",
    "        newline = []\n",
    "def findLines(shape, lines, n):\n",
    "    for x in range(len(shape)):\n",
    "        newline = []\n",
    "        for a in shape[x]:\n",
    "            if a:\n",
    "                newline.append(a)\n",
    "                if a[n] == len(shape[x]) -1 and len(newline) > 1:\n",
    "                    lines.append(newline)\n",
    "                    l = len(newline)\n",
    "                    line_starts[l] = line_starts.get(l, {0: [], 1: []})\n",
    "                    line_starts[l][n].append([newline[0][0], newline[0][1]])\n",
    "                    newline = []\n",
    "            elif a == [] and len(newline) > 1:\n",
    "                lines.append(newline)\n",
    "                l = len(newline)\n",
    "                line_starts[l] = line_starts.get(l, {})\n",
    "                line_starts[l][n] = line_starts[l].get(n, [])\n",
    "                line_starts[l][n].append([newline[0][0], newline[0][1]])\n",
    "                newline = []\n",
    "            else:\n",
    "                newline = []\n",
    "\n",
    "def wrap_cube(shape):\n",
    "    print(shape)\n",
    "    shape = shape.strip(\"\\n\").splitlines()\n",
    "    lines = []\n",
    "    max = 0\n",
    "    shape_to_check = []\n",
    "    #Turning shape into a list of characters.(every character will have its vertical and horizontal position too)\n",
    "    for x in range(len(shape)):\n",
    "        shape[x] = list(shape[x])\n",
    "        if len(shape[x]) > max:\n",
    "            max = len(shape[x])\n",
    "        for a in range(len(shape[x])):\n",
    "            if shape[x][a] != \" \":\n",
    "                shape[x][a] = [x, a, shape[x][a]]\n",
    "                shape_to_check.append([x,a])\n",
    "            else:\n",
    "                shape[x][a] = []\n",
    "\n",
    "    #Filling the empty places in the shape with empty arrays\n",
    "    for x in range(len(shape)):\n",
    "        for b in range(max-len(shape[x])):\n",
    "            shape[x].append([])\n",
    "    #turning shape 90 degree to find vertical lines.\n",
    "    turned_shape = []\n",
    "    for x in range(max):\n",
    "        rev = []\n",
    "        for a in shape:\n",
    "            rev.append(a[x])\n",
    "        turned_shape.append(rev)\n",
    "\n",
    "\n",
    "    #Adding the lines in the shape(both vertical and horizontal) to lines array.\n",
    "    findLines(turned_shape, lines, 0)\n",
    "    findLines(shape, lines, 1)\n",
    "    print(line_starts)\n",
    "    for g in line_starts:\n",
    "        x = line_starts[g]\n",
    "        for c in x:\n",
    "            if len(x[c]) > 1:\n",
    "                l_check = [[x[c][z1], z2] for z1 in range(len(x[c])) for z2 in x[c][z1 +1:] if x[c][z1][c] == z2[c] and not x[c][z1] == z2 ]\n",
    "                for [x1, x2] in l_check:\n",
    "                    leng = abs(x1[1]- x2[1]) + 1\n",
    "                    if leng in line_starts:\n",
    "                        try:\n",
    "                            returnS = 0\n",
    "                            for m in line_starts[leng][(c + 1) %2]:\n",
    "                                if m == x1 or m == [x1[0] + g - 1, x1[1]]:\n",
    "                                    returnS += 1\n",
    "                            if returnS == 2:\n",
    "                                return None\n",
    "                        except:\n",
    "                            continue\n",
    "\n",
    "    #Finding and adding the intersects of the lines to intersects dictionary(with the letter of intersects point).\n",
    "    intersects = {}\n",
    "    for x in range(len(lines)):\n",
    "        for a in lines[x]:\n",
    "            for b in range(x + 1, len(lines)):\n",
    "                if a in lines[b]:\n",
    "                    intersects[a[2]] = [x, b]\n",
    "    #ways in the cube\n",
    "    ways = {\n",
    "        0 : [3,0,1,2] ,\n",
    "        1 : [0,4,2,5],\n",
    "        2 : [4,3,5,1]\n",
    "    }\n",
    "    cube = {\n",
    "        0: [],\n",
    "        1: [],\n",
    "        2: [],\n",
    "        3: [],\n",
    "        4: [],\n",
    "        5: []\n",
    "    }\n",
    "    #s > lines üzerinde işlem yapılacak olan list.  for döngüsünde her zaman ilk değerini alıcaz ve işlem bittikten sonra ilk değeri sileceğiz.\n",
    "    s = [0]\n",
    "    #w > kesişim noktasından yeni liste geçtiğimizde kesişim noktasının yeni list üzerindeki indexi. Bu değeri default index olarak düşüneceğiz.\n",
    "    # w değeri yeni listte kesişim noktasının ways üzerinde geleceği index olmalıdır.\n",
    "    w = [0]\n",
    "    #f > kesişim noktasından yeni liste geçtiğimiz durumlarda yeni listin üzerinde bulunacağı yol.(ways'in indexleri olarak düşüneceğiz)\n",
    "    f = [0]\n",
    "    cons = [-1]\n",
    "    # 1 > vertical -1 > horizontal\n",
    "    direction = [1]\n",
    "    for x in range(len(lines)):\n",
    "        #line'ları cube üzerine yerleştiriyoruz.\n",
    "        for a in range(len(lines[s[0]])):\n",
    "            # c > line üzerindeki değerler\n",
    "            c = lines[s[0]][a]\n",
    "            # d > c'nin cube'un üzerine geldiği sayı\n",
    "            d = ways[f[0]][(a*cons[0] + w[0]) % 4]\n",
    "            # c'nin harf olan değerini cube üzerinde bulunduğu noktaya ekliyoruz.\n",
    "            cube[d].append(c[2])\n",
    "            # c intersects noktası olup olmadığına bakıyoruz.\n",
    "            if list(intersects.keys()).count(c[2]) > 0:\n",
    "                #c intersects noktası ise kesişimde olduğu diğer listin lines içindeki indexini buluyoruz.\n",
    "                intersects[c[2]].remove(s[0])\n",
    "                line_ind = intersects[c[2]][0]\n",
    "                # bu list indexini s'e ekliyoruz.\n",
    "                s.append(line_ind)\n",
    "                #kesişim noktasının ways'ler üzerinde bulunduğu listlere buluyoruz.\n",
    "                #Bu listlerden üzerinde çalışmadığımız listin indexini f olarak geri döndüreceğiz.\n",
    "                ways2 = list(ways.values()).copy()\n",
    "                #üzerinde çalıştığımız listi kopya ways'ten çıkarıyoruz.\n",
    "                ways2.pop(f[0])\n",
    "                #geriye kalan list üzerinde kesişim noktasının bulunduğu listi f'e ekliyoruz.\n",
    "                for g in range(len(ways2)):\n",
    "                    if d in ways2[g]:\n",
    "                        f.append(list(ways.values()).index(ways2[g]))\n",
    "                        #w değeri kesişim noktasının ways üzerindeki indexinden yeni line üzerindeki indexinin farkı oluyor.\n",
    "                        for h in range(len(lines[line_ind])):\n",
    "                            if lines[line_ind][h][2] == c[2]:\n",
    "                                if ways2[g].index(d) == 1 or ways2[g].index(d) == 2:\n",
    "                                    con = 1*direction[0]*cons[0]\n",
    "                                else:\n",
    "                                    con = -1*direction[0]*cons[0]\n",
    "                                w.append(ways2[g].index(d) - h*con)\n",
    "                                cons.append(con)\n",
    "                                direction.append(direction[0]*-1)\n",
    "                #en sonda kesişim noktasının değerini intersects üzerinden siliyoruz.(daha sonra tekrar aynı line üzerine gelmemek için)\n",
    "                intersects.pop(c[2])\n",
    "        s.pop(0)\n",
    "        f.pop(0)\n",
    "        w.pop(0)\n",
    "        direction.pop(0)\n",
    "        cons.pop(0)\n",
    "\n",
    "    return_l = []\n",
    "    for x in cube.values():\n",
    "        x = set(x)\n",
    "        if len(x) > 1:\n",
    "            return_l.append(x)\n",
    "    return return_l\n"
   ]
  },
  {
   "cell_type": "code",
   "execution_count": null,
   "metadata": {},
   "outputs": [],
   "source": [
    "def findLines(shape, lines, n):\n",
    "    for x in shape:\n",
    "        newline = []\n",
    "        for a in x:\n",
    "            if a:\n",
    "                newline.append(a)\n",
    "                if a[n] == len(x) -1 and len(newline) > 1:\n",
    "                    lines.append(newline)\n",
    "                    newline = []\n",
    "            elif a == [] and len(newline) > 1:\n",
    "                lines.append(newline)\n",
    "                newline = []\n",
    "            else:\n",
    "                newline = []\n",
    "def wrap_cube(shape):\n",
    "    shape = shape.strip(\"\\n\").splitlines()\n",
    "    lines = []\n",
    "    max = 0\n",
    "    shape_to_check = []\n",
    "    for x in range(len(shape)):\n",
    "        shape[x] = list(shape[x])\n",
    "        if len(shape[x]) > max:\n",
    "            max = len(shape[x])\n",
    "        for a in range(len(shape[x])):\n",
    "            if shape[x][a] != \" \":\n",
    "                shape[x][a] = [x, a, shape[x][a]]\n",
    "                shape_to_check.append([x,a])\n",
    "            else:\n",
    "                shape[x][a] = []\n",
    "    for b in shape_to_check:\n",
    "        x = b[0]\n",
    "        a = b[1]\n",
    "        if shape_to_check.count([x, a + 1]) == 1 and shape_to_check.count([x + 1, a]) == 1 and shape_to_check.count([x + 1, a + 1]) == 1:\n",
    "            return None\n",
    "    for x in range(len(shape)):\n",
    "        for b in range(max-len(shape[x])):\n",
    "            shape[x].append([])\n",
    "    shape_reverse = []\n",
    "    for x in range(max):\n",
    "        rev = []\n",
    "        for a in shape:\n",
    "            rev.append(a[x])\n",
    "        shape_reverse.append(rev)\n",
    "    findLines(shape_reverse, lines, 0)\n",
    "    findLines(shape, lines, 1)\n",
    "    intersects = {}\n",
    "    for x in range(len(lines)):\n",
    "        for a in lines[x]:\n",
    "            for b in range(x + 1, len(lines)):\n",
    "                if lines[b].count(a) > 0:\n",
    "                    intersects[a[2]] = [x, b]\n",
    "    ways = {\n",
    "        0 : [3,0,1,2] ,\n",
    "        1 : [0,4,2,5],\n",
    "        2 : [4,3,5,1]\n",
    "    }\n",
    "    cube = {\n",
    "        0: [],\n",
    "        1: [],\n",
    "        2: [],\n",
    "        3: [],\n",
    "        4: [],\n",
    "        5: []\n",
    "    }\n",
    "    #s > lines üzerinde işlem yapılacak olan list.  for döngüsünde her zaman ilk değerini alıcaz ve işlem bittikten sonra ilk değeri sileceğiz.\n",
    "    s = [0]\n",
    "    #w > kesişim noktasından yeni liste geçtiğimizde kesişim noktasının yeni list üzerindeki indexi. Bu değeri default index olarak düşüneceğiz.\n",
    "    # w değeri yeni listte kesişim noktasının ways üzerinde geleceği index olmalıdır.\n",
    "    w = [0]\n",
    "    #f > kesişim noktasından yeni liste geçtiğimiz durumlarda yeni listin üzerinde bulunacağı yol.(ways'in indexleri olarak düşüneceğiz)\n",
    "    f = [0]\n",
    "    cons = [1]\n",
    "    direction = [1]\n",
    "    for x in range(len(lines)):\n",
    "        #line'ları cube üzerine yerleştiriyoruz.\n",
    "        for a in range(len(lines[s[0]])):\n",
    "            # c > line üzerindeki değerler\n",
    "            c = lines[s[0]][a]\n",
    "            # d > c'nin cube'un üzerine geldiği sayı\n",
    "            d = ways[f[0]][(a*cons[0] + w[0]) % 4]\n",
    "            # c'nin harf olan değerini cube üzerinde bulunduğu noktaya ekliyoruz.\n",
    "            cube[d].append(c[2])\n",
    "            # c intersects noktası olup olmadığına bakıyoruz.\n",
    "            if list(intersects.keys()).count(c[2]) > 0:\n",
    "                #c intersects noktası ise kesişimde olduğu diğer listin lines içindeki indexini buluyoruz.\n",
    "                intersects[c[2]].remove(s[0])\n",
    "                line_ind = intersects[c[2]][0]\n",
    "                # bu list indexini s'e ekliyoruz.\n",
    "                s.append(line_ind)\n",
    "                #kesişim noktasının ways'ler üzerinde bulunduğu listlere buluyoruz.\n",
    "                #Bu listlerden üzerinde çalışmadığımız listin indexini f olarak geri döndüreceğiz.\n",
    "                ways2 = list(ways.values()).copy()\n",
    "                #üzerinde çalıştığımız listi kopya ways'ten çıkarıyoruz.\n",
    "                ways2.pop(f[0])\n",
    "                #geriye kalan list üzerinde kesişim noktasının bulunduğu listi f'e ekliyoruz.\n",
    "                for g in range(len(ways2)):\n",
    "                    if ways2[g].count(d) > 0:\n",
    "                        f.append(list(ways.values()).index(ways2[g]))\n",
    "                        #w değeri kesişim noktasının ways üzerindeki indexinden yeni line üzerindeki indexinin farkı oluyor.\n",
    "                        for h in range(len(lines[line_ind])):\n",
    "                            if lines[line_ind][h][2] == c[2]:\n",
    "                                if ways2[g].index(d) == 1 or ways2[g].index(d) == 2:\n",
    "                                    con = 1*direction[0]*cons[0]\n",
    "                                else:\n",
    "                                    con = -1*direction[0]*cons[0]\n",
    "                                w.append(ways2[g].index(d) - h*con)\n",
    "                                cons.append(con)\n",
    "                                direction.append(direction[0]*-1)\n",
    "                #en sonda kesişim noktasının değerini intersects üzerinden siliyoruz.(daha sonra tekrar aynı line üzerine gelmemek için)\n",
    "                intersects.pop(c[2])\n",
    "        s.pop(0)\n",
    "        f.pop(0)\n",
    "        w.pop(0)\n",
    "        direction.pop(0)\n",
    "        cons.pop(0)\n",
    "\n",
    "    return_l = []\n",
    "    for x in cube.values():\n",
    "        x = set(x)\n",
    "        if len(x) > 1:\n",
    "            return_l.append(x)\n",
    "    return return_l"
   ]
  },
  {
   "cell_type": "markdown",
   "metadata": {},
   "source": [
    "Python fonksiyon içinde kullandığımız variable'ları ilk olarak fonksiyon içinde arar. Eğer fonksiyon içinde bu variable'lar tanımlanmış ise bunları alır ve kullanır(değiştirebilir). Eğer bu variable'lar fonksiyon içinde tanımlı değilse fonksiyon dışında aramaya başlar ve bulursa alır ve kullanır. Fonksiyon içinde ve fonksiyon dışında aynı variable'lar farklı değerlere sahipse fonksiyon içerideki değeri alır ve tüm işlemleri onun üzerinden yapar. "
   ]
  },
  {
   "cell_type": "code",
   "execution_count": 8,
   "metadata": {},
   "outputs": [
    {
     "name": "stdout",
     "output_type": "stream",
     "text": [
      "outside of func: 10\n",
      "inside of func: 10\n",
      "outside of func: 10\n",
      "inside of func: 5\n",
      "outside of func: 10\n"
     ]
    }
   ],
   "source": [
    "x = 10\n",
    "print(\"outside of func:\", x)\n",
    "def takeOutside():\n",
    "    print(\"inside of func:\", x)\n",
    "takeOutside()\n",
    "print(\"outside of func:\", x)\n",
    "\n",
    "def takeInside():\n",
    "    x = 5\n",
    "    print(\"inside of func:\", x)\n",
    "    x += 3\n",
    "takeInside()\n",
    "print(\"outside of func:\", x)"
   ]
  },
  {
   "cell_type": "markdown",
   "metadata": {},
   "source": [
    "Pythonda fonksiyon dışında tanımlanan bir variable'ı fonksiyon içinde kullanabilirsiniz ancak bu variable'ı tekrar tanımlayamazsınız.(x += 3 gibi ifadeler de aslında variable'ı tekrar tanımlayıp 3 eklediği için bu tarz ifadeler de çalışmayacaktır) Bu durumu engellemek için global isimli keywordu kullanabiliriz. global keywordu variable'ın global halini fonksiyona çağırır ve fonksiyon içinde istediğimiz gibi kullanmamızı sağlar.  "
   ]
  },
  {
   "cell_type": "code",
   "execution_count": 15,
   "metadata": {},
   "outputs": [
    {
     "name": "stdout",
     "output_type": "stream",
     "text": [
      "global variable fonksiyon içinde değiştirilemez.\n",
      "20 erkam kavak\n"
     ]
    }
   ],
   "source": [
    "x = 15\n",
    "string = \"erkam\"\n",
    "def change():\n",
    "    x += 5\n",
    "    string += \"kavak\"\n",
    "try: \n",
    "    change()\n",
    "except: \n",
    "    print(\"global variable fonksiyon içinde değiştirilemez.\")\n",
    "    \n",
    "def change2():\n",
    "    global x\n",
    "    global string #x ve string variable'larını global olarak çağırıyoruz. \n",
    "    x += 5\n",
    "    string += \" kavak\"\n",
    "    print(x, string)\n",
    "change2()"
   ]
  },
  {
   "cell_type": "markdown",
   "metadata": {},
   "source": [
    "## Pythonda tanımlı fonksiyonlar"
   ]
  },
  {
   "cell_type": "markdown",
   "metadata": {},
   "source": [
    "Pythonda default olarak tanımlı fonksiyonlar vardır. "
   ]
  },
  {
   "cell_type": "code",
   "execution_count": 20,
   "metadata": {},
   "outputs": [
    {
     "name": "stdout",
     "output_type": "stream",
     "text": [
      "abs all any ascii bin bool breakpoint bytearray bytes callable chr classmethod compile complex copyright credits delattr dict dir display divmod enumerate eval exec filter float format frozenset get_ipython getattr globals hasattr hash help hex id input int isinstance issubclass iter len license list locals map max memoryview min next object oct open ord pow print property range repr reversed round set setattr slice sorted staticmethod str sum super tuple type vars zip\n"
     ]
    }
   ],
   "source": [
    "import builtins\n",
    "print(*[x for x in dir(builtins) if not x.startswith(\"_\") and x.lower() == x])"
   ]
  },
  {
   "cell_type": "markdown",
   "metadata": {},
   "source": [
    "round fonksiyonu parametre olarak verilen float sayıyı daha yakın olduğu sayıya yuvarlamayı sağlar. Eğer uzaklıklar eşitse(.5 sayılar) hangi sayıyı seçeceği randomdur. round fonksiyonunda aslında 2.bir optional parametre vardır. Bu parametre yuvarlama işleminin hassasiyetini belirlemeyi(float kısmında kaç tane sayı kalacağını belirlemeyi) sağlar. Mesela bu değer 1 olursa sayıyı float kısmında 1 tane sayı kalacak şekilde sayıyı yuvarlar. "
   ]
  },
  {
   "cell_type": "code",
   "execution_count": 24,
   "metadata": {},
   "outputs": [
    {
     "name": "stdout",
     "output_type": "stream",
     "text": [
      "15\n",
      "14\n",
      "14\n",
      "12\n",
      "7.56\n"
     ]
    }
   ],
   "source": [
    "print(round(14.6))\n",
    "print(round(14.3))\n",
    "print(round(14.5))\n",
    "print(round(11.5))\n",
    "\n",
    "print(round(7.562342342, 2))# float kısmında 2 tane rakam kalacak şekilde yuvarlar. "
   ]
  },
  {
   "cell_type": "markdown",
   "metadata": {},
   "source": [
    "all fonksiyonu bir listteki tüm değerlerin doğru olup olmadığına bakar. Eğer hepsi doğru ise true değerini gönderirken bir tanesi bile yanlışsa false değerini gönderir."
   ]
  },
  {
   "cell_type": "code",
   "execution_count": 28,
   "metadata": {},
   "outputs": [
    {
     "name": "stdout",
     "output_type": "stream",
     "text": [
      "False\n",
      "False\n",
      "True\n"
     ]
    }
   ],
   "source": [
    "lst1 = [0, 1, 3] # 0 değeri false olarak kabul edilir.\n",
    "lst2 = [[],[1,2]]#boş küme false olarak kabul edilir.\n",
    "lst3 = [[False, True], [12,352], [0,1,2,3]]\n",
    "print(all(lst1))\n",
    "print(all(lst2))\n",
    "print(all(lst3))"
   ]
  },
  {
   "cell_type": "markdown",
   "metadata": {},
   "source": [
    "any fonksiyonu bir listteki değerlerin doğru olup olmadığına bakar. Eğer bir tane bile doğru varsa True değeri gönderirken hiçbiri doğru değilse False değerini gönderir."
   ]
  },
  {
   "cell_type": "code",
   "execution_count": 30,
   "metadata": {},
   "outputs": [
    {
     "name": "stdout",
     "output_type": "stream",
     "text": [
      "False\n",
      "True\n"
     ]
    }
   ],
   "source": [
    "print(any([0, False, []]))\n",
    "print(any([1, 0, False]))"
   ]
  },
  {
   "cell_type": "markdown",
   "metadata": {},
   "source": [
    "ascii fonksiyonu bir nesnenin ekrana basılabilir halini geri döndürür. Yani mesela bir stringde kaçış karakterleri print edildiğinde gözükmez iken ascii fonksiyonu ile print edilirse kaçış karakterleri de gözükecektir. ascii fonksiyonu Türkçe karakterler gibi ascii olmayan karakterlerin Unicode karşılığını geri döndürür. Aynı zamanda ascii fonksiyonuna bir list girilirse bu listi alır ve string haline getirir."
   ]
  },
  {
   "cell_type": "code",
   "execution_count": 43,
   "metadata": {},
   "outputs": [
    {
     "name": "stdout",
     "output_type": "stream",
     "text": [
      "erkam \n",
      "kavak\n",
      "'erkam \\n kavak'\n",
      "'\\xfczg\\xfcn \\u0131\\u015f\\u0131k'\n",
      "'\\xfc'\n",
      "'z'\n",
      "'g'\n",
      "'\\xfc'\n",
      "'n'\n",
      "' '\n",
      "'\\u0131'\n",
      "'\\u015f'\n",
      "'\\u0131'\n",
      "'k'\n",
      "erkam can ahmet\n",
      "[-'-e-r-k-a-m-'-,- -'-c-a-n-'-,- -'-a-h-m-e-t-'-]\n"
     ]
    }
   ],
   "source": [
    "print(\"erkam \\nkavak\")\n",
    "print(ascii(\"erkam \\n kavak\"))\n",
    "\n",
    "string = \"üzgün ışık\"\n",
    "print(ascii(string))#ı, ü ve ş karakterlerinin Unicode karşılığını geri döndürür.\n",
    "for x in string: \n",
    "    print(ascii(x))\n",
    "    \n",
    "lst = [\"erkam\", \"can\", \"ahmet\"]\n",
    "print(*lst)\n",
    "print(*ascii(lst), sep = \"-\")"
   ]
  },
  {
   "cell_type": "markdown",
   "metadata": {},
   "source": [
    "repr fonksiyonu ascii fonksiyonu ile neredeyse aynı işi yapar. Tek farkı ascii olmayan karakterlerin Unicode karşılığını döndürmek yerine direk normal hallerini döndürür.  "
   ]
  },
  {
   "cell_type": "code",
   "execution_count": 45,
   "metadata": {},
   "outputs": [
    {
     "name": "stdout",
     "output_type": "stream",
     "text": [
      "'üzgün /n ışık'\n"
     ]
    }
   ],
   "source": [
    "print(repr(\"üzgün /n ışık\"))"
   ]
  },
  {
   "cell_type": "markdown",
   "metadata": {},
   "source": [
    "chr fonksiyonu parametre olarak girilen sayının Unicode tablosundaki karşılığını geri döndürür. "
   ]
  },
  {
   "cell_type": "code",
   "execution_count": 48,
   "metadata": {},
   "outputs": [
    {
     "name": "stdout",
     "output_type": "stream",
     "text": [
      "'\\n'\n",
      "A\n",
      "[\n"
     ]
    }
   ],
   "source": [
    "print(ascii(chr(10)))#10 sayısının karşılığı \\n'dir.\n",
    "print(chr(65))\n",
    "print(chr(91))"
   ]
  },
  {
   "cell_type": "markdown",
   "metadata": {},
   "source": [
    "int fonksiyonu float veya stringleri integer haline döndürmek dışında başka sayma sisteminde olan sayıları 10'lu sayma sistemine döndürme işlemini yapar. Bunu yaparken ilk parametre olarak başka sayma sisteminde olan sayıyı string halinde yazıyoruz. İkinci olarak da bu sayma sisteminin kaçlık tabanda olduğunu yazıyoruz. "
   ]
  },
  {
   "cell_type": "code",
   "execution_count": 50,
   "metadata": {},
   "outputs": [
    {
     "name": "stdout",
     "output_type": "stream",
     "text": [
      "10\n",
      "1231\n"
     ]
    }
   ],
   "source": [
    "print(int(\"12\", 8))# 12 sayısını 8'lik sayma sistemindeki karşılığını 10'luk sayma sistemine çevirecek.\n",
    "print(int(\"4cf\", 16))"
   ]
  },
  {
   "cell_type": "markdown",
   "metadata": {},
   "source": [
    "dict fonksiyonu iki karakterli listlerle doldurulmuş bir listi direk dictionary haline getirebilir."
   ]
  },
  {
   "cell_type": "code",
   "execution_count": 53,
   "metadata": {},
   "outputs": [
    {
     "name": "stdout",
     "output_type": "stream",
     "text": [
      "{0: 'sıfır', 1: 'bir', 2: 'iki', '3': 'üç'}\n"
     ]
    }
   ],
   "source": [
    "lst = [[0, \"sıfır\"], [1, \"bir\"], [2, \"iki\"], [\"3\", \"üç\"]]\n",
    "print(dict(lst))"
   ]
  },
  {
   "cell_type": "markdown",
   "metadata": {},
   "source": [
    "callable fonksiyonu parametre olarak girilen değerin çağrılabilir bir değer olup olmadığını kontrol eder ve boolean değer gönderir. Fonksiyonlar çağrılabilen değerler iken değişkenler çağrılamayan değerlerdir. "
   ]
  },
  {
   "cell_type": "code",
   "execution_count": 56,
   "metadata": {},
   "outputs": [
    {
     "name": "stdout",
     "output_type": "stream",
     "text": [
      "True\n",
      "False\n"
     ]
    }
   ],
   "source": [
    "print(callable(print))\n",
    "x = 1\n",
    "print(callable(x))"
   ]
  },
  {
   "cell_type": "markdown",
   "metadata": {},
   "source": [
    "ord fonksiyonu bir karakterin Unicode karşılığını geri döndürür. ord fonksiyonunda parametreler string halinde olmalıdır. "
   ]
  },
  {
   "cell_type": "code",
   "execution_count": 65,
   "metadata": {},
   "outputs": [
    {
     "name": "stdout",
     "output_type": "stream",
     "text": [
      "97\n",
      "3\n"
     ]
    }
   ],
   "source": [
    "print(ord(\"a\"))\n",
    "print(ord(\"8\")- ord(\"5\"))"
   ]
  },
  {
   "cell_type": "markdown",
   "metadata": {},
   "source": [
    "filter methodu list niteliğinde olan değişkenler üzerinde bir süzme(filtreleme) işlemi uygulayabiliriz. filter methodu iki tane parametre alır. Birinci parametre filtreleme işlemini yapacak olan fonksiyon iken ikinci parametre filtreleme işleminin yapılacağı list benzeri yapıdır. list içindeki değerler eğer ilk parametre olan fonksiyon üzerinde çalıştıktan sonra True değerini gönderiyorsalar filter methodundan geçerlerken göndermiyorsalar filter methodundan geçemezler. filter methodu geri döndürdüğü şeyi filter object denilen türde geri döndürür(iterable bir tür)."
   ]
  },
  {
   "cell_type": "code",
   "execution_count": 72,
   "metadata": {},
   "outputs": [
    {
     "name": "stdout",
     "output_type": "stream",
     "text": [
      "1 3 5 1321\n"
     ]
    }
   ],
   "source": [
    "def tekSayı(sayı):\n",
    "    if sayı %2 == 1: \n",
    "        return True\n",
    "lst = [1,2,3,4,5,1321]\n",
    "print(*filter(tekSayı, lst))#lst içindeki tüm değerler tekSayı fonksiyonunda parametre olarak çalışırlar."
   ]
  },
  {
   "cell_type": "markdown",
   "metadata": {},
   "source": [
    "isinstance fonksiyonu iki parametre alır ve birinci parametrenin ikinci parametre türünde olup olmadığını kontrol eder(boolean değer döndürür)(yani ikinci parametre bir tür adı olmalı)."
   ]
  },
  {
   "cell_type": "code",
   "execution_count": 76,
   "metadata": {},
   "outputs": [
    {
     "name": "stdout",
     "output_type": "stream",
     "text": [
      "True\n",
      "False\n",
      "True\n"
     ]
    }
   ],
   "source": [
    "print(isinstance([], list))\n",
    "print(isinstance(\"\", list))\n",
    "print(isinstance(\"\", str))"
   ]
  },
  {
   "cell_type": "markdown",
   "metadata": {},
   "source": [
    "map fonksiyonu bir listteki tüm değerler üzerinde aynı işlemi yapıp bu değerler ile yeni bir list oluşturmamızı sağlar. filter methoduna çok benzer. İki parametre alır. İlk parametreye değiştirme işlemini yapıcak fonksiyonu, ikinci parametreye ise değiştirme işleminin üzerinde yapılacağı listi yazarız. "
   ]
  },
  {
   "cell_type": "code",
   "execution_count": 78,
   "metadata": {},
   "outputs": [
    {
     "name": "stdout",
     "output_type": "stream",
     "text": [
      "4986 74392\n"
     ]
    }
   ],
   "source": [
    "def elemanlarıTopla(x):\n",
    "    return sum(x)\n",
    "nstd_lst = [[1,56,123,4572,234], [54,8,67,4293,5,65439,4526,]] \n",
    "print(*map(elemanlarıTopla,nstd_lst))"
   ]
  },
  {
   "cell_type": "markdown",
   "metadata": {},
   "source": [
    "max, min, sorted ve reversed fonksiyonlarında key adlı bir değer vardır. Bu değer sıralama işleminin nasıl yapılacağını belirtmek için kullanılan bir değerdir.(mesela key = len yazarsak sıralama işlemini verilen değerlerin uzunluklarına göre yapacaktır) Biz istersek kendimiz bir fonksiyon oluşturup sıralama işleminin nasıl yapılacağını bu fonksiyon üzerinde belirtebiliriz. Bu fonksiyonlarla parametre olarak girilen değer için bir sayı karşılığı göndeririz ve değerler bu sayılara göre sıralanır."
   ]
  },
  {
   "cell_type": "code",
   "execution_count": 79,
   "metadata": {},
   "outputs": [
    {
     "name": "stdout",
     "output_type": "stream",
     "text": [
      "['demir', 'gümüş', 'altın', 'platin', 'elmas', 'challenger']\n"
     ]
    }
   ],
   "source": [
    "def rütbe_sırala(değer):\n",
    "    rütbeler = {\n",
    "        \"demir\" : 0,\n",
    "        \"bronz\" : 1,\n",
    "        \"gümüş\" : 2,\n",
    "        \"altın\" : 3,\n",
    "        \"platin\": 4, \n",
    "        \"elmas\" : 5,\n",
    "        \"challenger\": 6\n",
    "    }\n",
    "    return rütbeler[değer] #rütbeler üzerinde değerin bulunduğu sayıyı geri döndürecek ve sıralamayı buna göre yapacaktır.\n",
    "rütbe_lst = [\"gümüş\", \"platin\", \"demir\", \"challenger\", \"altın\", \"elmas\"]\n",
    "print(sorted(rütbe_lst, key = rütbe_sırala))"
   ]
  },
  {
   "cell_type": "markdown",
   "metadata": {},
   "source": [
    "slice fonksiyonu bir listi belirli noktalarından parçalamayı sağlar. "
   ]
  },
  {
   "cell_type": "code",
   "execution_count": 81,
   "metadata": {},
   "outputs": [
    {
     "name": "stdout",
     "output_type": "stream",
     "text": [
      "[4, 5, 6]\n"
     ]
    }
   ],
   "source": [
    "slice_3_to_6 = slice(3, 6)#listi 3. ve 6.indexlerinden parçalayacak. \n",
    "lst = [1,2,3,4,5,6,7,8]\n",
    "print(lst[slice_3_to_6])#lst üzerinde bu şekilde uygulanır.\n",
    "#çok da faydalı değil gibi duruyor."
   ]
  },
  {
   "cell_type": "markdown",
   "metadata": {},
   "source": [
    "zip fonksiyonu iki farklı listi alıp bunların aynı indexdeki her bir değerini birbirleri ile eşleştirip geri döndürür. zip fonksiyonun asıl döndürdüğü değer zip object değeridir.(iterable bir türdür) zip fonksiyonu birleştirdiği değerleri bir tuple içinde geri döndürür."
   ]
  },
  {
   "cell_type": "code",
   "execution_count": 85,
   "metadata": {},
   "outputs": [
    {
     "name": "stdout",
     "output_type": "stream",
     "text": [
      "<zip object at 0x000001D56056D240>\n",
      "('a', 'd') ('b', 'e') ('c', 'f')\n",
      "('ahmet', 25)\n",
      "('mehmet', 40)\n",
      "('zeynep', 35)\n",
      "('ilker', 20)\n"
     ]
    }
   ],
   "source": [
    "lst1 = [\"a\", \"b\", \"c\"]\n",
    "lst2 = [\"d\", \"e\", \"f\"]\n",
    "print(zip(lst1, lst2))\n",
    "print(*zip(lst1, lst2))\n",
    "\n",
    "isimler = ['ahmet', 'mehmet', 'zeynep', 'ilker']\n",
    "yaşlar = [25, 40, 35, 20]\n",
    "for x in zip(isimler, yaşlar):\n",
    "    print(x)"
   ]
  },
  {
   "cell_type": "markdown",
   "metadata": {},
   "source": [
    "exit, quit "
   ]
  },
  {
   "cell_type": "code",
   "execution_count": null,
   "metadata": {},
   "outputs": [],
   "source": []
  },
  {
   "cell_type": "markdown",
   "metadata": {},
   "source": [
    "eval(), exec(), globals(), locals(), compile()"
   ]
  },
  {
   "cell_type": "code",
   "execution_count": null,
   "metadata": {},
   "outputs": [],
   "source": []
  },
  {
   "cell_type": "markdown",
   "metadata": {},
   "source": [
    "bytes(), bytesarray()"
   ]
  },
  {
   "cell_type": "code",
   "execution_count": null,
   "metadata": {},
   "outputs": [],
   "source": []
  }
 ],
 "metadata": {
  "kernelspec": {
   "display_name": "Python 3",
   "language": "python",
   "name": "python3"
  },
  "language_info": {
   "codemirror_mode": {
    "name": "ipython",
    "version": 3
   },
   "file_extension": ".py",
   "mimetype": "text/x-python",
   "name": "python",
   "nbconvert_exporter": "python",
   "pygments_lexer": "ipython3",
   "version": "3.8.5"
  }
 },
 "nbformat": 4,
 "nbformat_minor": 4
}
