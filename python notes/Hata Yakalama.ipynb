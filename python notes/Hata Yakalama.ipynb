{
 "cells": [
  {
   "cell_type": "code",
   "execution_count": 9,
   "metadata": {},
   "outputs": [
    {
     "name": "stdout",
     "output_type": "stream",
     "text": [
      "ilk sayı: str\n",
      "ikinci sayı: 10\n"
     ]
    },
    {
     "ename": "ValueError",
     "evalue": "invalid literal for int() with base 10: 'str'",
     "output_type": "error",
     "traceback": [
      "\u001b[1;31m---------------------------------------------------------------------------\u001b[0m",
      "\u001b[1;31mValueError\u001b[0m                                Traceback (most recent call last)",
      "\u001b[1;32m<ipython-input-9-fdf1f586d403>\u001b[0m in \u001b[0;36m<module>\u001b[1;34m\u001b[0m\n\u001b[0;32m      5\u001b[0m \u001b[0mikinci_sayı\u001b[0m \u001b[1;33m=\u001b[0m \u001b[0minput\u001b[0m\u001b[1;33m(\u001b[0m\u001b[1;34m\"ikinci sayı: \"\u001b[0m\u001b[1;33m)\u001b[0m\u001b[1;33m\u001b[0m\u001b[1;33m\u001b[0m\u001b[0m\n\u001b[0;32m      6\u001b[0m \u001b[1;33m\u001b[0m\u001b[0m\n\u001b[1;32m----> 7\u001b[1;33m \u001b[0msayı1\u001b[0m \u001b[1;33m=\u001b[0m \u001b[0mint\u001b[0m\u001b[1;33m(\u001b[0m\u001b[0milk_sayı\u001b[0m\u001b[1;33m)\u001b[0m\u001b[1;33m\u001b[0m\u001b[1;33m\u001b[0m\u001b[0m\n\u001b[0m\u001b[0;32m      8\u001b[0m \u001b[0msayı2\u001b[0m \u001b[1;33m=\u001b[0m \u001b[0mint\u001b[0m\u001b[1;33m(\u001b[0m\u001b[0mikinci_sayı\u001b[0m\u001b[1;33m)\u001b[0m\u001b[1;33m\u001b[0m\u001b[1;33m\u001b[0m\u001b[0m\n\u001b[0;32m      9\u001b[0m \u001b[0mprint\u001b[0m\u001b[1;33m(\u001b[0m\u001b[0msayı1\u001b[0m\u001b[1;33m,\u001b[0m \u001b[1;34m\"/\"\u001b[0m\u001b[1;33m,\u001b[0m \u001b[0msayı2\u001b[0m\u001b[1;33m,\u001b[0m \u001b[1;34m\"=\"\u001b[0m\u001b[1;33m,\u001b[0m \u001b[0msayı1\u001b[0m \u001b[1;33m/\u001b[0m \u001b[0msayı2\u001b[0m\u001b[1;33m)\u001b[0m\u001b[1;33m\u001b[0m\u001b[1;33m\u001b[0m\u001b[0m\n",
      "\u001b[1;31mValueError\u001b[0m: invalid literal for int() with base 10: 'str'"
     ]
    }
   ],
   "source": [
    "\"\"\"\n",
    "Aşağıdaki kodda eğer sayı yerine başka bir tür yazarsak veyahut ikinci sayıyı 0 yazarsak hata oluşur.\n",
    "\"\"\"\n",
    "ilk_sayı    = input(\"ilk sayı: \")\n",
    "ikinci_sayı = input(\"ikinci sayı: \")\n",
    "\n",
    "sayı1 = int(ilk_sayı)\n",
    "sayı2 = int(ikinci_sayı)\n",
    "print(sayı1, \"/\", sayı2, \"=\", sayı1 / sayı2)"
   ]
  },
  {
   "cell_type": "code",
   "execution_count": 3,
   "metadata": {},
   "outputs": [
    {
     "name": "stdout",
     "output_type": "stream",
     "text": [
      "ilk sayı: 10\n",
      "10\n",
      "ikinci sayı: 0\n",
      "0\n",
      "Bir hata oluştu!\n"
     ]
    }
   ],
   "source": [
    "\"\"\"\n",
    "Pythonda bir kodun hata verebilme ihtimaline karşı kullanıcıya hata mesajı göndermek için veya hatanın nerede olduğunu öğrene_\n",
    "bilmek için try except komutlarını kullanabiliriz. try kısmına çalışmasını istediğimiz kodu, except kısmına ise hata olması du_\n",
    "rumunda yapılacak şeyleri yazarız. Eğer bir hata olursa python direk except kısmına geçer ve burdaki kodları çalıştırır. \n",
    "\"\"\"\n",
    "ilk_sayı    = input(\"ilk sayı: \")\n",
    "print(ilk_sayı)\n",
    "ikinci_sayı = input(\"ikinci sayı: \")\n",
    "print(ikinci_sayı)\n",
    "\n",
    "try:\n",
    "    sayı1 = int(ilk_sayı)\n",
    "    sayı2 = int(ikinci_sayı)\n",
    "    print(sayı1, \"/\", sayı2, \"=\", sayı1 / sayı2)\n",
    "except:\n",
    "    print(\"Bir hata oluştu!\")"
   ]
  },
  {
   "cell_type": "code",
   "execution_count": 7,
   "metadata": {},
   "outputs": [
    {
     "name": "stdout",
     "output_type": "stream",
     "text": [
      "ilk sayı: 10\n",
      "ikinci sayı: 00\n",
      "Bir sayıyı 0'a bölemezsiniz!\n"
     ]
    }
   ],
   "source": [
    "\"\"\"\n",
    "try except komutlarında except kısımlarına hatanın adını yazarak hataya özel mesaj gönderebiliriz. Mesela yukarıdaki örnek \n",
    "için eğer yanlış tür girilirse ValueError, eğer ikinci sayı olarak 0 girilirse ZeroDivisionError hatası alınır. Bu hataların \n",
    "adlarını yazarak hataya özel mesaj gönderebiliriz. Hataların adlarını tam doğru yazmak önemlidir.   \n",
    "\"\"\"\n",
    "ilk_sayı    = input(\"ilk sayı: \")\n",
    "ikinci_sayı = input(\"ikinci sayı: \")\n",
    "\n",
    "try:\n",
    "    sayı1 = int(ilk_sayı)\n",
    "    sayı2 = int(ikinci_sayı)\n",
    "    print(sayı1, \"/\", sayı2, \"=\", sayı1 / sayı2)\n",
    "except ZeroDivisionError:\n",
    "    print(\"Bir sayıyı 0'a bölemezsiniz!\")\n",
    "except ValueError:\n",
    "    print(\"Lütfen sadece sayı girin!\")"
   ]
  },
  {
   "cell_type": "code",
   "execution_count": 8,
   "metadata": {},
   "outputs": [
    {
     "name": "stdout",
     "output_type": "stream",
     "text": [
      "ilk sayı: parantez\n",
      "ikinci sayı: 10\n",
      "Bir hata oluştu!\n"
     ]
    }
   ],
   "source": [
    "\"\"\"\n",
    "except kısmında birden fazla hatayı da yazabilirsiniz. \n",
    "\"\"\"\n",
    "ilk_sayı    = input(\"ilk sayı: \")\n",
    "ikinci_sayı = input(\"ikinci sayı: \")\n",
    "\n",
    "try:\n",
    "    sayı1 = int(ilk_sayı)\n",
    "    sayı2 = int(ikinci_sayı)\n",
    "    print(sayı1, \"/\", sayı2, \"=\", sayı1 / sayı2)\n",
    "except (ValueError, ZeroDivisionError):\n",
    "    print(\"Bir hata oluştu!\")"
   ]
  },
  {
   "cell_type": "code",
   "execution_count": 15,
   "metadata": {},
   "outputs": [
    {
     "name": "stdout",
     "output_type": "stream",
     "text": [
      "ilk sayı: str\n",
      "ikinci sayı: 15\n",
      "Bir hata bulundu. Hata açıklaması:  invalid literal for int() with base 10: 'str'\n"
     ]
    }
   ],
   "source": [
    "\"\"\"\n",
    "try ... except as... ifadesi hatanın adının değilde açıklamasının kullanıcıya gönderilmesini sağlar. except'ten sonra hata adını\n",
    "yazarız ve as'den sonra hata açıklamasının atanacağı değeri yazarız. Daha sonra print ile bu hata açıklamasını gönderebiliriz.\n",
    "\"\"\"\n",
    "ilk_sayı    = input(\"ilk sayı: \")\n",
    "ikinci_sayı = input(\"ikinci sayı: \")\n",
    "\n",
    "try:\n",
    "    sayı1 = int(ilk_sayı)\n",
    "    sayı2 = int(ikinci_sayı)\n",
    "    print(sayı1, \"/\", sayı2, \"=\", sayı1 / sayı2)\n",
    "except ValueError as hata:\n",
    "    print(\"Bir hata bulundu. Hata açıklaması: \" , hata)"
   ]
  },
  {
   "cell_type": "code",
   "execution_count": 16,
   "metadata": {
    "collapsed": true
   },
   "outputs": [
    {
     "name": "stdout",
     "output_type": "stream",
     "text": [
      "bir hata oluştu!\n"
     ]
    },
    {
     "ename": "NameError",
     "evalue": "name 'dosya' is not defined",
     "output_type": "error",
     "traceback": [
      "\u001b[1;31m---------------------------------------------------------------------------\u001b[0m",
      "\u001b[1;31mNameError\u001b[0m                                 Traceback (most recent call last)",
      "\u001b[1;32m<ipython-input-16-d746dabd9328>\u001b[0m in \u001b[0;36m<module>\u001b[1;34m\u001b[0m\n\u001b[0;32m      9\u001b[0m     \u001b[0mprint\u001b[0m\u001b[1;33m(\u001b[0m\u001b[1;34m\"bir hata oluştu!\"\u001b[0m\u001b[1;33m)\u001b[0m\u001b[1;33m\u001b[0m\u001b[1;33m\u001b[0m\u001b[0m\n\u001b[0;32m     10\u001b[0m \u001b[1;32mfinally\u001b[0m\u001b[1;33m:\u001b[0m\u001b[1;33m\u001b[0m\u001b[1;33m\u001b[0m\u001b[0m\n\u001b[1;32m---> 11\u001b[1;33m     \u001b[0mdosya\u001b[0m\u001b[1;33m.\u001b[0m\u001b[0mclose\u001b[0m\u001b[1;33m(\u001b[0m\u001b[1;33m)\u001b[0m \u001b[1;31m#bir hata olabilme ihtimaline karşı ne olursa olsun dosyanın kapanması için bu komutu finally kısmına koyuyoruz.\u001b[0m\u001b[1;33m\u001b[0m\u001b[1;33m\u001b[0m\u001b[0m\n\u001b[0m",
      "\u001b[1;31mNameError\u001b[0m: name 'dosya' is not defined"
     ]
    }
   ],
   "source": [
    "\"\"\"\n",
    "try ... except ... finally... ifadesi bir başka try except çeşididir. Bu ifadede finally kısmında program hata verse bile çalış_\n",
    "masını istediğimiz kodları yazarız ve bu kodlar ne olursa olsun çalışır. \n",
    "\"\"\"\n",
    "try:\n",
    "    dosya = open(\"dosyaadı\", \"r\")\n",
    "    #burada dosyayla bazı işlemler yapıyoruz\n",
    "except IOError:\n",
    "    print(\"bir hata oluştu!\")\n",
    "finally:\n",
    "    dosya.close() #bir hata olabilme ihtimaline karşı ne olursa olsun dosyanın kapanması için bu komutu finally kısmına koyuyoruz. "
   ]
  },
  {
   "cell_type": "code",
   "execution_count": 18,
   "metadata": {},
   "outputs": [
    {
     "name": "stdout",
     "output_type": "stream",
     "text": [
      "Parolanız: şiğ\n",
      "Parolada Türkçe karakter kullanılamaz!\n"
     ]
    }
   ],
   "source": [
    "\"\"\"\n",
    "Pythonda bir kod çalışırken hata olmamasına rağmen bazen kendimiz kullanıcıya bazı durumlarda hata mesajının gitmesini isteye_\n",
    "biliriz. Bunu raise komutuyla yaparız. raise ifadesinden sonra pythonda tanımlı hatalardan birinin içine gönderilmesini istedi_\n",
    "ğimiz hata mesajını yazarız. raise methodu hata mesajını gönderip programdan çıkacaktır. raise ifadesinde mesaj göndermek zo_\n",
    "runda değiliz, direk programın çalışmasını durduradabiliriz.\n",
    "\"\"\"\n",
    "try:\n",
    "    tr_karakter = \"şçğüöıİ\"\n",
    "    parola = input(\"Parolanız: \")\n",
    "    for i in parola:\n",
    "        if i in tr_karakter: #tüm karakterleri bu şekilde arayabiliriz.\n",
    "            raise TypeError(\"Parolada Türkçe karakter kullanılamaz!\") #TypeError pythonda var olan bir error türüdür. İçindeki mesaj kullanıcıya hata açıklaması olarak gönderilecektir.\n",
    "        else:\n",
    "            pass\n",
    "\n",
    "    print(\"Parola kabul edildi!\")\n",
    "except TypeError as hata: #Sadece hata açıklamasının gözükmesi için böyle yaptım.\n",
    "    print(hata)"
   ]
  },
  {
   "cell_type": "code",
   "execution_count": 22,
   "metadata": {},
   "outputs": [
    {
     "name": "stdout",
     "output_type": "stream",
     "text": [
      "Merhaba! Adın ne? \n",
      "İsim bölümü boş.\n"
     ]
    }
   ],
   "source": [
    "\"\"\"\n",
    "assert komutu if ve raise birlikte kullanıldığında yapılan işi tek başına yapan bir komuttur. assert methodu (ifade, hata) para_\n",
    "metrelerini alır. ifade kısmının doğru olup olmadığına bakar ve eğer yanlış ise hata mesajını gösterip programdan çıkar. assert\n",
    "ifadesi bir fonksiyon değildir ve parametrelerini ()'ler içerisinde almaz. assert ifadesinin if raise kullanımından daha işlev_\n",
    "li olduğu şeyler hem tek satır halinde yazılması(istenildiği zaman bu satır yorum satırı haline getirilebilir) hem de python\n",
    "yorumlayıcısından program optimize edilmeye çalışıldığında tüm assert ifadelerinin yok sayılması ve çalışmamasıdır. \n",
    "\"\"\"\n",
    "try: \n",
    "    giriş = input(\"Merhaba! Adın ne? \")\n",
    "    assert len(giriş) != 0 , \"İsim bölümü boş.\"\n",
    "    print(\"Hoşgeldiniz.\")\n",
    "except AssertionError as hata:\n",
    "    print(hata)"
   ]
  },
  {
   "cell_type": "code",
   "execution_count": null,
   "metadata": {},
   "outputs": [],
   "source": [
    "\"\"\"\n",
    "Hata mesajı gönderirken her hatanın exceptlerle ayrılması ve her hata için farklı mesaj gönderilmesi daha iyidir. Tüm hata dur_\n",
    "umlarını belirttikten sonra en son except ile beklenmeyen hatalar için de bir durum yazabiliriz.\n",
    "\"\"\"\n",
    "try:\n",
    "    #birtakım kodlar\n",
    "except ValueError:\n",
    "    print(\"Yanlış değer\")\n",
    "except ZeroDivisionError:\n",
    "    print(\"Sıfıra bölme hatası\")\n",
    "except:\n",
    "    print(\"Beklenmeyen bir hata oluştu!\")"
   ]
  },
  {
   "cell_type": "code",
   "execution_count": null,
   "metadata": {},
   "outputs": [],
   "source": []
  }
 ],
 "metadata": {
  "kernelspec": {
   "display_name": "Python 3",
   "language": "python",
   "name": "python3"
  },
  "language_info": {
   "codemirror_mode": {
    "name": "ipython",
    "version": 3
   },
   "file_extension": ".py",
   "mimetype": "text/x-python",
   "name": "python",
   "nbconvert_exporter": "python",
   "pygments_lexer": "ipython3",
   "version": "3.8.5"
  }
 },
 "nbformat": 4,
 "nbformat_minor": 4
}
