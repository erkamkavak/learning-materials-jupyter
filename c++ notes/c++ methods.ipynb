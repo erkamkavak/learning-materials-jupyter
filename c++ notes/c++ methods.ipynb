{
 "cells": [
  {
   "cell_type": "code",
   "execution_count": 2,
   "id": "6dd02bfc",
   "metadata": {},
   "outputs": [
    {
     "name": "stdout",
     "output_type": "stream",
     "text": [
      "ready"
     ]
    }
   ],
   "source": [
    "#include <iostream>\n",
    "using namespace std; \n",
    "\n",
    "cout << \"ready\"; "
   ]
  },
  {
   "cell_type": "markdown",
   "id": "d60dedac",
   "metadata": {},
   "source": [
    "### String methods"
   ]
  },
  {
   "cell_type": "markdown",
   "id": "e6369731",
   "metadata": {},
   "source": [
    "    reverse method -> stringi reverse etmeyi sağlar. "
   ]
  },
  {
   "cell_type": "code",
   "execution_count": 6,
   "id": "67bf5d34",
   "metadata": {},
   "outputs": [
    {
     "name": "stdout",
     "output_type": "stream",
     "text": [
      "makre"
     ]
    }
   ],
   "source": [
    "string s = \"erkam\"; \n",
    "reverse(s.begin(), s.end()); \n",
    "\n",
    "cout << s; "
   ]
  }
 ],
 "metadata": {
  "kernelspec": {
   "display_name": "C++14",
   "language": "C++14",
   "name": "xcpp14"
  },
  "language_info": {
   "codemirror_mode": "text/x-c++src",
   "file_extension": ".cpp",
   "mimetype": "text/x-c++src",
   "name": "c++",
   "version": "14"
  }
 },
 "nbformat": 4,
 "nbformat_minor": 5
}
