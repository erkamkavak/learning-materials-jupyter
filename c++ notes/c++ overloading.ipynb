{
 "cells": [
  {
   "cell_type": "code",
   "execution_count": 1,
   "id": "a194600e",
   "metadata": {},
   "outputs": [],
   "source": [
    "#include <iostream>\n",
    "using namespace std; "
   ]
  },
  {
   "cell_type": "code",
   "execution_count": null,
   "id": "645e36a4",
   "metadata": {},
   "outputs": [],
   "source": [
    "class Person {\n",
    "    public: \n",
    "    string name;\n",
    "    string surname; \n",
    "    int age;\n",
    "    Person(string name, string surname, int age) {\n",
    "        this -> name = name; \n",
    "        this -> surname = surname; \n",
    "        this -> age = age; \n",
    "    }\n",
    "};"
   ]
  },
  {
   "cell_type": "code",
   "execution_count": null,
   "id": "901d14fd",
   "metadata": {},
   "outputs": [],
   "source": [
    "// << operatörünü overload ederek class'ların nasıl yazdırılacaklarını belirleyebiliriz. \n",
    "ostream& operator<<(ostream& out, const Person& person) {\n",
    "    // bu method içinde yazdırmak istediklerimiz out içine (yani aslında couta) atıyoruz.\n",
    "    out << \"Kişi adı: \" << person.name\n",
    "        << \"Kişi soyadı: \" << person.surname\n",
    "        << \"Kişi yaşı: \" << person.age;\n",
    "    out << endl; \n",
    "    return out;\n",
    "}"
   ]
  },
  {
   "cell_type": "code",
   "execution_count": null,
   "id": "0422e238",
   "metadata": {},
   "outputs": [],
   "source": [
    "Person p1(\"erkam\", \"kavak\", 20); \n",
    "cout << p1; "
   ]
  },
  {
   "cell_type": "code",
   "execution_count": null,
   "id": "dd17d84d",
   "metadata": {},
   "outputs": [],
   "source": []
  }
 ],
 "metadata": {
  "kernelspec": {
   "display_name": "C++14",
   "language": "C++14",
   "name": "xcpp14"
  },
  "language_info": {
   "codemirror_mode": "text/x-c++src",
   "file_extension": ".cpp",
   "mimetype": "text/x-c++src",
   "name": "c++",
   "version": "14"
  }
 },
 "nbformat": 4,
 "nbformat_minor": 5
}
