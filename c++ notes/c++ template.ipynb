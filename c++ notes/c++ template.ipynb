{
 "cells": [
  {
   "cell_type": "code",
   "execution_count": 3,
   "id": "a2a1943c",
   "metadata": {},
   "outputs": [],
   "source": [
    "#include <iostream>\n",
    "using namespace std;"
   ]
  },
  {
   "cell_type": "markdown",
   "id": "f1659cf7",
   "metadata": {},
   "source": [
    "    C++'ta template'ler generic fonksiyon ve class oluşturmamızı sağlayan yapılardır. Generic programlama, generic türlerin parametre olarak kullanıldığı ve bu sayede class ve fonksiyonların farklı data yapıları için çalışabildiği programlama tekniğidir.  "
   ]
  },
  {
   "cell_type": "markdown",
   "id": "32695dad",
   "metadata": {},
   "source": [
    "    Function Template: \n",
    "    The type of the data that the function will operate on depends on the type of the data passed as a parameter.\n",
    "    For example, Quick sorting algorithm is implemented using a generic function, it can be implemented to an array of integers or array of floats.\n",
    "\n",
    "    template < class Ttype> \n",
    "    return_type func_name(parameter_list)  \n",
    "    {  \n",
    "        // body of function.  \n",
    "    }  \n",
    "    Here Ttype is the placeholder name for a data type used by the function. It is only a placeholder that the compiler will automatically replace this placeholder with the actual data type."
   ]
  },
  {
   "cell_type": "code",
   "execution_count": 7,
   "id": "39fd82f4",
   "metadata": {},
   "outputs": [],
   "source": [
    "// by using this template we can add different data types\n",
    "template<class T> T add(T &a,T &b)  \n",
    "{  \n",
    "    T result = a+b;  \n",
    "    return result;  \n",
    "}  "
   ]
  },
  {
   "cell_type": "code",
   "execution_count": 11,
   "id": "03e26204",
   "metadata": {},
   "outputs": [
    {
     "name": "stdout",
     "output_type": "stream",
     "text": [
      "Addition of two integer :5\n",
      "Addition of two float :3.5"
     ]
    }
   ],
   "source": [
    "int i =2;  \n",
    "int j =3;  \n",
    "float m = 2.3;  \n",
    "float n = 1.2;  \n",
    "cout << \"Addition of two integer :\" << add(i,j) << endl;  \n",
    "cout << \"Addition of two float :\"<<add(m,n);  "
   ]
  },
  {
   "cell_type": "markdown",
   "id": "76ef7054",
   "metadata": {},
   "source": [
    "    We can use more than one generic type in the template function by using the comma to separate the list."
   ]
  },
  {
   "cell_type": "code",
   "execution_count": 13,
   "id": "39545695",
   "metadata": {},
   "outputs": [],
   "source": [
    "template<class X,class Y> void fun(X a,Y b)  \n",
    "{  \n",
    "    cout << \"Value of a is : \" <<a<< endl;  \n",
    "    cout << \"Value of b is : \" <<b<< endl;  \n",
    "}  "
   ]
  },
  {
   "cell_type": "code",
   "execution_count": 15,
   "id": "1ae0b282",
   "metadata": {},
   "outputs": [
    {
     "name": "stdout",
     "output_type": "stream",
     "text": [
      "Value of a is : 15.4\n",
      "Value of b is : hello\n"
     ]
    }
   ],
   "source": [
    "fun(15.4, \"hello\");"
   ]
  },
  {
   "cell_type": "markdown",
   "id": "100f9511",
   "metadata": {},
   "source": [
    "    We can overload the generic functions. In the overloaded generic functions, the number of parameter list can differ. "
   ]
  },
  {
   "cell_type": "code",
   "execution_count": 16,
   "id": "9498cdf4",
   "metadata": {},
   "outputs": [],
   "source": [
    "template<class X> void fun(X a)  \n",
    "{  \n",
    "    std::cout << \"Value of a is : \" <<a<< std::endl;  \n",
    "}  \n",
    "template<class X,class Y> void fun(X b ,Y c)  \n",
    "{  \n",
    "    std::cout << \"Value of b is : \" <<b<< std::endl;  \n",
    "    std::cout << \"Value of c is : \" <<c<< std::endl;  \n",
    "}  "
   ]
  },
  {
   "cell_type": "code",
   "execution_count": 18,
   "id": "94d723b6",
   "metadata": {},
   "outputs": [
    {
     "name": "stdout",
     "output_type": "stream",
     "text": [
      "Value of a is : 10\n",
      "Value of b is : hello\n",
      "Value of c is : 149.5\n"
     ]
    }
   ],
   "source": [
    "fun(10); \n",
    "fun(\"hello\", 149.50);"
   ]
  },
  {
   "cell_type": "markdown",
   "id": "fb301778",
   "metadata": {},
   "source": [
    "    Class Template \n",
    "    \n",
    "    template<class Ttype>  \n",
    "    class class_name  \n",
    "    {  \n",
    "      .  \n",
    "      .  \n",
    "    }  \n",
    "    \n",
    "    Ttype is a placeholder name which will be determined when the class is instantiated. We can define more than one generic data type using a comma-separated list. The Ttype can be used inside the class body.\n",
    "    We can create an instance of this class like this: \n",
    "    class_name<type> ob;  "
   ]
  },
  {
   "cell_type": "code",
   "execution_count": null,
   "id": "7a92fd17",
   "metadata": {},
   "outputs": [],
   "source": []
  },
  {
   "cell_type": "markdown",
   "id": "620d686b",
   "metadata": {},
   "source": [
    "    The template can contain multiple arguments, and we can also use the non-type arguments In addition to the type T argument, we can also use other types of arguments such as strings, function names, constant expression and built-in types."
   ]
  },
  {
   "cell_type": "code",
   "execution_count": 26,
   "id": "7907268a",
   "metadata": {},
   "outputs": [],
   "source": [
    "template<class T, int size> \n",
    "class array  \n",
    "{  \n",
    "    T arr[size];           // automatic array initialization.  \n",
    "    // with this nontype argument, we can create an array with initial size.\n",
    "};"
   ]
  },
  {
   "cell_type": "code",
   "execution_count": 27,
   "id": "4f49a73e",
   "metadata": {},
   "outputs": [
    {
     "name": "stderr",
     "output_type": "stream",
     "text": [
      "\u001b[1minput_line_35:2:2: \u001b[0m\u001b[0;1;31merror: \u001b[0m\u001b[1mreference to 'array' is ambiguous\u001b[0m\n",
      " array<int, 15> t1;  \n",
      "\u001b[0;1;32m ^\n",
      "\u001b[0m\u001b[1minput_line_27:2:7: \u001b[0m\u001b[0;1;30mnote: \u001b[0mcandidate found by name lookup is '__cling_N518::array'\u001b[0m\n",
      "class array  \n",
      "\u001b[0;1;32m      ^\n",
      "\u001b[0m\u001b[1m/home/erkam/anaconda3/envs/xeus-cling/bin/../lib/gcc/x86_64-conda-linux-gnu/9.3.0/../../../../x86_64-conda-linux-gnu/include/c++/9.3.0/array:94:12: \u001b[0m\u001b[0;1;30mnote: \u001b[0mcandidate found by name lookup is 'std::array'\u001b[0m\n",
      "    struct array\n",
      "\u001b[0;1;32m           ^\n",
      "\u001b[0m"
     ]
    },
    {
     "ename": "Interpreter Error",
     "evalue": "",
     "output_type": "error",
     "traceback": [
      "Interpreter Error: "
     ]
    }
   ],
   "source": [
    "array<int, 15> t1;  \n",
    "// array<float, 10> t2;   \n",
    "// array<char, 4> t3;"
   ]
  },
  {
   "cell_type": "code",
   "execution_count": 31,
   "id": "bd1ee0b9",
   "metadata": {},
   "outputs": [],
   "source": [
    "template <class T> class ArrayList {\n",
    "private:\n",
    "    int len;\n",
    "    T* data = NULL;\n",
    "public:\n",
    "    int adjustSize;\n",
    "    ArrayList<T>(int adjustSize=10);\n",
    "    ArrayList<T>(const ArrayList<T>& listToCopy);\n",
    "    void insert(T val, int idx=0);\n",
    "    T get(int idx=0);\n",
    "    int getLength();\n",
    "    void print();\n",
    "    ArrayList<T>& operator=(const ArrayList<T>& listToAssign);\n",
    "    template <class T2> friend ostream& operator <<(ostream& out, const ArrayList<T2>& l);\n",
    "    ~ArrayList<T>();\n",
    "};\n",
    "\n",
    "//class'a class dışından yapılacak olan tüm eklemelerde başta template olduğu belirtilmelidir.  \n",
    "template <class T>\n",
    "ArrayList<T>::ArrayList(int _adjustSize) {\n",
    "    this->len = 0;\n",
    "    this->adjustSize = _adjustSize;\n",
    "    this->data = new T[_adjustSize];\n",
    "\n",
    "}\n",
    "\n",
    "template <class T> \n",
    "ArrayList<T>::ArrayList(const ArrayList& listToCopy) {\n",
    "    this->len = listToCopy.len;\n",
    "    this->adjustSize = listToCopy.adjustSize;\n",
    "    int newSize = this->len + (adjustSize - (len % adjustSize)); // Round len up to the next multiple of adjustSize.\n",
    "\n",
    "    this->data = new T[newSize];\n",
    "    for (int i = 0; i < this->len; ++i){\n",
    "        data[i] = listToCopy.data[i];\n",
    "    }\n",
    "}\n",
    "\n",
    "template <class T> \n",
    "ArrayList<T>& ArrayList<T>::operator=(const ArrayList& listToAssign) {\n",
    "    if (this == &listToAssign) {\n",
    "        return *this;\n",
    "    }\n",
    "    if (this->data != NULL) { \n",
    "        delete[] this->data;\n",
    "    }\n",
    "    this->len = listToAssign.len;\n",
    "    this->adjustSize = listToAssign.adjustSize;\n",
    "    int newSize = this->len + (adjustSize - (len % adjustSize)); // Round len up to the next multiple of adjustSize.\n",
    "    this->data = new T[newSize];\n",
    "    for (int i = 0; i < this->len; i++){\n",
    "        data[i] = listToAssign.data[i];\n",
    "    }\n",
    "\n",
    "    return *this;\n",
    "}\n",
    "\n",
    "template <class T> \n",
    "void ArrayList<T>::insert(T val, int idx) {\n",
    "    if (idx < 0 || idx > this->len) {\n",
    "        return;\n",
    "    }\n",
    "    if (this->len % adjustSize == 0 && this->len !=0) {\n",
    "        T* new_data = new T[this->len + this->adjustSize];\n",
    "        for (int i = 0; i < this->len; i++) {\n",
    "            new_data[i] = this->data[i];\n",
    "        }\n",
    "        \n",
    "        delete[] this->data; \t\t\t\n",
    "        this->data = new_data;\n",
    "    }\n",
    "\n",
    "    for (int i = this->len-1; i >= idx; i--) {\n",
    "        this->data[i+1] = this->data[i];\n",
    "    }\n",
    "    this->data[idx] = val;\n",
    "    this->len++;\n",
    "}\n",
    "\n",
    "template <class T> \n",
    "T ArrayList<T>::get(int index) {\n",
    "    if (this->len > 0 && index < this->len) {\n",
    "        return this->data[index];\n",
    "    }\n",
    "    return -1;\n",
    "}\n",
    "\n",
    "template <class T> \n",
    "int ArrayList<T>::getLength() {\n",
    "    return this->len;\n",
    "}\n",
    "\n",
    "template <class T> \n",
    "void ArrayList<T>::print() {\n",
    "    for (int i = 0; i < this->len; i++)\t{\n",
    "        cout << this->data[i] << ' ';\t\t\n",
    "    }\n",
    "    cout << endl;\n",
    "}\n",
    "\n",
    "// bir class'a << operatorünü tanımlayarak class cout ile print edildiği zaman neyin print edileceğini belirleyebiliriz.  \n",
    "// bu şekilde javadaki toString methoduna benzer bir method yazmış oluruz.  \n",
    "template <class T> \n",
    "ostream& operator<<(ostream& out, const ArrayList<T>& l) {\n",
    "    // bu method içinde yazdırmak istediklerimiz out içine (yani aslında couta) atıyoruz.\n",
    "    for (int i = 0; i < l.len; i++)\t{\n",
    "        out << l.data[i] << ' ';\t\t\n",
    "    }\n",
    "    out << endl;\n",
    "    return out;\n",
    "}\n",
    "\n",
    "// destructor'da dataları silmek hafızayı rahatlatmak için çok önemlidir. Javada bunu garbage collector yaparken \n",
    "// c++'da kendimiz yapmak zorundayız. \n",
    "template <class T> \n",
    "ArrayList<T>::~ArrayList() {\n",
    "    if (this->data != NULL) {\n",
    "        delete[] this->data;\n",
    "    }\n",
    "}"
   ]
  },
  {
   "cell_type": "code",
   "execution_count": 35,
   "id": "26f91f8c",
   "metadata": {},
   "outputs": [
    {
     "name": "stdout",
     "output_type": "stream",
     "text": [
      "23 10 \n",
      "\n",
      "10\n"
     ]
    }
   ],
   "source": [
    "ArrayList<int> list;\n",
    "list.insert(10); \n",
    "list.insert(23); \n",
    "\n",
    "cout << list << endl; \n",
    "cout << list.get(1) << endl; "
   ]
  }
 ],
 "metadata": {
  "kernelspec": {
   "display_name": "C++14",
   "language": "C++14",
   "name": "xcpp14"
  },
  "language_info": {
   "codemirror_mode": "text/x-c++src",
   "file_extension": ".cpp",
   "mimetype": "text/x-c++src",
   "name": "c++",
   "version": "14"
  }
 },
 "nbformat": 4,
 "nbformat_minor": 5
}
