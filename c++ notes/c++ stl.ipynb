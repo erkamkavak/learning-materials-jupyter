{
 "cells": [
  {
   "cell_type": "code",
   "execution_count": 11,
   "id": "6c9954e0",
   "metadata": {},
   "outputs": [],
   "source": [
    "#include <iostream>\n",
    "using namespace std; "
   ]
  },
  {
   "cell_type": "markdown",
   "id": "89089de6",
   "metadata": {},
   "source": [
    "### Vectors"
   ]
  },
  {
   "cell_type": "markdown",
   "id": "4daf7b6f",
   "metadata": {},
   "source": [
    "    adding elements -> push_back(); \n",
    "    getting the length of the vector -> size(); "
   ]
  },
  {
   "cell_type": "code",
   "execution_count": 3,
   "id": "fae5a9f5",
   "metadata": {},
   "outputs": [
    {
     "name": "stdout",
     "output_type": "stream",
     "text": [
      "10\n",
      "11\n",
      "12\n"
     ]
    }
   ],
   "source": [
    "vector <int> v; \n",
    "v.push_back(10); \n",
    "v.push_back(11); \n",
    "v.push_back(12); \n",
    "\n",
    "for(int i = 0; i < v.size(); i++) {\n",
    "    cout << v[i] << endl; \n",
    "}"
   ]
  },
  {
   "cell_type": "code",
   "execution_count": 4,
   "id": "72756db0",
   "metadata": {},
   "outputs": [
    {
     "name": "stdout",
     "output_type": "stream",
     "text": [
      "1\n",
      "2\n",
      "3\n"
     ]
    }
   ],
   "source": [
    "typedef vector<int> Vi; \n",
    "#define PB push_back\n",
    "#define LOOP(i, size) for(int i = 0; i < size; i++)\n",
    "\n",
    "Vi v; \n",
    "v.PB(1); \n",
    "v.PB(2); \n",
    "v.PB(3); \n",
    "\n",
    "LOOP(i, v.size()) {\n",
    "    cout << v[i] << endl; \n",
    "}"
   ]
  },
  {
   "cell_type": "markdown",
   "id": "acd9e11e",
   "metadata": {},
   "source": [
    "    getting last element -> back(); \n",
    "    removing last element -> pop_back(); "
   ]
  },
  {
   "cell_type": "code",
   "execution_count": 13,
   "id": "59345d7a",
   "metadata": {},
   "outputs": [
    {
     "name": "stdout",
     "output_type": "stream",
     "text": [
      "0\n",
      "100\n"
     ]
    }
   ],
   "source": [
    "vector<int> v(10); //creating a vector with size 10 and initial value 0. \n",
    "\n",
    "cout << v.back() << endl; \n",
    "\n",
    "v.push_back(100); \n",
    "cout << v.back() << endl; "
   ]
  },
  {
   "cell_type": "code",
   "execution_count": 17,
   "id": "cfd737b1",
   "metadata": {},
   "outputs": [
    {
     "name": "stdout",
     "output_type": "stream",
     "text": [
      "5\n",
      "5\n",
      "5\n"
     ]
    }
   ],
   "source": [
    "vector<int> v(3, 5); //creating a vector with size 3 and initial value 5.\n",
    "\n",
    "for(int x : v) {\n",
    "    cout << x << endl; \n",
    "}"
   ]
  },
  {
   "cell_type": "code",
   "execution_count": null,
   "id": "7d10112b",
   "metadata": {},
   "outputs": [],
   "source": []
  }
 ],
 "metadata": {
  "kernelspec": {
   "display_name": "C++14",
   "language": "C++14",
   "name": "xcpp14"
  },
  "language_info": {
   "codemirror_mode": "text/x-c++src",
   "file_extension": ".cpp",
   "mimetype": "text/x-c++src",
   "name": "c++",
   "version": "14"
  }
 },
 "nbformat": 4,
 "nbformat_minor": 5
}
