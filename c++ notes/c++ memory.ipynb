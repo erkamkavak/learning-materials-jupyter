{
 "cells": [
  {
   "cell_type": "code",
   "execution_count": 3,
   "id": "8f98f88e",
   "metadata": {},
   "outputs": [],
   "source": [
    "#include <iostream>\n",
    "using namespace std; "
   ]
  },
  {
   "cell_type": "markdown",
   "id": "91460eed",
   "metadata": {},
   "source": [
    "### References"
   ]
  },
  {
   "cell_type": "markdown",
   "id": "9a24d1d0",
   "metadata": {},
   "source": [
    "    In C++, a reference variable is an alias for something else, that is, another name for an already existing variable. \n",
    "    Suppose we make Sonny a reference to someone named Songqiao. You can refer to the person as either Sonny or Songqiao.\n",
    "\n",
    "    int &sonny = songqiao;\n",
    "\n",
    "    So here, we made sonny a reference to songqiao.\n",
    "    Now when we make changes to sonny (add 1, subtract 2, etc), songqiao also changes.\n",
    "    Two things to note about references:\n",
    "        Anything we do to the reference also happens to the original.\n",
    "        Aliases cannot be changed to alias something else.\n",
    "\n",
    "    -Good use case of references: \n",
    "        Previously, when we passed parameters to a function, we used normal variables and that’s known as pass-by-value. But because the variables passed into the function are out of scope, we can’t actually modify the value of the arguments.(actually copy of these variables are created and these copies are changed inside the functions) \n",
    "        Pass-by-reference refers to passing parameters to a function by using references. When called, the function can modify the value of the arguments by using the reference passed in. (This allows us to modify the value of the function arguments and avoid making copies of a variable/object for performance reasons)\n"
   ]
  },
  {
   "cell_type": "code",
   "execution_count": 2,
   "id": "b9414898",
   "metadata": {},
   "outputs": [
    {
     "name": "stdout",
     "output_type": "stream",
     "text": [
      "12\n",
      "12"
     ]
    },
    {
     "data": {
      "text/plain": [
       "@0x7f19364c9ba0"
      ]
     },
     "execution_count": 2,
     "metadata": {},
     "output_type": "execute_result"
    }
   ],
   "source": [
    "//pass by value\n",
    "int triple(int num) { \n",
    "    num = num * 3;\n",
    "    return num; \n",
    "}\n",
    "\n",
    "int a = 4; \n",
    "cout << triple(a) << \"\\n\"; // will give result as 12 but real a is not actually changed\n",
    "cout << triple(a); // again will give result as 12"
   ]
  },
  {
   "cell_type": "code",
   "execution_count": 4,
   "id": "589ce9bc",
   "metadata": {},
   "outputs": [
    {
     "name": "stdout",
     "output_type": "stream",
     "text": [
      "8\n",
      "16\n",
      "20\n"
     ]
    }
   ],
   "source": [
    "//pass by reference\n",
    "int triple2(int &num) { \n",
    "    num = num * 2;    \n",
    "    return num;\n",
    "}\n",
    "int a = 4; \n",
    "cout << triple2(a) << \"\\n\"; // will give result as 8 (real a is changed)\n",
    "cout << triple2(a) << \"\\n\"; // will give result as 16\n",
    "\n",
    "// if original value changes, the reference also changes. \n",
    "int b = 10; \n",
    "int &ref = b; \n",
    "\n",
    "b = 20; \n",
    "cout << ref << endl; "
   ]
  },
  {
   "cell_type": "markdown",
   "id": "26716a45",
   "metadata": {},
   "source": [
    "    With the help of references, we can easily access the nested data and keep them as variables without making copy of them. "
   ]
  },
  {
   "cell_type": "code",
   "execution_count": 38,
   "id": "140d759e",
   "metadata": {},
   "outputs": [
    {
     "name": "stdout",
     "output_type": "stream",
     "text": [
      "34\n"
     ]
    }
   ],
   "source": [
    "struct profile  {  \n",
    "    int id;  \n",
    "};\n",
    "struct employee {  \n",
    "    profile p;  \n",
    "};\n",
    "\n",
    "employee e;\n",
    "int &ref=e.p.id; //ref references the id\n",
    "\n",
    "ref=34;  //we can change the nested data easily with reference\n",
    "cout << e.p.id << endl;  "
   ]
  },
  {
   "cell_type": "markdown",
   "id": "8c17496a",
   "metadata": {},
   "source": [
    "### Memory adress\n",
    "\n",
    "    The & sign can have another meaning. The “address of” operator, &, is used to get the memory address, the location in the memory, of an object. If & sign is not used in a declaration, it will return the adress of the object. \n",
    "    It will return the memory as in hexadecimals. \n"
   ]
  },
  {
   "cell_type": "code",
   "execution_count": 4,
   "id": "bd16b8d6",
   "metadata": {},
   "outputs": [
    {
     "name": "stdout",
     "output_type": "stream",
     "text": [
      "0x7f1935c33034"
     ]
    },
    {
     "data": {
      "text/plain": [
       "@0x7f19364c9ba0"
      ]
     },
     "execution_count": 4,
     "metadata": {},
     "output_type": "execute_result"
    }
   ],
   "source": [
    "int n = 100; \n",
    "cout << &n; //will print something like 0x7ffd7caa5b54"
   ]
  },
  {
   "cell_type": "markdown",
   "id": "a05eb8e2",
   "metadata": {},
   "source": [
    "### Pointers \n",
    "\n",
    "    In C++, a pointer variable is mostly the same as other variables, which can store a piece of data. Unlike normal variables, which store a value (such as an int, double, char), a pointer stores a memory address.\n",
    "    Pointers must be declared before they can be used, just like a normal variable. They are syntactically distinguished by the *, so that int* means “pointer to int“ and double* means “pointer to double“."
   ]
  },
  {
   "cell_type": "code",
   "execution_count": 5,
   "id": "753d1a9f",
   "metadata": {},
   "outputs": [
    {
     "name": "stdout",
     "output_type": "stream",
     "text": [
      "0x7f1935c33038"
     ]
    }
   ],
   "source": [
    "int* number; \n",
    "double* decimal; \n",
    "char* character; \n",
    "\n",
    "//We can create a pointer of an object like that.  \n",
    "int n = 10; \n",
    "int* ptr = &n; \n",
    "\n",
    "cout << ptr;  "
   ]
  },
  {
   "cell_type": "markdown",
   "id": "4e47224e",
   "metadata": {},
   "source": [
    "### Dereference\n",
    "\n",
    "    The * sign has double meaning in C++. The asterisk sign * a.k.a. the dereference operator is used to obtain the value pointed to by a variable. This can be done by preceding the name of a pointer variable with *. If * sign is used on a pointer, then it will be used as a dereference operator. "
   ]
  },
  {
   "cell_type": "code",
   "execution_count": 6,
   "id": "ff0e6125",
   "metadata": {},
   "outputs": [
    {
     "name": "stdout",
     "output_type": "stream",
     "text": [
      "0x7f1935c33060\n",
      "100"
     ]
    },
    {
     "data": {
      "text/plain": [
       "@0x7f19364c9ba0"
      ]
     },
     "execution_count": 6,
     "metadata": {},
     "output_type": "execute_result"
    }
   ],
   "source": [
    "int n = 100; \n",
    "int* ptr = &n;  //pointer of n\n",
    "cout << ptr << endl;     //will print the memory adress of n\n",
    "cout << *ptr;   //will print the value that the ptr holds the memory adress of(which is n)"
   ]
  },
  {
   "cell_type": "markdown",
   "id": "d9d759c7",
   "metadata": {},
   "source": [
    "Nullpointer \n",
    "\n",
    "    When we declare a pointer without initialization, it contains an adress of somewhere(which is ofcourse is not a valid location). This is dangerous. We need to initialize a pointer by assigning it a valid adress. \n",
    "    But suppose we don’t know where we are pointing to, we can use a null pointer. nullptr is a new keyword introduced in C++11. It provides a typesafe pointer value representing an empty pointer."
   ]
  },
  {
   "cell_type": "code",
   "execution_count": 9,
   "id": "8c31e2bd",
   "metadata": {},
   "outputs": [
    {
     "name": "stdout",
     "output_type": "stream",
     "text": [
      "0\n",
      "0"
     ]
    },
    {
     "data": {
      "text/plain": [
       "@0x7f19364c9ba0"
      ]
     },
     "execution_count": 9,
     "metadata": {},
     "output_type": "execute_result"
    }
   ],
   "source": [
    "int* ptr1;             //it will contain an adress of not a valid location\n",
    "cout << ptr1 << endl;  //will print the random adress\n",
    "int* ptr2 = nullptr; \n",
    "cout << ptr2;  //will print the null adress(which is 0)"
   ]
  },
  {
   "cell_type": "markdown",
   "id": "4885c29d",
   "metadata": {},
   "source": [
    "    Note = While declaring two or more pointer at the same time, we should put * sign before every one of them. "
   ]
  },
  {
   "cell_type": "code",
   "execution_count": 10,
   "id": "4d55c55a",
   "metadata": {},
   "outputs": [],
   "source": [
    "int * p1, p2;      //here p1 is a pointer but p2 is not\n",
    "int * p3, * p4;    //here both p1 and p2 are pointers"
   ]
  },
  {
   "cell_type": "markdown",
   "id": "3a984c13",
   "metadata": {},
   "source": [
    "Pointers and arrays\n",
    "    \n",
    "    The concept of arrays is related to that of pointers. In fact, arrays work very much like pointers to their first elements, and, actually, an array can always be implicitly converted to the pointer of the proper type.(we can think an array like a pointer that holds the position of first element in the array) Elements of an array are arranged one after another in the memory. "
   ]
  },
  {
   "cell_type": "code",
   "execution_count": 11,
   "id": "b96c9374",
   "metadata": {},
   "outputs": [
    {
     "name": "stdout",
     "output_type": "stream",
     "text": [
      "15 0 0 10 -1 "
     ]
    }
   ],
   "source": [
    "int arr[5];\n",
    "int* arr_pointer = arr;  //we dont need & sign for arrays\n",
    "//now arr_pointer and arr would be equivilant and would have very similar properties. \n",
    "\n",
    "// *arr_pointer -> will refer to the first element of the array\n",
    "// *(arr_pointer + 1) -> will refer to the second element of the array(because array elements are arranged one \n",
    "// after another)\n",
    "\n",
    "// arr[3] is equal to *(arr_pointer + 3) \n",
    "\n",
    "*arr_pointer = 15; \n",
    "*(arr_pointer + 3) = 10; \n",
    "*(arr_pointer + 4) = -1;  e is another name for an already existing variable. It is mainly used in 'pass by reference' where the reference variable is passed as a parameter to the function and the function\n",
    "\n",
    "for(int x : arr) cout << x << \" \"; "
   ]
  },
  {
   "cell_type": "markdown",
   "id": "0b46058f",
   "metadata": {},
   "source": [
    "    The main difference between arr and arr_pointer is that arr_pointer can be assigned new adresses while arr cannot. "
   ]
  },
  {
   "cell_type": "code",
   "execution_count": 13,
   "id": "b3fd970e",
   "metadata": {},
   "outputs": [
    {
     "name": "stdout",
     "output_type": "stream",
     "text": [
      "0x7f1935c33130\n",
      "0x7f1935c33150\n"
     ]
    }
   ],
   "source": [
    "int arr1[5]; \n",
    "int* arr_pointer = arr1; \n",
    "\n",
    "*arr_pointer = 10;\n",
    "cout << arr_pointer << endl;\n",
    "\n",
    "int arr2[5]; \n",
    "arr_pointer = arr2; \n",
    "cout << arr_pointer << endl; "
   ]
  },
  {
   "cell_type": "markdown",
   "id": "67f5daa2",
   "metadata": {},
   "source": [
    "Pointer arithmetics\n",
    "\n",
    "    To conduct arithmetical operations on pointers is a little different than to conduct them on regular integer types. To begin with, only addition and subtraction operations are allowed; the others make no sense in the world of pointers. But both addition and subtraction have a slightly different behavior with pointers, according to the size of the data type to which they point.\n",
    "    Data types have different sizes in the memory. (char -> 1, short have larger, int and long have even larger; the exact size depends on the system) Lets imagine in a given system, char takes 1 byte, short takes 2 bytes, and long takes 4.\n"
   ]
  },
  {
   "cell_type": "code",
   "execution_count": 3,
   "id": "ea9fc087",
   "metadata": {},
   "outputs": [
    {
     "name": "stdout",
     "output_type": "stream",
     "text": [
      "0\n",
      "0\n",
      "0x2\n",
      "0x8\n"
     ]
    }
   ],
   "source": [
    "char *mychar = nullptr;    //lets say it points to 1000\n",
    "short *myshort = nullptr;  //lets say it points to 2000\n",
    "long *mylong = nullptr;    //lets say it points to 3000\n",
    "\n",
    "cout << myshort << endl; \n",
    "cout << mylong << endl; \n",
    "\n",
    "mychar += 1;     //it now points to 1001\n",
    "myshort += 1;    //it now points to 1002\n",
    "mylong += 1;     //it now points to 1004\n",
    "//this is also why for an arr_pointer, incrementing by 1 points to the next element in the array. \n",
    "\n",
    "cout << myshort << \"\\n\"; \n",
    "cout << mylong << \"\\n\"; "
   ]
  },
  {
   "cell_type": "markdown",
   "id": "19ae9fc1",
   "metadata": {},
   "source": [
    "Pointers and string literals\n",
    "\n",
    "    String literals are arrays containing null-terminated character sequences. String literals are arrays of the proper array type to contain all its characters plus the terminating null-character, with each of the elements being of type const char (as literals, they can never be modified)."
   ]
  },
  {
   "cell_type": "code",
   "execution_count": 6,
   "id": "66d7a067",
   "metadata": {},
   "outputs": [
    {
     "name": "stdout",
     "output_type": "stream",
     "text": [
      "h\n",
      "hello\n"
     ]
    }
   ],
   "source": [
    "const char * a = \"hello\"; \n",
    "\n",
    "cout << *a << endl; \n",
    "cout << a << endl; "
   ]
  },
  {
   "cell_type": "markdown",
   "id": "156ac93f",
   "metadata": {},
   "source": [
    "void pointer \n",
    "\n",
    "    A void pointer is a general-purpose pointer that can hold the address of any data type, but it is not associated with any data type."
   ]
  },
  {
   "cell_type": "code",
   "execution_count": 31,
   "id": "cd998eb6",
   "metadata": {},
   "outputs": [
    {
     "name": "stdout",
     "output_type": "stream",
     "text": [
      "0x7fcb9f93d240\n",
      "0x7fcb9f93d248\n"
     ]
    }
   ],
   "source": [
    "void *ptr; \n",
    "\n",
    "int a = 10; \n",
    "double b = 20; \n",
    "\n",
    "//void pointer can hold any data type\n",
    "ptr = &a; \n",
    "cout << ptr << endl; \n",
    "\n",
    "//the type can also be changed after first declaration\n",
    "ptr = &b; \n",
    "cout << ptr << endl; "
   ]
  },
  {
   "cell_type": "markdown",
   "id": "aceed3b1",
   "metadata": {},
   "source": [
    "sizeof() operator\n",
    "\n",
    "    The sizeof() is an operator that evaluates the size of data type, constants, variable. It is a compile-time operator as it returns the size of any variable or a constant at the compilation time.\n",
    "    The size, which is calculated by the sizeof() operator, is the amount of RAM occupied in the computer."
   ]
  },
  {
   "cell_type": "code",
   "execution_count": 8,
   "id": "e9f417df",
   "metadata": {},
   "outputs": [
    {
     "name": "stdout",
     "output_type": "stream",
     "text": [
      "1\n",
      "4\n",
      "8\n"
     ]
    }
   ],
   "source": [
    "cout << sizeof(char) << endl; \n",
    "cout << sizeof(int) << endl; \n",
    "cout << sizeof(double) << endl; "
   ]
  },
  {
   "cell_type": "markdown",
   "id": "53d66aa0",
   "metadata": {},
   "source": [
    "sizeof classes are calculated a bit complicated. sizeof a class should be "
   ]
  },
  {
   "cell_type": "code",
   "execution_count": 22,
   "id": "ab4b9d8d",
   "metadata": {},
   "outputs": [
    {
     "name": "stdout",
     "output_type": "stream",
     "text": [
      "16\n"
     ]
    }
   ],
   "source": [
    "class Base {\n",
    "    int a; \n",
    "    int c;\n",
    "    double b; \n",
    "};\n",
    "\n",
    "Base b; \n",
    "cout << sizeof(b) << endl;"
   ]
  },
  {
   "cell_type": "code",
   "execution_count": 26,
   "id": "fbedad29",
   "metadata": {},
   "outputs": [
    {
     "name": "stderr",
     "output_type": "stream",
     "text": [
      "\u001b[1minput_line_46:2:19: \u001b[0m\u001b[0;1;35mwarning: \u001b[0m\u001b[1msizeof on array function parameter will return size of 'int *' instead of 'int []' [-Wsizeof-array-argument]\u001b[0m\n",
      "    cout << sizeof(arr) << endl; \n",
      "\u001b[0;1;32m                  ^\n",
      "\u001b[0m\u001b[1minput_line_46:1:20: \u001b[0m\u001b[0;1;30mnote: \u001b[0mdeclared here\u001b[0m\n",
      "void printSize(int arr[]) {\n",
      "\u001b[0;1;32m                   ^\n",
      "\u001b[0m"
     ]
    },
    {
     "name": "stdout",
     "output_type": "stream",
     "text": [
      "20\n",
      "8\n"
     ]
    }
   ],
   "source": [
    "void printSize(int arr[]) {\n",
    "    cout << sizeof(arr) << endl; \n",
    "}\n",
    "\n",
    "\n",
    "\n",
    "int arr[] = {10, 20, 30, 40, 50}; \n",
    "\n",
    "cout << sizeof(arr) << endl; \n",
    "printSize(arr); //just like the warning shows, here printed thing is not the sizeof array, it is the size of pointer \n",
    "//instead."
   ]
  },
  {
   "cell_type": "markdown",
   "id": "23d33e04",
   "metadata": {},
   "source": [
    "    The size of pointers would remain same for all the data types. If the computer has 32bit operating system, then the size of the pointer would be 4 bytes. If the computer has 64-bit operating system, then the size of the pointer would be 8 bytes. "
   ]
  },
  {
   "cell_type": "code",
   "execution_count": 28,
   "id": "aa831752",
   "metadata": {},
   "outputs": [
    {
     "name": "stdout",
     "output_type": "stream",
     "text": [
      "size of ptr1 : 8\n",
      "size of *ptr2 : 8\n",
      "size of ptr3 : 8\n"
     ]
    }
   ],
   "source": [
    "int *ptr1=new int(10);  \n",
    "std::cout << \"size of ptr1 : \" <<sizeof(ptr1)<< std::endl;                                                                                                                                                                                                                                  \n",
    "\n",
    "char *ptr2=new char('a');  \n",
    "std::cout <<\"size of *ptr2 : \"<<sizeof(ptr2)<< std::endl;  \n",
    "\n",
    "double *ptr3=new double(12.78);  \n",
    "std::cout <<\"size of ptr3 : \" <<sizeof(ptr3)<< std::endl;  "
   ]
  },
  {
   "cell_type": "code",
   "execution_count": 30,
   "id": "8dfff9ec",
   "metadata": {},
   "outputs": [
    {
     "name": "stdout",
     "output_type": "stream",
     "text": [
      "8\n",
      "4\n",
      "8\n"
     ]
    }
   ],
   "source": [
    "//other examples\n",
    "int a = 10; \n",
    "double b = 20;\n",
    "\n",
    "int c = a + b; \n",
    "double d = a + b; \n",
    "\n",
    "cout << sizeof(a + b) << endl; \n",
    "cout << sizeof(c) << endl; \n",
    "cout << sizeof(d) << endl; "
   ]
  },
  {
   "cell_type": "code",
   "execution_count": null,
   "id": "849d9df5",
   "metadata": {},
   "outputs": [],
   "source": []
  }
 ],
 "metadata": {
  "kernelspec": {
   "display_name": "C++14",
   "language": "C++14",
   "name": "python395jvsc74a57bd0b14a712d679b9f34ced205058fc0c89e297ef678fa241aeb5bf2e08134dcdf73"
  },
  "language_info": {
   "codemirror_mode": "text/x-c++src",
   "file_extension": ".cpp",
   "mimetype": "text/x-c++src",
   "name": "C++14",
   "version": "14"
  }
 },
 "nbformat": 4,
 "nbformat_minor": 5
}
