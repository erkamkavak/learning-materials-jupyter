{
 "cells": [
  {
   "cell_type": "markdown",
   "metadata": {},
   "source": [
    "Converts the value of this Number object to the primitive data type returned.\n",
    "\n",
    "    byte byteValue()\n",
    "    short shortValue()\n",
    "    int intValue()\n",
    "    long longValue()\n",
    "    float floatValue()\n",
    "    double doubleValue()\t"
   ]
  },
  {
   "cell_type": "markdown",
   "metadata": {},
   "source": [
    "    static Integer decode(String s)\tDecodes a string into an integer. Can accept string representations of decimal, octal, or hexadecimal numbers as input.\n",
    "\n",
    "    static int parseInt(String s)\tReturns an integer (decimal only).\n",
    "    static int parseInt(String s, int radix)\tReturns an integer, given a string representation of decimal, binary, octal, or hexadecimal (radix equals 10, 2, 8, or 16 respectively) numbers as input.\n",
    "\n",
    "    String toString()\tReturns a String object representing the value of this Integer.\n",
    "    static String toString(int i)\tReturns a String object representing the specified integer.\n",
    "    \n",
    "    static Integer valueOf(int i)\tReturns an Integer object holding the value of the specified primitive.\n",
    "    static Integer valueOf(String s)\tReturns an Integer object holding the value of the specified string representation.\n",
    "    static Integer valueOf(String s, int radix)\tReturns an Integer object holding the integer value of the specified string representation, parsed with the value of radix. For example, if s = \"333\" and radix = 8, the method returns the base-ten integer equivalent of the octal number 333."
   ]
  },
  {
   "cell_type": "code",
   "execution_count": 61,
   "metadata": {},
   "outputs": [
    {
     "name": "stdout",
     "output_type": "stream",
     "text": [
      "101\n",
      "101\n",
      "5\n",
      "150\n",
      "5\n"
     ]
    }
   ],
   "source": [
    "String str = \"101\"; \n",
    "int n = 150; \n",
    "\n",
    "System.out.println(Integer.decode(str)); \n",
    "\n",
    "System.out.println(Integer.parseInt(str));\n",
    "\n",
    "System.out.println(Integer.parseInt(str, 2));\n",
    "\n",
    "System.out.println(Integer.toString(n));\n",
    "System.out.println(Integer.toString(n).charAt(1));\n",
    "\n"
   ]
  },
  {
   "cell_type": "markdown",
   "metadata": {},
   "source": [
    "Compares this Number object to the argument.\n",
    "\n",
    "    int compareTo(Byte anotherByte)\n",
    "    int compareTo(Double anotherDouble)\n",
    "    int compareTo(Float anotherFloat)\n",
    "    int compareTo(Integer anotherInteger)\n",
    "    int compareTo(Long anotherLong)\n",
    "    int compareTo(Short anotherShort)"
   ]
  },
  {
   "cell_type": "markdown",
   "metadata": {},
   "source": [
    "Characters"
   ]
  },
  {
   "cell_type": "code",
   "execution_count": 1,
   "metadata": {},
   "outputs": [],
   "source": [
    "char ch = 'a'; \n",
    "// Unicode for uppercase Greek omega character\n",
    "char uniChar = '\\u03A9';\n",
    "// an array of chars\n",
    "char[] charArray = { 'a', 'b', 'c', 'd', 'e' };"
   ]
  },
  {
   "cell_type": "markdown",
   "metadata": {},
   "source": [
    "    boolean isLetter(char ch) \n",
    "    boolean isDigit(char ch) -> \tDetermines whether the specified char value is a letter or a digit, respectively.\n",
    "    boolean isWhitespace(char ch) ->\tDetermines whether the specified char value is white space.\n",
    "    boolean isUpperCase(char ch)\n",
    "    boolean isLowerCase(char ch) -> \tDetermines whether the specified char value is uppercase or lowercase, respectively.\n",
    "    char toUpperCase(char ch)\n",
    "    char toLowerCase(char ch) ->\tReturns the uppercase or lowercase form of the specified char value.\n",
    "    toString(char ch) ->\tReturns a String object representing the specified character value — that is, a one-character string."
   ]
  },
  {
   "cell_type": "code",
   "execution_count": 3,
   "metadata": {},
   "outputs": [
    {
     "name": "stdout",
     "output_type": "stream",
     "text": [
      "hello.\r\n"
     ]
    }
   ],
   "source": [
    "char[] helloArray = { 'h', 'e', 'l', 'l', 'o', '.' };\n",
    "\n",
    "//We can convert char array to string\n",
    "String helloString = new String(helloArray);\n",
    "System.out.println(helloString);"
   ]
  },
  {
   "cell_type": "markdown",
   "metadata": {},
   "source": [
    "    The String class includes a method for concatenating two strings:\n",
    "\n",
    "    string1.concat(string2); \n",
    "\n",
    "    Strings are more commonly concatenated with the + operator, as in\n",
    "\n",
    "    \"Hello,\" + \" world\" + \"!\"\n",
    "    \n",
    "    Such a concatenation can be a mixture of any objects. For each object that is not a String, its toString() method is called to convert it to a String."
   ]
  },
  {
   "cell_type": "code",
   "execution_count": null,
   "metadata": {},
   "outputs": [],
   "source": []
  },
  {
   "cell_type": "markdown",
   "metadata": {},
   "source": [
    "    String substring(int beginIndex, int endIndex)\tReturns a new string that is a substring of this string. The substring begins at the specified beginIndex and extends to the character at index endIndex - 1.\n",
    "    String substring(int beginIndex)\tReturns a new string that is a substring of this string. The integer argument specifies the index of the first character. Here, the returned substring extends to the end of the original string.\n",
    "    \n",
    "    "
   ]
  },
  {
   "cell_type": "code",
   "execution_count": 5,
   "metadata": {},
   "outputs": [
    {
     "name": "stdout",
     "output_type": "stream",
     "text": [
      "roar\r\n"
     ]
    }
   ],
   "source": [
    "String anotherPalindrome = \"Niagara. O roar again!\"; \n",
    "String roar = anotherPalindrome.substring(11, 15); \n",
    "\n",
    "System.out.println(roar);"
   ]
  },
  {
   "cell_type": "markdown",
   "metadata": {},
   "source": [
    "    String[] split(String regex, int limit) ->\tSearches for a match as specified by the string argument (which contains a regular expression) and splits this string into an array of strings accordingly. The optional integer argument specifies the maximum size of the returned array. Regular expressions are covered in the lesson titled \"Regular Expressions.\"\n",
    "\n",
    "    CharSequence subSequence(int beginIndex, int endIndex)\tReturns a new character sequence constructed from beginIndex index up until endIndex - 1.\n",
    "\n",
    "    String trim()\tReturns a copy of this string with leading and trailing white space removed.\n",
    "    \n",
    "    String toLowerCase()\n",
    "    String toUpperCase()\tReturns a copy of this string converted to lowercase or uppercase. If no conversions are necessary, these methods return the original string."
   ]
  },
  {
   "cell_type": "code",
   "execution_count": 11,
   "metadata": {},
   "outputs": [
    {
     "name": "stdout",
     "output_type": "stream",
     "text": [
      "[  Erkam, Kavak, Kimliği, tanımsız   ]\n",
      "kam.Ka\n",
      "Erkam.Kavak?Kimliği:tanımsız\n",
      "  erkam.kavak?kimliği:tanımsız   \n",
      "  ERKAM.KAVAK?KİMLİĞİ:TANIMSIZ   \n"
     ]
    }
   ],
   "source": [
    "String str = \"  Erkam.Kavak?Kimliği:tanımsız   \";\n",
    "\n",
    "System.out.println(Arrays.toString(str.split(\"[.?:]+\")));\n",
    "\n",
    "System.out.println(str.subSequence(4, 10));\n",
    "\n",
    "System.out.println(str.trim());\n",
    "\n",
    "System.out.println(str.toLowerCase());\n",
    "\n",
    "System.out.println(str.toUpperCase());"
   ]
  },
  {
   "cell_type": "markdown",
   "metadata": {},
   "source": [
    "    int indexOf(int ch | String str)\n",
    "    int lastIndexOf(int ch | String str)\tReturns the index of the first (last) occurrence of the specified character| specified substring. \n",
    "\n",
    "    int indexOf(int ch | String str, int fromIndex)\n",
    "    int lastIndexOf(int ch | String str, int fromIndex)\tReturns the index of the first (last) occurrence of the specified character | specified substring, searching forward (backward) from the specified index.\n",
    "\n",
    "    boolean contains(CharSequence s)\tReturns true if the string contains the specified character sequence."
   ]
  },
  {
   "cell_type": "code",
   "execution_count": 25,
   "metadata": {},
   "outputs": [
    {
     "name": "stdout",
     "output_type": "stream",
     "text": [
      "4\n",
      "9\n",
      "-1\n",
      "2\n",
      "9\n",
      "true\n"
     ]
    }
   ],
   "source": [
    "String str = \"user/home/index43.html\"; \n",
    "\n",
    "System.out.println(str.indexOf(\"/\"));\n",
    "\n",
    "System.out.println(str.lastIndexOf(\"/\"));\n",
    "\n",
    "System.out.println(str.indexOf(\"\\\\\"));\n",
    "\n",
    "System.out.println(str.indexOf('e'));\n",
    "\n",
    "System.out.println(str.indexOf(\"/\", 5));\n",
    "\n",
    "System.out.println(str.contains(\"user\"));"
   ]
  },
  {
   "cell_type": "markdown",
   "metadata": {},
   "source": [
    "    String replace(char oldChar, char newChar)\tReturns a new string resulting from replacing all occurrences of oldChar in this string with newChar.\n",
    "    \n",
    "    String replace(CharSequence target, CharSequence replacement)\tReplaces each substring of this string that matches the literal target sequence with the specified literal replacement sequence.\n",
    "    \n",
    "    String replaceAll(String regex, String replacement)\tReplaces each substring of this string that matches the given regular expression with the given replacement.\n",
    "\n",
    "    String replaceFirst(String regex, String replacement)\tReplaces the first substring of this string that matches the given regular expression with the given replacement."
   ]
  },
  {
   "cell_type": "code",
   "execution_count": 30,
   "metadata": {},
   "outputs": [
    {
     "name": "stdout",
     "output_type": "stream",
     "text": [
      "user/home/index9.html\n",
      "user/home/main1.html\n",
      "user.home.index1.html\n",
      "user.home/index1.html\n"
     ]
    }
   ],
   "source": [
    "String str = \"user/home/index1.html\"; \n",
    "\n",
    "System.out.println(str.replace('1', '9'));\n",
    "\n",
    "System.out.println(str.replace(\"index\", \"main\"));\n",
    "\n",
    "System.out.println(str.replaceAll(\"/\", \".\"));\n",
    "\n",
    "System.out.println(str.replaceFirst(\"/\", \".\"));"
   ]
  },
  {
   "cell_type": "markdown",
   "metadata": {},
   "source": [
    "    boolean endsWith(String suffix)\n",
    "    boolean startsWith(String prefix)\tReturns true if this string ends with or begins with the substring specified as an argument to the method.\n",
    "    boolean startsWith(String prefix, int offset)\tConsiders the string beginning at the index offset, and returns true if it begins with the substring specified as an argument.\n",
    "    \n",
    "    int compareTo(String anotherString)\tCompares two strings lexicographically. Returns an integer indicating whether this string is greater than (result is > 0), equal to (result is = 0), or less than (result is < 0) the argument.\n",
    "    int compareToIgnoreCase(String str)\tCompares two strings lexicographically, ignoring differences in case. Returns an integer indicating whether this string is greater than (result is > 0), equal to (result is = 0), or less than (result is < 0) the argument.\n",
    "    \n",
    "    boolean equals(Object anObject)\tReturns true if and only if the argument is a String object that represents the same sequence of characters as this object.\n",
    "    boolean equalsIgnoreCase(String anotherString)\tReturns true if and only if the argument is a String object that represents the same sequence of characters as this object, ignoring differences in case.\n",
    "    \n",
    "    boolean regionMatches(int toffset, String other, int ooffset, int len)\tTests whether the specified region of this string matches the specified region of the String argument.\n",
    "    Region is of length len and begins at the index toffset for this string and ooffset for the other string.\n",
    "\n",
    "    boolean regionMatches(boolean ignoreCase, int toffset, String other, int ooffset, int len)\tTests whether the specified region of this string matches the specified region of the String argument.\n",
    "    Region is of length len and begins at the index toffset for this string and ooffset for the other string.\n",
    "\n",
    "    The boolean argument indicates whether case should be ignored; if true, case is ignored when comparing characters.\n",
    "\n",
    "    boolean matches(String regex)\tTests whether this string matches the specified regular expression. Regular expressions are discussed in the lesson titled \"Regular Expressions.\""
   ]
  },
  {
   "cell_type": "code",
   "execution_count": 45,
   "metadata": {},
   "outputs": [
    {
     "name": "stdout",
     "output_type": "stream",
     "text": [
      "true\n",
      "false\n",
      "true\n",
      "4\n",
      "-32\n",
      "0\n",
      "true\n"
     ]
    }
   ],
   "source": [
    "String str1 = \"Erkam Kavak\"; \n",
    "\n",
    "System.out.println(str1.startsWith(\"E\"));\n",
    "System.out.println(str1.startsWith(\"a\"));\n",
    "\n",
    "System.out.println(str1.endsWith(\"k\"));\n",
    "\n",
    "System.out.println(\"Erkam Kavak\".compareTo(\"Arkam Kavak\")); //positive olması daha büyük olduğunu gösterir.\n",
    "//Aslında java tüm karakterler üzerinde gidip her karakter için farklı buluyor ve cevap olarak bu farkı geri döndürüyor. \n",
    "\n",
    "System.out.println(\"Erkam Kavak\".compareTo(\"erkam kavak\"));\n",
    "\n",
    "System.out.println(\"Erkam Kavak\".compareToIgnoreCase(\"erkam kavak\"));\n",
    "\n",
    "System.out.println(\"Erkam Kavak\".equalsIgnoreCase(\"erkam kavak\"));\n"
   ]
  },
  {
   "cell_type": "markdown",
   "metadata": {},
   "source": [
    "    Autoboxing is the automatic conversion that the Java compiler makes between the primitive types and their corresponding object wrapper classes. For example, converting an int to an Integer, a double to a Double, and so on. If the conversion goes the other way, this is called unboxing.\n",
    "    \n",
    "    Consider the following code:\n",
    "\n",
    "    List<Integer> li = new ArrayList<>();\n",
    "    for (int i = 1; i < 50; i += 2)\n",
    "        li.add(i);\n",
    "        \n",
    "    Although you add the int values as primitive types, rather than Integer objects, to li, the code compiles. Because li is a list of Integer objects, not a list of int values, you may wonder why the Java compiler does not issue a compile-time error. The compiler does not generate an error because it creates an Integer object from i and adds the object to li. Thus, the compiler converts the previous code to the following at runtime:\n",
    "\n",
    "    List<Integer> li = new ArrayList<>();\n",
    "    for (int i = 1; i < 50; i += 2)\n",
    "        li.add(Integer.valueOf(i));\n",
    "    \n",
    "    (Normalde Integer bir object iken ve int bir primitive type iken ve bu ikisi arasında işlem yapılmaması gerekirken java eğer ikisi arasında bir işlem yapılmaya çalışılırsa int yapısını valueOf methodu ile Integer yapısına dönüştürüp işlemin gerçekleşmesini sağlar. Bu olaya autoboxing denir. Autoboxing'in gerçekleşmesi için primitive type'ın wrapper object'i ile işleme girmesi gerekir.(int yapısının wrapper objecti Integer'dir))\n",
    "    \n",
    "    \n",
    "    Consider the following method:\n",
    "\n",
    "    public static int sumEven(List<Integer> li) {\n",
    "        int sum = 0;\n",
    "        for (Integer i: li)\n",
    "            if (i % 2 == 0)\n",
    "                sum += i;\n",
    "            return sum;\n",
    "    }\n",
    "    Because the remainder (%) and unary plus (+=) operators do not apply to Integer objects, you may wonder why the Java compiler compiles the method without issuing any errors. The compiler does not generate an error because it invokes the intValue method to convert an Integer to an int at runtime:\n",
    "\n",
    "    public static int sumEven(List<Integer> li) {\n",
    "        int sum = 0;\n",
    "        for (Integer i : li)\n",
    "            if (i.intValue() % 2 == 0)\n",
    "                sum += i.intValue();\n",
    "            return sum;\n",
    "    }\n",
    "    \n",
    "    (Autoboxing'in tam tersi olan unboxing'de ise bu sefer Integer yapısı intValue methodu ile int yapısına dönüştürülür. Autoboxing için geçerli olan kurallar unboxing için de geçerlidir.)\n",
    "    \n",
    "    \n",
    "    \n",
    "    Primitive type\tWrapper class\n",
    "    boolean\tBoolean\n",
    "    byte\tByte\n",
    "    char\tCharacter\n",
    "    float\tFloat\n",
    "    int\tInteger\n",
    "    long\tLong\n",
    "    short\tShort\n",
    "    double\tDouble\n",
    "\n",
    "    "
   ]
  }
 ],
 "metadata": {
  "kernelspec": {
   "display_name": "Java",
   "language": "java",
   "name": "java"
  },
  "language_info": {
   "codemirror_mode": "java",
   "file_extension": ".jshell",
   "mimetype": "text/x-java-source",
   "name": "Java",
   "pygments_lexer": "java",
   "version": "15.0.1+9-18"
  }
 },
 "nbformat": 4,
 "nbformat_minor": 4
}
