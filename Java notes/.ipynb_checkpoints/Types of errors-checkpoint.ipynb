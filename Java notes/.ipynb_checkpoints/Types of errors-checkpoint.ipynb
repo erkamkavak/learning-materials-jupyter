{
 "cells": [
  {
   "cell_type": "markdown",
   "metadata": {},
   "source": [
    "Three kinds of errors can occur in a program: compile-time errors, run-time errors, and logic errors.\n"
   ]
  },
  {
   "cell_type": "markdown",
   "metadata": {},
   "source": [
    "Compile-time errors occur when you violate the syntax rules of the Java language. For example, parentheses and braces have to come in matching pairs. So (1 + 2) is legal, but 8) is not.\n",
    "\n",
    "Error messages from the compiler usually indicate where in the program the error occurred, and sometimes they can tell you exactly what the error is.\n",
    "\n",
    "If you forget the semicolon at the end of the print statement, you might get an error message like this:\n",
    "\n",
    "File: Hello.java [line: 5]\n",
    "\n",
    "Error: ';' expected"
   ]
  },
  {
   "cell_type": "markdown",
   "metadata": {},
   "source": [
    "But error messages are not always easy to understand. Sometimes the compiler reports the place in the program where the error was detected, not where it actually occurred.\n",
    "\n"
   ]
  },
  {
   "cell_type": "code",
   "execution_count": null,
   "metadata": {},
   "outputs": [],
   "source": []
  },
  {
   "cell_type": "markdown",
   "metadata": {},
   "source": [
    "    The second type of error is a run-time error, so-called because it does not appear until after the program has started running. In Java, these errors occur while the interpreter is executing byte code and something goes wrong.\n",
    "\n",
    "    For example, if you accidentally divide by zero you will get a message like this:\n",
    "\n",
    "    Exception in thread \"main\" java.lang.ArithmeticException: / by zero at Hello.main(Hello.java:5)\n",
    "\n"
   ]
  },
  {
   "cell_type": "code",
   "execution_count": null,
   "metadata": {},
   "outputs": [],
   "source": []
  },
  {
   "cell_type": "markdown",
   "metadata": {},
   "source": [
    "Javada hata mesajı vermek için try catch blokları ve exception'lar kullanılır. Throw new Exception ile bir hata olduğu belirtilir ve hata mesajı gönderilir."
   ]
  },
  {
   "cell_type": "code",
   "execution_count": 1,
   "metadata": {},
   "outputs": [
    {
     "name": "stdout",
     "output_type": "stream",
     "text": [
      "java.lang.Exception: Breadth and height must be positive\r\n"
     ]
    }
   ],
   "source": [
    "int B = -1; \n",
    "int H = 5;\n",
    "\n",
    "try{    \n",
    "    if(B <= 0 || H <= 0) {\n",
    "        throw new Exception(\"Breadth and height must be positive\");\n",
    "    }\n",
    "} catch(Exception e){\n",
    "    System.out.println(e);\n",
    "}"
   ]
  },
  {
   "cell_type": "code",
   "execution_count": null,
   "metadata": {},
   "outputs": [],
   "source": []
  }
 ],
 "metadata": {
  "kernelspec": {
   "display_name": "Java",
   "language": "java",
   "name": "java"
  },
  "language_info": {
   "codemirror_mode": "java",
   "file_extension": ".jshell",
   "mimetype": "text/x-java-source",
   "name": "Java",
   "pygments_lexer": "java",
   "version": "15.0.1+9-18"
  }
 },
 "nbformat": 4,
 "nbformat_minor": 4
}
