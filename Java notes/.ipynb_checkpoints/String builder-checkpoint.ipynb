{
 "cells": [
  {
   "cell_type": "markdown",
   "metadata": {},
   "source": [
    "    StringBuilder objects are like String objects, except that they can be modified. Internally, these objects are treated like variable-length arrays that contain a sequence of characters. At any point, the length and content of the sequence can be changed through method invocations."
   ]
  },
  {
   "cell_type": "markdown",
   "metadata": {},
   "source": [
    "    Unlike strings, every string builder also has a capacity, the number of character spaces that have been allocated. The capacity, which is returned by the capacity() method, is always greater than or equal to the length (usually greater than) and will automatically expand as necessary to accommodate additions to the string builder.\n",
    "\n",
    "    StringBuilder()\tCreates an empty string builder with a capacity of 16 (16 empty elements).\n",
    "    StringBuilder(CharSequence cs)\tConstructs a string builder containing the same characters as the specified CharSequence, plus an extra 16 empty elements trailing the CharSequence.\n",
    "    StringBuilder(int initCapacity)\tCreates an empty string builder with the specified initial capacity.\n",
    "    StringBuilder(String s)\tCreates a string builder whose value is initialized by the specified string, plus an extra 16 empty elements trailing the string."
   ]
  },
  {
   "cell_type": "code",
   "execution_count": 5,
   "metadata": {},
   "outputs": [
    {
     "name": "stdout",
     "output_type": "stream",
     "text": [
      "Greetings\n",
      "9\n",
      "16\n",
      "100\n"
     ]
    }
   ],
   "source": [
    "// creates empty builder, capacity 16\n",
    "StringBuilder sb = new StringBuilder();\n",
    "// adds 9 character string at beginning\n",
    "sb.append(\"Greetings\");\n",
    "\n",
    "System.out.println(sb);\n",
    "System.out.println(sb.length());\n",
    "System.out.println(sb.capacity());\n",
    "\n",
    "StringBuilder sb2 = new StringBuilder(100);\n",
    "System.out.println(sb2.capacity());"
   ]
  },
  {
   "cell_type": "markdown",
   "metadata": {},
   "source": [
    "    void setLength(int newLength)\tSets the length of the character sequence. If newLength is less than length(), the last characters in the character sequence are truncated. If newLength is greater than length(), null characters are added at the end of the character sequence.\n",
    "    void ensureCapacity(int minCapacity)\tEnsures that the capacity is at least equal to the specified minimum.\n"
   ]
  },
  {
   "cell_type": "markdown",
   "metadata": {},
   "source": [
    "    A number of operations (for example, append(), insert(), or setLength()) can increase the length of the character sequence in the string builder so that the resultant length() would be greater than the current capacity(). When this happens, the capacity is automatically increased.\n",
    "    \n",
    "    "
   ]
  },
  {
   "cell_type": "markdown",
   "metadata": {},
   "source": [
    "The principal operations on a StringBuilder that are not available in String are the append() and insert() methods, which are overloaded so as to accept data of any type.\n",
    "\n",
    "Each converts its argument to a string and then appends or inserts the characters of that string to the character sequence in the string builder.\n",
    "\n",
    "    StringBuilder append(String s)\tAppends the argument to this string builder. The data is converted to a string before the append operation takes place.\n",
    "    \n",
    "    StringBuilder delete(int start, int end)\n",
    "    StringBuilder deleteCharAt(int index)\tThe first method deletes the subsequence from start to end-1 (inclusive) in the StringBuilder's char sequence. The second method deletes the character located at index.\n",
    "    \n",
    "    StringBuilder insert(int offset, String s)\tInserts the second argument into the string builder. The first integer argument indicates the index before which the data is to be inserted. The data is converted to a string before the insert operation takes place.\n",
    "    \n",
    "    StringBuilder replace(int start, int end, String s)\n",
    "    void setCharAt(int index, char c)\tReplaces the specified character(s) in this string builder.\n",
    "    \n",
    "    StringBuilder reverse()\tReverses the sequence of characters in this string builder.\n",
    "    String toString()\tReturns a string that contains the character sequence in the builder.\n",
    "    \n",
    "    "
   ]
  },
  {
   "cell_type": "code",
   "execution_count": 21,
   "metadata": {},
   "outputs": [
    {
     "name": "stdout",
     "output_type": "stream",
     "text": [
      "doT saw I was toD\n",
      "doT saw I was toD neww\n",
      "doT saw I was toD neww14\n",
      "doT saw I was neww14\n",
      "doT saw I was toD neww14\n",
      "doT saw You was toD neww14\n",
      "doT saw you was toD neww14\n"
     ]
    }
   ],
   "source": [
    "String palindrome = \"Dot saw I was Tod\";\n",
    "\n",
    "StringBuilder sb = new StringBuilder(palindrome);\n",
    "\n",
    "sb.reverse();\n",
    "\n",
    "System.out.println(sb);\n",
    "\n",
    "sb.append(\" neww\"); \n",
    "\n",
    "System.out.println(sb);\n",
    "\n",
    "sb.append(14); //can also append other types.\n",
    "\n",
    "System.out.println(sb);\n",
    "\n",
    "sb.delete(14, 18);\n",
    "\n",
    "System.out.println(sb);\n",
    "\n",
    "sb.insert(14, \"toD \");\n",
    "\n",
    "System.out.println(sb);\n",
    "\n",
    "sb.replace(8, 9, \"You\");\n",
    "\n",
    "System.out.println(sb);\n",
    "\n",
    "sb.setCharAt(8, 'y');\n",
    "\n",
    "System.out.println(sb);"
   ]
  }
 ],
 "metadata": {
  "kernelspec": {
   "display_name": "Java",
   "language": "java",
   "name": "java"
  },
  "language_info": {
   "codemirror_mode": "java",
   "file_extension": ".jshell",
   "mimetype": "text/x-java-source",
   "name": "Java",
   "pygments_lexer": "java",
   "version": "15.0.1+9-18"
  }
 },
 "nbformat": 4,
 "nbformat_minor": 4
}
