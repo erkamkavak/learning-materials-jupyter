{
 "cells": [
  {
   "cell_type": "markdown",
   "metadata": {},
   "source": [
    "    Static variable'lar instance'a değil de class'a bağlı olan variable'lardır. \n",
    "\n",
    "    Javada static methodları-variable'ları class'ı tanımlamadan çağırabilirsin. Class içinde de bunları çağırırken this methodu ile çağıramazsın. \n",
    "\n",
    "    Static variablelar-methodlar class'ın özelliklerini tutar veyahut class'ı tanımlamadan bazı genel işlemlerin yapılmasını sağlarlar.(Math.pow, Arrays.sort vb.)"
   ]
  },
  {
   "cell_type": "code",
   "execution_count": 1,
   "metadata": {},
   "outputs": [],
   "source": [
    "public class StaticMethodsAndVariables {\n",
    "    \n",
    "    static int variableA = 10;\n",
    "    int variableB = 20;\n",
    "\n",
    "    static void method1() {\n",
    "        System.out.println(\"We are inside method1\"); \n",
    "        variableA = 11;\n",
    "\n",
    "        // static methods cannot access non-static variables or methods, so the following lines will cause an error if uncommented\n",
    "        // variableB = 21;\n",
    "        // method2();\n",
    "        \n",
    "    }\n",
    "   \n",
    "    void method2() {\n",
    "        System.out.println(\"We are inside method2\"); \n",
    "        \n",
    "        // non-static methods can access both static and non-static variables and methods\n",
    "        variableA = 12;\n",
    "        variableB = 22;\n",
    "       \n",
    "        System.out.println(\"We are inside method2 and variableA is \" + variableA +  \" variableB is \"+ variableB); \n",
    "\n",
    "        method1();\n",
    "        \n",
    "        System.out.println(\"We are inside method2 after calling method1, now variableA is \" + variableA +  \" variableB is \"+ variableB);\n",
    "        \n",
    "    }\n",
    "     \n",
    "    \n",
    "    public static void main(String[] args) {\n",
    "        \n",
    "       // calling method1\n",
    "       method1();\n",
    "\n",
    "       // calling method2 will result in an error since it is not defined as static\n",
    "       // whereas the caller function main is a static method. Uncomment the following line and see it yourself\n",
    "       \n",
    "       // method2();\n",
    "\n",
    "       // In order to call the instance method \"method2\" we need to instantiate this class:\n",
    "       \n",
    "       StaticMethodsAndVariables staticMethodsAndVariablesInstance = new StaticMethodsAndVariables();\n",
    "       \n",
    "       // now we can call method2 as follows:\n",
    "       staticMethodsAndVariablesInstance.method2();\n",
    "       \n",
    "               \n",
    "       }  \n",
    "\n",
    "}"
   ]
  },
  {
   "cell_type": "code",
   "execution_count": 5,
   "metadata": {},
   "outputs": [
    {
     "name": "stdout",
     "output_type": "stream",
     "text": [
      "[2, 3, 4, 5, 6, 9, 10]\n",
      "[1, 4, 5, 9, 13, 15, 18]\n",
      "10\n"
     ]
    }
   ],
   "source": [
    "//Pythondakine benzer bir list implementasyonu\n",
    "public class List {\n",
    "    int[] lst;\n",
    "\n",
    "    public List(int[] values) {\n",
    "        this.lst = new int[values.length]; \n",
    "        for(int i = 0; i < values.length; i++) {\n",
    "            this.lst[i] = values[i];\n",
    "        }\n",
    "    }\n",
    "\n",
    "\n",
    "    public String toString() {\n",
    "        return Arrays.toString(lst);\n",
    "    }\n",
    "\n",
    "    public void sort() {\n",
    "        for (int i = 1; i < lst.length; i++) {\n",
    "            int current = lst[i];\n",
    "            int j = i - 1;\n",
    "            while(j >= 0 && current < lst[j]) {\n",
    "                lst[j+1] = lst[j];\n",
    "                j--;\n",
    "            }\n",
    "            lst[j+1] = current;\n",
    "        }\n",
    "    }\n",
    "\n",
    "\n",
    "    // List.sorted(lstToSort);\n",
    "    public static int[] sorted(int[] lstToSort) {\n",
    "        for (int i = 1; i < lstToSort.length; i++) {\n",
    "            int current = lstToSort[i];\n",
    "            int j = i - 1;\n",
    "            while(j >= 0 && current < lstToSort[j]) {\n",
    "                lstToSort[j+1] = lstToSort[j];\n",
    "                j--;\n",
    "            }\n",
    "            lstToSort[j+1] = current;\n",
    "        }\n",
    "        return lstToSort;\n",
    "    }\n",
    "\n",
    "}\n",
    "\n",
    "List myLst = new List(new int[] {5, 4, 2, 10, 6, 3, 9} );\n",
    "myLst.sort();\n",
    "System.out.println(myLst);\n",
    "\n",
    "int[] myLst2 = new int[] {15, 13, 18, 1, 5, 4, 9};\n",
    "System.out.println(Arrays.toString(List.sorted(myLst2)));\n",
    "\n",
    "System.out.println(Math.min(10, 15));"
   ]
  },
  {
   "cell_type": "code",
   "execution_count": 6,
   "metadata": {},
   "outputs": [
    {
     "name": "stdout",
     "output_type": "stream",
     "text": [
      "4\r\n"
     ]
    }
   ],
   "source": [
    "public class Product {\n",
    "    private String name; \n",
    "    private double weight;\n",
    "\n",
    "    //amount ile oluşturulan toplam product sayısını tutabiliriz. \n",
    "    static int amount; \n",
    "\n",
    "    public Product(String name, double weight) {\n",
    "        this.name = name; \n",
    "        this.weight = weight; \n",
    "        amount += 1; \n",
    "    }\n",
    "\n",
    "}\n",
    "\n",
    "Product p1 = new Product(\"p1\", 10);\n",
    "Product p2 = new Product(\"p2\", 10);\n",
    "Product p3 = new Product(\"p3\", 10);\n",
    "Product p4 = new Product(\"p4\", 10);\n",
    "\n",
    "System.out.println(Product.amount);"
   ]
  },
  {
   "cell_type": "markdown",
   "metadata": {},
   "source": [
    "    Static methodlar non-static methodlara ulaşamazken non-static methodlar static methodlara ulaşabilir.(static methodları class dışındaki bir methodmuş gibi de düşünebiliriz.)"
   ]
  }
 ],
 "metadata": {
  "kernelspec": {
   "display_name": "Java",
   "language": "java",
   "name": "java"
  },
  "language_info": {
   "codemirror_mode": "java",
   "file_extension": ".jshell",
   "mimetype": "text/x-java-source",
   "name": "Java",
   "pygments_lexer": "java",
   "version": "15.0.1+9-18"
  }
 },
 "nbformat": 4,
 "nbformat_minor": 4
}
