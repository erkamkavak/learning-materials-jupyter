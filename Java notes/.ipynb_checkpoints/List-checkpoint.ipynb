{
 "cells": [
  {
   "cell_type": "markdown",
   "metadata": {},
   "source": [
    "Bir listin boş olup olmadığına isEmpty methodu ile bakabiliriz. "
   ]
  },
  {
   "cell_type": "code",
   "execution_count": null,
   "metadata": {},
   "outputs": [],
   "source": []
  },
  {
   "cell_type": "markdown",
   "metadata": {},
   "source": [
    "Bir listi Collections.reverse() methodu ile reverse edebiliriz. Bu method list üzerinde işlem yapıp void geri döndürecektir. "
   ]
  },
  {
   "cell_type": "code",
   "execution_count": 7,
   "metadata": {},
   "outputs": [
    {
     "name": "stdout",
     "output_type": "stream",
     "text": [
      "[3, 2, 1]\r\n"
     ]
    }
   ],
   "source": [
    "List<Integer> lst = Arrays.asList(new Integer[] {1, 2, 3}); \n",
    "\n",
    "Collections.reverse(lst); \n",
    "\n",
    "System.out.println(lst); "
   ]
  },
  {
   "cell_type": "markdown",
   "metadata": {},
   "source": [
    "Bir listi Collections.sort() methodu ile sort edebiliriz. Sort methodu içerisinde sort işlemini nasıl yapmak istediğimizi yazarız. Default olarak Collections.sort() methodu küçükten büyüğe doğru sıralayacaktır. "
   ]
  },
  {
   "cell_type": "code",
   "execution_count": 19,
   "metadata": {},
   "outputs": [
    {
     "name": "stdout",
     "output_type": "stream",
     "text": [
      "[3, 4, 5, 7, 14, 16, 21]\n",
      "[21, 16, 14, 7, 5, 4, 3]\n",
      "[3, 4, 5, 7, 14, 16, 21]\n",
      "[5, 16, 21, 7, 3, 4, 14]\n",
      "[erkam, erkama, kavak, kavakı]\n",
      "[3, 4, 4, 5, 6, 8, 9, 13]\n"
     ]
    }
   ],
   "source": [
    "List<Integer> intLst = Arrays.asList(new Integer[] {5, 3, 21, 4, 14, 16, 7});\n",
    "\n",
    "Collections.sort(intLst);\n",
    "\n",
    "System.out.println(intLst); \n",
    "\n",
    "//Collections.reverseOrder methodu ile listi büyükten küçüğe doğru sıralayabiliriz.\n",
    "Collections.sort(intLst, Collections.reverseOrder()); \n",
    "\n",
    "System.out.println(intLst);\n",
    "\n",
    "//Collections.sort methodu içerisinde sort işleminin nasıl gerçekleşeceğini belirtebiliriz. Bu belirtme işlemini gelen \n",
    "//değerlerin nasıl bir karşılaştırmaya tutulmasını istediğimizi belirterek yapabiliriz. \n",
    "\n",
    "Collections.sort(intLst, (a, b) -> (a - b)); //default sorting işlemi ile aynı işi yapar.\n",
    "System.out.println(intLst); \n",
    "\n",
    "Collections.sort(intLst, (a, b) -> (a % 5) - (b % 5)); //5'e modlarından kalan değere göre sorting işlemini yapar. \n",
    "System.out.println(intLst); \n",
    "\n",
    "List<String> strLst = Arrays.asList(new String[] {\"erkam\", \"kavak\", \"erkama\", \"kavakı\"});\n",
    "\n",
    "//Aynı zamanda sort işlemini birden fazla şeye(önceliklerini belirterek) bağlı olarak da yapabiliriz. Bunu ternary operatörleri_\n",
    "//ni kullanarak yapabiliriz. \n",
    "Collections.sort(strLst, (a, b) -> ( a.charAt(0) == b.charAt(0) ? (a.length() - b.length()) :  (a.charAt(0) - b.charAt(0)) ) );\n",
    "//Bu şekilde ilk başta ilk karakterlere bakacak, eğer ilk karakterler aynı ise stringlerin uzunluklarına bakacaktır.\n",
    "System.out.println(strLst); \n",
    "\n",
    "int[] lst = {5, 4, 6, 8, 13, 9, 3, 4};\n",
    "\n",
    "//Collections.sort() methodu primitive bir yapı olan int[] için çalışmaz. Bunun yerine Arrays.sort() kullanabiliriz.\n",
    "//Collections.sort(lst); hata verecektir. \n",
    "Arrays.sort(lst); \n",
    "\n",
    "System.out.println(Arrays.toString(lst)); "
   ]
  }
 ],
 "metadata": {
  "kernelspec": {
   "display_name": "Java",
   "language": "java",
   "name": "java"
  },
  "language_info": {
   "codemirror_mode": "java",
   "file_extension": ".jshell",
   "mimetype": "text/x-java-source",
   "name": "Java",
   "pygments_lexer": "java",
   "version": "15.0.1+9-18"
  }
 },
 "nbformat": 4,
 "nbformat_minor": 4
}
