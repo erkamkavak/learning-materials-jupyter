{
 "cells": [
  {
   "cell_type": "code",
   "execution_count": 4,
   "metadata": {},
   "outputs": [
    {
     "name": "stdout",
     "output_type": "stream",
     "text": [
      "0.0\n",
      "0.3333333333333333\n"
     ]
    }
   ],
   "source": [
    "double a = 1 / 3; // common mistake\n",
    "\n",
    "double b = 1.0 / 3.0; // correct\n",
    "\n",
    "System.out.println(a);\n",
    "System.out.println(b);"
   ]
  },
  {
   "cell_type": "markdown",
   "metadata": {},
   "source": [
    "The difference between the number we want and the floating-point number\n",
    "we get is called rounding error. For example, the following two statements\n",
    "should be equivalent:\n",
    "\n",
    "System.out.println(0.1 * 10);\n",
    "\n",
    "System.out.println(0.1 + 0.1 + 0.1 + 0.1 + 0.1 + 0.1 + 0.1 + 0.1 + 0.1 + 0.1);\n",
    "\n",
    "But on many machines, the output is:\n",
    "\n",
    "1.0\n",
    "\n",
    "0.9999999999999999\n",
    "\n",
    "The problem is that 0.1, which is a terminating fraction in decimal, is a repeat\u0002ing fraction in binary. So its floating-point representation is only approximate.\n",
    "When we add up the approximations, the rounding errors accumulate."
   ]
  },
  {
   "cell_type": "code",
   "execution_count": 5,
   "metadata": {},
   "outputs": [
    {
     "name": "stdout",
     "output_type": "stream",
     "text": [
      "1.0\n",
      "0.9999999999999999\n"
     ]
    }
   ],
   "source": [
    "System.out.println(0.1 * 10);\n",
    "System.out.println(0.1 + 0.1 + 0.1 + 0.1 + 0.1 + 0.1 + 0.1 + 0.1 + 0.1 + 0.1);"
   ]
  },
  {
   "cell_type": "markdown",
   "metadata": {},
   "source": [
    "For many applications, like computer graphics, encryption, statistical analysis, and multimedia rendering, floating-point arithmetic has benefits that outweigh the costs. But if you need absolute precision, use integers instead."
   ]
  },
  {
   "cell_type": "markdown",
   "metadata": {},
   "source": [
    "The + operator works with strings, but it might not do what you expect. For\n",
    "strings, the + operator performs concatenation, which means joining end-to\u0002end. So \"Hello, \" + \"World!\" yields the string \"Hello, World!\".\n",
    "\n",
    "Since addition is defined for both numbers and strings, Java performs auto\u0002matic conversions you may not expect:\n",
    "\n",
    "System.out.println(1 + 2 + \"Hello\");\n",
    "// the output is 3Hello\n",
    "\n",
    "System.out.println(\"Hello\" + 1 + 2);\n",
    "// the output is Hello12\n",
    "\n",
    "When more than one operator appears in an expression, they are evaluated\n",
    "according to order of operations. Generally speaking, Java evaluates oper\u0002ators from left to right (as we saw in the previous section). But for numeric operators, Java follows mathematical conventions"
   ]
  },
  {
   "cell_type": "code",
   "execution_count": null,
   "metadata": {},
   "outputs": [],
   "source": []
  },
  {
   "cell_type": "markdown",
   "metadata": {},
   "source": [
    "final ifadesini kullanarak constant variable'lar oluşturabiliriz. Bu ifadeleri daha sonra değiştirmeye çalıştığımızda hata verecektir. "
   ]
  },
  {
   "cell_type": "code",
   "execution_count": 4,
   "metadata": {},
   "outputs": [
    {
     "name": "stdout",
     "output_type": "stream",
     "text": [
      "3.1415\r\n"
     ]
    }
   ],
   "source": [
    "final double PI = 3.1415; \n",
    "\n",
    "System.out.println(PI); "
   ]
  },
  {
   "cell_type": "markdown",
   "metadata": {},
   "source": [
    "    when you read an int followed by a String, something strange happens.\n",
    "    \n",
    "    System.out.print(\"What is your age? \");\n",
    "    age = in.nextInt();\n",
    "    System.out.print(\"What is your name? \");\n",
    "    name = in.nextLine();\n",
    "    System.out.printf(\"Hello %s, age %d\\n\", name, age);\n",
    "    \n",
    "    Try running this example code. It doesn’t let you input your name, and it immediately displays the output:\n",
    "\n",
    "    What is your name? Hello , age 45\n",
    "    \n",
    "    To understand what is happening, you have to understand that the Scanner\n",
    "    doesn’t see input as multiple lines, like we do. Instead, it gets a “stream of\n",
    "    characters”\n",
    "    \n",
    "    \n",
    "    To solve this problem, you need an extra nextLine after nextInt.\n",
    "\n",
    "    System.out.print(\"What is your age? \");\n",
    "    age = in.nextInt();\n",
    "    in.nextLine(); // read the newline\n",
    "    System.out.print(\"What is your name? \");\n",
    "    name = in.nextLine();\n",
    "    System.out.printf(\"Hello %s, age %d\\n\", name, age);\n"
   ]
  },
  {
   "cell_type": "code",
   "execution_count": null,
   "metadata": {},
   "outputs": [],
   "source": [
    "import java.util.Scanner;\n",
    "Scanner read = new Scanner(System.in); \n",
    "\n",
    "//Bir integer değeri okuduktan sonra yeni line'a geçiyorsak nextLine() demeliyiz aksi takdirde java yeni line'ın ilk değerini okumayacak. \n",
    "int n = read.nextInt(); \n",
    "read.nextLine(); \n",
    "\n",
    "\n",
    "//Javada matrix okuma \n",
    "int[][] graph = new int[n][n]; \n",
    "for(int i = 0; i < n; i++) {\n",
    "    for(int j = 0; j < n; j++) {\n",
    "        graph[i][j] = read.nextInt(); \n",
    "    }\n",
    "} \n",
    "\n",
    "//Javada array okuma\n",
    "int[] arr = new int[n]; \n",
    "for(int i = 0; i < n; i++) arr[i] = read.nextInt() - 1;          \n"
   ]
  },
  {
   "cell_type": "code",
   "execution_count": null,
   "metadata": {},
   "outputs": [],
   "source": []
  },
  {
   "cell_type": "markdown",
   "metadata": {},
   "source": [
    "printf reference\n",
    "\n",
    "https://www.cs.colostate.edu/~cs160/.Summer16/resources/Java_printf_method_quick_reference.pdf\n"
   ]
  },
  {
   "cell_type": "markdown",
   "metadata": {},
   "source": [
    "Javada hashmap(dictionary) kullanımı\n",
    "\n",
    "HashMap<KeyTürü, ValueTürü> hashMapAdı = new HashMap<KeyTürü, ValueTürü>(); "
   ]
  },
  {
   "cell_type": "code",
   "execution_count": 4,
   "metadata": {},
   "outputs": [],
   "source": [
    "import java.util.HashMap; // import the HashMap class\n",
    "\n",
    "HashMap<String, String> capitalCities = new HashMap<String, String>(); //hashmap'ın oluşturulması\n",
    "\n",
    "capitalCities.put(\"England\", \"London\"); //hashmap'a yeni key, value pairi eklenmesi\n",
    "capitalCities.put(\"Turkey\", \"Istanbul\"); \n",
    "\n",
    "capitalCities.get(\"England\"); //hashmap'ten key değeri ile eleman çekmek\n",
    "\n",
    "capitalCities.remove(\"England\"); //hashmap'ten key değeri ile eleman silme\n",
    "\n",
    "capitalCities.size(); //hashmap'in büyüklüğünü görme\n",
    "\n",
    "capitalCities.keySet(); //hashmap'in key değerlerini alma\n",
    "\n",
    "capitalCities.values(); //hashmap'in value değerlerini alma\n",
    "\n",
    "capitalCities.containsKey(\"Turkey\"); //hashmap'te key değerinin bulunup bulunmadığına bakma\n",
    "\n",
    "capitalCities.containsValue(\"Istanbul\"); //hashmap'te value değerinin bulunup bulunmadığına bakma\n",
    "\n",
    "capitalCities.isEmpty(); //hashmap'in boş olup olmadığına bakma \n",
    "\n",
    "//getOrDefault(K key, V defaultValue);\n",
    "capitalCities.getOrDefault(\"France\", \"Paris\"); // hashmap'te key değeri varsa o değerin value'sını çekerken key değeri yoksa o değeri value'si(ikinci parametre) ile ekleme ve value'sını geri döndürme  \n",
    "\n",
    "capitalCities.clone(); //Hashmap'in shallow copy'sini oluşturma\n",
    "\n",
    "//putIfAbsent(K key, V value);\n",
    "capitalCities.putIfAbsent(\"France\", \"Paris\");\n",
    "\n",
    "//You cannot store duplicate keys in HashMap. However, if you try to store duplicate key with another value, it will replace the value.\n",
    "\n",
    "//Daha önce yazılmış bir hashmap'in alıp onun üstüne yeni bir hashmap kurma\n",
    "HashMap<String, String> cities = new HashMap<String, String>(capitalCities); //parantezler içine taban olarak almak istediğimiz hashmap'i yazarız."
   ]
  },
  {
   "cell_type": "markdown",
   "metadata": {},
   "source": [
    "Javada String değerlerine sahip Array'i veyahut birden fazla Stringi birleştirme\n",
    "\n",
    "String.join(<Birleştirme ayıracı>, Stringler)"
   ]
  },
  {
   "cell_type": "code",
   "execution_count": 5,
   "metadata": {},
   "outputs": [
    {
     "data": {
      "text/plain": [
       "How, To, Do, In, Java"
      ]
     },
     "execution_count": 5,
     "metadata": {},
     "output_type": "execute_result"
    }
   ],
   "source": [
    "String.join(\", \", \"How\", \"To\", \"Do\", \"In\", \"Java\");\n",
    "\n",
    "List<String> strList = Arrays.asList(\"How\", \"To\", \"Do\", \"In\", \"Java\");\n",
    "\n",
    "String.join(\", \", strList);"
   ]
  },
  {
   "cell_type": "markdown",
   "metadata": {},
   "source": [
    "Javada ascii değerlerini karakterlere dönüştürme"
   ]
  },
  {
   "cell_type": "code",
   "execution_count": 10,
   "metadata": {},
   "outputs": [
    {
     "name": "stdout",
     "output_type": "stream",
     "text": [
      "a\n",
      "a\n"
     ]
    }
   ],
   "source": [
    "int asciiValue = 97; \n",
    "char convertedChar1 = (char)asciiValue;\n",
    "String convertedChar2 = Character.toString(asciiValue); \n",
    "\n",
    "System.out.println(convertedChar1); \n",
    "System.out.println(convertedChar2); "
   ]
  },
  {
   "cell_type": "markdown",
   "metadata": {},
   "source": [
    "Javada karakterleri ascii değerlerine dönüştürme"
   ]
  },
  {
   "cell_type": "code",
   "execution_count": 1,
   "metadata": {},
   "outputs": [
    {
     "name": "stdout",
     "output_type": "stream",
     "text": [
      "97\n",
      "98\n"
     ]
    }
   ],
   "source": [
    "System.out.println((int)'a');\n",
    "\n",
    "int asciiValue = 'b';\n",
    "System.out.println(asciiValue);\n"
   ]
  },
  {
   "cell_type": "markdown",
   "metadata": {},
   "source": [
    "Javada stringleri ve karakterleri lowercase veya uppercase haline çevirme"
   ]
  },
  {
   "cell_type": "code",
   "execution_count": 4,
   "metadata": {},
   "outputs": [
    {
     "name": "stdout",
     "output_type": "stream",
     "text": [
      "HELLO WORLD\n",
      "hello world\n",
      "a\n",
      "A\n"
     ]
    }
   ],
   "source": [
    "String txt = \"Hello World\";\n",
    "System.out.println(txt.toUpperCase());\n",
    "System.out.println(txt.toLowerCase());\n",
    "\n",
    "\n",
    "System.out.println(Character.toLowerCase('A'));\n",
    "System.out.println(Character.toUpperCase('a'));"
   ]
  },
  {
   "cell_type": "markdown",
   "metadata": {},
   "source": [
    "Javada string'i trim(sondaki ve baştaki boşlukları silme) etme"
   ]
  },
  {
   "cell_type": "code",
   "execution_count": 6,
   "metadata": {},
   "outputs": [
    {
     "name": "stdout",
     "output_type": "stream",
     "text": [
      "erkam kavak\r\n"
     ]
    }
   ],
   "source": [
    "String s = \"        erkam kavak       \"; \n",
    "System.out.println(s.trim()); "
   ]
  },
  {
   "cell_type": "markdown",
   "metadata": {},
   "source": [
    "Java split methodu kullanımı"
   ]
  },
  {
   "cell_type": "code",
   "execution_count": 1,
   "metadata": {},
   "outputs": [
    {
     "name": "stdout",
     "output_type": "stream",
     "text": [
      "[word1, word2, word3, word4, word5, word6]\n",
      "[word1, word2, word3@word4?word5.word6]\n"
     ]
    }
   ],
   "source": [
    "String str = \"word1, word2 word3@word4?word5.word6\";\n",
    "String[] arrOfStr = str.split(\"[, ?.@]+\");\n",
    "System.out.println(Arrays.toString(arrOfStr)); \n",
    "\n",
    "System.out.println(Arrays.toString(str.split(\"[, ]+\", 3)))"
   ]
  },
  {
   "cell_type": "markdown",
   "metadata": {},
   "source": [
    "Javada class içinde global olacak yapılar tanımlama."
   ]
  },
  {
   "cell_type": "code",
   "execution_count": 2,
   "metadata": {},
   "outputs": [],
   "source": [
    "class Solution {\n",
    "    //public sayesinde bu hashmap tüm methodlar tarafından ulaşılabilir.\n",
    "    public static HashMap<Integer, Integer> dp = new HashMap<Integer, Integer>();\n",
    " \n",
    "    //herhangi bir method içinde yazmak istemedeğimiz(ilk tanımlamada belirtmek istediğimiz şeyleri static block'unun içine tanımlayabiliriz.)\n",
    "    static {\n",
    "        dp.put(0, 0);\n",
    "        dp.put(1, 1);\n",
    "    }\n",
    "    public static int fib(int n) {\n",
    "        if(dp.containsKey(n)){\n",
    "            return dp.get(n); \n",
    "        }\n",
    "        dp.put(n, fib(n - 1) + fib(n - 2)); \n",
    "        return dp.get(n); \n",
    "    }\n",
    "}"
   ]
  },
  {
   "cell_type": "markdown",
   "metadata": {},
   "source": [
    "    if (count.get(tree[i]) == 0) count.remove(tree[i]); -> count.remove(tree[i], 0);"
   ]
  },
  {
   "cell_type": "code",
   "execution_count": null,
   "metadata": {},
   "outputs": [],
   "source": []
  }
 ],
 "metadata": {
  "kernelspec": {
   "display_name": "Java",
   "language": "java",
   "name": "java"
  },
  "language_info": {
   "codemirror_mode": "java",
   "file_extension": ".jshell",
   "mimetype": "text/x-java-source",
   "name": "Java",
   "pygments_lexer": "java",
   "version": "15.0.1+9-18"
  }
 },
 "nbformat": 4,
 "nbformat_minor": 4
}
