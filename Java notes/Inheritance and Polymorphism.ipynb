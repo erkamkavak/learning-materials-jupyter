{
 "cells": [
  {
   "cell_type": "markdown",
   "metadata": {},
   "source": [
    "    In the Java language, classes can be derived from other classes, thereby inheriting fields and methods from those classes.\n",
    "\n",
    "    Excepting Object, which has no superclass, every class has one and only one direct superclass (single inheritance). In the absence of any other explicit superclass, every class is implicitly a subclass of Object.(her class'ın sadece bir tane superclass'ı olur ve Object class'ı dışında her class'ın superclass'ı vardır. Direk olarak oluşturduğumuz class'ların superclass'ı da Object class'ıdır.\n",
    "    \n",
    "    Classes can be derived from classes that are derived from classes that are derived from classes, and so on, and ultimately derived from the topmost class, Object. Such a class is said to be descended from all the classes in the inheritance chain stretching back to Object."
   ]
  },
  {
   "cell_type": "markdown",
   "metadata": {},
   "source": [
    "    Bir class'ın child'ını extends keywordu ile oluşturabiliriz. "
   ]
  },
  {
   "cell_type": "code",
   "execution_count": 2,
   "metadata": {},
   "outputs": [],
   "source": [
    "class Shape {\n",
    " \n",
    "  // Shape class members\n",
    " \n",
    "}\n",
    "\n",
    "//triangle class'ını shape class'ının bir child'ı olarak oluşturduk.\n",
    "class Triangle extends Shape {\n",
    " \n",
    "  // additional Triangle class members\n",
    " \n",
    "}"
   ]
  },
  {
   "cell_type": "markdown",
   "metadata": {},
   "source": [
    "    A subclass inherits all the members (fields, methods, and nested classes) from its superclass. Constructors are not members, so they are not inherited by subclasses, but the constructor of the superclass can be invoked from the subclass."
   ]
  },
  {
   "cell_type": "markdown",
   "metadata": {},
   "source": [
    "    Child class'ın constructor'ında ana class'ın constructor'ını çağırmak istiyorsak super methodunu kullanabiliriz. super methodu girilen parametreler ile ana class'ın constructor'ını çağırır. super methodundan sonra child class'a özel olan özellikleri belirtebiliriz. \n",
    "    \n",
    "    İstersek super methodu olmayan bir constructor da yazabiliriz. Ancak bu durumda java kendisi gizli olarak super methodunu hiç parametre koymadan çağıracaktır.(super methodu olmayan constructor yazarken dikkat etmeliyiz çünkü super methoduna hiç parametre girilmediğinden ana class'ın da hiç parametre almayan bir constructor'ının olması gerekir.)\n",
    "    Object class'ının parametresiz bir constructor'ı vardır. Bu nedenle eğer ana class Object class'ı ise sıkıntı çıkmaz. "
   ]
  },
  {
   "cell_type": "code",
   "execution_count": 10,
   "metadata": {},
   "outputs": [
    {
     "name": "stdout",
     "output_type": "stream",
     "text": [
      "3\n",
      "3\n"
     ]
    }
   ],
   "source": [
    "class Shape{\n",
    "    public int sides; \n",
    "    \n",
    "    public Shape(){\n",
    "        this.sides = 0;\n",
    "    }\n",
    "    \n",
    "    public Shape(int numOfSides){\n",
    "        this.sides = numOfSides;\n",
    "    }\n",
    "    \n",
    "}\n",
    "\n",
    "class Triangle extends Shape{\n",
    "    public String color; \n",
    "    \n",
    "    Triangle(String color){\n",
    "        //Shape class'ının contructor'ını 3 parametresiyle çağırıyoruz.\n",
    "        super(3); //Bu method Shape(3) gibi çalışır. \n",
    "        this.color = color; \n",
    "    }\n",
    "    \n",
    "    //super methodu olmadan da constructor'ı yazabiliriz.\n",
    "    Triangle() {\n",
    "        //burda aslında gizli bir super() methodu var. Eğer ana class'ta Shape() şeklinde bir constructor olmasaydı hata verecekti.\n",
    "        this.sides = 3; \n",
    "    }\n",
    "\n",
    "}\n",
    "\n",
    "Triangle tri1 = new Triangle(\"black\"); \n",
    "Triangle tri2 = new Triangle();\n",
    "\n",
    "System.out.println(tri1.sides);\n",
    "System.out.println(tri2.sides);"
   ]
  },
  {
   "cell_type": "markdown",
   "metadata": {},
   "source": [
    "    An instance method in a subclass with the same signature (name, plus the number and the type of its parameters) and return type as an instance method in the superclass overrides the superclass's method.\n",
    "    The overriding method has the same name, number and type of parameters, and return type as the method that it overrides.\n",
    "    (overriding aynı methodu farklı nesneler için farklı şekillerde yapmamızı sağlar) \n",
    "    \n",
    "    When overriding a method, you might want to use the @Override annotation that instructs the compiler that you intend to override a method in the superclass. If, for some reason, the compiler detects that the method does not exist in one of the superclasses, then it will generate an error."
   ]
  },
  {
   "cell_type": "code",
   "execution_count": 25,
   "metadata": {},
   "outputs": [
    {
     "name": "stdout",
     "output_type": "stream",
     "text": [
      "Your account balance is $503.0\n",
      "Your checking account balance is $250.0\n"
     ]
    }
   ],
   "source": [
    "class BankAccount {\n",
    "  protected double balance;\n",
    " \n",
    "  public BankAccount(double balanceIn){\n",
    "    balance = balanceIn;\n",
    "  }\n",
    " \n",
    "  public void printBalance() {\n",
    "    System.out.println(\"Your account balance is $\" + balance);\n",
    "  }\n",
    "}\n",
    " \n",
    "class CheckingAccount extends BankAccount {\n",
    " \n",
    "  public CheckingAccount(double balance) {\n",
    "    super(balance);\n",
    "  }\n",
    " \n",
    "  @Override\n",
    "  public void printBalance() {\n",
    "    System.out.println(\"Your checking account balance is $\" + balance);\n",
    "  }\n",
    "}\n",
    "\n",
    "BankAccount acc1 = new BankAccount(503.0);\n",
    "acc1.printBalance();\n",
    "\n",
    "CheckingAccount acc2 = new CheckingAccount(250.0); \n",
    "acc2.printBalance();"
   ]
  },
  {
   "cell_type": "markdown",
   "metadata": {},
   "source": [
    "    The distinction between hiding a static method and overriding an instance method has important implications:\n",
    "\n",
    "    The version of the overridden instance method that gets invoked is the one in the subclass.\n",
    "    The version of the hidden static method that gets invoked depends on whether it is invoked from the superclass or the subclass.\n",
    "    "
   ]
  },
  {
   "cell_type": "code",
   "execution_count": 8,
   "metadata": {},
   "outputs": [
    {
     "name": "stdout",
     "output_type": "stream",
     "text": [
      "The static method in Animal\n",
      "The static method in Cat\n",
      "The instance method in Cat\n",
      "The instance method in Cat\n"
     ]
    }
   ],
   "source": [
    "public class Animal{\n",
    "    public static void testClassMethod() {\n",
    "        System.out.println(\"The static method in Animal\");\n",
    "    }\n",
    "    public void testInstanceMethod() {\n",
    "        System.out.println(\"The instance method in Animal\");\n",
    "    }    \n",
    "}\n",
    "\n",
    "public class Cat extends Animal{\n",
    "\n",
    "    public static void testClassMethod() {\n",
    "        System.out.println(\"The static method in Cat\");\n",
    "    }\n",
    "    public void testInstanceMethod() {\n",
    "        System.out.println(\"The instance method in Cat\");\n",
    "    }\n",
    "\n",
    "    public static void main(String[] args) {\n",
    "        Cat myCat = new Cat();\n",
    "        Animal myAnimal = myCat;\n",
    "        Animal.testClassMethod();\n",
    "        myAnimal.testInstanceMethod();\n",
    "    }\n",
    "\n",
    "}\n",
    "\n",
    "\n",
    "//Cat class'ı Animal class'ındaki instanceMethod'u override ederken static methodu gizler.\n",
    "//Animal class'ındaki static methodu hala çağırabilirken instanceMethodu Cat class'ından çağıramayız. \n",
    "Cat myCat = new Cat();\n",
    "Animal myAnimal = myCat;\n",
    "\n",
    "Animal.testClassMethod();\n",
    "Cat.testClassMethod(); \n",
    "\n",
    "myAnimal.testInstanceMethod();\n",
    "myCat.testInstanceMethod();"
   ]
  },
  {
   "cell_type": "markdown",
   "metadata": {},
   "source": [
    "    If your method overrides one of its superclass's methods, you can invoke the overridden method through the use of the keyword super. You can also use super to refer to a hidden field. \n",
    "    Ana class'ta ve child class'ta aynı isimde olan method varsa ana class'taki methodu super methoduyla çağırabiliriz. \n",
    "    \n",
    "    Yani aslında super keywordu ana class'ın this keywordu gibidir. super() ile ana class'ın constructor'ını, super.methodAdı ile de ana class'ın methodlarını çağırabiliriz. "
   ]
  },
  {
   "cell_type": "code",
   "execution_count": 5,
   "metadata": {},
   "outputs": [
    {
     "name": "stdout",
     "output_type": "stream",
     "text": [
      "Printed in Superclass.\n",
      "Printed in subclass\n"
     ]
    }
   ],
   "source": [
    "public class Superclass {\n",
    "\n",
    "    public void printMethod() {\n",
    "        System.out.println(\"Printed in Superclass.\");\n",
    "    }\n",
    "\n",
    "}\n",
    "\n",
    "public class Subclass extends Superclass{\n",
    "    \n",
    "    //Superclass'ındaki printMethod'u override ediyor. \n",
    "    public void printMethod(){\n",
    "        super.printMethod(); //burda Superclass'taki printMethod'unu çağırıyoruz. \n",
    "        System.out.println(\"Printed in subclass\");\n",
    "    }\n",
    "    \n",
    "}\n",
    "\n",
    "Subclass s = new Subclass();\n",
    "s.printMethod();"
   ]
  },
  {
   "cell_type": "markdown",
   "metadata": {},
   "source": [
    "    Bir methodun subclass'lar tarafından override edilmesini istiyorsak bunu final keywordunu kullanarak engelleyebiliriz. final keywordunu eklediğimiz method override edilmeye çalışılırsa hata verecektir. \n",
    "        \n",
    "    Methods called from constructors should generally be declared final. If a constructor calls a non-final method, a subclass may redefine that method with surprising or undesirable results.\n",
    "\n",
    "    Note that you can also declare an entire class final. A class that is declared final cannot be subclassed. This is particularly useful, for example, when creating an immutable class like the String class."
   ]
  },
  {
   "cell_type": "code",
   "execution_count": 1,
   "metadata": {},
   "outputs": [
    {
     "ename": "CompilationException",
     "evalue": "",
     "output_type": "error",
     "traceback": [
      "\u001b[1m\u001b[30m|   \u001b[1m\u001b[30m  \u001b[0m\u001b[1m\u001b[30m\u001b[41mpublic final void display() {\u001b[0m",
      "\u001b[1m\u001b[30m|   \u001b[1m\u001b[30m\u001b[41m    System.out.println(\"The final method is overridden.\");\u001b[0m",
      "\u001b[1m\u001b[30m|   \u001b[1m\u001b[30m\u001b[41m  }\u001b[0m",
      "\u001b[1m\u001b[31mdisplay() in Main cannot override display() in FinalDemo\u001b[0m",
      "\u001b[1m\u001b[31m  overridden method is final\u001b[0m",
      ""
     ]
    }
   ],
   "source": [
    "class FinalDemo {\n",
    "    public final void display() {\n",
    "      System.out.println(\"This is a final method.\");\n",
    "    }\n",
    "}\n",
    "\n",
    "class Main extends FinalDemo {\n",
    "  // If we try to override final method, we will get an error. \n",
    "  public final void display() {\n",
    "    System.out.println(\"The final method is overridden.\");\n",
    "  }\n",
    "\n",
    "  public static void main(String[] args) {\n",
    "    Main obj = new Main();\n",
    "    obj.display();\n",
    "  }\n",
    "}"
   ]
  },
  {
   "cell_type": "markdown",
   "metadata": {},
   "source": [
    "    Note that you can also declare an entire class final. A class that is declared final cannot be subclassed. This is particularly useful, for example, when creating an immutable class like the String class."
   ]
  },
  {
   "cell_type": "markdown",
   "metadata": {},
   "source": [
    "    A subclass does not inherit the private members of its parent class. However, if the superclass has public or protected methods for accessing its private fields, these can also be used by the subclass.\n",
    "    "
   ]
  },
  {
   "cell_type": "code",
   "execution_count": null,
   "metadata": {},
   "outputs": [],
   "source": []
  },
  {
   "cell_type": "markdown",
   "metadata": {},
   "source": [
    "## Polymorphism"
   ]
  },
  {
   "cell_type": "markdown",
   "metadata": {},
   "source": [
    "    In Java, if Orange is a Fruit through inheritance, you can then use Orange in the same contexts as Fruit.\n",
    "    \n",
    "    Java incorporates the object-oriented programming principle of polymorphism. Polymorphism, allows a child class to share the information and behavior of its parent class while also incorporating its own functionality.\n",
    "    \n",
    "    Note that the reverse situation is not true; you cannot use a generic parent class instance where a child class instance is required.\n",
    "    \n",
    "    (Polymorphism bir subclass'ın superclass'ının özelliklerini taşıdığını ve gerekirse superclass'ı gibi davranabileceğini gösterir.) "
   ]
  },
  {
   "cell_type": "code",
   "execution_count": 41,
   "metadata": {},
   "outputs": [
    {
     "name": "stdout",
     "output_type": "stream",
     "text": [
      "Apple juice and orange juice.\r\n"
     ]
    }
   ],
   "source": [
    "public class Fruit{\n",
    "    \n",
    "}\n",
    "public class Orange extends Fruit{\n",
    "    public String name = \"orange\"; \n",
    "    public String toString(){\n",
    "        return \"orange\";\n",
    "    }\n",
    "}\n",
    "\n",
    "//makeJuice methodu parametre olarak fruit almasına rağmen fruit'in subclass'ından oluşan bir instance'ı parametre olarak \n",
    "//girsek method çalışacaktır.\n",
    "String makeJuice(Fruit fruit) {\n",
    "    return \"Apple juice and \" + fruit + \" juice.\";\n",
    "}\n",
    " \n",
    "Orange orange = new Orange();\n",
    "System.out.println(makeJuice(orange));"
   ]
  },
  {
   "cell_type": "markdown",
   "metadata": {},
   "source": [
    "    Casting shows the use of an object of one type in place of another type, among the objects permitted by inheritance and implementations. For example, if we write\n",
    "\n",
    "    Object obj = new MountainBike();\n",
    "    then obj is both an Object and a MountainBike (until such time as obj is assigned another object that is not a MountainBike). This is called implicit casting.\n",
    "    \n",
    "    If, on the other hand, we write\n",
    "\n",
    "    MountainBike myBike = obj;\n",
    "    we would get a compile-time error because obj is not known to the compiler to be a MountainBike. However, we can tell the compiler that we promise to assign a MountainBike to obj by explicit casting:\n",
    "\n",
    "    MountainBike myBike = (MountainBike)obj;"
   ]
  },
  {
   "cell_type": "code",
   "execution_count": 33,
   "metadata": {},
   "outputs": [
    {
     "name": "stdout",
     "output_type": "stream",
     "text": [
      "Your checking account balance is $600.0\r\n"
     ]
    },
    {
     "ename": "CompilationException",
     "evalue": "",
     "output_type": "error",
     "traceback": [
      "\u001b[1m\u001b[30m|   \u001b[1m\u001b[30m\u001b[0m\u001b[1m\u001b[30m\u001b[41mmyAcc.addDeposit\u001b[0m\u001b[1m\u001b[30m(150);\u001b[0m",
      "\u001b[1m\u001b[31mcannot find symbol\u001b[0m",
      "\u001b[1m\u001b[31m  symbol:   method addDeposit(int)\u001b[0m",
      ""
     ]
    }
   ],
   "source": [
    "class BankAccount {\n",
    "  protected double balance;\n",
    " \n",
    "  public BankAccount(double balanceIn){\n",
    "    balance = balanceIn;\n",
    "  }\n",
    " \n",
    "  public void printBalance() {\n",
    "    System.out.println(\"Your account balance is $\" + balance);\n",
    "  }\n",
    "}\n",
    " \n",
    "class CheckingAccount extends BankAccount {\n",
    " \n",
    "  public CheckingAccount(double balance) {\n",
    "    super(balance);\n",
    "  }\n",
    " \n",
    "  @Override\n",
    "  public void printBalance() {\n",
    "    System.out.println(\"Your checking account balance is $\" + balance);\n",
    "  }\n",
    "  \n",
    "  public void addDeposit(int amountToAdd){\n",
    "      this.balance += amountToAdd;\n",
    "  }\n",
    "}\n",
    "\n",
    "//Bank account olarak tanımladığımız myAcc'ı CheckingAccouont olarak instantiate edebiliriz. \n",
    "BankAccount myAcc = new CheckingAccount(600.00);\n",
    "\n",
    "//Bu şekilde tanımladığımız myAcc'te printBalance methodunu çalıştırdığımız zaman checking accounta özel olan method çalışacaktır.\n",
    "myAcc.printBalance();\n",
    "//Bunun nedeni method overriding'in runtime'da halledilmesidir.(runtime'da myAcc checkingAccount olarak görülür)\n",
    "\n",
    "//Ancak myAcc üzerinden sadece checkingAccount'da bulunan bir methodu çalıştırmaya çalışsak hata verir.\n",
    "myAcc.addDeposit(150);\n",
    "//Bunun nedeni runtime'a gelene kadar myAcc'ın BankAccount olarak görülmesidir. Yani java myAcc'ı runtime'a kadar BankAccount\n",
    "//olarak görürken (runtime'a gelirse)runtime'da checkingAccount olarak görür) \n"
   ]
  },
  {
   "cell_type": "code",
   "execution_count": 40,
   "metadata": {},
   "outputs": [
    {
     "name": "stdout",
     "output_type": "stream",
     "text": [
      "[10, erkam, 150.0]\n",
      "10\n",
      "erkam\n",
      "150.0\n"
     ]
    }
   ],
   "source": [
    "Object myInteger, myString, myDouble;\n",
    "\n",
    "myInteger = 10;\n",
    "myString = \"erkam\"; \n",
    "myDouble = 150.0;\n",
    "\n",
    "Object[] objects = {myInteger, myString, myDouble};\n",
    "\n",
    "System.out.println(Arrays.toString(objects));\n",
    "\n",
    "for(Object obj : objects){\n",
    "    System.out.println(obj.toString());\n",
    "}\n",
    "//javada bu şekilde farklı türdeki yapıları aynı arrayde bulundurabiliriz.\n",
    "\n",
    "\n",
    "/*\n",
    "Bir başka örnek\n",
    "\n",
    "Monster dracula, wolfman, zombie1;\n",
    " \n",
    "dracula = new Vampire();\n",
    "wolfman = new Werewolf();\n",
    "zombie1 = new Zombie();\n",
    " \n",
    "Monster[] monsters = {dracula, wolfman, zombie1};\n",
    "\n",
    "for (Monster monster : monsters) {\n",
    " \n",
    "  monster.attack();\n",
    " \n",
    "}\n",
    "\n",
    "\n",
    "*/"
   ]
  },
  {
   "cell_type": "markdown",
   "metadata": {},
   "source": [
    "    The Object class, in the java.lang package, sits at the top of the class hierarchy tree. Every class is a descendant, direct or indirect, of the Object class. Every class you use or write inherits the instance methods of Object.\n",
    "    \n",
    "    \n",
    "    protected Object clone() throws CloneNotSupportedException\n",
    "      Creates and returns a copy of this object.\n",
    "\n",
    "    public boolean equals(Object obj)\n",
    "        Indicates whether some other object is \"equal to\" this one.\n",
    "        The equals() method provided in the Object class uses the identity operator (==) to determine whether two objects are equal. For primitive data types, this gives the correct result. For objects, however, it does not.\n",
    "\n",
    "    \n",
    "    protected void finalize() throws Throwable\n",
    "          Called by the garbage collector on an object when garbage collection determines that there are no more references to the object\n",
    "\n",
    "    public final Class getClass()\n",
    "        Returns the runtime class of an object.\n",
    "        The getClass() method returns a Class object, which has methods you can use to get information about the class, such as its name (getSimpleName()), its superclass (getSuperclass()), and the interfaces it implements (getInterfaces()).\n",
    "    \n",
    "    \n",
    "    public int hashCode()\n",
    "          Returns a hash code value for the object. The value returned by hashCode() is the object's hash code, which is an integer value generated by a hashing algorithm.\n",
    "          By definition, if two objects are equal, their hash code must also be equal. If you override the equals() method, you change the way two objects are equated and Object's implementation of hashCode() is no longer valid. Therefore, if you override the equals() method, you must also override the hashCode() method as well.\n",
    "          \n",
    "    public String toString()\n",
    "          Returns a string representation of the object."
   ]
  },
  {
   "cell_type": "code",
   "execution_count": 5,
   "metadata": {},
   "outputs": [
    {
     "name": "stdout",
     "output_type": "stream",
     "text": [
      "class java.lang.String\n",
      "String\n",
      "class java.lang.Object\n",
      "[interface java.io.Serializable, interface java.lang.Comparable, interface java.lang.CharSequence, interface java.lang.constant.Constable, interface java.lang.constant.ConstantDesc]\n",
      "96777738\n",
      "true\n",
      "96777738\n"
     ]
    }
   ],
   "source": [
    "String example = \"erkam\"; \n",
    "\n",
    "System.out.println(example.getClass()); \n",
    "System.out.println(example.getClass().getSimpleName()); \n",
    "System.out.println(example.getClass().getSuperclass());\n",
    "System.out.println(Arrays.toString(example.getClass().getInterfaces() )); \n",
    "\n",
    "System.out.println(example.hashCode()); \n",
    "\n",
    "String example2 = \"erkam\"; \n",
    "//Eğer iki nesne default equals methoduyla aynı gözüküyorsa bu nesnelerin hash code'u da aynı olmak zorundadır. Yani mesela \n",
    "// stringlerin hashcode'ları karakterlerine göre belirlenir ve karakterler tamamen aynı ise hashcode'lar da aynı olur. \n",
    "System.out.println(example.equals(example2)); \n",
    "System.out.println(example2.hashCode()); "
   ]
  },
  {
   "cell_type": "code",
   "execution_count": 6,
   "metadata": {},
   "outputs": [
    {
     "name": "stdout",
     "output_type": "stream",
     "text": [
      "[public static final java.util.Comparator java.lang.String.CASE_INSENSITIVE_ORDER]\n",
      "[public boolean java.lang.String.equals(java.lang.Object), public int java.lang.String.length(), public java.lang.String java.lang.String.toString(), public int java.lang.String.hashCode(), public void java.lang.String.getChars(int,int,char[],int), public int java.lang.String.compareTo(java.lang.Object), public int java.lang.String.compareTo(java.lang.String), public int java.lang.String.indexOf(int,int), public int java.lang.String.indexOf(java.lang.String), public int java.lang.String.indexOf(java.lang.String,int), public int java.lang.String.indexOf(int), public static java.lang.String java.lang.String.valueOf(char[]), public static java.lang.String java.lang.String.valueOf(java.lang.Object), public static java.lang.String java.lang.String.valueOf(long), public static java.lang.String java.lang.String.valueOf(char[],int,int), public static java.lang.String java.lang.String.valueOf(int), public static java.lang.String java.lang.String.valueOf(char), public static java.lang.String java.lang.String.valueOf(double), public static java.lang.String java.lang.String.valueOf(float), public static java.lang.String java.lang.String.valueOf(boolean), public char java.lang.String.charAt(int), public int java.lang.String.codePointAt(int), public int java.lang.String.codePointBefore(int), public int java.lang.String.codePointCount(int,int), public int java.lang.String.offsetByCodePoints(int,int), public byte[] java.lang.String.getBytes(java.lang.String) throws java.io.UnsupportedEncodingException, public byte[] java.lang.String.getBytes(), public void java.lang.String.getBytes(int,int,byte[],int), public byte[] java.lang.String.getBytes(java.nio.charset.Charset), public boolean java.lang.String.contentEquals(java.lang.StringBuffer), public boolean java.lang.String.contentEquals(java.lang.CharSequence), public boolean java.lang.String.regionMatches(int,java.lang.String,int,int), public boolean java.lang.String.regionMatches(boolean,int,java.lang.String,int,int), public boolean java.lang.String.startsWith(java.lang.String,int), public boolean java.lang.String.startsWith(java.lang.String), public int java.lang.String.lastIndexOf(java.lang.String), public int java.lang.String.lastIndexOf(int), public int java.lang.String.lastIndexOf(int,int), public int java.lang.String.lastIndexOf(java.lang.String,int), public java.lang.String java.lang.String.substring(int,int), public java.lang.String java.lang.String.substring(int), public boolean java.lang.String.isEmpty(), public java.lang.String java.lang.String.replace(char,char), public java.lang.String java.lang.String.replace(java.lang.CharSequence,java.lang.CharSequence), public boolean java.lang.String.matches(java.lang.String), public java.lang.String java.lang.String.replaceFirst(java.lang.String,java.lang.String), public java.lang.String java.lang.String.replaceAll(java.lang.String,java.lang.String), public java.lang.String[] java.lang.String.split(java.lang.String,int), public java.lang.String[] java.lang.String.split(java.lang.String), public java.lang.String java.lang.String.toLowerCase(), public java.lang.String java.lang.String.toLowerCase(java.util.Locale), public java.lang.String java.lang.String.toUpperCase(), public java.lang.String java.lang.String.toUpperCase(java.util.Locale), public java.lang.String java.lang.String.trim(), public java.lang.String java.lang.String.strip(), public java.lang.String java.lang.String.stripLeading(), public java.lang.String java.lang.String.stripTrailing(), public java.util.stream.Stream java.lang.String.lines(), public java.lang.String java.lang.String.repeat(int), public boolean java.lang.String.isBlank(), public char[] java.lang.String.toCharArray(), public static java.lang.String java.lang.String.format(java.util.Locale,java.lang.String,java.lang.Object[]), public static java.lang.String java.lang.String.format(java.lang.String,java.lang.Object[]), public java.lang.String java.lang.String.resolveConstantDesc(java.lang.invoke.MethodHandles$Lookup), public java.lang.Object java.lang.String.resolveConstantDesc(java.lang.invoke.MethodHandles$Lookup) throws java.lang.ReflectiveOperationException, public java.util.stream.IntStream java.lang.String.codePoints(), public boolean java.lang.String.equalsIgnoreCase(java.lang.String), public int java.lang.String.compareToIgnoreCase(java.lang.String), public boolean java.lang.String.endsWith(java.lang.String), public java.lang.CharSequence java.lang.String.subSequence(int,int), public java.lang.String java.lang.String.concat(java.lang.String), public boolean java.lang.String.contains(java.lang.CharSequence), public static java.lang.String java.lang.String.join(java.lang.CharSequence,java.lang.CharSequence[]), public static java.lang.String java.lang.String.join(java.lang.CharSequence,java.lang.Iterable), public java.lang.String java.lang.String.indent(int), public java.lang.String java.lang.String.stripIndent(), public java.lang.String java.lang.String.translateEscapes(), public java.util.stream.IntStream java.lang.String.chars(), public java.lang.Object java.lang.String.transform(java.util.function.Function), public java.lang.String java.lang.String.formatted(java.lang.Object[]), public static java.lang.String java.lang.String.copyValueOf(char[],int,int), public static java.lang.String java.lang.String.copyValueOf(char[]), public native java.lang.String java.lang.String.intern(), public java.util.Optional java.lang.String.describeConstable(), public final void java.lang.Object.wait(long,int) throws java.lang.InterruptedException, public final void java.lang.Object.wait() throws java.lang.InterruptedException, public final native void java.lang.Object.wait(long) throws java.lang.InterruptedException, public final native java.lang.Class java.lang.Object.getClass(), public final native void java.lang.Object.notify(), public final native void java.lang.Object.notifyAll()]\n"
     ]
    }
   ],
   "source": [
    "String example = \"erkam\"; \n",
    "\n",
    "System.out.println(Arrays.toString(example.getClass().getFields())); \n",
    "\n",
    "//Bir class'ın methodlarını getMethods methoduyla öğrenebiliriz.\n",
    "System.out.println(Arrays.toString(example.getClass().getMethods())); "
   ]
  },
  {
   "cell_type": "code",
   "execution_count": null,
   "metadata": {},
   "outputs": [],
   "source": []
  }
 ],
 "metadata": {
  "kernelspec": {
   "display_name": "Java",
   "language": "java",
   "name": "java"
  },
  "language_info": {
   "codemirror_mode": "java",
   "file_extension": ".jshell",
   "mimetype": "text/x-java-source",
   "name": "Java",
   "pygments_lexer": "java",
   "version": "15.0.1+9-18"
  }
 },
 "nbformat": 4,
 "nbformat_minor": 4
}
