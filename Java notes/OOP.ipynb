{
 "cells": [
  {
   "cell_type": "markdown",
   "metadata": {},
   "source": [
    "    Classes are the things we are telling the language what our new data type looks like but we cannot use a class as a data. We need objects(instances of classes) to use these classes as real things. \n",
    "\n",
    "    Classes are a blueprint for objects. Blueprints detail the general structure. For example, all students have an ID, all courses can enroll a student, etc.\n",
    "\n",
    "    An instance is the thing itself. This student has an ID of 42, this course enrolled that student, etc."
   ]
  },
  {
   "cell_type": "markdown",
   "metadata": {},
   "source": [
    "Class declaration \n",
    "\n",
    "sample code for a possible implementation of a Bicycle class"
   ]
  },
  {
   "cell_type": "code",
   "execution_count": 1,
   "metadata": {},
   "outputs": [],
   "source": [
    "public class Bicycle {\n",
    "        \n",
    "    // the Bicycle class has\n",
    "    // three fields\n",
    "    public int cadence;\n",
    "    public int gear;\n",
    "    public int speed;\n",
    "        \n",
    "    // the Bicycle class has\n",
    "    // one constructor\n",
    "    public Bicycle(int startCadence, int startSpeed, int startGear) {\n",
    "        gear = startGear;\n",
    "        cadence = startCadence;\n",
    "        speed = startSpeed;\n",
    "    }\n",
    "        \n",
    "    // the Bicycle class has\n",
    "    // four methods\n",
    "    public void setCadence(int newValue) {\n",
    "        cadence = newValue;\n",
    "    }\n",
    "        \n",
    "    public void setGear(int newValue) {\n",
    "        gear = newValue;\n",
    "    }\n",
    "        \n",
    "    public void applyBrake(int decrement) {\n",
    "        speed -= decrement;\n",
    "    }\n",
    "        \n",
    "    public void speedUp(int increment) {\n",
    "        speed += increment;\n",
    "    }\n",
    "        \n",
    "}"
   ]
  },
  {
   "cell_type": "markdown",
   "metadata": {},
   "source": [
    "A class declaration for a MountainBike class that is a subclass of Bicycle might look like this:\n",
    "\n",
    "(MountainBike inherits all the fields and methods of Bicycle and adds the field seatHeight and a method to set it )"
   ]
  },
  {
   "cell_type": "code",
   "execution_count": 2,
   "metadata": {},
   "outputs": [],
   "source": [
    "public class MountainBike extends Bicycle {\n",
    "        \n",
    "    // the MountainBike subclass has\n",
    "    // one field\n",
    "    public int seatHeight;\n",
    "\n",
    "    // the MountainBike subclass has\n",
    "    // one constructor\n",
    "    public MountainBike(int startHeight, int startCadence,\n",
    "                        int startSpeed, int startGear) {\n",
    "        super(startCadence, startSpeed, startGear);\n",
    "        seatHeight = startHeight;\n",
    "    }   \n",
    "        \n",
    "    // the MountainBike subclass has\n",
    "    // one method\n",
    "    public void setHeight(int newValue) {\n",
    "        seatHeight = newValue;\n",
    "    }   \n",
    "\n",
    "}"
   ]
  },
  {
   "cell_type": "markdown",
   "metadata": {},
   "source": [
    "    In general, class declarations can include these components, in order:\n",
    "\n",
    "    Modifiers such as public, private, and a number of others that you will encounter later.\n",
    "    The class name, with the initial letter capitalized by convention.\n",
    "    The name of the class's parent (superclass), if any, preceded by the keyword extends. A class can only extend (subclass) one parent.\n",
    "    A comma-separated list of interfaces implemented by the class, if any, preceded by the keyword implements. A class can implement more than one interface.\n",
    "    The class body, surrounded by braces, {}."
   ]
  },
  {
   "cell_type": "markdown",
   "metadata": {},
   "source": [
    "### Access Modifiers\n",
    "\n",
    "    The first (left-most) modifier used lets you control what other classes have access to a member field. For the moment, consider only public and private.\n",
    "\n",
    "    public modifier—the field is accessible from all classes.\n",
    "\n",
    "    private modifier—the field is accessible only within its own class.\n",
    "\n",
    "    In the spirit of encapsulation, it is common to make fields private. This means that they can only be directly accessed from the Bicycle class. We still need access to these values, however. This can be done indirectly by adding public methods that obtain the field values for us:"
   ]
  },
  {
   "cell_type": "code",
   "execution_count": 3,
   "metadata": {},
   "outputs": [],
   "source": [
    "private int cadence;\n",
    "private int gear;\n",
    "private int speed;\n",
    "\n",
    "public int getCadence() {\n",
    "    return cadence;\n",
    "}\n",
    "\n",
    "public void setCadence(int newValue) {\n",
    "    cadence = newValue;\n",
    "}\n",
    "\n",
    "public int getGear() {\n",
    "    return gear;\n",
    "}\n",
    "\n",
    "public void setGear(int newValue) {\n",
    "    gear = newValue;\n",
    "}\n",
    "\n",
    "public int getSpeed() {\n",
    "    return speed;\n",
    "}"
   ]
  },
  {
   "cell_type": "markdown",
   "metadata": {},
   "source": [
    "### Overloading Methods\n",
    "\n",
    "The Java programming language supports overloading methods, and Java can distinguish between methods with different method signatures. This means that methods within a class can have the same name if they have different parameter lists.\n",
    "\n",
    "    public void draw(String s) {\n",
    "        ...\n",
    "    }\n",
    "    public void draw(int i) {\n",
    "        ...\n",
    "    }\n",
    "    public void draw(double f) {\n",
    "        ...\n",
    "    }\n",
    "    public void draw(int i, double f) {\n",
    "        ...\n",
    "    }\n",
    "    \n",
    "You cannot declare more than one method with the same name and the same number and type of arguments, because the compiler cannot tell them apart.    "
   ]
  },
  {
   "cell_type": "markdown",
   "metadata": {},
   "source": [
    "### Constructors\n",
    "    A class contains constructors that are invoked to create objects from the class blueprint. Constructor declarations look like method declarations—except that they use the name of the class and have no return type. For example, Bicycle has one constructor:\n",
    "    \n",
    "    public Bicycle(int startCadence, int startSpeed, int startGear) {\n",
    "        gear = startGear;\n",
    "        cadence = startCadence;\n",
    "        speed = startSpeed;\n",
    "    }\n",
    "\n",
    "    To create a new Bicycle object called myBike, a constructor is called by the new operator inside main:\n",
    "\n",
    "    Bicycle myBike = new Bicycle(30, 0, 8);\n",
    "    new Bicycle(30, 0, 8) creates space in memory for the object and initializes its fields.\n"
   ]
  },
  {
   "cell_type": "markdown",
   "metadata": {},
   "source": [
    "    The code in the constructor method will run whenever we create an instance of that class. "
   ]
  },
  {
   "cell_type": "code",
   "execution_count": 2,
   "metadata": {},
   "outputs": [
    {
     "name": "stdout",
     "output_type": "stream",
     "text": [
      "I am inside the constructor method.\r\n"
     ]
    }
   ],
   "source": [
    "public class Store {\n",
    "    // constructor method\n",
    "  public Store() {\n",
    "    System.out.println(\"I am inside the constructor method.\");\n",
    "  }\n",
    "}\n",
    "\n",
    "Store store1 = new Store();"
   ]
  },
  {
   "cell_type": "markdown",
   "metadata": {},
   "source": [
    "    We can create instance fields or instance variables of our class at the top of our class. In the constructor method, we can give initial values to these instance fields.  "
   ]
  },
  {
   "cell_type": "code",
   "execution_count": null,
   "metadata": {},
   "outputs": [],
   "source": [
    "public class Store {\n",
    "  // declare instance fields here!\n",
    "  String productType;\n",
    "  \n",
    "  // constructor method\n",
    "  public Store() {\n",
    "    \n",
    "    }\n",
    "}"
   ]
  },
  {
   "cell_type": "markdown",
   "metadata": {},
   "source": [
    "    Although Bicycle only has one constructor, it could have others, including a no-argument constructor(because of constructor overloading, a class can have multiple constructors as long as they have different parameter values):"
   ]
  },
  {
   "cell_type": "code",
   "execution_count": 8,
   "metadata": {},
   "outputs": [
    {
     "name": "stdout",
     "output_type": "stream",
     "text": [
      "true\n",
      "null\n",
      "50\n",
      "false\n"
     ]
    }
   ],
   "source": [
    "public class Car {\n",
    "  String color;\n",
    "  int mpg;\n",
    "  boolean isElectric;\n",
    " \n",
    "  // constructor 1\n",
    "  public Car(String carColor, int milesPerGallon) {\n",
    "    color = carColor;\n",
    "    mpg = milesPerGallon;\n",
    "  }\n",
    "  \n",
    "  // constructor 2\n",
    "  public Car(boolean electricCar, int milesPerGallon) {\n",
    "    isElectric = electricCar;\n",
    "    mpg = milesPerGallon;\n",
    "  }\n",
    "}\n",
    "\n",
    "Car firstCar = new Car(true, 40); //will be created by second constructor\n",
    "Car secondCar = new Car(\"red\", 50); //will be created by first constuctor\n",
    "\n",
    "System.out.println(firstCar.isElectric);\n",
    "System.out.println(firstCar.color);\n",
    "\n",
    "System.out.println(secondCar.mpg);\n",
    "System.out.println(secondCar.isElectric);"
   ]
  },
  {
   "cell_type": "markdown",
   "metadata": {},
   "source": [
    "    If we do not define a constructor, the Java compiler will generate a default constructor that contains no arguments and assigns the object default values. Default values can be created by assigning values to the instance fields during their declaration:"
   ]
  },
  {
   "cell_type": "code",
   "execution_count": 11,
   "metadata": {},
   "outputs": [
    {
     "name": "stdout",
     "output_type": "stream",
     "text": [
      "red\r\n"
     ]
    }
   ],
   "source": [
    "public class Car {\n",
    "  String color = \"red\";\n",
    "  boolean isElectric = false;\n",
    "  int cupHolders = 4;\n",
    "}\n",
    "\n",
    "Car myCar = new Car();\n",
    "System.out.println(myCar.color);"
   ]
  },
  {
   "cell_type": "markdown",
   "metadata": {},
   "source": [
    "    Inside the class we can define methods that are useful for the class. \n",
    "    \n",
    "    "
   ]
  },
  {
   "cell_type": "markdown",
   "metadata": {},
   "source": [
    "    When we create and try to print a class instance it will print the id of the class which we dont understand much. \n",
    "    To make class more clear for others, we can define toString method which will work whenever this class is printed. \n",
    "    toString method is a feature of Java and when we define it, it automatically passes as a print statement. "
   ]
  },
  {
   "cell_type": "code",
   "execution_count": 15,
   "metadata": {},
   "outputs": [
    {
     "name": "stdout",
     "output_type": "stream",
     "text": [
      "This store sells Car at a price of 150000.\r\n"
     ]
    }
   ],
   "source": [
    "public class Store {\n",
    "  // instance fields\n",
    "  String productType;\n",
    "  int price;\n",
    "  \n",
    "  // constructor method\n",
    "  public Store(String product, int initialPrice) {\n",
    "    productType = product;\n",
    "    price = initialPrice;\n",
    "  }\n",
    "  \n",
    "  public String toString(){\n",
    "    return \"This store sells \" + productType + \" at a price of \" + price + \".\";\n",
    "  }\n",
    "}\n",
    "\n",
    "Store myStore = new Store(\"Car\", 150000);\n",
    "System.out.println(myStore);"
   ]
  },
  {
   "cell_type": "markdown",
   "metadata": {},
   "source": [
    "    You can also create an object of a class and access it in another class. This is often used for better organization of classes (one class has all the attributes and methods, while the other class holds the main() method (code to be executed)).\n",
    "\n",
    "    Remember that the name of the java file should match the class name. In this example, we have created two files in the same directory/folder:\n",
    "\n",
    "    Main.java\n",
    "    Second.java"
   ]
  },
  {
   "cell_type": "code",
   "execution_count": 17,
   "metadata": {},
   "outputs": [
    {
     "name": "stdout",
     "output_type": "stream",
     "text": [
      "5\r\n"
     ]
    }
   ],
   "source": [
    "//Main.java\n",
    "public class Main {\n",
    "  int x = 5;\n",
    "}\n",
    "\n",
    "//Second.java\n",
    "class Second {\n",
    "  public static void main(String[] args) {\n",
    "    Main myObj = new Main();\n",
    "    System.out.println(myObj.x);\n",
    "  }  \n",
    "}"
   ]
  },
  {
   "attachments": {
    "image.png": {
     "image/png": "[encoded data removed]"
    }
   },
   "cell_type": "markdown",
   "metadata": {},
   "source": [
    "    public keywordu kullanıldığı variable'ın diğer package'lara ve dosyalara açık olmasını sağlar. Eğer public keywordu kullanılmazsa variable diğer package'lar tarafından ulaşılmaz olurken aynı package'dakiler tarafından ulaşılabilir. Ancak eğer private keywordu kullanılırsa variable aynı package'dakiler tarafından da ulaşılmaz olur(sadece aynı class'takiler ulaşabilir). \n",
    "    \n",
    "    A class or variable may be declared with the modifier public, in which case that class is visible to all classes everywhere. If a class has no modifier (the default, also known as package-private), it is visible only within its own package.\n",
    "    The private modifier specifies that the member can only be accessed in its own class. \n",
    "    The protected modifier specifies that the member can only be accessed within its own package (as with package-private) and, in addition, by a subclass of its class in another package.\n",
    "    \n",
    "![image.png](attachment:image.png)"
   ]
  },
  {
   "cell_type": "markdown",
   "metadata": {},
   "source": [
    "    When writing classes, we often make all of our instance variables private. However, we still might want some other classes to have access to them. \n",
    "\n",
    "    To give other classes access to a private instance variable, we would write an accessor method (sometimes also known as a “getter” method)."
   ]
  },
  {
   "cell_type": "code",
   "execution_count": 7,
   "metadata": {},
   "outputs": [],
   "source": [
    "public class Dog{\n",
    "  private String name;\n",
    " \n",
    " \n",
    "  public String getName() {\n",
    "    return name;\n",
    "  }\n",
    "}\n",
    "\n",
    "//Even though the instance variable name is private, other classes could call the public method getName() which returns the \n",
    "//value of that instance variable."
   ]
  },
  {
   "cell_type": "markdown",
   "metadata": {},
   "source": [
    "    Similarly, private instance variables often have mutator methods (sometimes known as “setters”). Mutator methods, or “setters”, often are void methods — they don’t return anything, they just reset the value of an existing variable."
   ]
  },
  {
   "cell_type": "code",
   "execution_count": 8,
   "metadata": {},
   "outputs": [],
   "source": [
    "public class Dog{\n",
    "  private String name;\n",
    " \n",
    "  //Other methods and constructors\n",
    " \n",
    "  public void setName(String newName) {\n",
    "    name = newName;\n",
    "  }\n",
    "}"
   ]
  },
  {
   "cell_type": "markdown",
   "metadata": {},
   "source": [
    "    Within an instance method or a constructor, this is a reference to the current object — the object whose method or constructor is being called. You can refer to any member of the current object from within an instance method or a constructor by using this.\n",
    "    \n",
    "    The most common reason for using the this keyword is because a field is shadowed by a method or constructor parameter.\n",
    "    "
   ]
  },
  {
   "cell_type": "code",
   "execution_count": 9,
   "metadata": {},
   "outputs": [],
   "source": [
    "//For example, the Point class was written like this\n",
    "\n",
    "public class Point {\n",
    "    public int x = 0;\n",
    "    public int y = 0;\n",
    "        \n",
    "    public Point(int a, int b) {\n",
    "        x = a;\n",
    "        y = b;\n",
    "    }\n",
    "}\n",
    "\n",
    "//but it could have been written like this:\n",
    "\n",
    "public class Point {\n",
    "    public int x = 0;\n",
    "    public int y = 0;\n",
    "    \n",
    "    public Point(int x, int y) {\n",
    "        this.x = x;\n",
    "        this.y = y;\n",
    "    }\n",
    "}"
   ]
  },
  {
   "cell_type": "code",
   "execution_count": 10,
   "metadata": {},
   "outputs": [],
   "source": [
    "public class Computer{\n",
    "  public int brightness;\n",
    "  public int volume;\n",
    " \n",
    "  public void setBrightness(int inputBrightness){\n",
    "    this.brightness = inputBrightness;\n",
    "  }\n",
    " \n",
    "  //We can also call methods with this keyword. \n",
    "  public void resetSettings(){\n",
    "    this.setBrightness(0);\n",
    "  }\n",
    "}"
   ]
  },
  {
   "cell_type": "markdown",
   "metadata": {},
   "source": [
    "    this can be used as a value for a parameter. Let’s say a method exists that takes a Computer as a parameter (that method’s signature might be something like public void pairWithOtherComputer(Computer other). If you’re writing another method of the Computer, and want to call the pairWithOtherComputer() method, you could use this as the parameter. That call might look something like this.pairWithOtherComputer(this). You’re using the current object to call the method and are passing that object as that method’s parameter.\n",
    "\n",
    "    public void pairWithOtherComputer(Computer other){\n",
    "      // Code for method that uses the parameter other\n",
    "    }\n",
    "\n",
    "    public void setUpConnection(){\n",
    "      // We use \"this\" to call the method and also pass \"this\" to the method so it can be used in that method\n",
    "      this.pairWithOtherComputer(this);\n",
    "    }"
   ]
  },
  {
   "cell_type": "markdown",
   "metadata": {},
   "source": [
    "    From within a constructor, you can also use the this keyword to call another constructor in the same class."
   ]
  },
  {
   "cell_type": "code",
   "execution_count": 11,
   "metadata": {},
   "outputs": [
    {
     "name": "stdout",
     "output_type": "stream",
     "text": [
      "1\n",
      "50\n",
      "0\n"
     ]
    }
   ],
   "source": [
    "public class Rectangle {\n",
    "    public int x, y;\n",
    "    public int width, height;\n",
    "        \n",
    "    public Rectangle() {\n",
    "        //eğer hiçbir parameter girilmediyse default parametreler ile iki alttaki constructor methodunu çalıştırır. \n",
    "        this(0, 0, 1, 1);\n",
    "    }\n",
    "    public Rectangle(int width, int height) {\n",
    "        //yine aynı şekilde x ve y değerleri için default değerleri girer ve alttaki constructor methodunu çalıştırır. \n",
    "        this(0, 0, width, height);\n",
    "    }\n",
    "    public Rectangle(int x, int y, int width, int height) {\n",
    "        this.x = x;\n",
    "        this.y = y;\n",
    "        this.width = width;\n",
    "        this.height = height;\n",
    "    }\n",
    "}\n",
    "\n",
    "Rectangle first = new Rectangle(); \n",
    "System.out.println(first.width);\n",
    "\n",
    "Rectangle second = new Rectangle(50, 70); \n",
    "System.out.println(second.width);\n",
    "System.out.println(second.x);\n",
    "\n",
    "Rectangle third = new Rectangle(35, 35, 15, 15); \n"
   ]
  },
  {
   "cell_type": "markdown",
   "metadata": {},
   "source": [
    "    This keywordunu kullanarak class içinde instance'ın direkt kendisini de çağırabiliriz.  "
   ]
  },
  {
   "cell_type": "code",
   "execution_count": 13,
   "metadata": {},
   "outputs": [
    {
     "name": "stdout",
     "output_type": "stream",
     "text": [
      "This is p1 with the weight of 100.0\r\n"
     ]
    }
   ],
   "source": [
    "public class Product {\n",
    "    private String name; \n",
    "    private double weight;\n",
    "\n",
    "    static int amount; \n",
    "\n",
    "    public Product(String name, double weight) {\n",
    "        this.name = name; \n",
    "        this.weight = weight; \n",
    "        amount += 1; \n",
    "    }\n",
    "\n",
    "    public String toString() {\n",
    "        return \"This is \" + this.name + \" with the weight of \" + this.weight;  \n",
    "    }\n",
    "\n",
    "    public void printYourself() {\n",
    "        //direk o anki instance'ı this keywordu ile aktarabilirim.\n",
    "        System.out.println(this);\n",
    "    }\n",
    "}\n",
    "\n",
    "Product p1 = new Product(\"p1\", 100); \n",
    "p1.printYourself(); "
   ]
  },
  {
   "cell_type": "markdown",
   "metadata": {},
   "source": [
    "    Javada bir class'tan iki farklı instance oluşturduğumuzda java bu instance'ları farklı bir memory'de kaydedecektir. Aynı şekilde eğer bu iki instance'ı eşitliğini sorgularsak tüm özellikleri aynı olsa bile memory'de farklı yerlerde durduklarından dolayı java false döndürecektir. Bu sorunu equals methodu ile çözebiliriz. \n",
    "\n",
    "    equals methodu iki farklı instance'ı karşılaştırmayı sağlayan methoddur. Class içinde yazılan equals methodu parametre olarak bir object alır ve bu object'in o anki class instance'ına eşit olup olmadığına bakar. Eşitliği gerektiren özellikleri biz belirtebiliriz. "
   ]
  },
  {
   "cell_type": "code",
   "execution_count": 10,
   "metadata": {},
   "outputs": [
    {
     "name": "stdout",
     "output_type": "stream",
     "text": [
      "false\n",
      "true\n",
      "true\n"
     ]
    }
   ],
   "source": [
    "public class Point {\n",
    "    public int x, y; \n",
    "    \n",
    "\n",
    "    public Point(int x, int y){\n",
    "        this.x = x; \n",
    "        this.y = y;\n",
    "    }\n",
    "\n",
    "\n",
    "    //kullanıcı point dışında bir class türü belirtebileceği için tüm durumlara hazırlıklı olmak için parametreyi object     \n",
    "    //türünde alıyoruz. \n",
    "    public boolean equals(Object o) {\n",
    "        //ilk önce türlerin aynı olup olmadığına bakıyoruz.\n",
    "        if (o instanceof Point) {\n",
    "            Point other = (Point) o;\n",
    "            //daha sonra  instance'ların özelliklerinin aynı olup olmadığına bakıyoruz. \n",
    "            return x == other.x && y == other.y;\n",
    "        } else {\n",
    "            return false;\n",
    "        }\n",
    "    }\n",
    "}\n",
    "\n",
    "Point p1 = new Point(10, 5); \n",
    "Point p2 = new Point(10, 5);\n",
    "Point p3 = p1; \n",
    "\n",
    "//memory'de farklı yerlerde tutulduklarından (tüm parametreler aynı olsa dahi) false cevabını verecektir. \n",
    "System.out.println(p1 == p2);\n",
    "\n",
    "//memory'de aynı yerlerde tutulduklarından true cevabını verir. \n",
    "System.out.println(p1 == p3);\n",
    "\n",
    "//equals methodu ile instance'ları özelliklerine göre eşitliklerine bakabiliriz. \n",
    "System.out.println(p1.equals(p2));"
   ]
  },
  {
   "cell_type": "markdown",
   "metadata": {},
   "source": [
    "     instanceof methodu bir instance'ın bir class'a ait olup olmadığına bakmamızı sağlar. "
   ]
  }
 ],
 "metadata": {
  "kernelspec": {
   "display_name": "Java",
   "language": "java",
   "name": "java"
  },
  "language_info": {
   "codemirror_mode": "java",
   "file_extension": ".jshell",
   "mimetype": "text/x-java-source",
   "name": "Java",
   "pygments_lexer": "java",
   "version": "15.0.1+9-18"
  }
 },
 "nbformat": 4,
 "nbformat_minor": 4
}
