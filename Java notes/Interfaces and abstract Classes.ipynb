{
 "cells": [
  {
   "cell_type": "markdown",
   "metadata": {},
   "source": [
    "    There are a number of situations in software engineering when it is important for disparate groups of programmers to agree to a \"contract\" that spells out how their software interacts. Each group should be able to write their code without any knowledge of how the other group's code is written. Generally speaking, interfaces are such contracts."
   ]
  },
  {
   "cell_type": "markdown",
   "metadata": {},
   "source": [
    "    Interface is the definition of a modular code that describes how that code will interact with other code portions\n",
    "    \n",
    "    In the Java programming language, an interface is a reference type, similar to a class, that can contain only constants, method signatures(abstract methods), default methods, static methods, and nested types. Method bodies exist only for default methods and static methods. Interfaces cannot be instantiated—they can only be implemented by classes or extended by other interfaces.\n",
    "    \n",
    "    All abstract, default, and static methods in an interface are implicitly public, so you can omit the public modifier.\n",
    "    All constant values defined in an interface are implicitly public, static, and final. Once again, you can omit these modifiers.\n",
    "\n",
    "    Interface'ler sadece method adlarının olduğu ve method implementationlarının olmadığı, instance edilemeyen ancak başka bir class tarafından implemente edilebilen(tüm methodları tanımlamak şartıyla) veyahut başka interface'ler tarafından genişletilebilen yapılardır.\n",
    "    Interface içinde tanımlanan tüm variable'lar constant variable'dır. Variable'ları constant olarak tanımlamasanız bile constant haldedirler. "
   ]
  },
  {
   "cell_type": "code",
   "execution_count": 22,
   "metadata": {},
   "outputs": [],
   "source": [
    "public interface Shape {\n",
    "    // interface içindeki variable'ların hepsi constant halinde(final methoduyla tanımlanmış gibi) olur. \n",
    "    final int lineColor = 100; \n",
    "    int lineWidth = 2; //direk olarak public, static ve final olarak tanımlanır. \n",
    "\n",
    "    // interface içinde methodların sadece signature'ları olabilir. \n",
    "    double calculateArea();\n",
    "    double calculatePerimeter();\n",
    "}"
   ]
  },
  {
   "cell_type": "markdown",
   "metadata": {},
   "source": [
    "    In order to use an interface in an application, at least one class must implement all the methods defined in the interface (If the class does not implement all the methods defined in the interface, then it will give error). Such classes are declared using implements keyword in the class definition, followed by the name of the implemented interfaces."
   ]
  },
  {
   "cell_type": "code",
   "execution_count": 19,
   "metadata": {},
   "outputs": [
    {
     "name": "stdout",
     "output_type": "stream",
     "text": [
      "6.0\n",
      "12.0\n",
      "100.0\n"
     ]
    }
   ],
   "source": [
    "public class Triangle implements Shape {\n",
    "\n",
    "    double sideA = 3;\n",
    "    double sideB = 4;\n",
    "    double sideC = 5;\n",
    "\n",
    "    double height = sideA;\n",
    "    double base = sideB;\n",
    "\n",
    "    //Bu iki interface methodundan biri olmasaydı hata verecekti. \n",
    "    public double calculateArea(){\n",
    "        return (height * base) /2;\n",
    "    }\n",
    "    public double calculatePerimeter(){\n",
    "        return sideA + sideB + sideC;\n",
    "    }\n",
    "}\n",
    "\n",
    "//the implementation of an interface can be different. \n",
    "public class Square implements Shape {\n",
    "\n",
    "    double side = 10; \n",
    "\n",
    "    public double calculateArea(){\n",
    "        return side * side;\n",
    "    }\n",
    "    public double calculatePerimeter(){\n",
    "        return 4 * side;\n",
    "    }\n",
    "}\n",
    "\n",
    "Triangle t1 = new Triangle(); \n",
    "System.out.println(t1.calculateArea()); \n",
    "System.out.println(t1.calculatePerimeter()); \n",
    "Square s1 = new Square(); \n",
    "System.out.println(s1.calculateArea()); "
   ]
  },
  {
   "cell_type": "markdown",
   "metadata": {},
   "source": [
    "    A class may extend only one class, whereas it can implement as many interfaces as necessary. However, all methods of the implemented interfaces combined must be implemented by that class."
   ]
  },
  {
   "cell_type": "code",
   "execution_count": 14,
   "metadata": {},
   "outputs": [],
   "source": [
    "import java.io.Serializable;\n",
    "\n",
    "//Triangle class'ı hem shape hem de Serializable interface'inden extend olabilir. \n",
    "public class Triangle implements Shape, Serializable {\n",
    "\n",
    "    private static final long serialVersionUID = 1L;\n",
    "\n",
    "    double sideA = 3;\n",
    "    double sideB = 4;\n",
    "    double sideC = 5;\n",
    "\n",
    "    double height = sideA;\n",
    "    double base = sideB;\n",
    "\n",
    "    public double calculateArea(){\n",
    "        return (height * base) /2;\n",
    "    }\n",
    "    public double calculatePerimeter(){\n",
    "        return sideA + sideB + sideC;\n",
    "    }\n",
    "}"
   ]
  },
  {
   "cell_type": "markdown",
   "metadata": {},
   "source": [
    "    An example TotalAreaCalculator class takes an ArrayList of Shape instances, and returns the totalArea of all shapes in the list. The ArrayList can contain both Triangle and Square instances, but TotalAreaCalculater class is only interested in calling the calculateArea() methods. "
   ]
  },
  {
   "cell_type": "code",
   "execution_count": 21,
   "metadata": {},
   "outputs": [
    {
     "name": "stdout",
     "output_type": "stream",
     "text": [
      "Total area of the three different types of shapes is: 156.0\r\n"
     ]
    }
   ],
   "source": [
    "public class TotalAreaCalculator {\n",
    "\n",
    "    public double calculateTotalArea(ArrayList<Shape> shapeList){\n",
    "        double totalArea = 0D;\n",
    "\n",
    "        for(Shape shape : shapeList){\n",
    "            totalArea += shape.calculateArea();\n",
    "        }\n",
    "\n",
    "        return totalArea;\n",
    "    } \n",
    "}\n",
    "\n",
    "Triangle triangle = new Triangle();\n",
    "Square square = new Square();\n",
    "\n",
    "// Defining an instance of Shape interface inside the declaration statement, implemented with a rectangle calculations. \n",
    "// Bir interface'i bu şekilde de implemente edebiliriz.  \n",
    "Shape rectangularShape = new Shape() {\n",
    "\n",
    "    double width = 10;\n",
    "    double height = 5;\n",
    "\n",
    "    @Override\n",
    "    public double calculateArea() {\n",
    "\n",
    "        return width * height;\n",
    "    }\n",
    "\n",
    "    @Override\n",
    "    public double calculatePerimeter() {\n",
    "\n",
    "        return 2 * (width + height) ;\n",
    "    } \n",
    "};\n",
    "\n",
    "ArrayList<Shape> shapeList = new ArrayList<Shape>();\n",
    "shapeList.add(triangle);\n",
    "shapeList.add(square);\n",
    "shapeList.add(rectangularShape);\n",
    "\n",
    "TotalAreaCalculator totalAreaCalculator = new TotalAreaCalculator();\n",
    "\n",
    "System.out.println(\"Total area of the three different types of shapes is: \"+totalAreaCalculator.calculateTotalArea(shapeList));"
   ]
  },
  {
   "cell_type": "markdown",
   "metadata": {},
   "source": [
    "    Interfaces cannot implement any other interfaces. However they can only extend another interface. Interfaces are not allowed to extend classes (neither regular classes, nor abstract classes)."
   ]
  },
  {
   "cell_type": "markdown",
   "metadata": {},
   "source": [
    "### Interfaces as types\n",
    "    When you define a new interface, you are defining a new reference data type. You can use interface names anywhere you can use any other data type name. If you define a reference variable whose type is an interface, any object you assign to it must be an instance of a class that implements the interface."
   ]
  },
  {
   "cell_type": "code",
   "execution_count": 33,
   "metadata": {},
   "outputs": [
    {
     "name": "stdout",
     "output_type": "stream",
     "text": [
      "-1\n",
      "-1\n"
     ]
    }
   ],
   "source": [
    "public interface Relatable {\n",
    "        \n",
    "    // this (object calling isLargerThan) and other must be instances of the same class returns 1, 0, -1 \n",
    "    // if this is greater than, equal to, or less than other\n",
    "    public int isLargerThan(Relatable other);\n",
    "}\n",
    "\n",
    "\n",
    "public class RectanglePlus implements Relatable {\n",
    "    public int width = 0;\n",
    "    public int height = 0;\n",
    "\n",
    "    public RectanglePlus(int w, int h) {\n",
    "        width = w;\n",
    "        height = h;\n",
    "    }\n",
    "\n",
    "    public int getArea() {\n",
    "        return width * height;\n",
    "    }\n",
    "    \n",
    "    //Interface içindeki method parametre olarak Relatable aldığı için bu method da aynı türü almak zorundadır. \n",
    "    public int isLargerThan(Relatable other) {\n",
    "        //getArea methodunun doğru çalışması için parametre olan nesneyi RectanglePlus'a dönüştürmeliyiz. \n",
    "        RectanglePlus otherRect = (RectanglePlus)other;\n",
    "        \n",
    "        if (this.getArea() < otherRect.getArea())\n",
    "            return -1;\n",
    "        else if (this.getArea() > otherRect.getArea())\n",
    "            return 1;\n",
    "        else\n",
    "            return 0;               \n",
    "    }\n",
    "}\n",
    "\n",
    "RectanglePlus r1 = new RectanglePlus(10, 50);\n",
    "RectanglePlus r2 = new RectanglePlus(30, 35);\n",
    "\n",
    "//iki farklı şekilde de çalışabilir.\n",
    "System.out.println(r1.isLargerThan( (Relatable) r2)); \n",
    "System.out.println(r1.isLargerThan(r2)); "
   ]
  },
  {
   "cell_type": "markdown",
   "metadata": {},
   "source": [
    "### Evolving interfaces\n",
    "    If you make a change on the interface, then all classes that implement the old interface will break because they no longer implement the old interface truly. Programmers relying on this interface will protest loudly.\n",
    "    If you want to add additional methods to an interface, you have several options. You could create a new interface that extends old interface(In that way users of your code can choose to continue to use the old interface or to upgrade to the new interface):"
   ]
  },
  {
   "cell_type": "code",
   "execution_count": 34,
   "metadata": {},
   "outputs": [],
   "source": [
    "public interface DoIt {\n",
    "   void doSomething(int i, double x);\n",
    "   int doSomethingElse(String s);\n",
    "}\n",
    "\n",
    "public interface DoItPlus extends DoIt {\n",
    "\n",
    "   boolean didItWork(int i, double x, String s);  \n",
    "}"
   ]
  },
  {
   "cell_type": "markdown",
   "metadata": {},
   "source": [
    "    Alternatively, you can define your new methods as default methods. The following example defines a default method named didItWork. \n",
    "    (Note that you must provide an implementation for default methods. You could also define new static methods to existing interfaces. Users who have classes that implement interfaces enhanced with new default or static methods do not have to modify or recompile them to accommodate the additional methods.)"
   ]
  },
  {
   "cell_type": "code",
   "execution_count": 37,
   "metadata": {},
   "outputs": [],
   "source": [
    "public interface DoIt {   \n",
    "   void doSomething(int i, double x);\n",
    "   int doSomethingElse(String s);\n",
    "   default boolean didItWork(int i, double x, String s) {\n",
    "       // Method body \n",
    "       return true; \n",
    "   }\n",
    "   \n",
    "}"
   ]
  },
  {
   "cell_type": "markdown",
   "metadata": {},
   "source": [
    "### Abstract classes\n",
    "    For interfaces in many cases, some of the methods are required to be implemented by the library, and rest of the methods are left to other programmers to be implemented according to their requirements. However, the interfaces do not allow any method to be implemented in the interface definition. The solution to this type of requirements is to use abstract classes.\n",
    "    (Abstract class'lar interface'ler gibidir ancak farkları istediğimiz methodları tam tanımlayabilirken istediğimiz methodları abstract halde(sadece signature) tanımlayabiliriz. Yine interface'ler gibi direk instantiate edilemez, önce başka class'lar tarafından implementasyonlarının tanımlanması gerekir.)\n",
    "    \n",
    "    Abstract classes are defined with an additional abstract keyword in the class declaration. \n",
    "    Abstract classes cannot be instantiated, but they can be subclassed.\n",
    "    \n",
    "    An abstract method is a method that is declared without an implementation (without braces, and followed by a semicolon). In abstract classes, the signature of abstract methods need to be prepended using an additional abstract keyword. (Methods in an interface (see the Interfaces section) that are not declared as default or static are implicitly abstract, so the abstract modifier is not used with interface methods)"
   ]
  },
  {
   "cell_type": "code",
   "execution_count": null,
   "metadata": {},
   "outputs": [],
   "source": [
    "// we need to use abstract keyword to create abstract classes. \n",
    "public abstract class SampleAbstractClass{\n",
    "    public void sampleMethodWithImplementation(){\n",
    "        System.out.println(\"This method is implemented in the abstract class.\");\n",
    "    }\n",
    "    \n",
    "    // and \n",
    "    public abstract void sampleAbstractMethod();\n",
    "} "
   ]
  },
  {
   "cell_type": "markdown",
   "metadata": {},
   "source": [
    "    Abstract classes can extend any other java class (either a regular class or another abstract class) as long as it is accessible. Abstract classes can implement any number of java interfaces, as long as they are accessible. "
   ]
  },
  {
   "cell_type": "markdown",
   "metadata": {},
   "source": [
    "Interface'ler ve abstract class'lar abstract methodları kullanarak başka class'ların kesin olarak kullanması gereken methodları \n",
    "belirtirler. Bu sayede bir interface başka class'ların arayüzü olur ve tanımlamaları zorunlu olan methodları zorunlu kılar. \n",
    "\n",
    "Mesela shape interface'i shape'den oluşturulacak olan class'larda calculateArea ve calculatePerimeter methodlarının zorunlu olarak tanımlanmasını sağlar.(Eğer tanımlanmazsalar class çalışmayacaktır.)"
   ]
  }
 ],
 "metadata": {
  "kernelspec": {
   "display_name": "Java",
   "language": "java",
   "name": "java"
  },
  "language_info": {
   "codemirror_mode": "java",
   "file_extension": ".jshell",
   "mimetype": "text/x-java-source",
   "name": "Java",
   "pygments_lexer": "java",
   "version": "15.0.1+9-18"
  }
 },
 "nbformat": 4,
 "nbformat_minor": 4
}
