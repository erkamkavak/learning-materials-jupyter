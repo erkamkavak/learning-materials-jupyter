{
 "cells": [
  {
   "cell_type": "markdown",
   "metadata": {},
   "source": [
    "Binary tree'leri traverse etmenin farklı yolları vardır. Bu yollar farklı yerlerde kullanılır. "
   ]
  },
  {
   "cell_type": "markdown",
   "metadata": {},
   "source": [
    "Bu yollardan ilki pre-order traversal yoludur. Bu yolda ilk önce root değerine, sonra rootun sol tarafına, en sonda ise rootun sağ tarafına bakılır.  "
   ]
  },
  {
   "cell_type": "code",
   "execution_count": 2,
   "metadata": {},
   "outputs": [
    {
     "name": "stdout",
     "output_type": "stream",
     "text": [
      "[1, 2, 3]\n"
     ]
    }
   ],
   "source": [
    "class TreeNode:\n",
    "    def __init__(self, val=0, left=None, right=None):\n",
    "        self.val = val\n",
    "        self.left = left\n",
    "        self.right = right\n",
    "\n",
    "def preorderTraversal(root: TreeNode):\n",
    "    if root: \n",
    "        value = root.val \n",
    "    else: \n",
    "        return []\n",
    "    return [value] + preorderTraversal(root.left) + preorderTraversal(root.right)\n",
    "\n",
    "root = TreeNode(val =  1, left =  None, right =  TreeNode(val =  2, left = TreeNode(val =  3, left = None, right = None), right= None))\n",
    "print(preorderTraversal(root))"
   ]
  },
  {
   "cell_type": "markdown",
   "metadata": {},
   "source": [
    "Diğer bir yol ise In-order traversal yoludur. Bu yolda ilk önce rootun solundakiler sonra rootun kendisi en son ise rootun sağındakiler alınır. Bu yol binary search tree'lerde küçükten büyüğe sıralamak için kullanılan bir yöntemdir. "
   ]
  },
  {
   "cell_type": "code",
   "execution_count": 10,
   "metadata": {},
   "outputs": [
    {
     "name": "stdout",
     "output_type": "stream",
     "text": [
      "[1, 3, 2]\n"
     ]
    }
   ],
   "source": [
    "def inorderTraversal(root: TreeNode):\n",
    "    if root: \n",
    "        return inorderTraversal(root.left) + [root.val] + inorderTraversal(root.right)\n",
    "    else: return []\n",
    "print(inorderTraversal(root))"
   ]
  },
  {
   "cell_type": "markdown",
   "metadata": {},
   "source": [
    "3. bir yol ise pastorder traversal yoludur. Bu yolda ilk önce rootun solundakiler sonra sağındakiler en son ise rootun kendisi alınır."
   ]
  },
  {
   "cell_type": "code",
   "execution_count": 6,
   "metadata": {},
   "outputs": [
    {
     "name": "stdout",
     "output_type": "stream",
     "text": [
      "[3, 2, 1]\n"
     ]
    }
   ],
   "source": [
    "def postorderTraversal(root: TreeNode):\n",
    "    if root: \n",
    "        return postorderTraversal(root.left) + postorderTraversal(root.right)  + [root.val] \n",
    "    else: \n",
    "        return []\n",
    "print(postorderTraversal(root))"
   ]
  },
  {
   "cell_type": "markdown",
   "metadata": {},
   "source": []
  },
  {
   "cell_type": "code",
   "execution_count": null,
   "metadata": {},
   "outputs": [],
   "source": []
  }
 ],
 "metadata": {
  "kernelspec": {
   "display_name": "Python 3",
   "language": "python",
   "name": "python3"
  },
  "language_info": {
   "codemirror_mode": {
    "name": "ipython",
    "version": 3
   },
   "file_extension": ".py",
   "mimetype": "text/x-python",
   "name": "python",
   "nbconvert_exporter": "python",
   "pygments_lexer": "ipython3",
   "version": "3.9.1"
  }
 },
 "nbformat": 4,
 "nbformat_minor": 4
}
