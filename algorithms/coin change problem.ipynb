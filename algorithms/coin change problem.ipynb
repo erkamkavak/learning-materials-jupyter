{
 "cells": [
  {
   "cell_type": "markdown",
   "metadata": {},
   "source": [
    "Dynamic programming approach"
   ]
  },
  {
   "cell_type": "code",
   "execution_count": 1,
   "metadata": {},
   "outputs": [],
   "source": [
    "def count(S, m, n): \n",
    "    # code here \n",
    "    ways = [1] + [0]*n\n",
    "    for i in range(len(S)):\n",
    "        for j in range(S[x], len(ways)):\n",
    "            ways[a] += ways[a - S[x]]\n",
    "    return ways[-1]"
   ]
  },
  {
   "cell_type": "markdown",
   "metadata": {},
   "source": [
    "Recursive approach"
   ]
  },
  {
   "cell_type": "code",
   "execution_count": null,
   "metadata": {},
   "outputs": [],
   "source": [
    "def count(lst, limit, i = 0):\n",
    "    if i == len(lst):\n",
    "        return 0\n",
    "    rem = limit - lst[i]\n",
    "    if rem > 0:\n",
    "        collected_value = count(lst, rem, i + 1)\n",
    "    elif rem == 0:\n",
    "        return 1\n",
    "    else: return 0\n",
    "\n",
    "    not_collected_value = count(lst, limit, i + 1)\n",
    "\n",
    "    return collected_value + not_collected_value\n",
    "\n",
    "def powerSum(X, N):\n",
    "    numbers = [z**N for z in range(int(X**(1/2)) + 1)]\n",
    "    return count(numbers, X)//2"
   ]
  },
  {
   "cell_type": "markdown",
   "metadata": {},
   "source": [
    "    Subset sum problem ya da Partition Equal Subset Sum problem"
   ]
  },
  {
   "cell_type": "code",
   "execution_count": 4,
   "metadata": {},
   "outputs": [
    {
     "data": {
      "text/plain": [
       "False"
      ]
     },
     "execution_count": 4,
     "metadata": {},
     "output_type": "execute_result"
    }
   ],
   "source": [
    "def canPartition(nums):\n",
    "    half = sum(nums)/2\n",
    "    if int(half) != half: \n",
    "        return False\n",
    "    else: half = int(half)\n",
    "    nums.sort()\n",
    "\n",
    "    dp = [1] + [0]*half\n",
    "\n",
    "    for i in range(len(nums)):\n",
    "        for j in range(half, nums[i] - 1, -1):\n",
    "            dp[j] += dp[j - nums[i]]\n",
    "    return True if dp[-1] != 0 else False\n",
    "\"\"\"\n",
    "Java solution\n",
    "\n",
    "class Solution {\n",
    "    public boolean canPartition(int[] nums) {\n",
    "        int sum = 0;\n",
    "        for(int x = 0; x < nums.length; x++){\n",
    "            sum += nums[x];\n",
    "        }\n",
    "        if(sum % 2 != 0){\n",
    "            return false;\n",
    "        }\n",
    "        int half = sum/2;\n",
    "        int[] dp = new int[half + 1];\n",
    "        dp[0] = 1;\n",
    "        for(int i=1; i < nums.length; i++){\n",
    "            for(int j = half; j >= nums[i]; j--){\n",
    "                dp[j] += dp[j - nums[i]];\n",
    "            }\n",
    "        }\n",
    "        return true ? dp[half] != 0 : false;\n",
    "        \n",
    "    }\n",
    "}\n",
    "\"\"\"\n",
    "canPartition([1, 1, 5, 11])\n"
   ]
  },
  {
   "cell_type": "markdown",
   "metadata": {},
   "source": [
    "Coin change sorularında bir coinden birden fazla alıp almamamıza göre kodumuzu biraz değiştirmek zorundayız."
   ]
  },
  {
   "cell_type": "code",
   "execution_count": 6,
   "metadata": {},
   "outputs": [],
   "source": [
    "def change_with_repetition(amount, coins):\n",
    "    dp = [1] + [0]*amount\n",
    "\n",
    "    for i in range(len(coins)):\n",
    "        for j in range(coins[i], amount + 1): #coinlerde baştan başlayarak ilerlediğimiz için aynı coini tekrar kullanabiliyoruz.\n",
    "            dp[j] += dp[j - coins[i]]\n",
    "    return dp[-1]\n",
    "def change_without_repetition(amount, coins):\n",
    "    dp = [1] + [0]*amount\n",
    "    \n",
    "    for i in range(len(coins)):\n",
    "        for j in range(amount, coins[i] - 1, -1): #coinlerde sondan başlayarak geriye gittiğimiz için aynı coini birden fazla kullanamıyoruz.\n",
    "            dp[j] += dp[j - coins[i]]\n",
    "    return dp[-1]    "
   ]
  }
 ],
 "metadata": {
  "kernelspec": {
   "display_name": "Python 3 (ipykernel)",
   "language": "python",
   "name": "python3"
  },
  "language_info": {
   "codemirror_mode": {
    "name": "ipython",
    "version": 3
   },
   "file_extension": ".py",
   "mimetype": "text/x-python",
   "name": "python",
   "nbconvert_exporter": "python",
   "pygments_lexer": "ipython3",
   "version": "3.8.12"
  }
 },
 "nbformat": 4,
 "nbformat_minor": 4
}
