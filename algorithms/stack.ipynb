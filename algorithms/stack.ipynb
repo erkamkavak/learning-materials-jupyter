{
 "cells": [
  {
   "cell_type": "markdown",
   "metadata": {},
   "source": [
    "Stackler verilerin takibini yapmada işe yarayan veri tipleridir. "
   ]
  },
  {
   "cell_type": "code",
   "execution_count": null,
   "metadata": {},
   "outputs": [],
   "source": []
  },
  {
   "cell_type": "markdown",
   "metadata": {},
   "source": [
    "Bir stringdeki fazla olan parantez işaretlerini temizleme "
   ]
  },
  {
   "cell_type": "code",
   "execution_count": 67,
   "metadata": {},
   "outputs": [
    {
     "name": "stdout",
     "output_type": "stream",
     "text": [
      "lee(t(c)o)de\n",
      "()\n"
     ]
    }
   ],
   "source": [
    "def minRemoveToMakeValid(s: str):\n",
    "    stack = []\n",
    "\n",
    "    bad = []\n",
    "\n",
    "    for index, c in enumerate(s): \n",
    "        if c == \"(\":\n",
    "            stack.append(index)\n",
    "        elif c == \")\":\n",
    "            if len(stack) > 0: \n",
    "                stack.pop()\n",
    "            else:\n",
    "                bad.append(index)\n",
    "    bad = bad + stack\n",
    "\n",
    "    return \"\".join([a for index, a in enumerate(s) if not index in bad])\n",
    "\n",
    "print(minRemoveToMakeValid(\"lee(t(c)o)de)\"))\n",
    "print(minRemoveToMakeValid(\"()))((\"))"
   ]
  },
  {
   "cell_type": "markdown",
   "metadata": {},
   "source": [
    "Convert infix to postfix"
   ]
  },
  {
   "cell_type": "code",
   "execution_count": 14,
   "metadata": {},
   "outputs": [
    {
     "name": "stdout",
     "output_type": "stream",
     "text": [
      "['a', 'b', 'c', 'd', '^', 'e', '-', 'f', 'g', 'h', '*', '+', '^', '*', '+', 'i', '-']\n"
     ]
    }
   ],
   "source": [
    "def infixToPostfix(expression):\n",
    "    precedence = [ \"-\", \"+\", \"/\", \"*\", \"^\"]\n",
    "    \n",
    "    def calcPrecedence(op):\n",
    "        return precedence.index(op)\n",
    "    \n",
    "    stack = []\n",
    "    evaluation = []\n",
    "    for x in expression.split():\n",
    "        if x in \"*-+/^\": \n",
    "            while stack and stack[-1] != \"(\" and calcPrecedence(stack[-1]) > calcPrecedence(x):\n",
    "                evaluation.append(stack.pop())\n",
    "            stack.append(x)\n",
    "        elif x == \"(\":\n",
    "            stack.append(x)\n",
    "        elif x == \")\":\n",
    "            while stack and stack[-1] != \"(\":\n",
    "                evaluation.append(stack.pop())\n",
    "            stack.pop()\n",
    "        else:\n",
    "            evaluation.append(x)\n",
    "            \n",
    "    return evaluation + stack\n",
    "exp = \"a + b * ( c ^ d - e ) ^ ( f + g * h ) - i\"\n",
    "print(infixToPostfix(exp))"
   ]
  },
  {
   "cell_type": "markdown",
   "metadata": {},
   "source": [
    "Postfix halindeki expressionu hesaplama"
   ]
  },
  {
   "cell_type": "code",
   "execution_count": 5,
   "metadata": {},
   "outputs": [
    {
     "name": "stdout",
     "output_type": "stream",
     "text": [
      "['10', '6', '9', '3', '+', '-11', '*', '/', '*', '17', '+', '5', '+']\n",
      "['10']\n",
      "['10', '6', '9', '3', '+', '-11', '*', '/', '*', '17', '+', '5', '+']\n",
      "['10', '6']\n",
      "['10', '6', '9', '3', '+', '-11', '*', '/', '*', '17', '+', '5', '+']\n",
      "['10', '6', '9']\n",
      "['10', '6', '9', '3', '+', '-11', '*', '/', '*', '17', '+', '5', '+']\n",
      "['10', '6', '9', '3']\n",
      "['10', '6', '9', '3', '+', '-11', '*', '/', '*', '17', '+', '5', '+']\n",
      "['10', '6', 12]\n",
      "['10', '6', '9', '3', '+', '-11', '*', '/', '*', '17', '+', '5', '+']\n",
      "['10', '6', 12, '-11']\n",
      "['10', '6', '9', '3', '+', '-11', '*', '/', '*', '17', '+', '5', '+']\n",
      "['10', '6', -132]\n",
      "['10', '6', '9', '3', '+', '-11', '*', '/', '*', '17', '+', '5', '+']\n",
      "['10', 0]\n",
      "['10', '6', '9', '3', '+', '-11', '*', '/', '*', '17', '+', '5', '+']\n",
      "[0]\n",
      "['10', '6', '9', '3', '+', '-11', '*', '/', '*', '17', '+', '5', '+']\n",
      "[0, '17']\n",
      "['10', '6', '9', '3', '+', '-11', '*', '/', '*', '17', '+', '5', '+']\n",
      "[17]\n",
      "['10', '6', '9', '3', '+', '-11', '*', '/', '*', '17', '+', '5', '+']\n",
      "[17, '5']\n",
      "['10', '6', '9', '3', '+', '-11', '*', '/', '*', '17', '+', '5', '+']\n",
      "[22]\n"
     ]
    },
    {
     "data": {
      "text/plain": [
       "22"
      ]
     },
     "execution_count": 5,
     "metadata": {},
     "output_type": "execute_result"
    }
   ],
   "source": [
    "import operator\n",
    "def evalRPN(tokens):\n",
    "    ops = { \"+\": operator.add, \"-\": operator.sub, \"/\": operator.truediv, \"*\":operator.mul}\n",
    "\n",
    "    stack = []         \n",
    "    for x in tokens: \n",
    "        if x.lstrip(\"-\").isdigit():\n",
    "            stack.append(x)\n",
    "        else: \n",
    "            firstnumber = stack.pop()\n",
    "            secondnumber = stack.pop()\n",
    "            add = int(ops[x](int(secondnumber), int(firstnumber)))\n",
    "            stack.append(add)\n",
    "        print(tokens)\n",
    "        print(stack)\n",
    "\n",
    "    return stack[0]\n",
    "\n",
    "evalRPN([\"10\", \"6\", \"9\", \"3\", \"+\", \"-11\", \"*\", \"/\", \"*\", \"17\", \"+\", \"5\", \"+\"])"
   ]
  },
  {
   "cell_type": "code",
   "execution_count": 15,
   "metadata": {},
   "outputs": [
    {
     "name": "stdout",
     "output_type": "stream",
     "text": [
      "['10', '6', '9', '3', '+', '-11', '*', '/', '*', '17', '+', '5', '+']\n",
      "['10', '6', '9', '3', '+', '-11', '*', '/', '*', '17', '+', '5', '+']\n",
      "['10']\n",
      "['10', '6', '9', '3', '+', '-11', '*', '/', '*', '17', '+', '5', '+']\n",
      "['10', '6']\n",
      "['10', '6', '9', '3', '+', '-11', '*', '/', '*', '17', '+', '5', '+']\n",
      "['10', '6', '9']\n",
      "['10', '6', '9', '3', '+', '-11', '*', '/', '*', '17', '+', '5', '+']\n",
      "['10', '6', '9', '3']\n",
      "['10', '6', '9', '3', '+', '-11', '*', '/', '*', '17', '+', '5', '+']\n",
      "['10', '6', 12]\n",
      "['10', '6', '9', '3', '+', '-11', '*', '/', '*', '17', '+', '5', '+']\n",
      "['10', '6', 12, '-11']\n",
      "['10', '6', '9', '3', '+', '-11', '*', '/', '*', '17', '+', '5', '+']\n",
      "['10', '6', -132]\n",
      "['10', '6', '9', '3', '+', '-11', '*', '/', '*', '17', '+', '5', '+']\n",
      "['10', 0]\n",
      "['10', '6', '9', '3', '+', '-11', '*', '/', '*', '17', '+', '5', '+']\n",
      "[0]\n",
      "['10', '6', '9', '3', '+', '-11', '*', '/', '*', '17', '+', '5', '+']\n",
      "[0, '17']\n",
      "['10', '6', '9', '3', '+', '-11', '*', '/', '*', '17', '+', '5', '+']\n",
      "[17]\n",
      "['10', '6', '9', '3', '+', '-11', '*', '/', '*', '17', '+', '5', '+']\n",
      "[17, '5']\n",
      "['10', '6', '9', '3', '+', '-11', '*', '/', '*', '17', '+', '5', '+']\n",
      "[22]\n",
      "22\n"
     ]
    }
   ],
   "source": [
    "exp2 = \"( ( 10 * ( 6 / ( ( 9 + 3 ) * -11 ) ) ) + 17 ) + 5\"\n",
    "\n",
    "postfix = infixToPostfix(exp2)\n",
    "print(postfix)\n",
    "\n",
    "print(evalRPN(postfix))"
   ]
  },
  {
   "cell_type": "markdown",
   "metadata": {},
   "source": [
    "Next greater element\n",
    "\n",
    "Given an array, print the Next Greater Element (NGE) for every element. The Next greater Element for an element x is the first greater element on the right side of x in the array.\n"
   ]
  },
  {
   "cell_type": "code",
   "execution_count": 13,
   "metadata": {},
   "outputs": [
    {
     "name": "stdout",
     "output_type": "stream",
     "text": [
      "[7, 8, 5, 6, 6, 8, -1]\n",
      "[-1, -1, 7, 7, 5, 7, -1]\n",
      "[-1, 3, -1, 4, -1, -1, -1]\n",
      "[-1, 2, 2, 3, 3, 4, 6]\n"
     ]
    }
   ],
   "source": [
    "def nextGreaterElement(arr):\n",
    "    n = len(arr)\n",
    "    stack = []\n",
    "    res = [-1]*n\n",
    "    for i in range(n): \n",
    "        while stack and arr[stack[-1]] < arr[i]:\n",
    "            ind = stack.pop()\n",
    "            res[ind] = arr[i]\n",
    "        stack.append(i)\n",
    "    return res\n",
    "\n",
    "print(nextGreaterElement([2, 7, 3, 5, 4, 6, 8]))\n",
    "\n",
    "def previousGreaterElement(arr): \n",
    "    n = len(arr)\n",
    "    stack = []\n",
    "    res = [-1]*n\n",
    "    for i in range(n - 1, -1, -1): \n",
    "        while stack and arr[stack[-1]] < arr[i]: \n",
    "            ind = stack.pop()\n",
    "            res[ind] = arr[i]\n",
    "        stack.append(i)\n",
    "    return res\n",
    "\n",
    "print(previousGreaterElement([2, 7, 3, 5, 4, 6, 8]))\n",
    "\n",
    "def nextSmallerElement(arr): \n",
    "    n = len(arr)\n",
    "    stack = []\n",
    "    res = [-1]*n\n",
    "    for i in range(n):\n",
    "        while stack and arr[stack[-1]] >= arr[i]: \n",
    "            ind = stack.pop()\n",
    "            res[ind] = arr[i]\n",
    "        stack.append(i)\n",
    "    return res\n",
    "\n",
    "\n",
    "print(nextSmallerElement([2, 7, 3, 5, 4, 6, 8]))\n",
    "\n",
    "def previousSmallerElement(arr):\n",
    "    n = len(arr)\n",
    "    stack = []\n",
    "    res = [-1]*n\n",
    "    for i in range(n - 1, -1, -1): \n",
    "        while stack and arr[stack[-1]] >= arr[i]: \n",
    "            ind = stack.pop()\n",
    "            res[ind] = arr[i]\n",
    "        stack.append(i)\n",
    "    return res\n",
    "\n",
    "print(previousSmallerElement([2, 7, 3, 5, 4, 6, 8]))"
   ]
  },
  {
   "attachments": {
    "image.png": {
     "image/png": "[encoded data removed]"
    }
   },
   "cell_type": "markdown",
   "metadata": {},
   "source": [
    "Given an array of integers heights representing the histogram's bar height where the width of each bar is 1, return the area of the largest rectangle in the histogram.\n",
    "\n",
    "![image.png](attachment:image.png)"
   ]
  },
  {
   "cell_type": "code",
   "execution_count": 12,
   "metadata": {},
   "outputs": [
    {
     "name": "stdout",
     "output_type": "stream",
     "text": [
      "[2, 2] [-1, -1]\n",
      "2\n"
     ]
    }
   ],
   "source": [
    "#Stack ile çözüm\n",
    "def largestRectangleArea(heights):\n",
    "    stack = []\n",
    "    ans = 0\n",
    "    for i in range(len(heights)):\n",
    "        while stack and heights[i] <= heights[stack[-1]]:\n",
    "            h = heights[stack.pop()]\n",
    "            w = i if not stack else i - stack[-1] - 1\n",
    "            ans = max(ans, w*h)\n",
    "        stack.append(i)\n",
    "    return ans\n",
    "        \n",
    "    \n",
    "\n",
    "#Farklı bir çözüm\n",
    "def largestRectangleArea(heights):\n",
    "    n = len(heights)\n",
    "    nextSmallerElement = [n]*n\n",
    "    previousSmallerElement = [-1]*n\n",
    "    \n",
    "    \n",
    "    stack = []\n",
    "    for i in range(n): \n",
    "        while stack and heights[i] < heights[stack[-1]]:\n",
    "            nextSmallerElement[stack.pop()] = i\n",
    "        stack.append(i)\n",
    "    \n",
    "    stack = []\n",
    "    for i in range(n - 1, -1, -1): \n",
    "        while stack and heights[i] < heights[stack[-1]]: \n",
    "            previousSmallerElement[stack.pop()] = i\n",
    "        stack.append(i)        \n",
    "    print(nextSmallerElement, previousSmallerElement)\n",
    "#     lessFromLeft = [-1] + [0]*(n - 1)\n",
    "#     lessFromRight = [0]*(n - 1) + [n]\n",
    "\n",
    "#     for i in range(1, n):\n",
    "#         j = i - 1\n",
    "#         while j >= 0 and heights[j] >= heights[i]: \n",
    "#             j = lessFromLeft[j]\n",
    "#         lessFromLeft[i] = j \n",
    "\n",
    "#     for i in range(n - 2, -1, -1): \n",
    "#         j = i + 1\n",
    "#         while j < n and heights[j] >= heights[i]: \n",
    "#             j = lessFromRight[j]\n",
    "#         lessFromRight[i] = j\n",
    "#     print(lessFromRight, lessFromLeft)\n",
    "    ans = 0\n",
    "    for x in range(n): \n",
    "        ans = max(ans, (nextSmallerElement[x] - previousSmallerElement[x] - 1)*heights[x])\n",
    "    return ans\n",
    "\n",
    "print(largestRectangleArea([1,1]))"
   ]
  }
 ],
 "metadata": {
  "kernelspec": {
   "display_name": "Python 3 (ipykernel)",
   "language": "python",
   "name": "python3"
  },
  "language_info": {
   "codemirror_mode": {
    "name": "ipython",
    "version": 3
   },
   "file_extension": ".py",
   "mimetype": "text/x-python",
   "name": "python",
   "nbconvert_exporter": "python",
   "pygments_lexer": "ipython3",
   "version": "3.8.12"
  }
 },
 "nbformat": 4,
 "nbformat_minor": 4
}
