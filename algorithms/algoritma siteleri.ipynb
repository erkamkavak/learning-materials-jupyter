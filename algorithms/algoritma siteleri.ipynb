{
 "cells": [
  {
   "cell_type": "markdown",
   "metadata": {},
   "source": [
    "\n",
    "https://www.codechef.com/cptutorials?itm_medium=navmenu&itm_campaign=cptutorials\n",
    "\n",
    "https://www.hackerearth.com/practice/algorithms/graphs/shortest-path-algorithms/tutorial/\n",
    "\n",
    "https://cp-algorithms.com/\n",
    "\n",
    "https://www.codesdope.com/course/algorithms-graphs/\n",
    "\n",
    "https://binarysearch.com/problems\n",
    "\n",
    "https://www.techiedelight.com/\n",
    "\n",
    "https://lightoj.com/problems/category/data-structures\n",
    "\n",
    "https://the-algorithms.com/\n",
    "\n",
    "https://en.wikipedia.org/wiki/List_of_algorithms"
   ]
  },
  {
   "cell_type": "markdown",
   "metadata": {},
   "source": [
    "Bilgisayar mantığı siteleri \n",
    "\n",
    "https://diveintosystems.org/antora/diveintosystems/1.0/Arch/gates.html\n",
    "\n",
    "https://www.studytonight.com/operating-system/\n",
    "\n",
    "http://www.eecs.harvard.edu/~dbrooks/cs146-spring2004/"
   ]
  }
 ],
 "metadata": {
  "kernelspec": {
   "display_name": "Python 3 (ipykernel)",
   "language": "python",
   "name": "python3"
  },
  "language_info": {
   "codemirror_mode": {
    "name": "ipython",
    "version": 3
   },
   "file_extension": ".py",
   "mimetype": "text/x-python",
   "name": "python",
   "nbconvert_exporter": "python",
   "pygments_lexer": "ipython3",
   "version": "3.8.12"
  }
 },
 "nbformat": 4,
 "nbformat_minor": 4
}
