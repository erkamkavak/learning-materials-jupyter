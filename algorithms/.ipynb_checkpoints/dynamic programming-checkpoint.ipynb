{
 "cells": [
  {
   "cell_type": "markdown",
   "metadata": {},
   "source": [
    "Bir listteki 3'ten fazla uzunluğa sahip ardışık sayılar dizisinin toplam sayısını bulma "
   ]
  },
  {
   "cell_type": "code",
   "execution_count": null,
   "metadata": {},
   "outputs": [],
   "source": [
    "def numberOfArithmeticSlices(A: List[int]) -> int:\n",
    "    dp = [0]*len(A)\n",
    "    add = 0\n",
    "    dif = A[1] - A[0] if len(A) >= 3 else 0\n",
    "    for x in range(len(A) - 2):\n",
    "        if A[x + 2] - A[x + 1] == dif:\n",
    "            add += 1 \n",
    "            dp[x + 2] += add\n",
    "        else:\n",
    "            dif = A[x + 2] - A[x + 1]\n",
    "            add = 0\n",
    "    return sum(dp)\n",
    "#[1, 2, 3, 4, 5, 6, 7, 8, 9]\n",
    "#[0, 0, 1, 2, 3, 4, 5, 6, 7]"
   ]
  },
  {
   "attachments": {
    "image.png": {
     "image/png": "[encoded data removed]"
    }
   },
   "cell_type": "markdown",
   "metadata": {},
   "source": [
    "Longest Common Subsequence\n",
    "\n",
    "    Given two sequences, find the length of longest subsequence present in both of them. A subsequence is a sequence that appears in the same relative order, but not necessarily contiguous. For example, “abc”, “abg”, “bdf”, “aeg”, ‘”acefg”, .. etc are subsequences of “abcdefg”.\n",
    "\n",
    "Genel mantığı \n",
    "\n",
    "![image.png](attachment:image.png)\n",
    "\n",
    "Eğer son harfler eşit ise iki kelimeden de son harfleri kesip devam ediyoruz. Eğer son harfler farklı ise kelimelerin ikisi için ayrı ayrı son harfleri kesip devam ettiriyoruz ve maximum olanı alıyoruz.  "
   ]
  },
  {
   "cell_type": "code",
   "execution_count": 4,
   "metadata": {},
   "outputs": [
    {
     "data": {
      "text/plain": [
       "4"
      ]
     },
     "execution_count": 4,
     "metadata": {},
     "output_type": "execute_result"
    }
   ],
   "source": [
    "# recursion ile çözümü \n",
    "def LCS(x, y):\n",
    "    if len(x) == 0 or len(y) == 0:\n",
    "        return 0\n",
    "    \n",
    "    if x[-1] == y[-1]:\n",
    "        return LCS(x[:-1], y[:-1]) + 1\n",
    "    else:\n",
    "        return max(LCS(x[:-1], y), LCS(x, y[:-1]))\n",
    "x = \"ABCBDAB\"\n",
    "y = \"BDCABA\"\n",
    "LCS(x, y)"
   ]
  },
  {
   "cell_type": "code",
   "execution_count": 2,
   "metadata": {},
   "outputs": [
    {
     "name": "stdout",
     "output_type": "stream",
     "text": [
      "[0, 0, 0, 0, 0, 0, 0]\n",
      "[0, 0, 0, 0, 1, 1, 1]\n",
      "[0, 1, 1, 1, 1, 2, 2]\n",
      "[0, 1, 1, 2, 2, 2, 2]\n",
      "[0, 1, 1, 2, 2, 3, 3]\n",
      "[0, 1, 2, 2, 2, 3, 3]\n",
      "[0, 1, 2, 2, 3, 3, 4]\n",
      "[0, 1, 2, 2, 3, 4, 4]\n"
     ]
    },
    {
     "data": {
      "text/plain": [
       "4"
      ]
     },
     "execution_count": 2,
     "metadata": {},
     "output_type": "execute_result"
    }
   ],
   "source": [
    "# dynamic programming ile çözümü \n",
    "def lcs(text1, text2):\n",
    "    m = len(text1)\n",
    "    n = len(text2)\n",
    "\n",
    "    dp = [[0 for _ in range(n + 1)] for _ in range(m + 1)]\n",
    "\n",
    "    for i in range(1, m + 1):\n",
    "        for j in range(1, n + 1):\n",
    "            if text1[i - 1] == text2[j - 1]:\n",
    "                dp[i][j] = dp[i - 1][j - 1] + 1\n",
    "            else:\n",
    "                dp[i][j] = max(dp[i - 1][j], dp[i][j - 1])\n",
    "    \n",
    "    print(*dp, sep = \"\\n\")\n",
    "    return dp[m][n]\n",
    "x = \"ABCBDAB\"\n",
    "y = \"BDCABA\"\n",
    "lcs(x, y)"
   ]
  },
  {
   "cell_type": "markdown",
   "metadata": {},
   "source": [
    "    You are given two integer arrays nums and multipliers of size n and m respectively, where n >= m. The arrays are 1-indexed.\n",
    "\n",
    "    You begin with a score of 0. You want to perform exactly m operations. On the ith operation (1-indexed), you will:\n",
    "\n",
    "    Choose one integer x from either the start or the end of the array nums.\n",
    "    Add multipliers[i] * x to your score.\n",
    "    Remove x from the array nums.\n",
    "    Return the maximum score after performing m operations."
   ]
  },
  {
   "cell_type": "code",
   "execution_count": null,
   "metadata": {},
   "outputs": [],
   "source": [
    "def maximumScore(nums, multipliers):\n",
    "    m, n = len(multipliers), len(nums)\n",
    "\n",
    "    @lru_cache(2000)\n",
    "    def dp(l, r, i):\n",
    "        if i == m:\n",
    "            return 0\n",
    "        left = dp(l + 1, r, i + 1) + nums[l]*multipliers[i]\n",
    "        right = dp(l, r - 1, i + 1) + nums[r]*multipliers[i]\n",
    "        return max(left, right)\n",
    "\n",
    "    return dp(0, n - 1, 0)"
   ]
  },
  {
   "cell_type": "markdown",
   "metadata": {},
   "source": [
    "    You are given coins of different denominations and a total amount of money amount. Write a function to compute the fewest number of coins that you need to make up that amount. If that amount of money cannot be made up by any combination of the coins, return -1."
   ]
  },
  {
   "cell_type": "code",
   "execution_count": 3,
   "metadata": {},
   "outputs": [],
   "source": [
    "def coinChange(coins, amount):\n",
    "    dp = [0] + [float(\"inf\")] * amount\n",
    "\n",
    "    for coin in coins:\n",
    "        for i in range(coin, amount + 1):\n",
    "            dp[i] = min(dp[i], dp[i - coin] + 1)\n",
    "\n",
    "    res = dp[amount]\n",
    "    if dp[amount] == float(\"inf\"): return -1\n",
    "    return res"
   ]
  },
  {
   "cell_type": "markdown",
   "metadata": {},
   "source": [
    "### Knapsack Algorithm\n",
    "\n",
    "    You are given an array of binary strings strs and two integers m and n.\n",
    "\n",
    "    Return the size of the largest subset of strs such that there are at most m 0's and n 1's in the subset.\n",
    "    "
   ]
  },
  {
   "cell_type": "code",
   "execution_count": 1,
   "metadata": {},
   "outputs": [],
   "source": [
    "def findMaxForm(strs, m, n):        \n",
    "    cnts = []\n",
    "    for string in strs: \n",
    "        cnts.append([string.count(\"0\"), string.count(\"1\")])\n",
    "\n",
    "    @lru_cache(None)\n",
    "    def knapsack(i, m, n): \n",
    "        if i == len(strs): return 0\n",
    "\n",
    "        if m - cnts[i][0] < 0 or n - cnts[i][1] < 0: \n",
    "            return knapsack(i + 1, m, n)\n",
    "\n",
    "        include = 1 + knapsack(i + 1, m - cnts[i][0], n - cnts[i][1])\n",
    "        exclude = knapsack(i + 1, m, n)\n",
    "\n",
    "        return max(include, exclude)\n",
    "\n",
    "    return knapsack(0, m, n)"
   ]
  },
  {
   "cell_type": "markdown",
   "metadata": {},
   "source": [
    "    Given an array of distinct integers nums and a target integer target, return the number of possible combinations that add up to target."
   ]
  },
  {
   "cell_type": "code",
   "execution_count": 3,
   "metadata": {},
   "outputs": [
    {
     "name": "stdout",
     "output_type": "stream",
     "text": [
      "16336\n"
     ]
    }
   ],
   "source": [
    "def combinationSum(nums, target):\n",
    "    cache = {}\n",
    "    \n",
    "    def count(target): \n",
    "        if target in cache: \n",
    "            return cache[target]\n",
    "        \n",
    "        if target == 0: \n",
    "            return 1\n",
    "        \n",
    "        if target < 0:\n",
    "            return 0\n",
    "\n",
    "        res = 0\n",
    "        for n in nums: \n",
    "            res += count(target - n)\n",
    "        \n",
    "        cache[target] = res\n",
    "        \n",
    "        return res\n",
    "\n",
    "    return count(target)\n",
    "\n",
    "print(combinationSum([1, 2, 3, 4, 5, 6, 7, 8, 9, 10], 15))"
   ]
  }
 ],
 "metadata": {
  "kernelspec": {
   "display_name": "Python 3",
   "language": "python",
   "name": "python3"
  },
  "language_info": {
   "codemirror_mode": {
    "name": "ipython",
    "version": 3
   },
   "file_extension": ".py",
   "mimetype": "text/x-python",
   "name": "python",
   "nbconvert_exporter": "python",
   "pygments_lexer": "ipython3",
   "version": "3.9.4"
  }
 },
 "nbformat": 4,
 "nbformat_minor": 4
}
