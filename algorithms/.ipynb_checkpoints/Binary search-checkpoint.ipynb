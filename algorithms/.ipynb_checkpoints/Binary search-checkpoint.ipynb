{
 "cells": [
  {
   "cell_type": "markdown",
   "metadata": {},
   "source": [
    "When the problem is asking to maximize/minimize something, you may think of using binary search or dp."
   ]
  },
  {
   "cell_type": "markdown",
   "metadata": {},
   "source": [
    "Binary search genel olarak sort edilmiş bir listteki herhangi bir koşulu sağlayan ilk değeri bulmaya yarayan algoritmadır. Bu algoritmada list'i listin tam ortasındaki sayıya bakarak her seferinde yarıya böler ve duruma göre sağ ve sol yarımlardan biri üzerinde işlemine devam eder. Böylece O(n) time-complexity'sini O(logn) değerine düşürür.\n",
    "\n",
    "Binary search bir listteki herhangi bir değeri bulma işlemi dışında başka işlemlerde de kullanılabilen ve oldukça faydalı olan bir algoritmadır. "
   ]
  },
  {
   "cell_type": "markdown",
   "metadata": {},
   "source": [
    "Genel olarak binary_search template'i şu şekildedir."
   ]
  },
  {
   "cell_type": "markdown",
   "metadata": {},
   "source": [
    "def binary_search(array) -> int:\n",
    "\n",
    "    def condition(value) -> bool:\n",
    "        pass\n",
    "\n",
    "    left, right = min(search_space), max(search_space) # could be [0, n], [1, n] etc. Depends on problem\n",
    "    while left < right:\n",
    "        mid = left + (right - left) // 2\n",
    "        if condition(mid):\n",
    "            right = mid\n",
    "        else:\n",
    "            left = mid + 1\n",
    "    return left"
   ]
  },
  {
   "cell_type": "markdown",
   "metadata": {},
   "source": [
    "Bu template'i çoğu yerde kullanabiliriz. İstenen duruma göre condition fonksiyonunu düzenleyebiliriz ve istenen duruma göre return değerimiz left veya left - 1 değeri olabilir.\n",
    "\n",
    "Bu fonksiyon şu şekilde çalışır. İlk önce verilen array'in sınır noktalarını buluyoruz.(min ve max değerleri) Daha sonra en küçük değerimiz en büyük değerimizden büyük olana dek bir while döngüsüne sokuyoruz. Her seferinde bir mid noktası(sınır noktalarının ortalaması) seçiyoruz ve bu mid noktasının koşulumuzu sağlayıp sağlamadığına bakıyoruz. Geri dönen bool değerine göre array'in alanını küçültüyoruz. En son artık array 1 elemanlı olunca while döngüsü sonlanıyor ve biz de arraydeki değeri geri döndürüyoruz. "
   ]
  },
  {
   "cell_type": "markdown",
   "metadata": {},
   "source": [
    "Binary search algoritması uygulanırken yapılması gereken adımlar: \n",
    "\n",
    "İlk önce search space'imizin(çalışma alanımızın) sınırlarını bulmamız ve bunları left ve right değerlerine eşitlememiz gerekir. \n",
    "\n",
    "Mid değeri hesaplanır. Mid değeri her zaman left ve right değerlerinin ortalamasıdır. \n",
    "\n",
    "Mid değeri için durum kontrol edilir. Kontrol durumu sorudan soruya değişir ve bu template'in en zor kısmıdır. Kontrol durumundan gelen ifadeye göre right veya left değeri mid değerine eşitlenerek search space'imiz azaltılır.(right ve left değerlerinden biri mid değerine eşitlenirken diğeri mid + 1 değerine eşitlenir. Bunun nedeni döngünün sonsuz loopa girmesini engellemektir.)\n",
    "\n",
    "Genel olarak kontrolu yaparken mid değerinin aradığımız koşula eşit olduğu duruma da bakarız ve buna göre right değerini mid değerine eşitleriz. Eğer bu duruma bakmasaydık right değerini mid - 1 değerine eşitlememiz gerekecekti.\n",
    "\n",
    "Left değeri geri döndürülür. \n",
    "\n",
    "Not > Search space bizden istediği cevabı içinde içeren çalışma alanıdır. Bu çalışma alanındaki her bir değer için, bize verdiği target değeriyle karşılaştırma yapacak bir condition fonksiyonu oluşturmak zorundayız. "
   ]
  },
  {
   "cell_type": "markdown",
   "metadata": {},
   "source": [
    "Binary search algoritmasının uygulandığı yerler: \n",
    "\n",
    "Eğer problemde bir search space'e bağlı olarak bir şeyi minimize veya maximize etmemiz isteniyorsa ve bu search space'de sola veya sağa gittikçe kontrol ettiğimiz değer doğru orantılı değişiyorsa(veyahut belli bir indexten sonraki tüm değerler doğru iken önceki tüm değerler yanlışsa) bu problemde binary search kullanabiliriz.  "
   ]
  },
  {
   "cell_type": "markdown",
   "metadata": {},
   "source": [
    "Ağırlıkları verilen paketleri D günde taşımak zorunda olan bir gemi ağırlıkları öyle paylaştırmıştır ki maximum ağırlığı taşıdığı gündeki ağırlığı minimum yapmıştır. Buna göre bu minimum ağırlığı bulunuz. "
   ]
  },
  {
   "cell_type": "code",
   "execution_count": 3,
   "metadata": {},
   "outputs": [
    {
     "name": "stdout",
     "output_type": "stream",
     "text": [
      "15\n"
     ]
    }
   ],
   "source": [
    "weights = [1,2,3,4,5,6,7,8,9,10]; \n",
    "D = 5\n",
    "def feasible(capacity):\n",
    "    total = 0\n",
    "    days = 0\n",
    "    for ind in range(len(weights)):\n",
    "        if total + weights[ind] > capacity:\n",
    "            total = 0\n",
    "            days += 1\n",
    "        total += weights[ind]\n",
    "    return days\n",
    "\n",
    "left, right = max(weights), sum(weights)\n",
    "while left < right:\n",
    "    mid = (left + right)//2\n",
    "    if feasible(mid) < D:\n",
    "        right = mid\n",
    "    else: \n",
    "        left = mid + 1\n",
    "print(left)\n",
    "\n",
    "#burda search space'imiz ağırlık sınırları olur.(bizden minimum ağırlığı istemiş) Her bir ağırlık sınırı için tüm ağırlıkları \n",
    "#kaç günde taşıyacağını bulan bir fonksiyon(feasible) yazdık. Mid değerleri üzerinde bu fonksiyonu uygulayarak D ile karşılaş_\n",
    "#tırdık. Bu karşılaştırmalar sonucu D'ye eşit olan ağırlık sınırını bulduk."
   ]
  },
  {
   "cell_type": "markdown",
   "metadata": {},
   "source": [
    "Given the height m and the length n of a m * n Multiplication Table, and a positive integer k, you need to return the k-th smallest number in this table."
   ]
  },
  {
   "cell_type": "code",
   "execution_count": null,
   "metadata": {},
   "outputs": [],
   "source": [
    "def findIndex(num):\n",
    "    ind = 0\n",
    "    for a in range(1, m + 1):\n",
    "        add = min(num//a, n)\n",
    "        if add == 0: \n",
    "            break\n",
    "        ind += add\n",
    "    return ind\n",
    "\n",
    "left, right = 1, m*n\n",
    "while left < right:\n",
    "    mid = (left + right)//2\n",
    "    ind = findIndex(mid)\n",
    "    if ind >= k:\n",
    "        right = mid\n",
    "    else: \n",
    "        left = mid + 1\n",
    "return left\n",
    "\n",
    "#burda search space'imiz multiplication tablosundaki sayılar olur. Bu sayıların tablodaki index'ini buluruz ve bu indexi k değeri\n",
    "#ile karşılaştırırız. k değerine eşit olduğu yerdeki sayıyı geri döndürürüz. \n",
    "#Bu soruyu tablonun tüm elemanları ile bir list yapıp bu listi sortladıktan sonra k'nıncı değeri bulabilirdik ancak binary search\n",
    "#algoritması bunu daha kısa sürede yapmamızı sağlıyor. "
   ]
  },
  {
   "cell_type": "code",
   "execution_count": 1,
   "metadata": {},
   "outputs": [
    {
     "ename": "NameError",
     "evalue": "name 'nums' is not defined",
     "output_type": "error",
     "traceback": [
      "\u001b[1;31m---------------------------------------------------------------------------\u001b[0m",
      "\u001b[1;31mNameError\u001b[0m                                 Traceback (most recent call last)",
      "\u001b[1;32m<ipython-input-1-7a728b9c8523>\u001b[0m in \u001b[0;36m<module>\u001b[1;34m\u001b[0m\n\u001b[0;32m     10\u001b[0m \u001b[1;33m\u001b[0m\u001b[0m\n\u001b[0;32m     11\u001b[0m \u001b[1;33m\u001b[0m\u001b[0m\n\u001b[1;32m---> 12\u001b[1;33m \u001b[0mleft\u001b[0m\u001b[1;33m,\u001b[0m \u001b[0mright\u001b[0m \u001b[1;33m=\u001b[0m \u001b[0mmax\u001b[0m\u001b[1;33m(\u001b[0m\u001b[0mnums\u001b[0m\u001b[1;33m)\u001b[0m\u001b[1;33m,\u001b[0m \u001b[0msum\u001b[0m\u001b[1;33m(\u001b[0m\u001b[0mnums\u001b[0m\u001b[1;33m)\u001b[0m\u001b[1;33m\u001b[0m\u001b[1;33m\u001b[0m\u001b[0m\n\u001b[0m\u001b[0;32m     13\u001b[0m \u001b[1;32mwhile\u001b[0m \u001b[0mleft\u001b[0m \u001b[1;33m<\u001b[0m \u001b[0mright\u001b[0m\u001b[1;33m:\u001b[0m\u001b[1;33m\u001b[0m\u001b[1;33m\u001b[0m\u001b[0m\n\u001b[0;32m     14\u001b[0m     \u001b[0mmid\u001b[0m \u001b[1;33m=\u001b[0m \u001b[1;33m(\u001b[0m\u001b[0mleft\u001b[0m \u001b[1;33m+\u001b[0m \u001b[0mright\u001b[0m\u001b[1;33m)\u001b[0m\u001b[1;33m//\u001b[0m\u001b[1;36m2\u001b[0m\u001b[1;33m\u001b[0m\u001b[1;33m\u001b[0m\u001b[0m\n",
      "\u001b[1;31mNameError\u001b[0m: name 'nums' is not defined"
     ]
    }
   ],
   "source": [
    "def condition(limit):\n",
    "    total = 0\n",
    "    subArrayN = 0\n",
    "    for num in nums:\n",
    "        if total + num > limit:\n",
    "            total = 0\n",
    "            subArrayN += 1\n",
    "        total += num\n",
    "    return subArrayN\n",
    "\n",
    "\n",
    "left, right = max(nums), sum(nums)\n",
    "while left < right:\n",
    "    mid = (left + right)//2\n",
    "    if condition(mid) < m:\n",
    "        right = mid\n",
    "    else: \n",
    "        left = mid + 1\n",
    "return left"
   ]
  },
  {
   "cell_type": "markdown",
   "metadata": {},
   "source": [
    "    while left < right:\n",
    "        mid = (left + right + 1) / 2\n",
    "        if test(mid) <= maxSum:\n",
    "            left = mid\n",
    "        else:\n",
    "            right = mid - 1\n",
    "    return left + 1\n",
    "\n",
    "(left + right + 1) because we subtracted 1 in the beginning. (l + r + 1) / 2 vs. (l + r) / 2 depends on how you update l. If you do l = m;, then you do not want to get stuck when l == r - 1, and therefore l == m."
   ]
  }
 ],
 "metadata": {
  "kernelspec": {
   "display_name": "Python 3",
   "language": "python",
   "name": "python3"
  },
  "language_info": {
   "codemirror_mode": {
    "name": "ipython",
    "version": 3
   },
   "file_extension": ".py",
   "mimetype": "text/x-python",
   "name": "python",
   "nbconvert_exporter": "python",
   "pygments_lexer": "ipython3",
   "version": "3.9.2"
  }
 },
 "nbformat": 4,
 "nbformat_minor": 4
}
