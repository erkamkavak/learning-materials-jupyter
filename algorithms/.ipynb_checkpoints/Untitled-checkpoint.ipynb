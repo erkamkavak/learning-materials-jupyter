{
 "cells": [
  {
   "cell_type": "markdown",
   "metadata": {},
   "source": [
    "Dutch Partitioning Problem \n",
    "\n",
    "    Given an array nums with n objects colored red, white, or blue, sort them in-place so that objects of the same color are adjacent, with the colors in the order red, white, and blue.\n",
    "\n",
    "    We will use the integers 0, 1, and 2 to represent the color red, white, and blue, respectively.\n",
    "    \n",
    "This is some type of sorting algorithm."
   ]
  },
  {
   "cell_type": "code",
   "execution_count": 2,
   "metadata": {},
   "outputs": [
    {
     "name": "stdout",
     "output_type": "stream",
     "text": [
      "[0, 0, 1, 1, 2, 2]\n"
     ]
    }
   ],
   "source": [
    "def dutchPartitioning(lst):\n",
    "    red, blue, green = 0, 0, len(lst) - 1\n",
    "    \n",
    "    #red > 0,  blue > 1,  green > 2\n",
    "    while blue < green: \n",
    "        if lst[blue] == 0: \n",
    "            lst[blue], lst[red] = lst[red], lst[blue]\n",
    "            red += 1\n",
    "        elif lst[blue] == 2:\n",
    "            lst[blue], lst[green] = lst[green], lst[blue]\n",
    "            green -= 1\n",
    "        blue += 1\n",
    "    return lst\n",
    "\n",
    "print(dutchPartitioning([2,0,2,1,1,0]))"
   ]
  },
  {
   "cell_type": "markdown",
   "metadata": {},
   "source": [
    "Pythonda list'i dictionary'e çevirirken eğer sıralamanın bozulmasını istemiyorsak listi ters çevirip dictionary'e eklemeliyiz. "
   ]
  },
  {
   "cell_type": "code",
   "execution_count": 3,
   "metadata": {},
   "outputs": [
    {
     "name": "stdout",
     "output_type": "stream",
     "text": [
      "{'keto': 'keto', 'keet': 'keet', 'keti': 'keti', 'hear': 'Hear', 'hare': 'Hare', 'kite': 'kite'}\n"
     ]
    }
   ],
   "source": [
    "wordlist = [\"kite\",\"Kite\",\"KiTe\",\"Hare\",\"HARE\",\"Hear\",\"hear\",\"keti\",\"keet\",\"keto\"]\n",
    "checkCapital = {word.lower(): word for word in wordlist[::-1]}\n",
    "print(checkCapital)"
   ]
  },
  {
   "cell_type": "markdown",
   "metadata": {},
   "source": [
    "    Verilen aralıklardan bu aralıklar arasındaki sayıların count miktarını sayma algoritması\n",
    "    \n",
    "    \n",
    "Verilen walks listinde her değer ilerlenecek aralığı gösteriyor. Mesela walks = [2, -4, 1] olursa ilk önce 0'dan 2'ye, sonra 2'den -2'ye sonra da -2'den -1'e ilerlenecek."
   ]
  },
  {
   "cell_type": "code",
   "execution_count": 1,
   "metadata": {},
   "outputs": [
    {
     "name": "stdout",
     "output_type": "stream",
     "text": [
      "{-2: 2, -1: 2, 0: 2, 1: 2, 2: 0}\n"
     ]
    }
   ],
   "source": [
    "from collections import defaultdict\n",
    "\n",
    "walks = [2, -4, 1]\n",
    "#Burda her bir intervalin başlangıç noktasını +1 koyup bitiş noktasını -1 koyuyoruz. Bu sayede daha sonra iterate ettiğimizde \n",
    "#başlangıç noktasına geldiğimizde count sayısını bir artıracakken bitiş noktasına geldiğimizde count sayısını bir azaltacağız.\n",
    "pos = 0\n",
    "intervalPoints = defaultdict(int)\n",
    "for dist in walks:\n",
    "    intervalPoints[pos] += 1 if dist > 0 else -1\n",
    "    intervalPoints[pos + dist] -= 1 if dist > 0 else -1\n",
    "    pos += dist\n",
    "\n",
    "counts = {i: 0 for i in range(-2, 3)}\n",
    "\n",
    "curr_count = 0\n",
    "\n",
    "previous = min(intervalPoints)  #0 noktasından başlıyoruz\n",
    "\n",
    "for curr_pos, val in sorted(intervalPoints.items()):\n",
    "    for i in range(previous, curr_pos): \n",
    "        counts[i] = curr_count\n",
    "    curr_count += val    \n",
    "\n",
    "print(counts)"
   ]
  },
  {
   "cell_type": "markdown",
   "metadata": {},
   "source": [
    "    Given an array of integers nums and an integer k, return the total number of continuous subarrays whose sum equals to k."
   ]
  },
  {
   "cell_type": "code",
   "execution_count": 1,
   "metadata": {},
   "outputs": [],
   "source": [
    "def subarraySum(nums, k):\n",
    "    s = 0\n",
    "    sums = defaultdict(int)\n",
    "    sums[0] = 1\n",
    "    res = 0\n",
    "    for i in range(len(nums)): \n",
    "        #s değeri ile i indexine kadarki sum değerini tutuyoruz. \n",
    "        s += nums[i]\n",
    "        \n",
    "        #Continuous subarrayleri sorduğu için şöyle bir şey yapabiliriz. (j, i) indexleri arasındaki sayıların toplamı (0, i)\n",
    "        #indexleri arasındaki sayıların toplamından (0, j) indexine kadarki sayıların toplamıdır. \n",
    "        \n",
    "        #Eğer s ((0, i) arası sum) değeri ile herhangi bir j için (0, j) arası sayıların toplamı farkı k'ya eşit ise cevabımıza \n",
    "        #1 ekliyeceğiz. (Veyahut s - k değeri herhangi bir j için (0, j) arası sayıların toplamına eşitse)\n",
    "        #(0, j) arası sumlara bakabilmek için bir hashMapi kullanabiliriz.\n",
    "        if (s - k) in sums: \n",
    "            res += sums[s - k]\n",
    "        \n",
    "        #s değerini sums sözlüğüne ekliyoruz. \n",
    "        sums[s] += 1\n",
    "    return res\n"
   ]
  },
  {
   "cell_type": "markdown",
   "metadata": {},
   "source": [
    "    Next bigger permutation\n",
    "    \n",
    "    "
   ]
  },
  {
   "cell_type": "code",
   "execution_count": 8,
   "metadata": {},
   "outputs": [
    {
     "name": "stdout",
     "output_type": "stream",
     "text": [
      "142041223106563534\n"
     ]
    }
   ],
   "source": [
    "def nextBiggerNum(num):\n",
    "    digits = [int(x) for x in num][::-1]\n",
    "    for i in range(1, len(digits)): \n",
    "        if digits[i] < digits[i - 1]: \n",
    "            where_min = -1\n",
    "            for j in range(i): \n",
    "                if digits[j] > digits[i] and (where_min == -1 or digits[j] < digits[where_min]): \n",
    "                    where_min = j\n",
    "            digits[where_min], digits[i] = digits[i], digits[where_min]    \n",
    "            return \"\".join( [str(x) for x in sorted(digits[:i], reverse = True) + digits[i:]][::-1] )\n",
    "\n",
    "print(nextBiggerNum(\"142041223106563453\"))\n",
    "        "
   ]
  }
 ],
 "metadata": {
  "kernelspec": {
   "display_name": "Python 3",
   "language": "python",
   "name": "python3"
  },
  "language_info": {
   "codemirror_mode": {
    "name": "ipython",
    "version": 3
   },
   "file_extension": ".py",
   "mimetype": "text/x-python",
   "name": "python",
   "nbconvert_exporter": "python",
   "pygments_lexer": "ipython3",
   "version": "3.9.5"
  }
 },
 "nbformat": 4,
 "nbformat_minor": 4
}
