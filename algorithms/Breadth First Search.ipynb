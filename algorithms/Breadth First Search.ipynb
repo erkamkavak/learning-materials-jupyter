{
 "cells": [
  {
   "cell_type": "code",
   "execution_count": 2,
   "metadata": {},
   "outputs": [],
   "source": [
    "def highestPeak(isWater):\n",
    "    rows = len(isWater)\n",
    "    cols = len(isWater[0])\n",
    "    initial = -1\n",
    "\n",
    "    heights = [[initial]*cols for _ in range(rows)]\n",
    "    q = []\n",
    "\n",
    "    for i in range(rows):\n",
    "        for j in range(cols):\n",
    "            if isWater[i][j] == 1:\n",
    "                heights[i][j] = 0\n",
    "                q.append([i, j, 0])\n",
    "\n",
    "    while q: \n",
    "        i, j, val = q.pop(0)\n",
    "        for x in range(i - 1, i + 2):\n",
    "            for y in range(j - 1, j + 2):\n",
    "                if abs(x - i) + abs(y - j) == 1 or 0 <= x < rows or 0 <= y < cols or heights[x][y] == initial:\n",
    "                    heights[x][y]  =val + 1\n",
    "                    q.append([x, y, val + 1])\n",
    "    return heights\n"
   ]
  },
  {
   "cell_type": "markdown",
   "metadata": {},
   "source": [
    "    Word ladder (bidirectional search)\n",
    "    Given two words, beginWord and endWord, and a dictionary wordList, return the number of words in the shortest transformation sequence from beginWord to endWord, or 0 if no such sequence exists."
   ]
  },
  {
   "cell_type": "code",
   "execution_count": null,
   "metadata": {},
   "outputs": [],
   "source": [
    "def ladderLength(beginWord, endWord, wordList):\n",
    "    if not endWord in wordList or beginWord == endWord: return 0\n",
    "\n",
    "    N = len(wordList)\n",
    "    wordList = set(wordList)\n",
    "    alphabet = \"abcdefghijklmnoprstuvwxyz\"\n",
    "\n",
    "    #işlemi daha hızlı çözmek için hem en baştan hem de en sondan başlayarak ilerliyoruz.(bidirectional search)\n",
    "    src_queue = collections.deque([beginWord])\n",
    "    dest_queue = collections.deque([endWord])\n",
    "\n",
    "    src_visited = set()\n",
    "    dest_visited = set()\n",
    "\n",
    "    step = 0\n",
    "    while src_queue and dest_queue:\n",
    "        step += 1\n",
    "\n",
    "        size = len(src_queue)\n",
    "        for _ in range(size):\n",
    "            curr = src_queue.popleft()\n",
    "            for i in range(len(curr)):\n",
    "                for c in alphabet:\n",
    "                    word = curr[:i] + c + curr[i + 1:]                \n",
    "                    if word in wordList and not word in src_visited:\n",
    "                        if word in set(dest_queue): \n",
    "                            return 2*step\n",
    "                        src_queue.append(word)\n",
    "                        src_visited.add(word)\n",
    "\n",
    "        size = len(dest_queue)\n",
    "        for _ in range(size):\n",
    "            curr = dest_queue.popleft()\n",
    "            for i in range(len(curr)):\n",
    "                for c in alphabet:\n",
    "                    word = curr[:i] + c + curr[i + 1:]                \n",
    "                    if word in wordList and not word in dest_visited:\n",
    "                        if word in set(src_queue): \n",
    "                            return 2*step + 1\n",
    "                        dest_queue.append(word)\n",
    "                        dest_visited.add(word)\n",
    "\n",
    "    return 0"
   ]
  },
  {
   "cell_type": "markdown",
   "metadata": {},
   "source": [
    "    Breadth First Search visits vertices in increasing distance from the source. Given a graph with N vertices and a selected vertex s: \n",
    "    for (i = 1; there are unvisited vertices ; i++) \n",
    "        Visit all unvisited vertices at distance i \n",
    "    Note that i is the length of the shortest path between s and currently processed vertices. "
   ]
  },
  {
   "cell_type": "markdown",
   "metadata": {},
   "source": [
    "    Queue-based implementation:\n",
    "    Store source vertex S in a queue and mark as processed\n",
    "    while queue is not empty\n",
    "        Read vertex v from the queue\n",
    "        for all neighbors w:\n",
    "        If w is not processed\n",
    "            Mark w as processed\n",
    "            Enqueue w in the queue\n",
    "            Record the parent of w to be v (necessary only if we need the shortest path tree)\n",
    "    \n",
    "    \n",
    "    the complexity of BFS is O (| V | + | E |)"
   ]
  },
  {
   "cell_type": "markdown",
   "metadata": {},
   "source": [
    "    Shortest Path and Minimum Spanning Tree for unweighted graph:\n",
    "    Peer to Peer Networks: In Peer to Peer Networks, BFS is used to find the neighboring nodes in the network.\n",
    "    Crawlers in Search Engines: Crawlers for search engines use BFS to create the index. Starting from a web page they follow the links from the source and keep doing the same for the new pages discovered.\n",
    "    Social Networking Websites: Similar to peer to peer networks, it is possible to find people that are ’k’ steps away from a particular person using BFS.\n",
    "    GPS Navigation systems: BFS can be used to find all locations that are neighboring a particular place.\n",
    "    Broadcasting in Network: A broadcast package follows BFS to reach all nodes in the network.\n",
    "    Cycle detection in undirected graph, To test if a graph is Bipartite, Path Finding: Breadth First or Depth First Search can be used to find a solution to these use cases."
   ]
  },
  {
   "cell_type": "markdown",
   "metadata": {},
   "source": [
    "    BFS is a vertex-based alg. DFS is a edge-based alg.\n",
    "    BFS uses queue data structure DFS uses stack data structure\n",
    "    BFS is more suitable for searching vertices which are closer to the given source. DFS is more suitable when\n",
    "    there are solutions away from source."
   ]
  },
  {
   "cell_type": "code",
   "execution_count": null,
   "metadata": {},
   "outputs": [],
   "source": []
  }
 ],
 "metadata": {
  "kernelspec": {
   "display_name": "Python 3 (ipykernel)",
   "language": "python",
   "name": "python3"
  },
  "language_info": {
   "codemirror_mode": {
    "name": "ipython",
    "version": 3
   },
   "file_extension": ".py",
   "mimetype": "text/x-python",
   "name": "python",
   "nbconvert_exporter": "python",
   "pygments_lexer": "ipython3",
   "version": "3.8.12"
  }
 },
 "nbformat": 4,
 "nbformat_minor": 4
}
