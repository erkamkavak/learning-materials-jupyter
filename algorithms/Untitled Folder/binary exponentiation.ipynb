{
 "cells": [
  {
   "cell_type": "code",
   "execution_count": 4,
   "metadata": {},
   "outputs": [
    {
     "name": "stdout",
     "output_type": "stream",
     "text": [
      "59325970\n",
      "0.0\n",
      "59325970\n",
      "0.0\n",
      "59325970\n",
      "0.0\n",
      "59325970\n",
      "0.0\n"
     ]
    }
   ],
   "source": [
    "def recursive(a, b, MOD): \n",
    "    if b == 0: \n",
    "        return 1\n",
    "    tmp = recursive(a, b//2, MOD) % MOD\n",
    "    result = (tmp*tmp) % MOD\n",
    "    if b % 2 == 1: result *= a\n",
    "    return result % MOD\n",
    "\n",
    "def binaryExp(a, b, MOD): \n",
    "    result = 1\n",
    "    while b > 0: \n",
    "        if b % 2 == 1: \n",
    "            result *= a\n",
    "            result %= MOD\n",
    "        a *= a\n",
    "        b //= 2\n",
    "    return result\n",
    "\n",
    "\n",
    "MOD = 10**9 + 7\n",
    "import time\n",
    "\n",
    "start = time.time()\n",
    "print(15**55 % MOD)\n",
    "end = time.time()\n",
    "print(end - start)\n",
    "\n",
    "start = time.time()\n",
    "print(pow(15, 55, MOD))\n",
    "end = time.time()\n",
    "print(end - start)\n",
    "\n",
    "start = time.time()\n",
    "print(recursive(15, 55, MOD))\n",
    "end = time.time()\n",
    "print(end - start)\n",
    "\n",
    "start = time.time()\n",
    "print(binaryExp(15, 55, MOD))\n",
    "end = time.time()\n",
    "print(end - start)"
   ]
  },
  {
   "cell_type": "code",
   "execution_count": null,
   "metadata": {},
   "outputs": [],
   "source": [
    "MOD = 10**9 + 7\n",
    "\n",
    "print((2**40//1234) % MOD)\n",
    "\n",
    "# print( pow(2, 40, MOD)*pow(1234, MOD - 2, MOD) % MOD)\n",
    "\n",
    "print(recursive(1234, MOD - 2, MOD))\n",
    "# print( binaryExp(1234, MOD - 2, MOD) )\n",
    "# print( (binaryExp(2, 40, MOD)*binaryExp(1234, MOD - 2, MOD) ) % MOD)"
   ]
  }
 ],
 "metadata": {
  "kernelspec": {
   "display_name": "Python 3 (ipykernel)",
   "language": "python",
   "name": "python3"
  },
  "language_info": {
   "codemirror_mode": {
    "name": "ipython",
    "version": 3
   },
   "file_extension": ".py",
   "mimetype": "text/x-python",
   "name": "python",
   "nbconvert_exporter": "python",
   "pygments_lexer": "ipython3",
   "version": "3.8.12"
  }
 },
 "nbformat": 4,
 "nbformat_minor": 4
}
