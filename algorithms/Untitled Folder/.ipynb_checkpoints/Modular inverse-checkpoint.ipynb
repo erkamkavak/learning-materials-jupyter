{
 "cells": [
  {
   "cell_type": "markdown",
   "metadata": {},
   "source": [
    "Fermat's little theorem \n",
    "\n",
    "    x^p % p = x (if p is a prime number)\n",
    "    \n",
    "    \n",
    "    Bu teorem'den yola çıkarak devam edersek: \n",
    "    \n",
    "    x^(p - 1) % p = 1\n",
    "    \n",
    "    x^(p - 2) % p = 1/x\n",
    "    \n",
    "    x^(p - 2) ifadesi p modunda bize 1/x ifadesini verecektir."
   ]
  },
  {
   "cell_type": "code",
   "execution_count": 5,
   "metadata": {},
   "outputs": [
    {
     "name": "stdout",
     "output_type": "stream",
     "text": [
      "3\n",
      "3\n"
     ]
    }
   ],
   "source": [
    "println(invmod(2, 5))\n",
    "\n",
    "println(powermod(2, 3, 5))\n"
   ]
  },
  {
   "cell_type": "markdown",
   "metadata": {},
   "source": [
    "    y / x = a (mod m)\n",
    "    \n",
    "    Eğer y/x ifadesini m modunda bulmak istiyorsak ilk yapmamız gereken şey y/x ifadesini bir çarpıma dönüştürmektir(çarpımlarda mod alarak çarpma doğru çalışır). y/x ifadesini y*(1/x) ifadesine döndürebiliriz. Daha sonrasında iki tarafında modunu alıp çarpma işlemini yaptığımızda doğru cevabı bulacağız. \n",
    "    \n",
    "    Yukarıda da gördüğümüz gibi 1/x'in bir asal sayı ile modunu x^(p - 2) % p ile bulabiliriz. \n",
    "    \n",
    "    (y/x) % m = (y*(1/x)) % m = ( (y % m) * (1/x % m) % m) =  ( (y % m) * (x^(m - 2) % m) % m)\n"
   ]
  },
  {
   "cell_type": "code",
   "execution_count": 6,
   "metadata": {},
   "outputs": [
    {
     "ename": "LoadError",
     "evalue": "UndefVarError: fac not defined",
     "output_type": "error",
     "traceback": [
      "UndefVarError: fac not defined",
      "",
      "Stacktrace:",
      " [1] top-level scope",
      "   @ .\\timing.jl:210 [inlined]",
      " [2] top-level scope",
      "   @ .\\In[6]:0",
      " [3] eval",
      "   @ .\\boot.jl:360 [inlined]",
      " [4] include_string(mapexpr::typeof(REPL.softscope), mod::Module, code::String, filename::String)",
      "   @ Base .\\loading.jl:1094"
     ]
    }
   ],
   "source": [
    "MOD = 10^9 + 7\n",
    "\n",
    "@time println( div(factorial(100), 50) % MOD)\n",
    "\n",
    "@time println( div(factorial(100) % MOD,  50^(MOD - 2) % MOD ) % MOD)"
   ]
  }
 ],
 "metadata": {
  "kernelspec": {
   "display_name": "Julia 1.6.0",
   "language": "julia",
   "name": "julia-1.6"
  },
  "language_info": {
   "file_extension": ".jl",
   "mimetype": "application/julia",
   "name": "julia",
   "version": "1.6.0"
  }
 },
 "nbformat": 4,
 "nbformat_minor": 4
}
