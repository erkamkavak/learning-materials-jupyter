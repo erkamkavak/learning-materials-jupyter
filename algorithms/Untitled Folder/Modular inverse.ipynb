{
 "cells": [
  {
   "cell_type": "markdown",
   "metadata": {},
   "source": [
    "Fermat's little theorem \n",
    "\n",
    "    x^p % p = x (if p is a prime number)\n",
    "    \n",
    "    \n",
    "    Bu teorem'den yola çıkarak devam edersek: \n",
    "    \n",
    "    x^(p - 1) % p = 1\n",
    "    \n",
    "    x^(p - 2) % p = 1/x\n",
    "    \n",
    "    x^(p - 2) ifadesi p modunda bize 1/x ifadesini verecektir."
   ]
  },
  {
   "cell_type": "code",
   "execution_count": 5,
   "metadata": {},
   "outputs": [
    {
     "name": "stdout",
     "output_type": "stream",
     "text": [
      "3\n",
      "3\n"
     ]
    }
   ],
   "source": [
    "println(invmod(2, 5))\n",
    "\n",
    "println(powermod(2, 3, 5))\n"
   ]
  },
  {
   "cell_type": "markdown",
   "metadata": {},
   "source": [
    "    y / x = a (mod m)\n",
    "    \n",
    "    Eğer y/x ifadesini m modunda bulmak istiyorsak ilk yapmamız gereken şey y/x ifadesini bir çarpıma dönüştürmektir(çarpımlarda mod alırsak işlem doğru çalışıcaktır). y/x ifadesini y*(1/x) ifadesine döndürebiliriz. Daha sonrasında iki tarafında modunu alıp çarpma işlemini yaptığımızda doğru cevabı bulacağız. \n",
    "    \n",
    "    Yukarıda da gördüğümüz gibi 1/x'in bir asal sayı ile modunu x^(p - 2) % p ile bulabiliriz. \n",
    "    \n",
    "    (y/x) % m = (y*(1/x)) % m = ( (y % m) * (1/x % m) % m) =  ( (y % m) * (x^(m - 2) % m) % m)\n"
   ]
  },
  {
   "cell_type": "code",
   "execution_count": 15,
   "metadata": {},
   "outputs": [
    {
     "name": "stdout",
     "output_type": "stream",
     "text": [
      "81310667\n",
      "  0.012534 seconds (236 allocations: 2.408 MiB)\n",
      "81310667\n",
      "  0.011553 seconds (247 allocations: 2.125 MiB)\n",
      "81310667\n",
      "  0.019518 seconds (239.51 k allocations: 3.655 MiB, 59.65% gc time)\n",
      "891014285\n",
      "  0.000382 seconds (153 allocations: 10.586 KiB)\n",
      "694904073\n",
      "  0.000163 seconds (178 allocations: 3.109 KiB)\n"
     ]
    }
   ],
   "source": [
    "MOD = 10^9 + 7\n",
    "\n",
    "\n",
    "@time println( div(factorial(big(80000)), 50) % MOD)\n",
    "\n",
    "@time println( (factorial(big(80000)) % MOD)*powermod(50, (MOD - 2), MOD) % MOD)\n",
    "\n",
    "function fac(n)\n",
    "   res = 1\n",
    "    for i in 1:n\n",
    "        res *= i\n",
    "        res %= MOD\n",
    "    end\n",
    "    return res\n",
    "end\n",
    "@time println( (fac(80000)*powermod(50, MOD - 2, MOD)) % MOD)\n",
    "\n",
    "function pow(v, n)\n",
    "   if n == 0\n",
    "        return 1\n",
    "    end\n",
    "    tmp = pow(v, div(n, 2)) % MOD\n",
    "    result = tmp*tmp % MOD\n",
    "    if n % 2 == 1\n",
    "        result *= v\n",
    "    end\n",
    "    return result % MOD\n",
    "end\n",
    "\n",
    "\n",
    "\n",
    "\n",
    "@time println( div( big(2^40), 1234 ) % MOD)\n",
    "\n",
    "@time println( (pow(2, 40)*pow(1234, MOD - 2) ) % MOD)"
   ]
  },
  {
   "cell_type": "markdown",
   "metadata": {},
   "source": [
    "Binary exponentiation"
   ]
  },
  {
   "cell_type": "code",
   "execution_count": 39,
   "metadata": {},
   "outputs": [
    {
     "name": "stdout",
     "output_type": "stream",
     "text": [
      "1530172104630265455\n",
      "  0.000206 seconds (18 allocations: 536 bytes)\n",
      "59325970\n",
      "  0.000296 seconds (18 allocations: 640 bytes)\n",
      "49295094392095695\n",
      "  0.000549 seconds (184 allocations: 10.898 KiB)\n",
      "6745062395732554842127591901528835296630859375\n",
      "  0.000155 seconds (54 allocations: 1.227 KiB)\n"
     ]
    }
   ],
   "source": [
    "MOD = 10^9 + 7\n",
    "function recursiveExp(a::Int, b::Int)::Int\n",
    "    if b == 0\n",
    "       return 1\n",
    "    end\n",
    "    tmp = recursiveExp(a, div(b, 2))\n",
    "    result = big(tmp*tmp)\n",
    "    if b % 2 == 1\n",
    "        result *= b\n",
    "    end\n",
    "    result\n",
    "end\n",
    "\n",
    "@time println(15^55)\n",
    "@time println(powermod(15, 55, MOD))\n",
    "@time println(recursiveExp(15, 55))\n",
    "\n",
    "\n",
    "function binaryExp(a::Int, b::Int)\n",
    "    result = 1\n",
    "    while b > 0\n",
    "        if b % 2 == 1\n",
    "            result = big(result * a)\n",
    "            b -= 1\n",
    "        end\n",
    "        a *= a\n",
    "        b = b/2\n",
    "    end\n",
    "    return result\n",
    "end\n",
    "\n",
    "@time println(binaryExp(15, 55))"
   ]
  }
 ],
 "metadata": {
  "kernelspec": {
   "display_name": "Python 3 (ipykernel)",
   "language": "python",
   "name": "python3"
  },
  "language_info": {
   "codemirror_mode": {
    "name": "ipython",
    "version": 3
   },
   "file_extension": ".py",
   "mimetype": "text/x-python",
   "name": "python",
   "nbconvert_exporter": "python",
   "pygments_lexer": "ipython3",
   "version": "3.8.12"
  }
 },
 "nbformat": 4,
 "nbformat_minor": 4
}
