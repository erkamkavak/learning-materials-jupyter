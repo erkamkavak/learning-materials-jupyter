{
 "cells": [
  {
   "cell_type": "markdown",
   "metadata": {},
   "source": [
    "    Basic template of such problems is basically 3 steps.\n",
    "\n",
    "    Step1: Have a counter or hash-map to count specific array input and keep on increasing the window toward right using outer loop.\n",
    "    Step2: Have a while loop inside to reduce the window side by sliding toward right. Movement will be based on constraints of problem. Go through few examples below\n",
    "    Step3: Store the current maximum window size or minimum window size or number of windows based on problem requirement."
   ]
  },
  {
   "cell_type": "markdown",
   "metadata": {},
   "source": [
    "    Given a binary array nums and an integer k, return the maximum number of consecutive 1's in the array if you can flip at most k 0's.\n",
    "    \n",
    "    nums = [1,1,1,0,0,0,1,1,1,1,0], k = 2\n",
    "    Output: 6\n",
    "    [1,1,1,0,0,1,1,1,1,1,1]"
   ]
  },
  {
   "cell_type": "code",
   "execution_count": 2,
   "metadata": {},
   "outputs": [
    {
     "name": "stdout",
     "output_type": "stream",
     "text": [
      "6\n"
     ]
    }
   ],
   "source": [
    "def longestOnes(nums, k): \n",
    "    j = 0 #j değeri window'un sol tarafını tutan değer\n",
    "    maxi = 0 #longestOnes değerini tutacak\n",
    "    count = 0 #o anki window'umuzda 0'ların sayısını tutacak\n",
    "    \n",
    "    for i in range(len(nums)): #i değeri window'un sağ tarafını tutan değer\n",
    "        if nums[i] == 0: #en sağdaki yeni değer 0 ise count'ı 1 arttırıyoruz. \n",
    "            count += 1\n",
    "        \n",
    "        #eğer window'un count değeri(windowdaki 0'ların sayısı) k değerini geçerse en soldan window'umuzu kısaltıyoruz(j'yi sağa çekiyoruz). \n",
    "        #kısaltırken kısalttığımız değer 0'a eşitse count'ı azaltıyoruz.\n",
    "        while count > k and j < len(nums): \n",
    "            if nums[j] == 0: \n",
    "                count -= 1\n",
    "            j += 1\n",
    "        \n",
    "        #her iterate'de o anki window uzunluğu longest değerden büyükse longest değeri değiştiriyoruz.\n",
    "        maxi = max(maxi, i - j + 1)\n",
    "    return maxi\n",
    "\n",
    "print(longestOnes([1,1,1,0,0,0,1,1,1,1,0], 2))"
   ]
  },
  {
   "cell_type": "markdown",
   "metadata": {},
   "source": [
    "    Given a string s consisting only of characters a, b and c.\n",
    "\n",
    "    Return the number of substrings containing at least one occurrence of all these characters a, b and c.\n",
    "    \n",
    "    Input: s = \"abcabc\"\n",
    "    Output: 10"
   ]
  },
  {
   "cell_type": "code",
   "execution_count": 6,
   "metadata": {},
   "outputs": [
    {
     "name": "stdout",
     "output_type": "stream",
     "text": [
      "10\n"
     ]
    }
   ],
   "source": [
    "def numberOfSubstrings(s): \n",
    "    j = 0 #yine aynı şekilde j değeri windowun sol tarafını i değeri windowun sağ tarafını belirtecek.\n",
    "    counts = [0, 0, 0] # a, b, c harflerinin o anki window'daki countunu bu array tutacak\n",
    "    res = 0\n",
    "    \n",
    "    for i in range(len(s)): \n",
    "        counts[ord(s[i]) - ord(\"a\")] += 1 #en sağdaki değeri window'a ekliyoruz\n",
    "        \n",
    "        #a, b, c'nin count değerleri 0'dan büyük olduğu sürece j değerini sağa doğru çekeceğiz(window'u küçülteceğiz)\n",
    "        while counts[0] and counts[1] and counts[2] and j < len(s): \n",
    "            counts[ord(s[j]) - ord(\"a\")] -= 1\n",
    "            j += 1\n",
    "        \n",
    "        #her bir iterate'de j değerine kadar gelen elemanları kullanarak yeni substring'ler oluşturabiliriz. Bu nedenle her\n",
    "        #iterate'de result değerine j değerini ekleyebiliriz. (j değeri 0'ken daha hiç uygun substring bulunmamış demektir) \n",
    "        res += j\n",
    "    return res\n",
    "\n",
    "print(numberOfSubstrings(\"abcabc\"))"
   ]
  },
  {
   "cell_type": "markdown",
   "metadata": {},
   "source": [
    "    Given a binary array nums, you should delete one element from it.\n",
    "\n",
    "    Return the size of the longest non-empty subarray containing only 1's in the resulting array.\n",
    "\n",
    "    Return 0 if there is no such subarray.\n",
    "    \n",
    "    Input: nums = [0,1,1,1,0,1,1,0,1]\n",
    "    Output: 5"
   ]
  },
  {
   "cell_type": "code",
   "execution_count": 9,
   "metadata": {},
   "outputs": [
    {
     "name": "stdout",
     "output_type": "stream",
     "text": [
      "5\n"
     ]
    }
   ],
   "source": [
    "def longestSubarray(nums): \n",
    "    j = 0\n",
    "    \n",
    "    count = 0 #count değeri window'daki 0 değerlerini tutacak. Window içinde sadece 1 tane 0 değeri bulunabileceği için count\n",
    "    #değerini her zaman 2'den küçük yapmaya çalışacağız.\n",
    "    res = 0\n",
    "    for i in range(len(nums)): \n",
    "        if nums[i] == 0: count += 1 #eğer windowa yeni eklediğimiz değer 0 ise count'u 1 arttırıyoruz\n",
    "        \n",
    "        #count 1'den büyükse window'u sol tarafından küçültüyoruz ve count'ın 1 olduğu duruma getirmeye çalışıyoruz\n",
    "        while count > 1: \n",
    "            if nums[j] == 0: count -= 1\n",
    "            j += 1\n",
    "        \n",
    "        #o anki window uzunluğumuzun 1 eksiğini(0'ı çıkartmamız lazım) res değeri ile kıyaslıyoruz.\n",
    "        res = max(res, i - j)\n",
    "    return res\n",
    "\n",
    "print(longestSubarray([0,1,1,1,0,1,1,0,1]))"
   ]
  },
  {
   "cell_type": "markdown",
   "metadata": {},
   "source": []
  },
  {
   "cell_type": "code",
   "execution_count": null,
   "metadata": {},
   "outputs": [],
   "source": []
  },
  {
   "cell_type": "code",
   "execution_count": null,
   "metadata": {},
   "outputs": [],
   "source": []
  },
  {
   "cell_type": "code",
   "execution_count": null,
   "metadata": {},
   "outputs": [],
   "source": []
  },
  {
   "cell_type": "code",
   "execution_count": null,
   "metadata": {},
   "outputs": [],
   "source": []
  },
  {
   "cell_type": "markdown",
   "metadata": {},
   "source": [
    "    The frequency of an element is the number of times it occurs in an array.\n",
    "\n",
    "    You are given an integer array nums and an integer k. In one operation, you can choose an index of nums and increment the element at that index by 1.\n",
    "\n",
    "    Return the maximum possible frequency of an element after performing at most k operations.\n",
    "    \n",
    "    nums = [1,2,4], k = 5\n",
    "    Output: 3\n",
    "    \n",
    "    nums = [1,4,8,13], k = 5\n",
    "    Output: 2"
   ]
  },
  {
   "cell_type": "code",
   "execution_count": null,
   "metadata": {},
   "outputs": [],
   "source": [
    "def maxFrequency(nums, k):\n",
    "    nums.sort()\n",
    "\n",
    "    j = 0\n",
    "    res = 0\n",
    "    for i in range(len(nums)):\n",
    "        k += nums[i]\n",
    "\n",
    "        while k < nums[i]*(i - j + 1): \n",
    "            k -= nums[j]\n",
    "            j += 1\n",
    "\n",
    "        res = max(res, i - j + 1)\n",
    "\n",
    "    return res"
   ]
  }
 ],
 "metadata": {
  "kernelspec": {
   "display_name": "Python 3",
   "language": "python",
   "name": "python3"
  },
  "language_info": {
   "codemirror_mode": {
    "name": "ipython",
    "version": 3
   },
   "file_extension": ".py",
   "mimetype": "text/x-python",
   "name": "python",
   "nbconvert_exporter": "python",
   "pygments_lexer": "ipython3",
   "version": "3.8.10"
  }
 },
 "nbformat": 4,
 "nbformat_minor": 4
}
